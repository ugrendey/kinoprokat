{
 "cells": [
  {
   "cell_type": "markdown",
   "metadata": {},
   "source": [
    "План работ:\n",
    "1. Подгрузить данные и объединить в единый фрейм\n",
    "2. Посмотреть на пропуски в разных столбцах, и если таковых немного удалить\n",
    "3. В оставшизся пропусках попробовать заполнить логически\n",
    "4. Удалить явные дубликаты\n",
    "5. Преобразовать типы данных\n",
    "6. Обработать категориальные столбца\n",
    "7. Посмотреть на неявные дубликаты\n",
    "8. Провести анализ данных"
   ]
  },
  {
   "cell_type": "markdown",
   "metadata": {
    "id": "sIfNaMOxgFyK"
   },
   "source": [
    "## Исследование данных о российском кинопрокате\n",
    "\n"
   ]
  },
  {
   "cell_type": "code",
   "execution_count": 1,
   "metadata": {
    "id": "dw87FlzMgFyM"
   },
   "outputs": [
    {
     "name": "stdout",
     "output_type": "stream",
     "text": [
      "<class 'pandas.core.frame.DataFrame'>\n",
      "RangeIndex: 7486 entries, 0 to 7485\n",
      "Data columns (total 15 columns):\n",
      " #   Column                 Non-Null Count  Dtype  \n",
      "---  ------                 --------------  -----  \n",
      " 0   title                  7486 non-null   object \n",
      " 1   puNumber               7486 non-null   object \n",
      " 2   show_start_date        7486 non-null   object \n",
      " 3   type                   7486 non-null   object \n",
      " 4   film_studio            7468 non-null   object \n",
      " 5   production_country     7484 non-null   object \n",
      " 6   director               7477 non-null   object \n",
      " 7   producer               6918 non-null   object \n",
      " 8   age_restriction        7486 non-null   object \n",
      " 9   refundable_support     332 non-null    float64\n",
      " 10  nonrefundable_support  332 non-null    float64\n",
      " 11  budget                 332 non-null    float64\n",
      " 12  financing_source       332 non-null    object \n",
      " 13  ratings                6519 non-null   object \n",
      " 14  genres                 6510 non-null   object \n",
      "dtypes: float64(3), object(12)\n",
      "memory usage: 877.4+ KB\n"
     ]
    }
   ],
   "source": [
    "import pandas as pd\n",
    "\n",
    "mkrf_movies = pd.read_csv('/datasets/mkrf_movies.csv')\n",
    "mkrf_movies.info()"
   ]
  },
  {
   "cell_type": "code",
   "execution_count": 2,
   "metadata": {},
   "outputs": [
    {
     "name": "stdout",
     "output_type": "stream",
     "text": [
      "<class 'pandas.core.frame.DataFrame'>\n",
      "RangeIndex: 3158 entries, 0 to 3157\n",
      "Data columns (total 2 columns):\n",
      " #   Column      Non-Null Count  Dtype  \n",
      "---  ------      --------------  -----  \n",
      " 0   puNumber    3158 non-null   int64  \n",
      " 1   box_office  3158 non-null   float64\n",
      "dtypes: float64(1), int64(1)\n",
      "memory usage: 49.5 KB\n"
     ]
    }
   ],
   "source": [
    "mkrf_shows = pd.read_csv('/datasets/mkrf_shows.csv')\n",
    "mkrf_shows.info()"
   ]
  },
  {
   "cell_type": "code",
   "execution_count": 3,
   "metadata": {},
   "outputs": [
    {
     "data": {
      "text/html": [
       "<div>\n",
       "<style scoped>\n",
       "    .dataframe tbody tr th:only-of-type {\n",
       "        vertical-align: middle;\n",
       "    }\n",
       "\n",
       "    .dataframe tbody tr th {\n",
       "        vertical-align: top;\n",
       "    }\n",
       "\n",
       "    .dataframe thead th {\n",
       "        text-align: right;\n",
       "    }\n",
       "</style>\n",
       "<table border=\"1\" class=\"dataframe\">\n",
       "  <thead>\n",
       "    <tr style=\"text-align: right;\">\n",
       "      <th></th>\n",
       "      <th>title</th>\n",
       "      <th>puNumber</th>\n",
       "      <th>show_start_date</th>\n",
       "      <th>type</th>\n",
       "      <th>film_studio</th>\n",
       "      <th>production_country</th>\n",
       "      <th>director</th>\n",
       "      <th>producer</th>\n",
       "      <th>age_restriction</th>\n",
       "      <th>refundable_support</th>\n",
       "      <th>nonrefundable_support</th>\n",
       "      <th>budget</th>\n",
       "      <th>financing_source</th>\n",
       "      <th>ratings</th>\n",
       "      <th>genres</th>\n",
       "    </tr>\n",
       "  </thead>\n",
       "  <tbody>\n",
       "    <tr>\n",
       "      <th>0</th>\n",
       "      <td>Открытый простор</td>\n",
       "      <td>221048915</td>\n",
       "      <td>2015-11-27T12:00:00.000Z</td>\n",
       "      <td>Художественный</td>\n",
       "      <td>Тачстоун Пикчерз, Кобальт Пикчерз, Бикон Пикче...</td>\n",
       "      <td>США</td>\n",
       "      <td>Кевин Костнер</td>\n",
       "      <td>Дэвид Валдес, Кевин Костнер, Джейк Эбертс</td>\n",
       "      <td>«18+» - запрещено для детей</td>\n",
       "      <td>NaN</td>\n",
       "      <td>NaN</td>\n",
       "      <td>NaN</td>\n",
       "      <td>NaN</td>\n",
       "      <td>7.2</td>\n",
       "      <td>боевик,драма,мелодрама</td>\n",
       "    </tr>\n",
       "    <tr>\n",
       "      <th>1</th>\n",
       "      <td>Особо важное задание</td>\n",
       "      <td>111013716</td>\n",
       "      <td>2016-09-13T12:00:00.000Z</td>\n",
       "      <td>Художественный</td>\n",
       "      <td>Киностудия \"Мосфильм\"</td>\n",
       "      <td>СССР</td>\n",
       "      <td>Е.Матвеев</td>\n",
       "      <td>NaN</td>\n",
       "      <td>«6+» - для детей старше 6 лет</td>\n",
       "      <td>NaN</td>\n",
       "      <td>NaN</td>\n",
       "      <td>NaN</td>\n",
       "      <td>NaN</td>\n",
       "      <td>6.6</td>\n",
       "      <td>драма,военный</td>\n",
       "    </tr>\n",
       "    <tr>\n",
       "      <th>2</th>\n",
       "      <td>Особо опасен</td>\n",
       "      <td>221038416</td>\n",
       "      <td>2016-10-10T12:00:00.000Z</td>\n",
       "      <td>Художественный</td>\n",
       "      <td>Юниверсал Пикчерз, Кикстарт Продакшнз, Марк Пл...</td>\n",
       "      <td>США</td>\n",
       "      <td>Тимур Бекмамбетов</td>\n",
       "      <td>Джим Лемли, Джейсон Нетер, Марк Е.Платт, Яйн Смит</td>\n",
       "      <td>«18+» - запрещено для детей</td>\n",
       "      <td>NaN</td>\n",
       "      <td>NaN</td>\n",
       "      <td>NaN</td>\n",
       "      <td>NaN</td>\n",
       "      <td>6.8</td>\n",
       "      <td>фантастика,боевик,триллер</td>\n",
       "    </tr>\n",
       "  </tbody>\n",
       "</table>\n",
       "</div>"
      ],
      "text/plain": [
       "                  title   puNumber           show_start_date            type  \\\n",
       "0      Открытый простор  221048915  2015-11-27T12:00:00.000Z  Художественный   \n",
       "1  Особо важное задание  111013716  2016-09-13T12:00:00.000Z  Художественный   \n",
       "2          Особо опасен  221038416  2016-10-10T12:00:00.000Z  Художественный   \n",
       "\n",
       "                                         film_studio production_country  \\\n",
       "0  Тачстоун Пикчерз, Кобальт Пикчерз, Бикон Пикче...                США   \n",
       "1                              Киностудия \"Мосфильм\"               СССР   \n",
       "2  Юниверсал Пикчерз, Кикстарт Продакшнз, Марк Пл...                США   \n",
       "\n",
       "            director                                           producer  \\\n",
       "0      Кевин Костнер          Дэвид Валдес, Кевин Костнер, Джейк Эбертс   \n",
       "1          Е.Матвеев                                                NaN   \n",
       "2  Тимур Бекмамбетов  Джим Лемли, Джейсон Нетер, Марк Е.Платт, Яйн Смит   \n",
       "\n",
       "                 age_restriction  refundable_support  nonrefundable_support  \\\n",
       "0    «18+» - запрещено для детей                 NaN                    NaN   \n",
       "1  «6+» - для детей старше 6 лет                 NaN                    NaN   \n",
       "2    «18+» - запрещено для детей                 NaN                    NaN   \n",
       "\n",
       "   budget financing_source ratings                     genres  \n",
       "0     NaN              NaN     7.2     боевик,драма,мелодрама  \n",
       "1     NaN              NaN     6.6              драма,военный  \n",
       "2     NaN              NaN     6.8  фантастика,боевик,триллер  "
      ]
     },
     "execution_count": 3,
     "metadata": {},
     "output_type": "execute_result"
    }
   ],
   "source": [
    "mkrf_movies.head(3)"
   ]
  },
  {
   "cell_type": "code",
   "execution_count": 4,
   "metadata": {},
   "outputs": [
    {
     "data": {
      "text/html": [
       "<div>\n",
       "<style scoped>\n",
       "    .dataframe tbody tr th:only-of-type {\n",
       "        vertical-align: middle;\n",
       "    }\n",
       "\n",
       "    .dataframe tbody tr th {\n",
       "        vertical-align: top;\n",
       "    }\n",
       "\n",
       "    .dataframe thead th {\n",
       "        text-align: right;\n",
       "    }\n",
       "</style>\n",
       "<table border=\"1\" class=\"dataframe\">\n",
       "  <thead>\n",
       "    <tr style=\"text-align: right;\">\n",
       "      <th></th>\n",
       "      <th>puNumber</th>\n",
       "      <th>box_office</th>\n",
       "    </tr>\n",
       "  </thead>\n",
       "  <tbody>\n",
       "    <tr>\n",
       "      <th>0</th>\n",
       "      <td>111000113</td>\n",
       "      <td>2450.0</td>\n",
       "    </tr>\n",
       "    <tr>\n",
       "      <th>1</th>\n",
       "      <td>111000115</td>\n",
       "      <td>61040.0</td>\n",
       "    </tr>\n",
       "    <tr>\n",
       "      <th>2</th>\n",
       "      <td>111000116</td>\n",
       "      <td>153030013.4</td>\n",
       "    </tr>\n",
       "  </tbody>\n",
       "</table>\n",
       "</div>"
      ],
      "text/plain": [
       "    puNumber   box_office\n",
       "0  111000113       2450.0\n",
       "1  111000115      61040.0\n",
       "2  111000116  153030013.4"
      ]
     },
     "execution_count": 4,
     "metadata": {},
     "output_type": "execute_result"
    }
   ],
   "source": [
    "mkrf_shows.head(3)"
   ]
  },
  {
   "cell_type": "markdown",
   "metadata": {},
   "source": [
    "Чтобы объединить фреймы необходимо синхронизировать тип данных общего столбца puNumber    \n",
    "Поскольку во втором фрейме данных меньше, значит тип данных этого столбца будем привордить во втором фрейме к типу данных этого столбца из первого фрейма\n",
    "\n",
    "Кроме того, опыт подсказывает, что такие числовые идентификаторы лучше преобразовывать в текстовы тип, чтобы, если идентификатор начинается с 0, этот ноль не пропадал"
   ]
  },
  {
   "cell_type": "code",
   "execution_count": 5,
   "metadata": {},
   "outputs": [],
   "source": [
    "mkrf_shows['puNumber'] = mkrf_shows['puNumber'].astype(str)"
   ]
  },
  {
   "cell_type": "code",
   "execution_count": 6,
   "metadata": {},
   "outputs": [],
   "source": [
    "data = mkrf_movies.merge(mkrf_shows, on = 'puNumber', how = 'left')"
   ]
  },
  {
   "cell_type": "code",
   "execution_count": 7,
   "metadata": {},
   "outputs": [
    {
     "name": "stdout",
     "output_type": "stream",
     "text": [
      "<class 'pandas.core.frame.DataFrame'>\n",
      "Int64Index: 7486 entries, 0 to 7485\n",
      "Data columns (total 16 columns):\n",
      " #   Column                 Non-Null Count  Dtype  \n",
      "---  ------                 --------------  -----  \n",
      " 0   title                  7486 non-null   object \n",
      " 1   puNumber               7486 non-null   object \n",
      " 2   show_start_date        7486 non-null   object \n",
      " 3   type                   7486 non-null   object \n",
      " 4   film_studio            7468 non-null   object \n",
      " 5   production_country     7484 non-null   object \n",
      " 6   director               7477 non-null   object \n",
      " 7   producer               6918 non-null   object \n",
      " 8   age_restriction        7486 non-null   object \n",
      " 9   refundable_support     332 non-null    float64\n",
      " 10  nonrefundable_support  332 non-null    float64\n",
      " 11  budget                 332 non-null    float64\n",
      " 12  financing_source       332 non-null    object \n",
      " 13  ratings                6519 non-null   object \n",
      " 14  genres                 6510 non-null   object \n",
      " 15  box_office             3158 non-null   float64\n",
      "dtypes: float64(4), object(12)\n",
      "memory usage: 994.2+ KB\n"
     ]
    }
   ],
   "source": [
    "data.info()"
   ]
  },
  {
   "cell_type": "code",
   "execution_count": 8,
   "metadata": {},
   "outputs": [
    {
     "data": {
      "text/html": [
       "<div>\n",
       "<style scoped>\n",
       "    .dataframe tbody tr th:only-of-type {\n",
       "        vertical-align: middle;\n",
       "    }\n",
       "\n",
       "    .dataframe tbody tr th {\n",
       "        vertical-align: top;\n",
       "    }\n",
       "\n",
       "    .dataframe thead th {\n",
       "        text-align: right;\n",
       "    }\n",
       "</style>\n",
       "<table border=\"1\" class=\"dataframe\">\n",
       "  <thead>\n",
       "    <tr style=\"text-align: right;\">\n",
       "      <th></th>\n",
       "      <th>title</th>\n",
       "      <th>puNumber</th>\n",
       "      <th>show_start_date</th>\n",
       "      <th>type</th>\n",
       "      <th>film_studio</th>\n",
       "      <th>production_country</th>\n",
       "      <th>director</th>\n",
       "      <th>producer</th>\n",
       "      <th>age_restriction</th>\n",
       "      <th>refundable_support</th>\n",
       "      <th>nonrefundable_support</th>\n",
       "      <th>budget</th>\n",
       "      <th>financing_source</th>\n",
       "      <th>ratings</th>\n",
       "      <th>genres</th>\n",
       "      <th>box_office</th>\n",
       "    </tr>\n",
       "  </thead>\n",
       "  <tbody>\n",
       "    <tr>\n",
       "      <th>0</th>\n",
       "      <td>Открытый простор</td>\n",
       "      <td>221048915</td>\n",
       "      <td>2015-11-27T12:00:00.000Z</td>\n",
       "      <td>Художественный</td>\n",
       "      <td>Тачстоун Пикчерз, Кобальт Пикчерз, Бикон Пикче...</td>\n",
       "      <td>США</td>\n",
       "      <td>Кевин Костнер</td>\n",
       "      <td>Дэвид Валдес, Кевин Костнер, Джейк Эбертс</td>\n",
       "      <td>«18+» - запрещено для детей</td>\n",
       "      <td>NaN</td>\n",
       "      <td>NaN</td>\n",
       "      <td>NaN</td>\n",
       "      <td>NaN</td>\n",
       "      <td>7.2</td>\n",
       "      <td>боевик,драма,мелодрама</td>\n",
       "      <td>NaN</td>\n",
       "    </tr>\n",
       "    <tr>\n",
       "      <th>1</th>\n",
       "      <td>Особо важное задание</td>\n",
       "      <td>111013716</td>\n",
       "      <td>2016-09-13T12:00:00.000Z</td>\n",
       "      <td>Художественный</td>\n",
       "      <td>Киностудия \"Мосфильм\"</td>\n",
       "      <td>СССР</td>\n",
       "      <td>Е.Матвеев</td>\n",
       "      <td>NaN</td>\n",
       "      <td>«6+» - для детей старше 6 лет</td>\n",
       "      <td>NaN</td>\n",
       "      <td>NaN</td>\n",
       "      <td>NaN</td>\n",
       "      <td>NaN</td>\n",
       "      <td>6.6</td>\n",
       "      <td>драма,военный</td>\n",
       "      <td>NaN</td>\n",
       "    </tr>\n",
       "    <tr>\n",
       "      <th>2</th>\n",
       "      <td>Особо опасен</td>\n",
       "      <td>221038416</td>\n",
       "      <td>2016-10-10T12:00:00.000Z</td>\n",
       "      <td>Художественный</td>\n",
       "      <td>Юниверсал Пикчерз, Кикстарт Продакшнз, Марк Пл...</td>\n",
       "      <td>США</td>\n",
       "      <td>Тимур Бекмамбетов</td>\n",
       "      <td>Джим Лемли, Джейсон Нетер, Марк Е.Платт, Яйн Смит</td>\n",
       "      <td>«18+» - запрещено для детей</td>\n",
       "      <td>NaN</td>\n",
       "      <td>NaN</td>\n",
       "      <td>NaN</td>\n",
       "      <td>NaN</td>\n",
       "      <td>6.8</td>\n",
       "      <td>фантастика,боевик,триллер</td>\n",
       "      <td>NaN</td>\n",
       "    </tr>\n",
       "  </tbody>\n",
       "</table>\n",
       "</div>"
      ],
      "text/plain": [
       "                  title   puNumber           show_start_date            type  \\\n",
       "0      Открытый простор  221048915  2015-11-27T12:00:00.000Z  Художественный   \n",
       "1  Особо важное задание  111013716  2016-09-13T12:00:00.000Z  Художественный   \n",
       "2          Особо опасен  221038416  2016-10-10T12:00:00.000Z  Художественный   \n",
       "\n",
       "                                         film_studio production_country  \\\n",
       "0  Тачстоун Пикчерз, Кобальт Пикчерз, Бикон Пикче...                США   \n",
       "1                              Киностудия \"Мосфильм\"               СССР   \n",
       "2  Юниверсал Пикчерз, Кикстарт Продакшнз, Марк Пл...                США   \n",
       "\n",
       "            director                                           producer  \\\n",
       "0      Кевин Костнер          Дэвид Валдес, Кевин Костнер, Джейк Эбертс   \n",
       "1          Е.Матвеев                                                NaN   \n",
       "2  Тимур Бекмамбетов  Джим Лемли, Джейсон Нетер, Марк Е.Платт, Яйн Смит   \n",
       "\n",
       "                 age_restriction  refundable_support  nonrefundable_support  \\\n",
       "0    «18+» - запрещено для детей                 NaN                    NaN   \n",
       "1  «6+» - для детей старше 6 лет                 NaN                    NaN   \n",
       "2    «18+» - запрещено для детей                 NaN                    NaN   \n",
       "\n",
       "   budget financing_source ratings                     genres  box_office  \n",
       "0     NaN              NaN     7.2     боевик,драма,мелодрама         NaN  \n",
       "1     NaN              NaN     6.6              драма,военный         NaN  \n",
       "2     NaN              NaN     6.8  фантастика,боевик,триллер         NaN  "
      ]
     },
     "execution_count": 8,
     "metadata": {},
     "output_type": "execute_result"
    }
   ],
   "source": [
    "data.head(3)"
   ]
  },
  {
   "cell_type": "code",
   "execution_count": 9,
   "metadata": {},
   "outputs": [
    {
     "data": {
      "text/html": [
       "<div>\n",
       "<style scoped>\n",
       "    .dataframe tbody tr th:only-of-type {\n",
       "        vertical-align: middle;\n",
       "    }\n",
       "\n",
       "    .dataframe tbody tr th {\n",
       "        vertical-align: top;\n",
       "    }\n",
       "\n",
       "    .dataframe thead th {\n",
       "        text-align: right;\n",
       "    }\n",
       "</style>\n",
       "<table border=\"1\" class=\"dataframe\">\n",
       "  <thead>\n",
       "    <tr style=\"text-align: right;\">\n",
       "      <th></th>\n",
       "      <th>refundable_support</th>\n",
       "      <th>nonrefundable_support</th>\n",
       "      <th>budget</th>\n",
       "      <th>box_office</th>\n",
       "    </tr>\n",
       "  </thead>\n",
       "  <tbody>\n",
       "    <tr>\n",
       "      <th>count</th>\n",
       "      <td>3.320000e+02</td>\n",
       "      <td>3.320000e+02</td>\n",
       "      <td>3.320000e+02</td>\n",
       "      <td>3.158000e+03</td>\n",
       "    </tr>\n",
       "    <tr>\n",
       "      <th>mean</th>\n",
       "      <td>1.186446e+07</td>\n",
       "      <td>4.898099e+07</td>\n",
       "      <td>1.272297e+08</td>\n",
       "      <td>7.647870e+07</td>\n",
       "    </tr>\n",
       "    <tr>\n",
       "      <th>std</th>\n",
       "      <td>2.491656e+07</td>\n",
       "      <td>5.998012e+07</td>\n",
       "      <td>1.885883e+08</td>\n",
       "      <td>2.403531e+08</td>\n",
       "    </tr>\n",
       "    <tr>\n",
       "      <th>min</th>\n",
       "      <td>0.000000e+00</td>\n",
       "      <td>0.000000e+00</td>\n",
       "      <td>0.000000e+00</td>\n",
       "      <td>0.000000e+00</td>\n",
       "    </tr>\n",
       "    <tr>\n",
       "      <th>25%</th>\n",
       "      <td>0.000000e+00</td>\n",
       "      <td>2.500000e+07</td>\n",
       "      <td>4.200000e+07</td>\n",
       "      <td>8.623900e+04</td>\n",
       "    </tr>\n",
       "    <tr>\n",
       "      <th>50%</th>\n",
       "      <td>0.000000e+00</td>\n",
       "      <td>3.000000e+07</td>\n",
       "      <td>6.864992e+07</td>\n",
       "      <td>2.327988e+06</td>\n",
       "    </tr>\n",
       "    <tr>\n",
       "      <th>75%</th>\n",
       "      <td>1.500000e+07</td>\n",
       "      <td>4.037500e+07</td>\n",
       "      <td>1.419853e+08</td>\n",
       "      <td>2.397967e+07</td>\n",
       "    </tr>\n",
       "    <tr>\n",
       "      <th>max</th>\n",
       "      <td>1.800000e+08</td>\n",
       "      <td>4.000000e+08</td>\n",
       "      <td>2.305074e+09</td>\n",
       "      <td>3.073569e+09</td>\n",
       "    </tr>\n",
       "  </tbody>\n",
       "</table>\n",
       "</div>"
      ],
      "text/plain": [
       "       refundable_support  nonrefundable_support        budget    box_office\n",
       "count        3.320000e+02           3.320000e+02  3.320000e+02  3.158000e+03\n",
       "mean         1.186446e+07           4.898099e+07  1.272297e+08  7.647870e+07\n",
       "std          2.491656e+07           5.998012e+07  1.885883e+08  2.403531e+08\n",
       "min          0.000000e+00           0.000000e+00  0.000000e+00  0.000000e+00\n",
       "25%          0.000000e+00           2.500000e+07  4.200000e+07  8.623900e+04\n",
       "50%          0.000000e+00           3.000000e+07  6.864992e+07  2.327988e+06\n",
       "75%          1.500000e+07           4.037500e+07  1.419853e+08  2.397967e+07\n",
       "max          1.800000e+08           4.000000e+08  2.305074e+09  3.073569e+09"
      ]
     },
     "execution_count": 9,
     "metadata": {},
     "output_type": "execute_result"
    }
   ],
   "source": [
    "data.describe()"
   ]
  },
  {
   "cell_type": "code",
   "execution_count": 10,
   "metadata": {},
   "outputs": [
    {
     "data": {
      "text/plain": [
       "array([nan, 'Министерство культуры', 'Фонд кино',\n",
       "       'Министерство культуры, Фонд кино'], dtype=object)"
      ]
     },
     "execution_count": 10,
     "metadata": {},
     "output_type": "execute_result"
    }
   ],
   "source": [
    "data['financing_source'].unique()"
   ]
  },
  {
   "cell_type": "markdown",
   "metadata": {
    "id": "KLDGpPG0gFyM"
   },
   "source": [
    "### Шаг 2. Предобработка данных"
   ]
  },
  {
   "cell_type": "markdown",
   "metadata": {
    "id": "kVGSplJOgFyO"
   },
   "source": [
    "Необходимо сменить типы данных у следующих столбцов:\n",
    "show_start_date в datetime\n",
    "ratings во float\n",
    "\n",
    "Кроме того, для лучшего восприяти переведем \n",
    "refundable_support и nonrefundable_support в тысячи\n",
    "budget и box_office в миллионы"
   ]
  },
  {
   "cell_type": "code",
   "execution_count": 11,
   "metadata": {},
   "outputs": [
    {
     "data": {
      "text/html": [
       "<div>\n",
       "<style scoped>\n",
       "    .dataframe tbody tr th:only-of-type {\n",
       "        vertical-align: middle;\n",
       "    }\n",
       "\n",
       "    .dataframe tbody tr th {\n",
       "        vertical-align: top;\n",
       "    }\n",
       "\n",
       "    .dataframe thead th {\n",
       "        text-align: right;\n",
       "    }\n",
       "</style>\n",
       "<table border=\"1\" class=\"dataframe\">\n",
       "  <thead>\n",
       "    <tr style=\"text-align: right;\">\n",
       "      <th></th>\n",
       "      <th>refundable_support</th>\n",
       "      <th>nonrefundable_support</th>\n",
       "      <th>budget</th>\n",
       "      <th>box_office</th>\n",
       "    </tr>\n",
       "  </thead>\n",
       "  <tbody>\n",
       "    <tr>\n",
       "      <th>count</th>\n",
       "      <td>332.000000</td>\n",
       "      <td>332.000000</td>\n",
       "      <td>332.000000</td>\n",
       "      <td>3158.000000</td>\n",
       "    </tr>\n",
       "    <tr>\n",
       "      <th>mean</th>\n",
       "      <td>11864.457831</td>\n",
       "      <td>48980.988892</td>\n",
       "      <td>127.229717</td>\n",
       "      <td>76.478696</td>\n",
       "    </tr>\n",
       "    <tr>\n",
       "      <th>std</th>\n",
       "      <td>24916.555264</td>\n",
       "      <td>59980.117923</td>\n",
       "      <td>188.588333</td>\n",
       "      <td>240.353123</td>\n",
       "    </tr>\n",
       "    <tr>\n",
       "      <th>min</th>\n",
       "      <td>0.000000</td>\n",
       "      <td>0.000000</td>\n",
       "      <td>0.000000</td>\n",
       "      <td>0.000000</td>\n",
       "    </tr>\n",
       "    <tr>\n",
       "      <th>25%</th>\n",
       "      <td>0.000000</td>\n",
       "      <td>25000.000000</td>\n",
       "      <td>42.000000</td>\n",
       "      <td>0.086239</td>\n",
       "    </tr>\n",
       "    <tr>\n",
       "      <th>50%</th>\n",
       "      <td>0.000000</td>\n",
       "      <td>30000.000000</td>\n",
       "      <td>68.649916</td>\n",
       "      <td>2.327988</td>\n",
       "    </tr>\n",
       "    <tr>\n",
       "      <th>75%</th>\n",
       "      <td>15000.000000</td>\n",
       "      <td>40375.000000</td>\n",
       "      <td>141.985320</td>\n",
       "      <td>23.979671</td>\n",
       "    </tr>\n",
       "    <tr>\n",
       "      <th>max</th>\n",
       "      <td>180000.000000</td>\n",
       "      <td>400000.000000</td>\n",
       "      <td>2305.074303</td>\n",
       "      <td>3073.568691</td>\n",
       "    </tr>\n",
       "  </tbody>\n",
       "</table>\n",
       "</div>"
      ],
      "text/plain": [
       "       refundable_support  nonrefundable_support       budget   box_office\n",
       "count          332.000000             332.000000   332.000000  3158.000000\n",
       "mean         11864.457831           48980.988892   127.229717    76.478696\n",
       "std          24916.555264           59980.117923   188.588333   240.353123\n",
       "min              0.000000               0.000000     0.000000     0.000000\n",
       "25%              0.000000           25000.000000    42.000000     0.086239\n",
       "50%              0.000000           30000.000000    68.649916     2.327988\n",
       "75%          15000.000000           40375.000000   141.985320    23.979671\n",
       "max         180000.000000          400000.000000  2305.074303  3073.568691"
      ]
     },
     "execution_count": 11,
     "metadata": {},
     "output_type": "execute_result"
    }
   ],
   "source": [
    "data['refundable_support'] = data['refundable_support'] / 1000\n",
    "data['nonrefundable_support'] = data['nonrefundable_support'] / 1000\n",
    "data['budget'] = data['budget'] / 1000000\n",
    "data['box_office'] = data['box_office'] / 1000000\n",
    "data.describe()"
   ]
  },
  {
   "cell_type": "code",
   "execution_count": 12,
   "metadata": {},
   "outputs": [],
   "source": [
    "data['show_start_date'] = pd.to_datetime(data['show_start_date'], format='%Y-%m-%dT%H:%M:%S')\n",
    "#data['show_start_date'] = data['show_start_date'].dt.date"
   ]
  },
  {
   "cell_type": "code",
   "execution_count": 13,
   "metadata": {
    "scrolled": true
   },
   "outputs": [
    {
     "data": {
      "text/plain": [
       "array(['7.2', '6.6', '6.8', '7.7', '8.3', '8.0', '7.8', '8.1', '7.1',\n",
       "       '6.0', '7.4', '5.8', '8.7', '6.3', '6.9', '5.0', '4.3', '7.3',\n",
       "       '7.0', '6.4', nan, '8.2', '7.5', '6.7', '7.9', '5.9', '6.2', '5.6',\n",
       "       '6.5', '2.4', '7.6', '6.1', '8.6', '8.5', '8.8', '5.5', '5.1',\n",
       "       '5.7', '5.4', '99%', '4.4', '4.5', '5.3', '4.1', '8.4', '2.6',\n",
       "       '3.8', '4.6', '4.8', '4.0', '3.0', '1.6', '4.2', '5.2', '4.7',\n",
       "       '4.9', '3.9', '2.7', '3.3', '2.9', '28%', '3.7', '1.4', '3.1',\n",
       "       '97%', '3.5', '3.2', '2.8', '1.5', '2.1', '2.5', '9.2', '3.4',\n",
       "       '1.1', '3.6', '83%', '64%', '91%', '94%', '62%', '79%', '90%',\n",
       "       '19%', '88%', '1.0', '89%', '1.3', '1.9', '1.8', '1.2', '1.7',\n",
       "       '9.0', '98%', '8.9', '9.1'], dtype=object)"
      ]
     },
     "execution_count": 13,
     "metadata": {},
     "output_type": "execute_result"
    }
   ],
   "source": [
    "# Рейтинги не удалось с наскока поменять формат - потому что есть %\n",
    "# Убираем процент, все переводим в числа, а там где больше 10(где был %) делим на 10, т.к. рейтинги от 0 до 10 (эквивалент от 0% до 100%)\n",
    "data['ratings'].unique()"
   ]
  },
  {
   "cell_type": "markdown",
   "metadata": {},
   "source": [
    "Рейтинги не удалось с наскока поменять формат - потому что есть %\n",
    "Убираем процент, все переводим в числа, а там где больше 10(где был %) делим на 10, т.к. рейтинги от 0 до 10 (эквивалент от 0% до 100%)"
   ]
  },
  {
   "cell_type": "code",
   "execution_count": 14,
   "metadata": {},
   "outputs": [],
   "source": [
    "#data.loc[(data['ratings'].str.contains(\"%\"))&(~data['ratings'].isna()), 'ratings']= data.loc[(data['ratings'].str.contains(\"%\"))&(~data['ratings'].isna()), 'ratings'].str.replace(\"%\", \"\")"
   ]
  },
  {
   "cell_type": "code",
   "execution_count": 15,
   "metadata": {},
   "outputs": [],
   "source": [
    "data['ratings'] = data['ratings'].str.replace(\"%\", \"\")"
   ]
  },
  {
   "cell_type": "code",
   "execution_count": 16,
   "metadata": {},
   "outputs": [],
   "source": [
    "data['ratings'] = data['ratings'].astype(float)\n",
    "data.loc[data['ratings'] > 10, 'ratings'] = data.loc[data['ratings'] > 10, 'ratings']/10"
   ]
  },
  {
   "cell_type": "code",
   "execution_count": 17,
   "metadata": {},
   "outputs": [
    {
     "data": {
      "text/html": [
       "<div>\n",
       "<style scoped>\n",
       "    .dataframe tbody tr th:only-of-type {\n",
       "        vertical-align: middle;\n",
       "    }\n",
       "\n",
       "    .dataframe tbody tr th {\n",
       "        vertical-align: top;\n",
       "    }\n",
       "\n",
       "    .dataframe thead th {\n",
       "        text-align: right;\n",
       "    }\n",
       "</style>\n",
       "<table border=\"1\" class=\"dataframe\">\n",
       "  <thead>\n",
       "    <tr style=\"text-align: right;\">\n",
       "      <th></th>\n",
       "      <th>title</th>\n",
       "      <th>puNumber</th>\n",
       "      <th>show_start_date</th>\n",
       "      <th>type</th>\n",
       "      <th>film_studio</th>\n",
       "      <th>production_country</th>\n",
       "      <th>director</th>\n",
       "      <th>producer</th>\n",
       "      <th>age_restriction</th>\n",
       "      <th>refundable_support</th>\n",
       "      <th>nonrefundable_support</th>\n",
       "      <th>budget</th>\n",
       "      <th>financing_source</th>\n",
       "      <th>ratings</th>\n",
       "      <th>genres</th>\n",
       "      <th>box_office</th>\n",
       "    </tr>\n",
       "  </thead>\n",
       "  <tbody>\n",
       "    <tr>\n",
       "      <th>0</th>\n",
       "      <td>Открытый простор</td>\n",
       "      <td>221048915</td>\n",
       "      <td>2015-11-27 12:00:00+00:00</td>\n",
       "      <td>Художественный</td>\n",
       "      <td>Тачстоун Пикчерз, Кобальт Пикчерз, Бикон Пикче...</td>\n",
       "      <td>США</td>\n",
       "      <td>Кевин Костнер</td>\n",
       "      <td>Дэвид Валдес, Кевин Костнер, Джейк Эбертс</td>\n",
       "      <td>«18+» - запрещено для детей</td>\n",
       "      <td>NaN</td>\n",
       "      <td>NaN</td>\n",
       "      <td>NaN</td>\n",
       "      <td>NaN</td>\n",
       "      <td>7.2</td>\n",
       "      <td>боевик,драма,мелодрама</td>\n",
       "      <td>NaN</td>\n",
       "    </tr>\n",
       "    <tr>\n",
       "      <th>1</th>\n",
       "      <td>Особо важное задание</td>\n",
       "      <td>111013716</td>\n",
       "      <td>2016-09-13 12:00:00+00:00</td>\n",
       "      <td>Художественный</td>\n",
       "      <td>Киностудия \"Мосфильм\"</td>\n",
       "      <td>СССР</td>\n",
       "      <td>Е.Матвеев</td>\n",
       "      <td>NaN</td>\n",
       "      <td>«6+» - для детей старше 6 лет</td>\n",
       "      <td>NaN</td>\n",
       "      <td>NaN</td>\n",
       "      <td>NaN</td>\n",
       "      <td>NaN</td>\n",
       "      <td>6.6</td>\n",
       "      <td>драма,военный</td>\n",
       "      <td>NaN</td>\n",
       "    </tr>\n",
       "    <tr>\n",
       "      <th>2</th>\n",
       "      <td>Особо опасен</td>\n",
       "      <td>221038416</td>\n",
       "      <td>2016-10-10 12:00:00+00:00</td>\n",
       "      <td>Художественный</td>\n",
       "      <td>Юниверсал Пикчерз, Кикстарт Продакшнз, Марк Пл...</td>\n",
       "      <td>США</td>\n",
       "      <td>Тимур Бекмамбетов</td>\n",
       "      <td>Джим Лемли, Джейсон Нетер, Марк Е.Платт, Яйн Смит</td>\n",
       "      <td>«18+» - запрещено для детей</td>\n",
       "      <td>NaN</td>\n",
       "      <td>NaN</td>\n",
       "      <td>NaN</td>\n",
       "      <td>NaN</td>\n",
       "      <td>6.8</td>\n",
       "      <td>фантастика,боевик,триллер</td>\n",
       "      <td>NaN</td>\n",
       "    </tr>\n",
       "  </tbody>\n",
       "</table>\n",
       "</div>"
      ],
      "text/plain": [
       "                  title   puNumber           show_start_date            type  \\\n",
       "0      Открытый простор  221048915 2015-11-27 12:00:00+00:00  Художественный   \n",
       "1  Особо важное задание  111013716 2016-09-13 12:00:00+00:00  Художественный   \n",
       "2          Особо опасен  221038416 2016-10-10 12:00:00+00:00  Художественный   \n",
       "\n",
       "                                         film_studio production_country  \\\n",
       "0  Тачстоун Пикчерз, Кобальт Пикчерз, Бикон Пикче...                США   \n",
       "1                              Киностудия \"Мосфильм\"               СССР   \n",
       "2  Юниверсал Пикчерз, Кикстарт Продакшнз, Марк Пл...                США   \n",
       "\n",
       "            director                                           producer  \\\n",
       "0      Кевин Костнер          Дэвид Валдес, Кевин Костнер, Джейк Эбертс   \n",
       "1          Е.Матвеев                                                NaN   \n",
       "2  Тимур Бекмамбетов  Джим Лемли, Джейсон Нетер, Марк Е.Платт, Яйн Смит   \n",
       "\n",
       "                 age_restriction  refundable_support  nonrefundable_support  \\\n",
       "0    «18+» - запрещено для детей                 NaN                    NaN   \n",
       "1  «6+» - для детей старше 6 лет                 NaN                    NaN   \n",
       "2    «18+» - запрещено для детей                 NaN                    NaN   \n",
       "\n",
       "   budget financing_source  ratings                     genres  box_office  \n",
       "0     NaN              NaN      7.2     боевик,драма,мелодрама         NaN  \n",
       "1     NaN              NaN      6.6              драма,военный         NaN  \n",
       "2     NaN              NaN      6.8  фантастика,боевик,триллер         NaN  "
      ]
     },
     "execution_count": 17,
     "metadata": {},
     "output_type": "execute_result"
    }
   ],
   "source": [
    "data.head(3)"
   ]
  },
  {
   "cell_type": "code",
   "execution_count": 18,
   "metadata": {
    "id": "8MJD_lkngFyP"
   },
   "outputs": [
    {
     "data": {
      "text/plain": [
       "title                       0\n",
       "puNumber                    0\n",
       "show_start_date             0\n",
       "type                        0\n",
       "film_studio                18\n",
       "production_country          2\n",
       "director                    9\n",
       "producer                  568\n",
       "age_restriction             0\n",
       "refundable_support       7154\n",
       "nonrefundable_support    7154\n",
       "budget                   7154\n",
       "financing_source         7154\n",
       "ratings                   967\n",
       "genres                    976\n",
       "box_office               4328\n",
       "dtype: int64"
      ]
     },
     "execution_count": 18,
     "metadata": {},
     "output_type": "execute_result"
    }
   ],
   "source": [
    "pusto = data.isna().sum()\n",
    "pusto"
   ]
  },
  {
   "cell_type": "markdown",
   "metadata": {},
   "source": [
    "Для начала удалим мелочь:\n",
    "- film_studio                \n",
    "- production_country          \n",
    "- director     \n",
    "\n",
    "Из остальных, вероятно, можно будет заполнить жанр модой, т.к. в этом столбце их относительно немного"
   ]
  },
  {
   "cell_type": "code",
   "execution_count": 19,
   "metadata": {},
   "outputs": [
    {
     "data": {
      "text/plain": [
       "7459"
      ]
     },
     "execution_count": 19,
     "metadata": {},
     "output_type": "execute_result"
    }
   ],
   "source": [
    "data.dropna(subset = ['film_studio'], inplace = True)\n",
    "data.dropna(subset = ['production_country'], inplace = True)\n",
    "data.dropna(subset = ['director'], inplace = True)\n",
    "len(data)"
   ]
  },
  {
   "cell_type": "code",
   "execution_count": 20,
   "metadata": {},
   "outputs": [],
   "source": [
    "#data.loc[data['ratings'].isna(),'ratings'] = data.loc[~data['ratings'].isna(),'ratings'].median()\n",
    "#pusto = data.isna().sum()\n",
    "#pusto"
   ]
  },
  {
   "cell_type": "code",
   "execution_count": 21,
   "metadata": {},
   "outputs": [
    {
     "data": {
      "text/plain": [
       "count      6502\n",
       "unique      741\n",
       "top       драма\n",
       "freq        476\n",
       "Name: genres, dtype: object"
      ]
     },
     "execution_count": 21,
     "metadata": {},
     "output_type": "execute_result"
    }
   ],
   "source": [
    "data['genres'].describe()"
   ]
  },
  {
   "cell_type": "code",
   "execution_count": 22,
   "metadata": {},
   "outputs": [
    {
     "data": {
      "text/plain": [
       "title                       0\n",
       "puNumber                    0\n",
       "show_start_date             0\n",
       "type                        0\n",
       "film_studio                 0\n",
       "production_country          0\n",
       "director                    0\n",
       "producer                  564\n",
       "age_restriction             0\n",
       "refundable_support       7127\n",
       "nonrefundable_support    7127\n",
       "budget                   7127\n",
       "financing_source         7127\n",
       "ratings                   948\n",
       "genres                      0\n",
       "box_office               4304\n",
       "dtype: int64"
      ]
     },
     "execution_count": 22,
     "metadata": {},
     "output_type": "execute_result"
    }
   ],
   "source": [
    "data.loc[data['genres'].isna(),'genres'] = data['genres'].describe()['top']\n",
    "pusto = data.isna().sum()\n",
    "pusto"
   ]
  },
  {
   "cell_type": "markdown",
   "metadata": {},
   "source": [
    "Чтобы не пропустить неявные дубликаты у категориальных столбцов - приведем все к нижнему регистру, поудаляем спецсимволы и пробелы в начале и конце"
   ]
  },
  {
   "cell_type": "code",
   "execution_count": 24,
   "metadata": {},
   "outputs": [],
   "source": [
    "cols = ['title', 'type', 'film_studio', 'production_country', 'director', 'producer', 'age_restriction', 'financing_source', 'genres']\n",
    "for i in cols:\n",
    "    data[i] = data[i].str.lower()\n",
    "    data[i] = data[i].str.replace('_', '')\n",
    "    data[i] = data[i].str.replace('\"', '')\n",
    "    data[i] = data[i].str.replace(' - ', '-')\n",
    "    data[i] = data[i].str.strip()"
   ]
  },
  {
   "cell_type": "code",
   "execution_count": 27,
   "metadata": {},
   "outputs": [
    {
     "data": {
      "text/plain": [
       "7459"
      ]
     },
     "execution_count": 27,
     "metadata": {},
     "output_type": "execute_result"
    }
   ],
   "source": [
    "data = data.drop_duplicates().reset_index(drop = True)\n",
    "len(data)"
   ]
  },
  {
   "cell_type": "code",
   "execution_count": 28,
   "metadata": {},
   "outputs": [
    {
     "data": {
      "text/html": [
       "<div>\n",
       "<style scoped>\n",
       "    .dataframe tbody tr th:only-of-type {\n",
       "        vertical-align: middle;\n",
       "    }\n",
       "\n",
       "    .dataframe tbody tr th {\n",
       "        vertical-align: top;\n",
       "    }\n",
       "\n",
       "    .dataframe thead th {\n",
       "        text-align: right;\n",
       "    }\n",
       "</style>\n",
       "<table border=\"1\" class=\"dataframe\">\n",
       "  <thead>\n",
       "    <tr style=\"text-align: right;\">\n",
       "      <th></th>\n",
       "      <th>title</th>\n",
       "      <th>puNumber</th>\n",
       "      <th>show_start_date</th>\n",
       "      <th>type</th>\n",
       "      <th>film_studio</th>\n",
       "      <th>production_country</th>\n",
       "      <th>director</th>\n",
       "      <th>producer</th>\n",
       "      <th>age_restriction</th>\n",
       "      <th>refundable_support</th>\n",
       "      <th>nonrefundable_support</th>\n",
       "      <th>budget</th>\n",
       "      <th>financing_source</th>\n",
       "      <th>ratings</th>\n",
       "      <th>genres</th>\n",
       "      <th>box_office</th>\n",
       "    </tr>\n",
       "  </thead>\n",
       "  <tbody>\n",
       "    <tr>\n",
       "      <th>1</th>\n",
       "      <td>особо важное задание</td>\n",
       "      <td>111013716</td>\n",
       "      <td>2016-09-13 12:00:00+00:00</td>\n",
       "      <td>художественный</td>\n",
       "      <td>киностудия мосфильм</td>\n",
       "      <td>ссср</td>\n",
       "      <td>е.матвеев</td>\n",
       "      <td>NaN</td>\n",
       "      <td>«6+»-для детей старше 6 лет</td>\n",
       "      <td>NaN</td>\n",
       "      <td>NaN</td>\n",
       "      <td>NaN</td>\n",
       "      <td>NaN</td>\n",
       "      <td>6.6</td>\n",
       "      <td>драма,военный</td>\n",
       "      <td>NaN</td>\n",
       "    </tr>\n",
       "    <tr>\n",
       "      <th>2</th>\n",
       "      <td>особо опасен</td>\n",
       "      <td>221038416</td>\n",
       "      <td>2016-10-10 12:00:00+00:00</td>\n",
       "      <td>художественный</td>\n",
       "      <td>юниверсал пикчерз, кикстарт продакшнз, марк пл...</td>\n",
       "      <td>сша</td>\n",
       "      <td>тимур бекмамбетов</td>\n",
       "      <td>джим лемли, джейсон нетер, марк е.платт, яйн смит</td>\n",
       "      <td>«18+»-запрещено для детей</td>\n",
       "      <td>NaN</td>\n",
       "      <td>NaN</td>\n",
       "      <td>NaN</td>\n",
       "      <td>NaN</td>\n",
       "      <td>6.8</td>\n",
       "      <td>фантастика,боевик,триллер</td>\n",
       "      <td>NaN</td>\n",
       "    </tr>\n",
       "    <tr>\n",
       "      <th>3</th>\n",
       "      <td>особо опасен</td>\n",
       "      <td>221026916</td>\n",
       "      <td>2016-06-10 12:00:00+00:00</td>\n",
       "      <td>художественный</td>\n",
       "      <td>юниверсал пикчерз, кикстарт продакшнз, марк пл...</td>\n",
       "      <td>сша</td>\n",
       "      <td>тимур бекмамбетов</td>\n",
       "      <td>джим лемли, джейсон нетер, марк е.платт, яйн смит</td>\n",
       "      <td>«18+»-запрещено для детей</td>\n",
       "      <td>NaN</td>\n",
       "      <td>NaN</td>\n",
       "      <td>NaN</td>\n",
       "      <td>NaN</td>\n",
       "      <td>6.8</td>\n",
       "      <td>фантастика,боевик,триллер</td>\n",
       "      <td>NaN</td>\n",
       "    </tr>\n",
       "    <tr>\n",
       "      <th>4</th>\n",
       "      <td>особо опасен</td>\n",
       "      <td>221030815</td>\n",
       "      <td>2015-07-29 12:00:00+00:00</td>\n",
       "      <td>художественный</td>\n",
       "      <td>юниверсал пикчерз, кикстарт продакшнз, марк пл...</td>\n",
       "      <td>сша</td>\n",
       "      <td>тимур бекмамбетов</td>\n",
       "      <td>джим лемли, джейсон нетер, марк е.платт, яйн смит</td>\n",
       "      <td>«18+»-запрещено для детей</td>\n",
       "      <td>NaN</td>\n",
       "      <td>NaN</td>\n",
       "      <td>NaN</td>\n",
       "      <td>NaN</td>\n",
       "      <td>6.8</td>\n",
       "      <td>фантастика,боевик,триллер</td>\n",
       "      <td>NaN</td>\n",
       "    </tr>\n",
       "    <tr>\n",
       "      <th>0</th>\n",
       "      <td>открытый простор</td>\n",
       "      <td>221048915</td>\n",
       "      <td>2015-11-27 12:00:00+00:00</td>\n",
       "      <td>художественный</td>\n",
       "      <td>тачстоун пикчерз, кобальт пикчерз, бикон пикче...</td>\n",
       "      <td>сша</td>\n",
       "      <td>кевин костнер</td>\n",
       "      <td>дэвид валдес, кевин костнер, джейк эбертс</td>\n",
       "      <td>«18+»-запрещено для детей</td>\n",
       "      <td>NaN</td>\n",
       "      <td>NaN</td>\n",
       "      <td>NaN</td>\n",
       "      <td>NaN</td>\n",
       "      <td>7.2</td>\n",
       "      <td>боевик,драма,мелодрама</td>\n",
       "      <td>NaN</td>\n",
       "    </tr>\n",
       "  </tbody>\n",
       "</table>\n",
       "</div>"
      ],
      "text/plain": [
       "                  title   puNumber           show_start_date            type  \\\n",
       "1  особо важное задание  111013716 2016-09-13 12:00:00+00:00  художественный   \n",
       "2          особо опасен  221038416 2016-10-10 12:00:00+00:00  художественный   \n",
       "3          особо опасен  221026916 2016-06-10 12:00:00+00:00  художественный   \n",
       "4          особо опасен  221030815 2015-07-29 12:00:00+00:00  художественный   \n",
       "0      открытый простор  221048915 2015-11-27 12:00:00+00:00  художественный   \n",
       "\n",
       "                                         film_studio production_country  \\\n",
       "1                                киностудия мосфильм               ссср   \n",
       "2  юниверсал пикчерз, кикстарт продакшнз, марк пл...                сша   \n",
       "3  юниверсал пикчерз, кикстарт продакшнз, марк пл...                сша   \n",
       "4  юниверсал пикчерз, кикстарт продакшнз, марк пл...                сша   \n",
       "0  тачстоун пикчерз, кобальт пикчерз, бикон пикче...                сша   \n",
       "\n",
       "            director                                           producer  \\\n",
       "1          е.матвеев                                                NaN   \n",
       "2  тимур бекмамбетов  джим лемли, джейсон нетер, марк е.платт, яйн смит   \n",
       "3  тимур бекмамбетов  джим лемли, джейсон нетер, марк е.платт, яйн смит   \n",
       "4  тимур бекмамбетов  джим лемли, джейсон нетер, марк е.платт, яйн смит   \n",
       "0      кевин костнер          дэвид валдес, кевин костнер, джейк эбертс   \n",
       "\n",
       "               age_restriction  refundable_support  nonrefundable_support  \\\n",
       "1  «6+»-для детей старше 6 лет                 NaN                    NaN   \n",
       "2    «18+»-запрещено для детей                 NaN                    NaN   \n",
       "3    «18+»-запрещено для детей                 NaN                    NaN   \n",
       "4    «18+»-запрещено для детей                 NaN                    NaN   \n",
       "0    «18+»-запрещено для детей                 NaN                    NaN   \n",
       "\n",
       "   budget financing_source  ratings                     genres  box_office  \n",
       "1     NaN              NaN      6.6              драма,военный         NaN  \n",
       "2     NaN              NaN      6.8  фантастика,боевик,триллер         NaN  \n",
       "3     NaN              NaN      6.8  фантастика,боевик,триллер         NaN  \n",
       "4     NaN              NaN      6.8  фантастика,боевик,триллер         NaN  \n",
       "0     NaN              NaN      7.2     боевик,драма,мелодрама         NaN  "
      ]
     },
     "execution_count": 28,
     "metadata": {},
     "output_type": "execute_result"
    }
   ],
   "source": [
    "#data_clean= data_without_show_date.merge(show_data, on = 'title', how = 'left')\n",
    "data.head().sort_values('title')"
   ]
  },
  {
   "cell_type": "markdown",
   "metadata": {},
   "source": [
    "Явных дубликатов даже с учетом приведения к нижнему регистру и удаления спецсимволов не обнаружено\n",
    "Попробуем посмотреть на дубликатьы по прокатному удостоверению"
   ]
  },
  {
   "cell_type": "code",
   "execution_count": 29,
   "metadata": {},
   "outputs": [
    {
     "data": {
      "text/plain": [
       "puNumber\n",
       "221154310     2\n",
       "221054410     2\n",
       " 111004112    1\n",
       "121029218     1\n",
       "121029414     1\n",
       "             ..\n",
       "121003015     1\n",
       "121003014     1\n",
       "121003013     1\n",
       "121003010     1\n",
       "нет           1\n",
       "Name: puNumber, Length: 7457, dtype: int64"
      ]
     },
     "execution_count": 29,
     "metadata": {},
     "output_type": "execute_result"
    }
   ],
   "source": [
    "doble_data = data.groupby('puNumber')['puNumber'].count().sort_values(ascending = False)\n",
    "doble_data"
   ]
  },
  {
   "cell_type": "code",
   "execution_count": 30,
   "metadata": {},
   "outputs": [
    {
     "data": {
      "text/html": [
       "<div>\n",
       "<style scoped>\n",
       "    .dataframe tbody tr th:only-of-type {\n",
       "        vertical-align: middle;\n",
       "    }\n",
       "\n",
       "    .dataframe tbody tr th {\n",
       "        vertical-align: top;\n",
       "    }\n",
       "\n",
       "    .dataframe thead th {\n",
       "        text-align: right;\n",
       "    }\n",
       "</style>\n",
       "<table border=\"1\" class=\"dataframe\">\n",
       "  <thead>\n",
       "    <tr style=\"text-align: right;\">\n",
       "      <th></th>\n",
       "      <th>title</th>\n",
       "      <th>puNumber</th>\n",
       "      <th>show_start_date</th>\n",
       "      <th>type</th>\n",
       "      <th>film_studio</th>\n",
       "      <th>production_country</th>\n",
       "      <th>director</th>\n",
       "      <th>producer</th>\n",
       "      <th>age_restriction</th>\n",
       "      <th>refundable_support</th>\n",
       "      <th>nonrefundable_support</th>\n",
       "      <th>budget</th>\n",
       "      <th>financing_source</th>\n",
       "      <th>ratings</th>\n",
       "      <th>genres</th>\n",
       "      <th>box_office</th>\n",
       "    </tr>\n",
       "  </thead>\n",
       "  <tbody>\n",
       "    <tr>\n",
       "      <th>4629</th>\n",
       "      <td>как жениться и остаться холостым</td>\n",
       "      <td>221154310</td>\n",
       "      <td>2010-12-17 12:00:00+00:00</td>\n",
       "      <td>художественный</td>\n",
       "      <td>ше вам, скрипт ассосье, тэ фэ 1 фильм продюксь...</td>\n",
       "      <td>франция</td>\n",
       "      <td>эрик лартиго</td>\n",
       "      <td>амандин било, алан шаба</td>\n",
       "      <td>«16+»-для детей старше 16 лет</td>\n",
       "      <td>NaN</td>\n",
       "      <td>NaN</td>\n",
       "      <td>NaN</td>\n",
       "      <td>NaN</td>\n",
       "      <td>7.0</td>\n",
       "      <td>мелодрама,комедия</td>\n",
       "      <td>NaN</td>\n",
       "    </tr>\n",
       "    <tr>\n",
       "      <th>4630</th>\n",
       "      <td>иоанна-женщина на папском престоле /по роману ...</td>\n",
       "      <td>221154310</td>\n",
       "      <td>2010-12-17 12:00:00+00:00</td>\n",
       "      <td>художественный</td>\n",
       "      <td>константин фильм, а эр ди дегето фильм, дюне ф...</td>\n",
       "      <td>германия-великобритания-италия-испания</td>\n",
       "      <td>зенке вортманн</td>\n",
       "      <td>оливер бербен, дорис д.хайнце, фарук элтан</td>\n",
       "      <td>«16+»-для детей старше 16 лет</td>\n",
       "      <td>NaN</td>\n",
       "      <td>NaN</td>\n",
       "      <td>NaN</td>\n",
       "      <td>NaN</td>\n",
       "      <td>7.6</td>\n",
       "      <td>драма,мелодрама,история</td>\n",
       "      <td>NaN</td>\n",
       "    </tr>\n",
       "    <tr>\n",
       "      <th>5056</th>\n",
       "      <td>анализируй это!</td>\n",
       "      <td>221054410</td>\n",
       "      <td>2010-05-25 12:00:00+00:00</td>\n",
       "      <td>художественный</td>\n",
       "      <td>уорнер бразерс, вилладж роудшоу филмз лтд</td>\n",
       "      <td>сша-австралия</td>\n",
       "      <td>хэрольд рэмис</td>\n",
       "      <td>джейн розенталь, пола уейнстейн</td>\n",
       "      <td>«16+»-для детей старше 16 лет</td>\n",
       "      <td>NaN</td>\n",
       "      <td>NaN</td>\n",
       "      <td>NaN</td>\n",
       "      <td>NaN</td>\n",
       "      <td>7.4</td>\n",
       "      <td>комедия,криминал</td>\n",
       "      <td>NaN</td>\n",
       "    </tr>\n",
       "    <tr>\n",
       "      <th>5057</th>\n",
       "      <td>анализируй то!</td>\n",
       "      <td>221054410</td>\n",
       "      <td>2010-05-25 12:00:00+00:00</td>\n",
       "      <td>художественный</td>\n",
       "      <td>уорнер бразерс, виллидж роадшоу пикчерз, эн-пи...</td>\n",
       "      <td>сша</td>\n",
       "      <td>гарольд реймис</td>\n",
       "      <td>джейн розенталь, паул уэйнстейн</td>\n",
       "      <td>«12+»-для детей старше 12 лет</td>\n",
       "      <td>NaN</td>\n",
       "      <td>NaN</td>\n",
       "      <td>NaN</td>\n",
       "      <td>NaN</td>\n",
       "      <td>6.8</td>\n",
       "      <td>комедия,криминал</td>\n",
       "      <td>NaN</td>\n",
       "    </tr>\n",
       "  </tbody>\n",
       "</table>\n",
       "</div>"
      ],
      "text/plain": [
       "                                                  title   puNumber  \\\n",
       "4629                   как жениться и остаться холостым  221154310   \n",
       "4630  иоанна-женщина на папском престоле /по роману ...  221154310   \n",
       "5056                                    анализируй это!  221054410   \n",
       "5057                                     анализируй то!  221054410   \n",
       "\n",
       "               show_start_date            type  \\\n",
       "4629 2010-12-17 12:00:00+00:00  художественный   \n",
       "4630 2010-12-17 12:00:00+00:00  художественный   \n",
       "5056 2010-05-25 12:00:00+00:00  художественный   \n",
       "5057 2010-05-25 12:00:00+00:00  художественный   \n",
       "\n",
       "                                            film_studio  \\\n",
       "4629  ше вам, скрипт ассосье, тэ фэ 1 фильм продюксь...   \n",
       "4630  константин фильм, а эр ди дегето фильм, дюне ф...   \n",
       "5056          уорнер бразерс, вилладж роудшоу филмз лтд   \n",
       "5057  уорнер бразерс, виллидж роадшоу пикчерз, эн-пи...   \n",
       "\n",
       "                          production_country        director  \\\n",
       "4629                                 франция    эрик лартиго   \n",
       "4630  германия-великобритания-италия-испания  зенке вортманн   \n",
       "5056                           сша-австралия   хэрольд рэмис   \n",
       "5057                                     сша  гарольд реймис   \n",
       "\n",
       "                                        producer  \\\n",
       "4629                     амандин било, алан шаба   \n",
       "4630  оливер бербен, дорис д.хайнце, фарук элтан   \n",
       "5056             джейн розенталь, пола уейнстейн   \n",
       "5057             джейн розенталь, паул уэйнстейн   \n",
       "\n",
       "                    age_restriction  refundable_support  \\\n",
       "4629  «16+»-для детей старше 16 лет                 NaN   \n",
       "4630  «16+»-для детей старше 16 лет                 NaN   \n",
       "5056  «16+»-для детей старше 16 лет                 NaN   \n",
       "5057  «12+»-для детей старше 12 лет                 NaN   \n",
       "\n",
       "      nonrefundable_support  budget financing_source  ratings  \\\n",
       "4629                    NaN     NaN              NaN      7.0   \n",
       "4630                    NaN     NaN              NaN      7.6   \n",
       "5056                    NaN     NaN              NaN      7.4   \n",
       "5057                    NaN     NaN              NaN      6.8   \n",
       "\n",
       "                       genres  box_office  \n",
       "4629        мелодрама,комедия         NaN  \n",
       "4630  драма,мелодрама,история         NaN  \n",
       "5056         комедия,криминал         NaN  \n",
       "5057         комедия,криминал         NaN  "
      ]
     },
     "execution_count": 30,
     "metadata": {},
     "output_type": "execute_result"
    }
   ],
   "source": [
    "data.loc[(data['puNumber'] == '221154310')|(data['puNumber'] == '221054410')]"
   ]
  },
  {
   "cell_type": "markdown",
   "metadata": {},
   "source": [
    "Под одним прокатным удостоверением есть разные фильмы - наверное это возможно, одна лицензия на несколько фильмов\n",
    "А вот когда под одной лицензией два одинаковых фильма, причем с разным рейтингом.... непонятно как это получается, но делать с этим ничего не буду - это один такой случай, статистку он не исказит даже если  это действительно дубликат"
   ]
  },
  {
   "cell_type": "markdown",
   "metadata": {},
   "source": [
    "Таким образом, был проведен поиск явных дубликатов:\n",
    "- приведены к нижнему регистру\n",
    "- удалены спецсимволы и пробелы\n",
    "но дубликатов выявлено не было"
   ]
  },
  {
   "cell_type": "code",
   "execution_count": 31,
   "metadata": {},
   "outputs": [
    {
     "data": {
      "text/plain": [
       "array(['открытый простор', 'особо важное задание', 'особо опасен', ...,\n",
       "       'щенячий патруль: скорей спешим на помощь!',\n",
       "       'машины песенки. серия испанские мотивы',\n",
       "       'машины песенки. серия когда цветут кактусы'], dtype=object)"
      ]
     },
     "execution_count": 31,
     "metadata": {},
     "output_type": "execute_result"
    }
   ],
   "source": [
    "data['title'].unique()"
   ]
  },
  {
   "cell_type": "code",
   "execution_count": 32,
   "metadata": {},
   "outputs": [
    {
     "data": {
      "text/plain": [
       "array(['художественный', 'анимационный', 'прочие', 'документальный',\n",
       "       'научно-популярный', 'музыкально-развлекательный'], dtype=object)"
      ]
     },
     "execution_count": 32,
     "metadata": {},
     "output_type": "execute_result"
    }
   ],
   "source": [
    "data['type'].unique()"
   ]
  },
  {
   "cell_type": "code",
   "execution_count": 33,
   "metadata": {},
   "outputs": [
    {
     "data": {
      "text/plain": [
       "array(['тачстоун пикчерз, кобальт пикчерз, бикон пикчерз, тиг продакшнз',\n",
       "       'киностудия мосфильм',\n",
       "       'юниверсал пикчерз, кикстарт продакшнз, марк платт продакшнз, рилейтивити медиа, спайгласс интертейнмент, стилкин филмз, топ кау продакшнз',\n",
       "       ...,\n",
       "       'дэниел гродник продакшнз, вандерфилм медиа корпорэйшн, импринт интертейнмент, вор хорс интертейнмент, пимиента',\n",
       "       'никелодеон анимейшн студиос, спин мастер',\n",
       "       'анимаккорд лтд., ооо студия анимаккорд'], dtype=object)"
      ]
     },
     "execution_count": 33,
     "metadata": {},
     "output_type": "execute_result"
    }
   ],
   "source": [
    "data['film_studio'].unique()"
   ]
  },
  {
   "cell_type": "code",
   "execution_count": 34,
   "metadata": {},
   "outputs": [
    {
     "data": {
      "text/plain": [
       "array(['сша', 'ссср', 'франция', 'ссср, венгрия',\n",
       "       'германия-великобритания', 'великобритания-италия', 'чехословакия',\n",
       "       'сша-франция-турция', 'новая зеландия', 'канада-франция-испания',\n",
       "       'сша-германия', 'сша-великобритания', 'великобритания',\n",
       "       'франция-мексика-сша', 'россия, казахстан, сша', 'ссср, швеция',\n",
       "       'ссср, франция, англия, куба, гдр', 'германия',\n",
       "       'великобритания-сша-германия-кнр',\n",
       "       'ссср, чсср, западный берлин, пнр', 'ссср, италия', 'гонконг, кнр',\n",
       "       'сша-франция', 'сша-япония-франция-великобритания',\n",
       "       'гонконг-сингапур-таиланд-великобритания', 'сша-канада',\n",
       "       'франция-италия-великобритания-сша', 'франция-сша',\n",
       "       'ирландия-великобритания-германия', 'чехия', 'сша-австралия',\n",
       "       'ссср, финляндия', 'сша-франция-великобритания-австрия',\n",
       "       'сша-бельгия', 'сша-ирландия-великобритания', 'великобритания-сша',\n",
       "       'люксембург-нидерланды-испания-великобритания-сша-италия',\n",
       "       'великобритания-франция-сша', 'новая зеландия-сша',\n",
       "       'сша-великобритания-чехия', 'канада-франция-великобритания',\n",
       "       'ирландия', 'великобритания-германия-сша',\n",
       "       'сша-франция-великобритания', 'япония', 'ссср, польша',\n",
       "       'франция-испания', 'канада-франция', 'германия-италия-сша',\n",
       "       'аргентина-бразилия', 'дания-швейцария-бельгия-франция',\n",
       "       'сша-испания', 'германия-сша',\n",
       "       'франция-австрия-германия-италия-сша', 'австрия',\n",
       "       'сша-канада-германия', 'ссср-швейцария-франция',\n",
       "       'россия-казахстан', 'гонконг', 'италия', 'сша-оаэ', 'россия',\n",
       "       'сша-франция-испания-великобритания', 'великобритания-франция',\n",
       "       'сша-италия-испания-аргентина', 'франция-великобритания',\n",
       "       'кнр-гонконг', 'франция-италия-швейцария', 'сша-новая зеландия',\n",
       "       'франция-бельгия', 'кнр', 'германия-великобритания-австрия',\n",
       "       'великобритания-израиль-франция-япония-сша', 'швеция', 'испания',\n",
       "       'дания', 'франция-бельгия-люксембург', 'сша-индия-оаэ',\n",
       "       'германия-канада-великобритания-швейцария-франция', 'мексика-чили',\n",
       "       'аргентина', 'бразилия', 'чили', 'австралия', 'португалия-франция',\n",
       "       'сша-юар', 'исландия-ирландия-германия', 'сша-индонезия',\n",
       "       'южная корея', 'мексика-испания-дания-сша', 'франция-италия',\n",
       "       'сша-венгрия-великобритания', 'бельгия-франция-италия',\n",
       "       'чехия-германия', 'германия-франция', 'сша-нидерланды', 'украина',\n",
       "       'великобритания-германия', 'сша-франция-испания', 'италия-франция',\n",
       "       'канада', 'швеция-франция-дания', 'германия-франция-польша',\n",
       "       'франция-великобритания-германия',\n",
       "       'сша-бразилия-франция-австралия-великобритания-германия',\n",
       "       'германия-австрия', 'германия-италия- шри-ланка',\n",
       "       'великобритания-испания', 'сша-великобритания-канада-швеция',\n",
       "       'босния и герцеговина-франция-великобритания-германия-словения-бельгия-сербия',\n",
       "       'великобритания-франция-италия-сша', 'испания-франция',\n",
       "       'великобритания-австралия-сша', 'норвегия-швеция-дания-германия',\n",
       "       'норвегия', 'швейцария', 'греция-германия-франция', 'норвения',\n",
       "       'южная корея-сша', 'чили-франция-сша', 'австрия-германия-франция',\n",
       "       'швеция-дания', 'великобритания-франция-бельгия-италия',\n",
       "       'франция-германия', 'грузия-франция-люксембург',\n",
       "       'сша-франция-великобритания-бразилия', 'сша-кнр',\n",
       "       'мексика-франция', 'сша-германия-гонконг-сингапур',\n",
       "       'финляндия-австрия-россия', 'испания-куба', 'великобритания-юар',\n",
       "       'великобритания-ирландия', 'израиль',\n",
       "       'бразилия-германия-порртугалия-франция', 'франция-канада-бельгия',\n",
       "       'испания-канада-япония', 'иран', 'швеция-куба',\n",
       "       'сша-великобритания-ирландия', 'гонконг-кнр', 'нидерланды',\n",
       "       'испания-канада', 'япония-великобритания',\n",
       "       'великобритания-норвегия-дания-германия',\n",
       "       'финляндия-франция-германия',\n",
       "       'мексика-франция-нидерланды-германия', 'сша-индия',\n",
       "       'сша-великобритания-индия', 'сша-канада-бельгия',\n",
       "       'республика узбекистан', 'турция',\n",
       "       'сербия-словения-хорватия-черногория-македония', 'киргизия',\n",
       "       'германия-нидерланды-беларусь-россия-латвия', 'индия',\n",
       "       'нидерланды-россия-германия',\n",
       "       'великобритания-нидерланды-франция-хорватия', 'канада-южная корея',\n",
       "       'великобритания-польша-кнр-индия-норвегия',\n",
       "       'япония-франция-сша-южная корея-турция',\n",
       "       'мексика-аргентина-великобритания', 'израиль-франция',\n",
       "       'польша-португалия-франция-великобритания', 'австралия-сша',\n",
       "       'франция-люксембург-бельгия', 'армения',\n",
       "       'бельгия-люксембург-франция-швейцария',\n",
       "       'сша-великобритания-канада', 'норвегия-швеция', 'кнр-гонконг-сша',\n",
       "       'сша-сингапур-малайзия-индонезия', 'германия-россия',\n",
       "       'япония-канада', 'финляндия-дания-германия-ирландия',\n",
       "       'франция-люксембург-германия-бельгия-швейцария-великобритания',\n",
       "       'канада-сша', 'сша-италия-испания', 'сша-швейцария-франция',\n",
       "       'испания-сша-колумбия', 'канада-юар', 'франция-россия',\n",
       "       'германия-финляндия-австралия', 'дания-швеция', 'бельгия',\n",
       "       'германия-франция-австрия', 'франция-индия', 'юар', 'франция-перу',\n",
       "       'франция-канада', 'республика беларусь',\n",
       "       'великобритания-австрия-франция-сша', 'сша-россия',\n",
       "       'сша-южная корея', 'канада-кнр',\n",
       "       'дания-швеция-италия-франция-германия',\n",
       "       'франция-италия-испания-венгрия', 'франция-германия-бельгия',\n",
       "       'франция-великобритания-чехия', 'румыния-франция-бельгия',\n",
       "       'болгария-франция-изриль',\n",
       "       'израиль-германия-польша-бельгия-франция-люксембург',\n",
       "       'россия, германия, франция, бельгия', 'индонезия',\n",
       "       'франция-португалия', 'великобритания-пуэрто-рико',\n",
       "       'ссср, фрг, западный берлин', 'россия, республика беларусь',\n",
       "       'франция-австрия', 'бельгия-нидерланды',\n",
       "       'великобритания-сша-индия', 'сша-великобритания-австралия',\n",
       "       'канада-франция-сша-оаэ-великобритания', 'сша-австралия-франция',\n",
       "       'дания-франция-бельгия-германия-великобритания',\n",
       "       'испания-аргентина', 'исландия-финляндия',\n",
       "       'россия-польша-голландия-словакия', 'дания-германия-швеция',\n",
       "       'южная корея-сша-канада', 'таиланд', 'сша-мальта', 'сша -германия',\n",
       "       'великобритания-германия-франция-кипр-сша', 'мексика',\n",
       "       'сша-украина', 'сша-финляндия-испания-великобритания-франция',\n",
       "       'австралия-великобритания',\n",
       "       'сша-канада-афганистан-бельгия-франция',\n",
       "       'сша-великобритания-германия-новая зеландия-бельгия-франция',\n",
       "       'ирландия-финляндия-бельгия-великобритания-сша-швейцария',\n",
       "       'малайзия-сша', 'германия-италия', 'сша-франция-бельгия-италия',\n",
       "       'франция-ирландия-швеция', 'азербайджан-россия',\n",
       "       'великобритания-италия-швейцария', 'сша-германия-великобритания',\n",
       "       'германия-бельгия-сша -франция', 'сша-китай', 'чили-испания',\n",
       "       'франция-швейцария', 'канада-испания',\n",
       "       'сша-румыния-великобритания', 'сша-япония', 'сша-россия-франция',\n",
       "       'парагвай', 'германия-канада', 'сша-канада-великобритания',\n",
       "       'финляндия-канада', 'уругвай-мексика-германия', 'сша-чили',\n",
       "       'германия-аргентина-нидерланды-чили', 'сша-канада-индонезия',\n",
       "       'армения-казахстан', 'финляндия', 'испания-италия-франция',\n",
       "       'бельгия-испания-канада-нидерланды',\n",
       "       'великобритания-франция-швеция-бельгия',\n",
       "       'мексика-эквадор-канада-сша-франция-малайзия-италия-аргентина-германия-индия',\n",
       "       'франция-бенльгия', 'индия-великобритания',\n",
       "       'япония-великобритания-франция', 'испания-уругвай-аргентина',\n",
       "       'франция-италия-бельгия-люксембург',\n",
       "       'франция-украина-грузия-армения', 'сербия-германия-венгрия',\n",
       "       'франция-польша', 'румыния-сша', 'россия-азербайджан',\n",
       "       'сша-нидерланды-бельгия-венгрия-греция-канада',\n",
       "       'германия-франция-люксембург', 'великобритания-сша-франция',\n",
       "       'сша-австралия-дания', 'бельгия-франция', 'сша-мексика',\n",
       "       'норвегия-азербайджан-россия-колумбия-великобритания-венгрия-румыния-франция-грузия',\n",
       "       'сща', 'бразилия-испания', 'россия, франция, латвия',\n",
       "       'нидерланды-сша-германия-канада-франция-ирландия-великобритания',\n",
       "       'уругвай-колумбия', 'сша-испания-болгария', 'армения-германия',\n",
       "       'сша-великобритания- франция-швеция', 'австралия-турция-сша',\n",
       "       'швеция-германия', 'польша-италия-россия', 'франция-бразилия',\n",
       "       'сша-канада-кнр', 'ссср, венгрия, чсср, гдр',\n",
       "       'бельгия-германия-люксембург', 'бразилия-сша',\n",
       "       'сша-великобритания-канада-кнр', 'франция-чили',\n",
       "       'франция-сша-великобритания-колумбия-бельгия-россия',\n",
       "       'дания-великобритания-юар', 'россия-сша-канада-люксембург',\n",
       "       'россия-республика кипр', 'германия-сша-швеция-франция',\n",
       "       'великобритания-германия-канада-юар', 'ирландия, канада',\n",
       "       'япония-великобритания-швейцария-ирландия-дания-франция-польша-австралия-канада',\n",
       "       'великобритания, канада', 'бельгия-сша',\n",
       "       'великобритания-сша-россия', 'россия-украина',\n",
       "       'германия-сша-великобритания-израиль', 'канада-германия',\n",
       "       'сша- ю.корея', 'индия-мексика',\n",
       "       'великобритания-франция-республика кипр-швейцария-сша-сербия',\n",
       "       'испания-аргентина-индия-сша',\n",
       "       'норвегия-исландия-сша-великобритания', 'турция-германя-франция',\n",
       "       'австралия-германия', 'мексика-испания',\n",
       "       'великобритания-сша-германия-бельгия', 'сша-чехия-франция',\n",
       "       'россия-италия', 'норвегия-дания-швеция',\n",
       "       'франция-швейцария-германия', 'грузия-украина',\n",
       "       'россия-эстония-финляндия-беларусь', 'сша-франция-юар',\n",
       "       'великобритания-сша-швейцария',\n",
       "       'мексика-нидерланды-германия-франция', 'сша-испания-франция',\n",
       "       'сша-великобритания-кнр', 'сша-франция-канада',\n",
       "       'япония, великобритания, австрия, германия, ю.корея',\n",
       "       'великобритания-ирландия-сша', 'бельгия-италия-франция',\n",
       "       'швейцария-германия-юар', 'великобритания-сша-германия',\n",
       "       'германия-исландия', 'испания-сша', 'хорватия',\n",
       "       'финляндия-исландия-швеция', 'канада-сша-германия-франция',\n",
       "       'сша-великобритания-испания', 'ирландия-великобритания',\n",
       "       'аргентина-испания', 'австрия-германия',\n",
       "       'германия-швейцария-франция-южная корея-сша', 'украина-нидерланды',\n",
       "       'венгрия-германия-швеция',\n",
       "       'германия-франция- польша-турция-канада-италия-россия',\n",
       "       'ссср, афганистан', 'ссср, монголия', 'россия-кипр',\n",
       "       'россия, грузия, испания',\n",
       "       'великобритания-нидерланды-германия-франция-бельгия-австрия',\n",
       "       'испания-великобритания-франция', 'дания-норвегия-великобритания',\n",
       "       'бельгия-франция-люксембург',\n",
       "       'италия-франция-швейцария-великобритания',\n",
       "       'франция-бельгия-великобритания-испания-германия-сша',\n",
       "       'швейцария-израиль-франция-великобритания',\n",
       "       'великобритания-сша-канада-нидерланды-франция', 'россия, италия',\n",
       "       'ссср, албания', 'россия, украина, республика беларусь, литва',\n",
       "       'финляндия-великобритания-германия', 'россия, украина, польша',\n",
       "       'франция-италия-бельгия-кнр',\n",
       "       'германия-бельгия-люксембург-ирландия', 'кнр-сингапур',\n",
       "       'франция-бельгия-великобритания-сша-нидерланды-канада',\n",
       "       'сша-россия-польша-германия-пуэрто рико', 'франция-бельгия-канада',\n",
       "       'мексика-сша', 'сша-гонконг-кнр', 'греция-россия',\n",
       "       'ирландия-дания-бельгия-люксембург-франция', 'эстония-россия',\n",
       "       'великобритания-исландия-испания-швейцария-сша',\n",
       "       'австралия-великобритания-бельгия-индия',\n",
       "       'швеция-германия-франция-норвегия',\n",
       "       'нидерланды-бельгия-германия-ирландия',\n",
       "       'нидерланды-великобритания-бельгия', 'сша-колумбия-испания',\n",
       "       'франция-испания-бельгия-панама',\n",
       "       'сша-великобритания-чехия-румыния',\n",
       "       'аргентина-уругвай-россия-германия-франция-нидерланды',\n",
       "       'швеция-франция-норвегия-дания', 'италия-франция-великобритания',\n",
       "       'великобритания, франция', 'австралия, сша', 'венесуэла',\n",
       "       'великобритания-сша-австралия-ирландия-германия-куба-канада',\n",
       "       'южная корея-кнр', 'аргентина-мексика-бразилия-франция-сша',\n",
       "       'швеция-сша', 'франция-германия-турция-катар', 'франция-китай',\n",
       "       'россия, германия, великобритания',\n",
       "       'великобритания-италия-испания', 'италия-россия',\n",
       "       'япония-кнр-южная корея', 'россия, германия', 'россия-ирландия',\n",
       "       'македония-франция-великобритания', 'франция-бразилия-италия',\n",
       "       'россия-сша', 'армения-россия', 'россия, румыния',\n",
       "       'франция- бельгия', 'грузия-франция', 'юар-сша',\n",
       "       'великобритания-сша-германия-канада-австралия', 'сша-ирландия',\n",
       "       'россия, республика кипр', 'германия-люксембург-франция',\n",
       "       'россия-франция', 'сша-нидерланды-финляндия-великобритания-италия',\n",
       "       'республика кипр', 'венгрия', 'франция-сша-норвегия-дания',\n",
       "       'германия-австрия-ирландия', 'сша-финляндия',\n",
       "       'италия-великобритания', 'россия, испания',\n",
       "       'сша-великобритания-болгария', 'великобритания-люксембург',\n",
       "       'индия-сша', 'сша-канада-россия-франция-чили-ирландия',\n",
       "       'грузия-россия',\n",
       "       'дания-австрия-ирландия-финляндия-норвегия-швеция-нидерланды',\n",
       "       'грузия', 'австралия-ирландия', 'великобритания-канада',\n",
       "       'италия-аргентина-словения',\n",
       "       'испания-франция-нидерланды-германия-бельгия-великобритания-канада',\n",
       "       'франция-чехия-бельгия', 'великобритания-франция-германия-сша',\n",
       "       'ирландия-великобритания-франция-сша-германия-нидерланды',\n",
       "       'сша-канада-япония-кнр', 'сша-великобритания-исландия',\n",
       "       'франция-германия-нидерланды',\n",
       "       'франция-германия-швеция-сша-чехия-словакия-великобритания-нидерланды',\n",
       "       'франция-канада-н.зеландия-сша-нидерланды-германия-швеция-россия',\n",
       "       'турция-сша',\n",
       "       'великобритания-сша-канада-бельгия-нидерланды-австрия-германия',\n",
       "       'израиль-франция-германия-палестина-сша-австрия-великобритания',\n",
       "       'аргентина-франция-испания', 'ссср, россия',\n",
       "       'великобритания-франция-италия-индия-дания-кнр-бангладеш-камбоджа-гаити-уганда',\n",
       "       'италия-франция-швейцария', 'ирландия-великобритания-канада',\n",
       "       'перу', 'сша-норвегия', 'китай-гонконг', 'сша-германия-кнр',\n",
       "       'великобритания-новая зеландия', 'франция-дания-швеция-кнр',\n",
       "       'сша-великобритания-германия-бельгия-дания',\n",
       "       'сша-франция-канада-германия-австралия-индия',\n",
       "       'ссср, румыния, франция', 'ссср, гдр',\n",
       "       'великобритания-франция-австрия-швеция', 'россия, таджикистан',\n",
       "       'нидерланды-бельгия-болгария', 'великобритания-канада-сша',\n",
       "       'франция-бельгия-испания', 'китай-гонконг-сша', 'сша-вьетнам',\n",
       "       'сша-германия-франция', 'германия-франция-бельгия', 'сша-италия',\n",
       "       'германия-дания-испания-швеция-канада-эстония-франция',\n",
       "       'княжество андорра-украина', 'германия-люксембург-бельгия',\n",
       "       'великобритания-россия-украина-сша',\n",
       "       'германия-бельгия-люксембург-норвегия',\n",
       "       'сша-австралия-новая зеландия-великобритания',\n",
       "       'сша-франция-канада-великобритания', 'испания-колумбия',\n",
       "       'великобритания-чехия-франция', 'россия, украина', 'исландия',\n",
       "       'великобритания-франция-венгрия',\n",
       "       'россия, франция, германия, бельгия', 'франция-македония',\n",
       "       'нидерланды-франция-германия-бельгия-швеция-великобритания',\n",
       "       'испания-сша-великобритания-канада', 'республика казахстан',\n",
       "       'франция-испания-дания-венгрия-швейцария', 'франция-кнр',\n",
       "       'сша-пуэрто-рико-франция', 'мексика-тайвань-сша',\n",
       "       'великобритания-испания-непал-индия-венгрия-гонконг-германия-дания-бахрейн',\n",
       "       'великобритания-аргентина-сша-франция-россия-испания', 'кнр-сша',\n",
       "       'италия-сша', 'финляндия-швеция-германия', 'канада- испания',\n",
       "       'франция-бельгия-чехия', 'франция-германия-сша', 'сша-дания',\n",
       "       'индия-кнр', 'чехия-великобритания-сша', 'сша-фрг-россия',\n",
       "       'ирландия-нидерланды-франция-сша-великобритания',\n",
       "       'россия, грузия, хорватия, испания', 'финляндия-швеция-норвегия',\n",
       "       'сербия-великобритания-сша', 'сша-великобритания-франция-гонконг',\n",
       "       'швейцария-франция', 'швейцария-великобритания', 'оаэ-сша',\n",
       "       'сша-франция-германия-канада-австралия', 'германия-австралия',\n",
       "       'иран, франция', 'сша-великобритания-новая зеландия',\n",
       "       'сша-колумбия', 'сша-франция-ирландия',\n",
       "       'великобритания-франция-бельгия', 'сша-великобритания-япония',\n",
       "       'сша-франция-германия', 'польша-ирландия',\n",
       "       'ирландия-великобритания-франция-сша',\n",
       "       'сша-бельгия-великобритания', 'ссср, внр',\n",
       "       'испания-франция-сша-великобритания-бельгия', 'франция-дания-сша',\n",
       "       'сша-гонконг', 'бразилия-к;анада',\n",
       "       'сша-ирландия-великобритания-франция', 'великобритания-сша-канада',\n",
       "       'польша-франция', 'канада-сша-нидерланды-великобритания-аргентина',\n",
       "       'великобритания-дания', 'франция-бельгия-япония',\n",
       "       'россия,  испания', 'франция -бельгия',\n",
       "       'сша-канада-германия-франция', 'сша-канада-франция',\n",
       "       'россия-германия', 'германия-австрия-франция-италия',\n",
       "       'сша-германия-канада', 'испания-мексика',\n",
       "       'сша-япония-канада-великобритания-германия-франция',\n",
       "       'сша -великобритания-австралия', 'россия-украина-германия',\n",
       "       'израиль-франция-великобритания-германия', 'корея',\n",
       "       'россия-болгария', 'германия-канада-франция-бельгия',\n",
       "       'германия-кения', 'франция-монако', 'франция-испания-швейцария',\n",
       "       'австрия-франция-германия', 'румыния',\n",
       "       'сша-великобритания-франция', 'канада-великобритания',\n",
       "       'канада-бразилия-япония', 'германия-дания-норвегия',\n",
       "       'дания-германия', 'ссср-италия', 'ссср-гдр-польша-италия',\n",
       "       'сша-испания-франция-великобритания', 'китай', 'мексика-аргентина',\n",
       "       'германия-великобритания-италия-испания',\n",
       "       'франция-германия-великобритания', 'россия-германия-швейцария',\n",
       "       'франция-австралия', 'голландия', 'россия-белоруссия',\n",
       "       'франция-испания-тайвань', 'сша-южная корея-новая зеландия',\n",
       "       'великобритания-венгрия', 'великобритания-франция-германия',\n",
       "       'франция-германия-италия', 'швеция-финляндия-франция-норвегия',\n",
       "       'германия-израиль', 'швеция-германия-дания-норвегия',\n",
       "       'франция-гонконг-ирландия', 'эстония', 'литва-россия-украина',\n",
       "       'германия-италия-франция', 'великобритания-австрия-германия',\n",
       "       'испания-мальта', 'франция-россия-румыния-италия-бельгия',\n",
       "       'россия-польша', 'сша-аргентина', 'израиль-сша-франция',\n",
       "       'сша-новая зеландия-япония', 'франция-чехия-великобритания',\n",
       "       'германия-франция-великобритания', 'сша-гонконг-китай',\n",
       "       'сша-великобритания-германия', 'сша-канада-австралия',\n",
       "       'япония-сша-франция', 'франция-испания-германия',\n",
       "       'сша-хорватия-босния-герцеговина',\n",
       "       'великобритания-чехия-франция-италия', 'сша-германия-нидерланды',\n",
       "       'германия-франция-канада',\n",
       "       'франция-грузия-германия-россия-украина-бельгия',\n",
       "       'великобритания-франция-италия', 'франция-италия-иран', 'греция',\n",
       "       'дания-сша', 'сша-германия-австралия', 'сша-канада-италия',\n",
       "       'сша-япония-германия',\n",
       "       'франция-великобритания-багамские острова-сша',\n",
       "       'швейцария-люксембург', 'швейцария-австрия', 'германия-швейцария',\n",
       "       'дания-швеция-франция-германия', 'польша', 'бразилия-канада-сша',\n",
       "       'нидерланды-россия', 'португалия', 'франция-аргентина',\n",
       "       'швеция-франция', 'франция-украина', 'германия-украина-нидерланды',\n",
       "       'италия-швейцария', 'латвия-россия',\n",
       "       'германия-франция-великобритания-сша', 'канада-италия',\n",
       "       'сша-объединенные арабские эмираты', 'сша-венгрия', 'малайзия',\n",
       "       'россия-германия-украина', 'сша-австралия-мексика',\n",
       "       'литва-венгрия', 'германия-китай', 'казахстан', 'республика корея',\n",
       "       'сша-германия-франция-великобритания-канада',\n",
       "       'бельгия-германия-люксембург-франция', 'франция-греция',\n",
       "       'италия-канада', 'сша-италия-греция',\n",
       "       'германия-сша-великобритания-ирландия', 'германия-нидерланды-юар',\n",
       "       'сша-япония-германия-великобритания-нидерланды',\n",
       "       'сша-япония-германия-великобритания',\n",
       "       'таиланд-великобритания-франция-германия-испания-нидерланды',\n",
       "       'германия-италия-швейцария',\n",
       "       'дания-швеция-великобритания-франция-германия-нидерланды-норвегия-финляндия',\n",
       "       'франция-великобритания-нидерланды-люксембург',\n",
       "       'нидерланды-великобритания-франция-италия-япония',\n",
       "       'великобритания-нидерланды-франция-сша', 'канада-мексика',\n",
       "       'сша, франция', 'канада-южная корея-сша',\n",
       "       'великобритания-франция-бельгия-сша', 'кнр-канада-сша',\n",
       "       'италия-франция-германия', 'швеция-германия-франция-дания',\n",
       "       'франция-сша-бельгия', 'украина-германия-латвия-эстония',\n",
       "       'австрия-люксембург', 'великобритания-кнр', 'монголия',\n",
       "       'франция-дания', 'швеция-дания-финляндия',\n",
       "       'сингапур-великобритания-индонезия-канада-сша',\n",
       "       'сша-германия-япония', 'таиланд-сша', 'франция-нидерланды',\n",
       "       'великобритания-румыния',\n",
       "       'великобритания-германия-нидерланды-дания',\n",
       "       'франция-германия-литва-нидерланды-россия', 'сша-юар-гонконг',\n",
       "       'австралия-колумбия', 'великобритания-польша',\n",
       "       'сша-великобритания-швеция', 'франция-швеция-дания-норвегия',\n",
       "       'болгария-сша', 'ссср, фрг', 'бельгия-нидерланды-франция',\n",
       "       'финляндия-германия', 'болгария',\n",
       "       'грузия-россия-украина-хорватия-германия', 'франция-люксембург',\n",
       "       'франция-германия-австрия', 'норвегия-сша', 'германия-швеция',\n",
       "       'дания-латвия-россия-сша', 'финляндия-польша', 'германия-бельгия',\n",
       "       'германия-сша-франция-испания',\n",
       "       'бельгия-германия-канада-франция-сша-великобритания',\n",
       "       'нидерланды-бельгия-люксембург', 'люксембург-бельгия-франция',\n",
       "       'великобритания, новая зеландия', 'бельгия, великобритания, сша',\n",
       "       'великобритания, австралия', 'исландия, бельгия',\n",
       "       'испания-швейцария-великобритания-германия-новая зеландия-нидерланды-канада',\n",
       "       'франция, бельгия', 'великобритания, сша', 'киргизия-россия',\n",
       "       'германия, сша', 'великобритания, сша, испания',\n",
       "       'италия-швейцария-германия', 'россия, армения',\n",
       "       'франция, германия', 'китай, канада, сша', 'германия, австралия',\n",
       "       'кнр, сша', 'сша, великобритания, люксембург',\n",
       "       'испания, ирландия, бельгия, франция',\n",
       "       'великобритания-гонконг-венгрия-сша-ирландия', 'сша-пуэрто рико',\n",
       "       'аргентина-испания-уругвай', 'израиль-германия-франция-швейцария',\n",
       "       'великобритания-мексика-сша', 'испания-болгария-сша',\n",
       "       'россия-словакия-чехия',\n",
       "       'швейцария-кнр-сша-россия-республика корея-великобритания',\n",
       "       'россия, нидерланды, финляндия',\n",
       "       'испания-бельгия-франция-португалия-великобритания',\n",
       "       'бразилия-португалия-франция', 'швеция-норвегия',\n",
       "       'франция-польша-бельгия', 'cша', 'китай, сша',\n",
       "       'италия, франция, германия', 'германия-австрия-франция',\n",
       "       'чехия-словакия-хорватия', 'россия, польша, финляндия',\n",
       "       'россия, латвия, чешская республика',\n",
       "       'франция-великобритания-камбоджа-сша-кнр', 'чехия-испания-сша',\n",
       "       'германия-люксембург-дания', 'великобритания-испания-германия',\n",
       "       'дания-исландия', 'германия, франция, великобритания',\n",
       "       'великобритания-испания-италия-латвия-франция-эстония',\n",
       "       'дания, швеция, великобритания, франция, германия, норвегия, финляндия, нидерланды, италия',\n",
       "       'польша-франция-великобритания', 'дания, норвегия, венгрия, чехия',\n",
       "       'дания-франция-германия-швеция', 'великобритания, швеция, сша',\n",
       "       'канада, франция, италия, швейцария, сша', 'сша, индия',\n",
       "       'сша-великобритания-германия-- швеция-канада', 'италия, франция',\n",
       "       'республика беларусь, германия, сша, россия',\n",
       "       'италия-швейцария-франция-германия',\n",
       "       'россия-франция-великобритания-латвия', 'россия-беларусь',\n",
       "       'франция-испания-румыния-сша-бельгия', 'россия, австрия',\n",
       "       'ирландия-великобритания-сша',\n",
       "       'швейцария, великобритания, франция, сша, ирландия',\n",
       "       'мексика, франция, германия, дания, швеция', 'нидерланды, бельгия',\n",
       "       'швеция, норвегия, финляндия, франция', 'испания, франция, италия',\n",
       "       'испания-франция-греция-индия-сша-россия-великобритания',\n",
       "       'великобритания-япония-сша',\n",
       "       'дания, канада, норвегия, австралия, сша', 'аргентина, испания',\n",
       "       'россия, германия, казахстан, польша, китай',\n",
       "       'португалия, франция, польша, сша', 'сша-канада-аргентина',\n",
       "       'ливан-сша', 'сша, великобритания', 'япония-сша', 'сша, гонконг',\n",
       "       'франция-россия-швейцария-румыния-венгрия', 'россия, сербия',\n",
       "       'сша-болгария-мексика', 'сша-великобритания-швейцария-франция',\n",
       "       'таиланд-кнр-сша',\n",
       "       'великобритания, нидерланды, польша, швейцария, франция',\n",
       "       'ирландия-сша', 'германия-франция-великобритания-польша-сша',\n",
       "       'сша-австралия-индия', 'великобритания-израиль',\n",
       "       'великобритания-норвегия-кения-хорватия',\n",
       "       'сша-бразилия-великобритания-канада', 'германия, бельгия',\n",
       "       'австралия, канада', 'сша, великобритания, франция',\n",
       "       'кения, германия', 'нидерланды, бельгия, люксембург', 'колумбия',\n",
       "       'латвия-франция', 'ирландия, великобритания',\n",
       "       'франция-израиль-германия', 'швеция, франция, великобритания',\n",
       "       'бельгия-люксембург', 'германия-бельгия-великобритания',\n",
       "       'испания, франция, великобритания, дания, бельгия, германия',\n",
       "       'румыния, юар, иран, франция, канада, великобритания',\n",
       "       'германия, франция', 'сша, япония',\n",
       "       'сша, великобритания, ирландия, люксембург', 'республика армения',\n",
       "       'сша, франция, япония', 'япония, сша', 'канада, сша',\n",
       "       'республика кипр-россия',\n",
       "       'дания-франция-италия-бельгия-нидерланды', 'россия-грузия',\n",
       "       'италия, германия', 'норвегия, швеция, дания',\n",
       "       'республика кипр, россия', 'кнр, индия, гонконг, сша',\n",
       "       'израиль, украина', 'сша, россия', 'сша-кнр-индия-ю.корея',\n",
       "       'сша-швеция', 'франция, канада', 'россия-китай',\n",
       "       'канада, великобритания', 'сша, германия',\n",
       "       'канада, сша, каймановы острова',\n",
       "       'бразилия, уругвай, дания, норвегия, чили, швеция',\n",
       "       'пуэрто-рико, великобритания, сша', 'уругвай-аргентина-испания',\n",
       "       'сша-великобритания-италия-израиль-сербия-индия',\n",
       "       'сша-канада-франция-индия', 'великобритания-россия-кнр',\n",
       "       'франция, новая зеландия', 'франция, люксембург, бельгия',\n",
       "       'канада, сша, норвегия', 'италия, испания',\n",
       "       'испания-германия-нидерланды', 'бразилия-сша-кнр',\n",
       "       'великобритания, германия, дания, сша', '2019',\n",
       "       'италия-фрация-бразилия-германия', 'норвегия-швеция-россия',\n",
       "       'великобритания, япония, сша', 'сша, канада', 'бельгия, канада',\n",
       "       'франция-финляндия', 'колумбия-сша',\n",
       "       'великобритания, франция, бельгия', 'норвегия-нидерланды',\n",
       "       'великобритания, канада, сша', 'япония, великобритания',\n",
       "       'италия-бельгия-франция', 'россия, бельгия, финляндия',\n",
       "       'сша, украина', 'франция, норвегия',\n",
       "       'великобритания, южная корея, канада, сша, индия, китай, япония',\n",
       "       'канада-норвегия', 'германия, россия',\n",
       "       'польша-франция-испания-бразилия-швеция',\n",
       "       'австрия, великобритания, германия', 'франция-сенегал-бельгия',\n",
       "       'франция, бельгия, люксембург', 'финляндия, латвия', 'пакистан',\n",
       "       'германия, франция, сша', 'германия-великобритания-сша',\n",
       "       'кнр-франция', 'дания, норвегия, швеция, исландия',\n",
       "       'республика кипр, сша, россия', 'новая зеландия-кнр',\n",
       "       'дания-канада-швеция-франция-германия-великобритания-сша'],\n",
       "      dtype=object)"
      ]
     },
     "execution_count": 34,
     "metadata": {},
     "output_type": "execute_result"
    }
   ],
   "source": [
    "data['production_country'].unique()"
   ]
  },
  {
   "cell_type": "code",
   "execution_count": 35,
   "metadata": {},
   "outputs": [
    {
     "data": {
      "text/plain": [
       "array(['кевин костнер', 'е.матвеев', 'тимур бекмамбетов', ...,\n",
       "       'ник пауэлл', 'а.беляев', 'и.трусов'], dtype=object)"
      ]
     },
     "execution_count": 35,
     "metadata": {},
     "output_type": "execute_result"
    }
   ],
   "source": [
    "data['director'].unique()"
   ]
  },
  {
   "cell_type": "code",
   "execution_count": 36,
   "metadata": {},
   "outputs": [
    {
     "data": {
      "text/plain": [
       "array(['дэвид валдес, кевин костнер, джейк эбертс', nan,\n",
       "       'джим лемли, джейсон нетер, марк е.платт, яйн смит', ...,\n",
       "       'поппи бегум, ник пойнц',\n",
       "       'джефф боулер, дэниэл гродник, луильо руис, брэт саксон, кирк шоу',\n",
       "       'дженнифер додж'], dtype=object)"
      ]
     },
     "execution_count": 36,
     "metadata": {},
     "output_type": "execute_result"
    }
   ],
   "source": [
    "data['producer'].unique()"
   ]
  },
  {
   "cell_type": "code",
   "execution_count": 37,
   "metadata": {},
   "outputs": [
    {
     "data": {
      "text/plain": [
       "array(['«18+»-запрещено для детей', '«6+»-для детей старше 6 лет',\n",
       "       '«12+»-для детей старше 12 лет', '«16+»-для детей старше 16 лет',\n",
       "       '«0+»-для любой зрительской аудитории'], dtype=object)"
      ]
     },
     "execution_count": 37,
     "metadata": {},
     "output_type": "execute_result"
    }
   ],
   "source": [
    "data['age_restriction'].unique()"
   ]
  },
  {
   "cell_type": "code",
   "execution_count": 38,
   "metadata": {},
   "outputs": [
    {
     "data": {
      "text/plain": [
       "array(['боевик,драма,мелодрама', 'драма,военный',\n",
       "       'фантастика,боевик,триллер', 'драма', 'мелодрама,комедия',\n",
       "       'мюзикл,мелодрама,комедия', 'комедия,криминал',\n",
       "       'боевик,триллер,детектив', 'боевик,драма,приключения',\n",
       "       'драма,спорт', 'триллер,драма,мелодрама', 'комедия,мелодрама',\n",
       "       'драма,мелодрама,комедия', 'драма,мелодрама', 'драма,история',\n",
       "       'драма,мелодрама,семейный', 'комедия,мелодрама,криминал',\n",
       "       'комедия', 'боевик,драма,криминал', 'драма,комедия',\n",
       "       'ужасы,фантастика,комедия', 'мультфильм,короткометражка,мелодрама',\n",
       "       'драма,криминал', 'мультфильм,фантастика,фэнтези',\n",
       "       'триллер,драма,криминал', 'драма,мелодрама,биография',\n",
       "       'драма,комедия,военный', 'фантастика,драма,детектив',\n",
       "       'мюзикл,семейный', 'военный,приключения,драма',\n",
       "       'документальный,драма', 'драма,биография,история',\n",
       "       'боевик,триллер,драма', 'фэнтези,боевик',\n",
       "       'боевик,комедия,криминал', 'мюзикл,комедия,детский',\n",
       "       'комедия,мелодрама,драма', 'мультфильм,фэнтези,комедия',\n",
       "       'комедия,история', 'мелодрама', 'драма,биография,музыка',\n",
       "       'фэнтези,драма,мелодрама', 'триллер,военный',\n",
       "       'драма,мелодрама,военный', 'мюзикл,драма,мелодрама',\n",
       "       'мюзикл,комедия', 'мультфильм,приключения,семейный',\n",
       "       'ужасы,триллер', 'боевик,драма,военный', 'драма,боевик',\n",
       "       'мультфильм,драма,комедия', 'триллер,криминал',\n",
       "       'военный,биография,драма', 'комедия,семейный', 'военный',\n",
       "       'драма,семейный,биография', 'фэнтези,приключения,семейный',\n",
       "       'драма,криминал,биография', 'ужасы,триллер,детектив',\n",
       "       'боевик,история,драма', 'ужасы,триллер,драма',\n",
       "       'драма,криминал,спорт', 'документальный,короткометражка',\n",
       "       'триллер,драма', 'криминал,детектив,приключения',\n",
       "       'драма,комедия,криминал', 'драма,комедия,вестерн',\n",
       "       'драма,мелодрама,детектив', 'мелодрама,биография',\n",
       "       'фэнтези,мелодрама,драма', 'драма,мелодрама,история',\n",
       "       'комедия,приключения,история', 'приключения', 'драма,семейный',\n",
       "       'криминал,детектив', 'мультфильм,короткометражка,ужасы',\n",
       "       'фантастика,триллер,драма', 'фэнтези,мелодрама,комедия',\n",
       "       'драма,биография', 'комедия,криминал,история',\n",
       "       'триллер,драма,детектив', 'фантастика,комедия,приключения',\n",
       "       'фэнтези,семейный', 'ужасы,фантастика,боевик',\n",
       "       'мелодрама,криминал', 'комедия,приключения,мелодрама',\n",
       "       'боевик,триллер,приключения', 'боевик,приключения',\n",
       "       'боевик,триллер,криминал', 'документальный,военный,история',\n",
       "       'драма,музыка', 'боевик,драма', 'приключения,боевик',\n",
       "       'драма,военный,биография', 'триллер,драма,приключения',\n",
       "       'аниме,мультфильм,фэнтези', 'триллер,детектив,драма',\n",
       "       'боевик,триллер,мелодрама', 'боевик,история',\n",
       "       'приключения,история', 'драма,комедия,приключения',\n",
       "       'фэнтези,комедия,приключения', 'драма,вестерн',\n",
       "       'документальный,музыка', 'мелодрама,драма',\n",
       "       'триллер,криминал,детектив', 'ужасы', 'боевик,комедия,приключения',\n",
       "       'мультфильм,фэнтези,боевик', 'боевик,фэнтези,драма',\n",
       "       'фэнтези,драма', 'фэнтези,боевик,комедия',\n",
       "       'приключения,детский,комедия', 'документальный',\n",
       "       'боевик,триллер,комедия', 'мелодрама,комедия,криминал',\n",
       "       'драма,детектив', 'мюзикл,ужасы,триллер', 'детектив,триллер,ужасы',\n",
       "       'ужасы,фэнтези', 'ужасы,фэнтези,триллер', 'мультфильм,драма',\n",
       "       'ужасы,боевик,фантастика', 'боевик', 'фантастика,боевик',\n",
       "       'мелодрама,комедия,приключения', 'триллер,детектив',\n",
       "       'мюзикл,мелодрама,фэнтези', 'криминал', 'триллер,комедия,криминал',\n",
       "       'боевик,приключения,триллер', 'триллер,драма,военный',\n",
       "       'комедия,семейный,музыка', 'комедия,фантастика,мелодрама',\n",
       "       'фантастика,триллер,криминал', 'комедия,драма', 'боевик,военный',\n",
       "       'ужасы,фантастика,триллер', 'фантастика,драма,мелодрама',\n",
       "       'фэнтези,драма,детектив', 'боевик,триллер', 'боевик,драма,история',\n",
       "       'мультфильм,мюзикл,фэнтези', 'для взрослых,драма,мелодрама',\n",
       "       'мультфильм,боевик,детектив', 'фантастика,мелодрама,боевик',\n",
       "       'ужасы,фантастика,детектив', 'фантастика,боевик,приключения',\n",
       "       'мелодрама,комедия,спорт', 'комедия,боевик,приключения',\n",
       "       'документальный,приключения', 'мультфильм,короткометражка,детский',\n",
       "       'комедия,приключения', 'ужасы,драма', 'ужасы,фэнтези,боевик',\n",
       "       'мультфильм,фэнтези,детский', 'мюзикл,боевик,драма',\n",
       "       'семейный,комедия,драма', 'концерт,музыка', 'фэнтези,боевик,драма',\n",
       "       'драма,комедия,музыка', 'фантастика,фэнтези,боевик',\n",
       "       'фэнтези,комедия,семейный', 'фэнтези,драма,комедия',\n",
       "       'мультфильм,мюзикл,драма', 'триллер', 'боевик,криминал,триллер',\n",
       "       'мультфильм,приключения,драма', 'мелодрама,музыка',\n",
       "       'документальный,музыка,концерт', 'мультфильм,семейный',\n",
       "       'мультфильм,комедия,приключения', 'мультфильм,комедия,семейный',\n",
       "       'фантастика,драма', 'фэнтези,боевик,приключения',\n",
       "       'мультфильм,приключения', 'драма,военный,история', 'история',\n",
       "       'драма,приключения,военный',\n",
       "       'документальный,короткометражка,семейный',\n",
       "       'мелодрама,история,триллер', 'ужасы,детектив',\n",
       "       'мюзикл,комедия,приключения', 'драма,спорт,биография',\n",
       "       'фантастика,боевик,комедия', 'фантастика,приключения,детектив',\n",
       "       'короткометражка,драма,военный', 'драма,мультфильм',\n",
       "       'приключения,семейный', 'детектив', 'триллер,приключения',\n",
       "       'аниме,мультфильм,боевик', 'драма,комедия,биография',\n",
       "       'драма,комедия,спорт', 'боевик,мелодрама,комедия',\n",
       "       'семейный,комедия', 'фэнтези,боевик,триллер',\n",
       "       'документальный,фэнтези,семейный', 'фантастика,фэнтези,драма',\n",
       "       'ужасы,комедия,фэнтези', 'документальный,биография,музыка',\n",
       "       'фантастика,боевик,фэнтези', 'ужасы,боевик,триллер',\n",
       "       'комедия,криминал,семейный', 'приключения,драма',\n",
       "       'криминал,драма,триллер', 'драма,детектив,криминал',\n",
       "       'фэнтези,приключения,комедия', 'комедия,спорт',\n",
       "       'мюзикл,фэнтези,мелодрама', 'мультфильм,фэнтези,приключения',\n",
       "       'фантастика,фэнтези,приключения', 'фэнтези',\n",
       "       'фэнтези,приключения,боевик', 'фантастика,боевик,драма',\n",
       "       'криминал,драма', 'криминал,триллер,драма',\n",
       "       'драма,мелодрама,приключения', 'детский,комедия',\n",
       "       'фантастика,драма,боевик', 'мультфильм,семейный,фэнтези',\n",
       "       'концерт,музыка,документальный', 'ужасы,комедия,приключения',\n",
       "       'драма,мелодрама,криминал', 'ужасы,фантастика,фэнтези',\n",
       "       'боевик,комедия', 'мультфильм,фантастика,комедия', 'триллер,ужасы',\n",
       "       'мультфильм,мюзикл,комедия', 'мелодрама,фэнтези,триллер',\n",
       "       'детский,приключения,комедия', 'комедия,детектив',\n",
       "       'аниме,мультфильм,мелодрама', 'документальный,драма,семейный',\n",
       "       'документальный,биография,история', 'военный,боевик,драма',\n",
       "       'ужасы,комедия', 'комедия,приключения,семейный',\n",
       "       'приключения,биография,история', 'детский,приключения,семейный',\n",
       "       'спорт,драма,биография', 'аниме,мультфильм,ужасы',\n",
       "       'фантастика,боевик,криминал', 'мюзикл,драма',\n",
       "       'драма,криминал,детектив', 'аниме,мультфильм,драма',\n",
       "       'драма,триллер,приключения', 'триллер,криминал,драма',\n",
       "       'фэнтези,комедия,драма', 'мультфильм,комедия',\n",
       "       'драма,комедия,история', 'комедия,биография,история',\n",
       "       'мультфильм,фантастика,приключения', 'аниме,мультфильм,фантастика',\n",
       "       'мультфильм,фэнтези,семейный', 'мультфильм,боевик,комедия',\n",
       "       'комедия,криминал,спорт', 'документальный,мюзикл',\n",
       "       'мелодрама,комедия,музыка', 'биография',\n",
       "       'триллер,криминал,комедия', 'фантастика,драма,комедия',\n",
       "       'комедия,драма,мелодрама', 'фантастика,приключения,боевик',\n",
       "       'мультфильм,фэнтези,драма', 'триллер,комедия',\n",
       "       'драма,приключения,биография', 'фантастика,комедия',\n",
       "       'мелодрама,драма,комедия', 'боевик,криминал',\n",
       "       'драма,криминал,боевик', 'мультфильм,мюзикл,детский',\n",
       "       'драма,фэнтези', 'документальный,семейный',\n",
       "       'фэнтези,драма,приключения', 'ужасы,комедия,фантастика',\n",
       "       'драма,мелодрама,музыка', 'фэнтези,драма,семейный',\n",
       "       'триллер,мелодрама,драма', 'вестерн,боевик,драма',\n",
       "       'мультфильм,короткометражка,комедия', 'триллер,драма,история',\n",
       "       'ужасы,фантастика', 'ужасы,мелодрама,комедия',\n",
       "       'фэнтези,приключения', 'фантастика,триллер',\n",
       "       'ужасы,боевик,фэнтези', 'мультфильм,комедия,детский',\n",
       "       'триллер,драма,биография', 'мультфильм,ужасы,фэнтези',\n",
       "       'мультфильм,ужасы,фантастика', 'ужасы,боевик,комедия',\n",
       "       'драма,биография,спорт', 'мультфильм', 'мелодрама,комедия,драма',\n",
       "       'приключения,фантастика,семейный', 'комедия,криминал,детектив',\n",
       "       'ужасы,триллер,комедия', 'криминал,комедия,триллер',\n",
       "       'семейный,приключения,комедия', 'мультфильм,драма,приключения',\n",
       "       'ужасы,драма,детектив', 'драма,приключения,фэнтези',\n",
       "       'фантастика,мультфильм,драма', 'драма,триллер,детектив',\n",
       "       'драма,история,музыка', 'детский', 'триллер,боевик,криминал',\n",
       "       'драма,фантастика', 'комедия,драма,семейный',\n",
       "       'боевик,драма,комедия', 'комедия,ужасы',\n",
       "       'драма,фантастика,триллер', 'фантастика,драма,триллер',\n",
       "       'история,спорт,драма', 'документальный,биография',\n",
       "       'биография,история', 'спорт,драма', 'боевик,фэнтези',\n",
       "       'мультфильм,фэнтези', 'документальный,комедия,история',\n",
       "       'криминал,комедия,боевик', 'фэнтези,приключения,драма',\n",
       "       'музыка,концерт', 'триллер,драма,боевик',\n",
       "       'комедия,криминал,боевик', 'комедия,фантастика,боевик',\n",
       "       'вестерн,приключения,боевик', 'аниме,мультфильм,комедия',\n",
       "       'детектив,криминал,триллер', 'мультфильм,комедия,криминал',\n",
       "       'комедия,приключения,детектив', 'мелодрама,фантастика,драма',\n",
       "       'драма,комедия,семейный', 'приключения,фантастика',\n",
       "       'триллер,детектив,ужасы', 'комедия,приключения,фэнтези',\n",
       "       'фэнтези,триллер,драма', 'мелодрама,приключения,боевик',\n",
       "       'детектив,триллер,криминал', 'фэнтези,семейный,мелодрама',\n",
       "       'военный,драма', 'документальный,приключения,семейный',\n",
       "       'криминал,комедия,драма', 'комедия,фантастика',\n",
       "       'история,биография,драма', 'мелодрама,драма,музыка',\n",
       "       'боевик,мелодрама', 'комедия,криминал,триллер',\n",
       "       'детектив,триллер,боевик', 'комедия,боевик,криминал',\n",
       "       'комедия,вестерн', 'детский,мелодрама,семейный',\n",
       "       'короткометражка,мультфильм', 'комедия,фэнтези',\n",
       "       'фантастика,драма,ужасы', 'триллер,драма,ужасы',\n",
       "       'драма,фэнтези,история', 'комедия,драма,короткометражка',\n",
       "       'фэнтези,триллер,приключения', 'семейный',\n",
       "       'комедия,криминал,драма', 'комедия,фэнтези,ужасы',\n",
       "       'короткометражка,комедия,криминал', 'фантастика',\n",
       "       'триллер,ужасы,драма', 'мелодрама,драма,фэнтези',\n",
       "       'фантастика,приключения,драма', 'боевик,детектив',\n",
       "       'военный,драма,боевик', 'комедия,мелодрама,фэнтези',\n",
       "       'вестерн,криминал,триллер', 'драма,история,триллер',\n",
       "       'мультфильм,фантастика,боевик', 'детектив,драма,криминал',\n",
       "       'приключения,история,драма', 'мультфильм,семейный,детский',\n",
       "       'биография,драма,история', 'триллер,криминал,боевик',\n",
       "       'история,мелодрама', 'приключения,детский',\n",
       "       'музыка,приключения,концерт', 'военный,драма,комедия',\n",
       "       'фэнтези,боевик,военный', 'фантастика,детектив,боевик',\n",
       "       'мультфильм,фэнтези,история', 'биография,мелодрама,драма',\n",
       "       'документальный,биография,спорт', 'фантастика,комедия,детектив',\n",
       "       'музыка,концерт,документальный', 'триллер,боевик,приключения',\n",
       "       'триллер,драма,комедия', 'детектив,криминал',\n",
       "       'мультфильм,приключения,фэнтези', 'мелодрама,приключения',\n",
       "       'комедия,музыка', 'мелодрама,комедия,ужасы',\n",
       "       'драма,криминал,приключения', 'приключения,детектив,мелодрама',\n",
       "       'драма,криминал,фантастика', 'фэнтези,драма,биография',\n",
       "       'детектив,фантастика,криминал', 'триллер,драма,фантастика',\n",
       "       'ужасы,комедия,боевик', 'мелодрама,история', 'триллер,боевик',\n",
       "       'фильм-нуар,триллер,детектив', 'комедия,криминал,приключения',\n",
       "       'ужасы,триллер,мелодрама', 'военный,драма,история',\n",
       "       'драма,спорт,история', 'документальный,драма,история',\n",
       "       'триллер,мелодрама,детектив', 'детский,семейный',\n",
       "       'мюзикл,семейный,драма', 'биография,военный,драма',\n",
       "       'мультфильм,детский', 'боевик,криминал,драма',\n",
       "       'детектив,фэнтези,триллер', 'драма,боевик,приключения',\n",
       "       'драма,мелодрама,фэнтези', 'детектив,история,драма',\n",
       "       'фэнтези,боевик,ужасы', 'ужасы,фэнтези,мелодрама',\n",
       "       'ужасы,приключения', 'боевик,фантастика',\n",
       "       'ужасы,мелодрама,детектив', 'фантастика,триллер,приключения',\n",
       "       'боевик,приключения,история', 'приключения,боевик,триллер',\n",
       "       'детектив,ужасы,криминал', 'семейный,фэнтези', 'мюзикл,мелодрама',\n",
       "       'драма,военный,приключения', 'фантастика,драма,приключения',\n",
       "       'приключения,семейный,драма', 'история,драма,боевик',\n",
       "       'мультфильм,приключения,комедия', 'криминал,драма,комедия',\n",
       "       'ужасы,комедия,драма', 'комедия,семейный,приключения',\n",
       "       'мюзикл,фэнтези,драма', 'драма,вестерн,боевик',\n",
       "       'фантастика,триллер,детектив', 'драма,история,детектив',\n",
       "       'короткометражка,биография', 'мультфильм,приключения,фантастика',\n",
       "       'комедия,триллер', 'мультфильм,приключения,детектив',\n",
       "       'драма,триллер', 'ужасы,триллер,криминал',\n",
       "       'документальный,криминал,военный', 'ужасы,фэнтези,драма',\n",
       "       'фэнтези,комедия', 'ужасы,фэнтези,комедия', 'комедия,музыка,драма',\n",
       "       'мультфильм,приключения,военный', 'мюзикл,фэнтези,комедия',\n",
       "       'боевик,фантастика,приключения', 'триллер,ужасы,криминал',\n",
       "       'ужасы,фантастика,драма', 'фантастика,приключения,семейный',\n",
       "       'короткометражка,музыка', 'мелодрама,детектив,комедия',\n",
       "       'документальный,триллер,биография', 'боевик,фантастика,триллер',\n",
       "       'спорт,драма,комедия', 'фэнтези,мелодрама,приключения',\n",
       "       'триллер,детектив,криминал', 'короткометражка,мелодрама',\n",
       "       'мультфильм,семейный,спорт', 'комедия,фэнтези,мелодрама',\n",
       "       'драма,спорт,комедия', 'история,драма,мелодрама',\n",
       "       'драма,боевик,криминал', 'драма,комедия,триллер',\n",
       "       'аниме,мультфильм', 'документальный,ужасы',\n",
       "       'мультфильм,короткометражка', 'драма,история,военный',\n",
       "       'мультфильм,короткометражка,фэнтези', 'комедия,военный,музыка',\n",
       "       'биография,история,драма', 'ужасы,драма,мелодрама',\n",
       "       'драма,комедия,детектив', 'комедия,семейный,фантастика',\n",
       "       'мультфильм,семейный,комедия', 'история,детектив',\n",
       "       'приключения,мелодрама,детектив', 'мюзикл,комедия,мелодрама',\n",
       "       'драма,фантастика,ужасы', 'мультфильм,ужасы,комедия',\n",
       "       'для взрослых,драма,комедия', 'ужасы,комедия,музыка',\n",
       "       'комедия,история,драма', 'семейный,детектив,детский',\n",
       "       'короткометражка,драма', 'документальный,новости,драма',\n",
       "       'триллер,мелодрама', 'ужасы,драма,вестерн',\n",
       "       'мюзикл,фэнтези,семейный', 'вестерн,драма,триллер',\n",
       "       'приключения,вестерн,боевик', 'семейный,комедия,музыка',\n",
       "       'боевик,драма,вестерн', 'ужасы,драма,триллер',\n",
       "       'фантастика,мелодрама', 'комедия,криминал,биография',\n",
       "       'семейный,мультфильм,комедия', 'комедия,драма,криминал',\n",
       "       'фантастика,боевик,военный', 'приключения,биография,драма',\n",
       "       'приключения,триллер,биография', 'криминал,боевик,триллер',\n",
       "       'боевик,вестерн,приключения', 'история,драма',\n",
       "       'фантастика,фэнтези,комедия', 'мультфильм,детский,комедия',\n",
       "       'мелодрама,комедия,триллер', 'документальный,боевик,приключения',\n",
       "       'драма,приключения', 'мелодрама,военный,драма', 'триллер,фэнтези',\n",
       "       'драма,триллер,биография', 'фэнтези,боевик,семейный',\n",
       "       'фантастика,триллер,комедия', 'документальный,фэнтези',\n",
       "       'комедия,мультфильм,фантастика', 'криминал,биография,комедия',\n",
       "       'биография,спорт,драма', 'приключения,военный',\n",
       "       'мультфильм,семейный,драма', 'документальный,фэнтези,драма',\n",
       "       'комедия,боевик,фантастика', 'семейный,приключения,военный',\n",
       "       'триллер,ужасы,детектив', 'короткометражка',\n",
       "       'мелодрама,триллер,история', 'документальный,история',\n",
       "       'мультфильм,приключения,детский', 'драма,комедия,мультфильм',\n",
       "       'военный,детектив', 'семейный,приключения,документальный',\n",
       "       'детский,фэнтези', 'документальный,комедия', 'комедия,биография',\n",
       "       'криминал,комедия', 'спорт,мелодрама,криминал',\n",
       "       'фантастика,комедия,боевик', 'боевик,приключения,детектив',\n",
       "       'детектив,триллер,драма', 'документальный,фантастика',\n",
       "       'мелодрама,комедия,семейный', 'мультфильм,мелодрама,комедия',\n",
       "       'драма,спорт,семейный', 'фантастика,мелодрама,фэнтези',\n",
       "       'мюзикл,комедия,музыка', 'фантастика,триллер,мелодрама',\n",
       "       'приключения,комедия,фэнтези', 'фэнтези,боевик,детектив',\n",
       "       'фэнтези,боевик,мелодрама', 'комедия,военный',\n",
       "       'драма,спорт,боевик', 'мультфильм,боевик,триллер',\n",
       "       'мелодрама,семейный', 'фантастика,боевик,детектив',\n",
       "       'драма,приключения,история', 'документальный,драма,музыка',\n",
       "       'фантастика,триллер,боевик', 'фэнтези,боевик,вестерн',\n",
       "       'драма,комедия,мелодрама', 'ужасы,фэнтези,приключения',\n",
       "       'триллер,фэнтези,драма', 'мультфильм,мюзикл,мелодрама',\n",
       "       'ужасы,триллер,фантастика', 'триллер,мелодрама,комедия',\n",
       "       'ужасы,комедия,семейный', 'комедия,приключения,музыка',\n",
       "       'документальный,комедия,криминал', 'мелодрама,детектив',\n",
       "       'детский,приключения,фантастика', 'короткометражка,боевик,драма',\n",
       "       'боевик,комедия,семейный', 'фантастика,боевик,мелодрама',\n",
       "       'фэнтези,триллер,мелодрама', 'драма,детектив,история',\n",
       "       'боевик,криминал,детектив', 'мультфильм,фэнтези,мелодрама',\n",
       "       'мелодрама,драма,боевик', 'драма,вестерн,приключения',\n",
       "       'драма,приключения,мелодрама', 'фэнтези,боевик,криминал',\n",
       "       'фантастика,комедия,семейный', 'детский,фэнтези,приключения',\n",
       "       'ужасы,боевик', 'фантастика,мелодрама,комедия',\n",
       "       'семейный,спорт,боевик', 'триллер,биография,драма',\n",
       "       'ужасы,драма,комедия', 'мультфильм,фэнтези,триллер', 'мюзикл',\n",
       "       'боевик,спорт,драма', 'комедия,приключения,вестерн',\n",
       "       'документальный,ужасы,боевик', 'фантастика,боевик,семейный',\n",
       "       'военный,история', 'ужасы,боевик,криминал', 'детектив,триллер',\n",
       "       'драма,семейный,комедия', 'драма,детектив,приключения',\n",
       "       'драма,криминал,история', 'приключения,триллер',\n",
       "       'боевик,драма,биография', 'драма,приключения,триллер',\n",
       "       'комедия,фэнтези,приключения', 'фантастика,боевик,ужасы',\n",
       "       'драма,комедия,фантастика', 'детектив,криминал,драма',\n",
       "       'боевик,триллер,фэнтези', 'приключения,детектив,семейный',\n",
       "       'ужасы,комедия,криминал', 'мультфильм,биография,драма',\n",
       "       'история,боевик,фэнтези', 'детектив,криминал,боевик',\n",
       "       'приключения,фэнтези', 'комедия,приключения,спорт',\n",
       "       'драма,биография,мюзикл', 'комедия,семейный,фэнтези',\n",
       "       'детектив,драма,триллер', 'боевик,приключения,семейный',\n",
       "       'биография,спорт,комедия', 'фантастика,приключения,военный',\n",
       "       'документальный,драма,биография', 'детектив,приключения,драма',\n",
       "       'аниме,мультфильм,приключения', 'семейный,приключения',\n",
       "       'ужасы,фэнтези,детектив', 'семейный,документальный',\n",
       "       'драма,приключения,семейный', 'приключения,история,военный',\n",
       "       'фэнтези,мелодрама', 'фэнтези,триллер,детектив',\n",
       "       'документальный,спорт,биография', 'комедия,триллер,драма',\n",
       "       'драма,ужасы', 'биография,музыка,драма', 'фэнтези,ужасы',\n",
       "       'детектив,мелодрама,фэнтези', 'боевик,военный,история',\n",
       "       'биография,драма,криминал', 'триллер,мелодрама,криминал',\n",
       "       'семейный,мелодрама', 'биография,драма', 'военный,история,драма',\n",
       "       'фантастика,детектив,фэнтези', 'детектив,приключения,триллер',\n",
       "       'фантастика,приключения', 'мультфильм,короткометражка,мюзикл',\n",
       "       'мультфильм,детский,семейный', 'документальный,драма,комедия',\n",
       "       'комедия,приключения,криминал', 'документальный,семейный,музыка',\n",
       "       'мелодрама,музыка,драма', 'детектив,фантастика,триллер',\n",
       "       'драма,мелодрама,триллер', 'биография,драма,военный',\n",
       "       'приключения,фантастика,драма', 'детектив,фильм-нуар,комедия',\n",
       "       'документальный,спорт', 'триллер,фантастика,драма',\n",
       "       'биография,документальный', 'ужасы,фантастика,мелодрама',\n",
       "       'детектив,комедия', 'история,биография,военный',\n",
       "       'криминал,мелодрама', 'драма,криминал,вестерн',\n",
       "       'мелодрама,семейный,приключения', 'триллер,ужасы,мелодрама',\n",
       "       'фэнтези,драма,фильм-нуар', 'детектив,мелодрама',\n",
       "       'комедия,драма,биография', 'драма,военный,боевик',\n",
       "       'драма,комедия,ужасы', 'фантастика,драма,криминал',\n",
       "       'документальный,музыка,биография', 'мультфильм,боевик,приключения',\n",
       "       'мультфильм,мелодрама,драма', 'боевик,военный,драма',\n",
       "       'фэнтези,семейный,приключения', 'детский,мультфильм,приключения',\n",
       "       'семейный,фэнтези,комедия', 'фэнтези,ужасы,триллер',\n",
       "       'ужасы,триллер,приключения', 'драма,боевик,история',\n",
       "       'фэнтези,комедия,детектив', 'история,приключения',\n",
       "       'аниме,мультфильм,короткометражка', 'драма,военный,триллер',\n",
       "       'биография,криминал,триллер', 'фантастика,фэнтези,детектив',\n",
       "       'вестерн,биография,драма', 'биография,музыка,мюзикл',\n",
       "       'драма,история,биография', 'приключения,драма,фантастика',\n",
       "       'комедия,фэнтези,криминал', 'биография,спорт,история',\n",
       "       'драма,криминал,семейный', 'детектив,боевик,история',\n",
       "       'ужасы,комедия,детектив', 'триллер,приключения,драма',\n",
       "       'фэнтези,комедия,криминал', 'триллер,криминал,приключения',\n",
       "       'комедия,детектив,приключения', 'фэнтези,драма,ужасы',\n",
       "       'ужасы,драма,военный', 'реальное тв', 'аниме,мультфильм,детектив',\n",
       "       'приключения,фэнтези,семейный', 'драма,биография,комедия',\n",
       "       'триллер,комедия,ужасы', 'музыка,мелодрама,фэнтези',\n",
       "       'мультфильм,история', 'мультфильм,комедия,фантастика',\n",
       "       'биография,криминал,драма', 'комедия,мелодрама,фантастика',\n",
       "       'криминал,боевик,комедия', 'история,криминал',\n",
       "       'детектив,комедия,драма', 'триллер,фантастика,боевик',\n",
       "       'криминал,боевик', 'комедия,драма,военный',\n",
       "       'драма,триллер,криминал', 'мультфильм,мелодрама,приключения',\n",
       "       'фантастика,фэнтези,триллер', 'короткометражка,драма,триллер',\n",
       "       'военный,боевик,история', 'боевик,драма,триллер',\n",
       "       'документальный,военный,драма', 'драма,криминал,фильм-нуар',\n",
       "       'мультфильм,детский,приключения', 'мелодрама,история,драма'],\n",
       "      dtype=object)"
      ]
     },
     "execution_count": 38,
     "metadata": {},
     "output_type": "execute_result"
    }
   ],
   "source": [
    "data['genres'].unique()"
   ]
  },
  {
   "cell_type": "markdown",
   "metadata": {
    "id": "PnXKIVdFgFyR"
   },
   "source": [
    "Много категориальных перечислены через запятую, что может быть сделано в разных порядках.\n",
    "Отсортируем перечисленные значения и проверим на дубликаты опять"
   ]
  },
  {
   "cell_type": "code",
   "execution_count": 39,
   "metadata": {},
   "outputs": [],
   "source": [
    "cols = ['title', 'type', 'film_studio', 'production_country', 'director', 'producer', 'age_restriction', 'financing_source', 'genres']\n",
    "for c in cols:\n",
    "    data[c] = data[c].fillna('')\n",
    "    for i in range(len(data[c])):\n",
    "        h = data.loc[i,c]\n",
    "        z = sorted(data.loc[i,c].split(','))\n",
    "        for ii in range(len(z)):\n",
    "            z[ii] = z[ii].strip()\n",
    "\n",
    "        data.loc[i, c] = ','.join(sorted(z))\n",
    "    \n"
   ]
  },
  {
   "cell_type": "code",
   "execution_count": 40,
   "metadata": {},
   "outputs": [
    {
     "data": {
      "text/plain": [
       "array(['бикон пикчерз,кобальт пикчерз,тачстоун пикчерз,тиг продакшнз',\n",
       "       'киностудия мосфильм',\n",
       "       'кикстарт продакшнз,марк платт продакшнз,рилейтивити медиа,спайгласс интертейнмент,стилкин филмз,топ кау продакшнз,юниверсал пикчерз',\n",
       "       ..., 'севен артс продакшнз',\n",
       "       'вандерфилм медиа корпорэйшн,вор хорс интертейнмент,дэниел гродник продакшнз,импринт интертейнмент,пимиента',\n",
       "       'никелодеон анимейшн студиос,спин мастер'], dtype=object)"
      ]
     },
     "execution_count": 40,
     "metadata": {},
     "output_type": "execute_result"
    }
   ],
   "source": [
    "data['film_studio'].unique()"
   ]
  },
  {
   "cell_type": "code",
   "execution_count": 41,
   "metadata": {},
   "outputs": [
    {
     "data": {
      "text/plain": [
       "7459"
      ]
     },
     "execution_count": 41,
     "metadata": {},
     "output_type": "execute_result"
    }
   ],
   "source": [
    "data_clean = data.drop_duplicates().reset_index(drop = True)\n",
    "len(data_clean)"
   ]
  },
  {
   "cell_type": "markdown",
   "metadata": {},
   "source": [
    "Дубликатов не выявлено"
   ]
  },
  {
   "cell_type": "markdown",
   "metadata": {},
   "source": [
    "общий бюджет фильма должен быть не меньше объёма возвратных средств государственной поддержки и объёма невозвратных средств государственной поддержки\n",
    "Проверим"
   ]
  },
  {
   "cell_type": "code",
   "execution_count": 42,
   "metadata": {},
   "outputs": [
    {
     "data": {
      "text/html": [
       "<div>\n",
       "<style scoped>\n",
       "    .dataframe tbody tr th:only-of-type {\n",
       "        vertical-align: middle;\n",
       "    }\n",
       "\n",
       "    .dataframe tbody tr th {\n",
       "        vertical-align: top;\n",
       "    }\n",
       "\n",
       "    .dataframe thead th {\n",
       "        text-align: right;\n",
       "    }\n",
       "</style>\n",
       "<table border=\"1\" class=\"dataframe\">\n",
       "  <thead>\n",
       "    <tr style=\"text-align: right;\">\n",
       "      <th></th>\n",
       "      <th>title</th>\n",
       "      <th>puNumber</th>\n",
       "      <th>show_start_date</th>\n",
       "      <th>type</th>\n",
       "      <th>film_studio</th>\n",
       "      <th>production_country</th>\n",
       "      <th>director</th>\n",
       "      <th>producer</th>\n",
       "      <th>age_restriction</th>\n",
       "      <th>refundable_support</th>\n",
       "      <th>nonrefundable_support</th>\n",
       "      <th>budget</th>\n",
       "      <th>financing_source</th>\n",
       "      <th>ratings</th>\n",
       "      <th>genres</th>\n",
       "      <th>box_office</th>\n",
       "    </tr>\n",
       "  </thead>\n",
       "  <tbody>\n",
       "    <tr>\n",
       "      <th>2050</th>\n",
       "      <td>14+</td>\n",
       "      <td>111023614</td>\n",
       "      <td>2014-12-19 12:00:00+00:00</td>\n",
       "      <td>художественный</td>\n",
       "      <td>ооо киностудия  сентябрь</td>\n",
       "      <td>россия</td>\n",
       "      <td>а.зайцев</td>\n",
       "      <td>а.зайцев,о.гранина</td>\n",
       "      <td>«16+»-для детей старше 16 лет</td>\n",
       "      <td>0.0</td>\n",
       "      <td>23000.000</td>\n",
       "      <td>0.0</td>\n",
       "      <td>министерство культуры,фонд кино</td>\n",
       "      <td>6.6</td>\n",
       "      <td>мелодрама</td>\n",
       "      <td>10.234016</td>\n",
       "    </tr>\n",
       "    <tr>\n",
       "      <th>2055</th>\n",
       "      <td>дуxless 2</td>\n",
       "      <td>111000415</td>\n",
       "      <td>2015-01-26 12:00:00+00:00</td>\n",
       "      <td>художественный</td>\n",
       "      <td>ооо арт пикчерс студия,ооо киностудия слово</td>\n",
       "      <td>россия</td>\n",
       "      <td>р.прыгунов</td>\n",
       "      <td>д.рудовский,п.ануров,ф.бондарчук</td>\n",
       "      <td>«16+»-для детей старше 16 лет</td>\n",
       "      <td>0.0</td>\n",
       "      <td>75000.000</td>\n",
       "      <td>0.0</td>\n",
       "      <td>фонд кино</td>\n",
       "      <td>6.6</td>\n",
       "      <td>драма</td>\n",
       "      <td>446.163511</td>\n",
       "    </tr>\n",
       "    <tr>\n",
       "      <th>2469</th>\n",
       "      <td>воин (2015)</td>\n",
       "      <td>111017315</td>\n",
       "      <td>2015-09-28 12:00:00+00:00</td>\n",
       "      <td>художественный</td>\n",
       "      <td>ооо арт пикчерс студия,ооо форпост продакшн</td>\n",
       "      <td>россия</td>\n",
       "      <td>а.андрианов</td>\n",
       "      <td>ооо арт пикчерс студия</td>\n",
       "      <td>«12+»-для детей старше 12 лет</td>\n",
       "      <td>10000.0</td>\n",
       "      <td>70000.000</td>\n",
       "      <td>0.0</td>\n",
       "      <td>фонд кино</td>\n",
       "      <td>7.8</td>\n",
       "      <td>боевик,драма,криминал</td>\n",
       "      <td>196.572438</td>\n",
       "    </tr>\n",
       "    <tr>\n",
       "      <th>2529</th>\n",
       "      <td>бармен.</td>\n",
       "      <td>111009615</td>\n",
       "      <td>2015-05-26 12:00:00+00:00</td>\n",
       "      <td>художественный</td>\n",
       "      <td>ао вайт медиа,ооо арт пикчерс студия</td>\n",
       "      <td>россия</td>\n",
       "      <td>д.штурманова</td>\n",
       "      <td>т.вайнштейн</td>\n",
       "      <td>«16+»-для детей старше 16 лет</td>\n",
       "      <td>20000.0</td>\n",
       "      <td>0.000</td>\n",
       "      <td>0.0</td>\n",
       "      <td>фонд кино</td>\n",
       "      <td>6.2</td>\n",
       "      <td>комедия,фэнтези</td>\n",
       "      <td>67.418975</td>\n",
       "    </tr>\n",
       "    <tr>\n",
       "      <th>2612</th>\n",
       "      <td>савва. сердце воина</td>\n",
       "      <td>114001715</td>\n",
       "      <td>2015-07-21 12:00:00+00:00</td>\n",
       "      <td>анимационный</td>\n",
       "      <td>ооо арт пикчерс студия,ооо глюкоза продакшн</td>\n",
       "      <td>россия</td>\n",
       "      <td>м.фадеев</td>\n",
       "      <td>а.чистяков</td>\n",
       "      <td>«6+»-для детей старше 6 лет</td>\n",
       "      <td>60000.0</td>\n",
       "      <td>100000.000</td>\n",
       "      <td>0.0</td>\n",
       "      <td>фонд кино</td>\n",
       "      <td>4.6</td>\n",
       "      <td>мультфильм,приключения,фэнтези</td>\n",
       "      <td>184.487551</td>\n",
       "    </tr>\n",
       "    <tr>\n",
       "      <th>2681</th>\n",
       "      <td>тряпичный союз</td>\n",
       "      <td>111010215</td>\n",
       "      <td>2015-06-08 12:00:00+00:00</td>\n",
       "      <td>художественный</td>\n",
       "      <td>ооо кинокомпания коктебель</td>\n",
       "      <td>россия</td>\n",
       "      <td>м.местецкий</td>\n",
       "      <td>а.кушаев,р.борисевич</td>\n",
       "      <td>«18+»-запрещено для детей</td>\n",
       "      <td>0.0</td>\n",
       "      <td>59000.000</td>\n",
       "      <td>0.0</td>\n",
       "      <td>фонд кино</td>\n",
       "      <td>6.3</td>\n",
       "      <td>драма,комедия</td>\n",
       "      <td>1.957739</td>\n",
       "    </tr>\n",
       "    <tr>\n",
       "      <th>2785</th>\n",
       "      <td>срочно выйду замуж</td>\n",
       "      <td>111017115</td>\n",
       "      <td>2015-09-30 12:00:00+00:00</td>\n",
       "      <td>художественный</td>\n",
       "      <td>ао вайт медиа,ооо арт пикчерс студия</td>\n",
       "      <td>россия</td>\n",
       "      <td>с чекалов</td>\n",
       "      <td>д.рудовский,т.вайнштейн,ф.бондарчук</td>\n",
       "      <td>«16+»-для детей старше 16 лет</td>\n",
       "      <td>0.0</td>\n",
       "      <td>35000.000</td>\n",
       "      <td>0.0</td>\n",
       "      <td>фонд кино</td>\n",
       "      <td>5.1</td>\n",
       "      <td>комедия,мелодрама</td>\n",
       "      <td>72.937783</td>\n",
       "    </tr>\n",
       "    <tr>\n",
       "      <th>2871</th>\n",
       "      <td>помню-не помню!</td>\n",
       "      <td>111004916</td>\n",
       "      <td>2016-03-01 12:00:00+00:00</td>\n",
       "      <td>художественный</td>\n",
       "      <td>ооо кинофирма</td>\n",
       "      <td>россия</td>\n",
       "      <td>в.ровенский</td>\n",
       "      <td>ооо кинофирма</td>\n",
       "      <td>«12+»-для детей старше 12 лет</td>\n",
       "      <td>0.0</td>\n",
       "      <td>6000.000</td>\n",
       "      <td>0.0</td>\n",
       "      <td>министерство культуры</td>\n",
       "      <td>4.3</td>\n",
       "      <td>комедия</td>\n",
       "      <td>15.362931</td>\n",
       "    </tr>\n",
       "    <tr>\n",
       "      <th>3044</th>\n",
       "      <td>любовь с ограничениями</td>\n",
       "      <td>111008216</td>\n",
       "      <td>2016-04-29 12:00:00+00:00</td>\n",
       "      <td>художественный</td>\n",
       "      <td>ао вайт медиа,ооо арт пикчерс студия</td>\n",
       "      <td>россия</td>\n",
       "      <td>д.тюрин</td>\n",
       "      <td>д.рудовский,т.вайнштейн,ф.бондарчук</td>\n",
       "      <td>«16+»-для детей старше 16 лет</td>\n",
       "      <td>19000.0</td>\n",
       "      <td>51000.000</td>\n",
       "      <td>0.0</td>\n",
       "      <td>фонд кино</td>\n",
       "      <td>6.3</td>\n",
       "      <td>комедия,мелодрама</td>\n",
       "      <td>70.299052</td>\n",
       "    </tr>\n",
       "    <tr>\n",
       "      <th>3561</th>\n",
       "      <td>притяжение (2016)</td>\n",
       "      <td>111018116</td>\n",
       "      <td>2016-12-16 12:00:00+00:00</td>\n",
       "      <td>художественный</td>\n",
       "      <td>ооо арт пикчерс студия,ооо водород 2011</td>\n",
       "      <td>россия</td>\n",
       "      <td>ф.бондарчук</td>\n",
       "      <td>ооо арт пикчерс студия</td>\n",
       "      <td>«12+»-для детей старше 12 лет</td>\n",
       "      <td>0.0</td>\n",
       "      <td>250000.000</td>\n",
       "      <td>0.0</td>\n",
       "      <td>фонд кино</td>\n",
       "      <td>5.6</td>\n",
       "      <td>фантастика</td>\n",
       "      <td>1038.321489</td>\n",
       "    </tr>\n",
       "    <tr>\n",
       "      <th>3671</th>\n",
       "      <td>чудо-юдо</td>\n",
       "      <td>114001817</td>\n",
       "      <td>2017-06-27 12:00:00+00:00</td>\n",
       "      <td>анимационный</td>\n",
       "      <td>ооо кинофирма</td>\n",
       "      <td>россия</td>\n",
       "      <td>а.лукичев</td>\n",
       "      <td>ооо кинофирма</td>\n",
       "      <td>«6+»-для детей старше 6 лет</td>\n",
       "      <td>20000.0</td>\n",
       "      <td>20000.000</td>\n",
       "      <td>0.0</td>\n",
       "      <td>фонд кино</td>\n",
       "      <td>5.2</td>\n",
       "      <td>мультфильм,семейный,фэнтези</td>\n",
       "      <td>55.108015</td>\n",
       "    </tr>\n",
       "    <tr>\n",
       "      <th>3735</th>\n",
       "      <td>мифы</td>\n",
       "      <td>111004317</td>\n",
       "      <td>2017-06-07 12:00:00+00:00</td>\n",
       "      <td>художественный</td>\n",
       "      <td>ооо арт пикчерс студия,ооо хайпфилм</td>\n",
       "      <td>россия</td>\n",
       "      <td>а.молочников</td>\n",
       "      <td>д.рудовский,и.стюарт,м.османн,ф.бондарчук,ю.ко...</td>\n",
       "      <td>«16+»-для детей старше 16 лет</td>\n",
       "      <td>25000.0</td>\n",
       "      <td>20000.000</td>\n",
       "      <td>0.0</td>\n",
       "      <td>фонд кино</td>\n",
       "      <td>4.8</td>\n",
       "      <td>комедия</td>\n",
       "      <td>50.451949</td>\n",
       "    </tr>\n",
       "    <tr>\n",
       "      <th>5662</th>\n",
       "      <td>селфи</td>\n",
       "      <td>111012117</td>\n",
       "      <td>2018-02-01 12:00:00+00:00</td>\n",
       "      <td>художественный</td>\n",
       "      <td>ооо арт пикчерс студия,ооо киностудия слово</td>\n",
       "      <td>россия</td>\n",
       "      <td>н.хомерики</td>\n",
       "      <td>д.рудовский,п.ануров,ф.бондарчук</td>\n",
       "      <td>«16+»-для детей старше 16 лет</td>\n",
       "      <td>20000.0</td>\n",
       "      <td>40000.000</td>\n",
       "      <td>0.0</td>\n",
       "      <td>фонд кино</td>\n",
       "      <td>5.8</td>\n",
       "      <td>драма,триллер</td>\n",
       "      <td>225.196400</td>\n",
       "    </tr>\n",
       "    <tr>\n",
       "      <th>5795</th>\n",
       "      <td>два хвоста</td>\n",
       "      <td>114001018</td>\n",
       "      <td>2018-05-31 12:00:00+00:00</td>\n",
       "      <td>анимационный</td>\n",
       "      <td>ооо лицензионные бренды</td>\n",
       "      <td>россия</td>\n",
       "      <td>в.азеев,в.ровенский,н.лопато</td>\n",
       "      <td>ооо лицензионные бренды</td>\n",
       "      <td>«6+»-для детей старше 6 лет</td>\n",
       "      <td>10000.0</td>\n",
       "      <td>60000.000</td>\n",
       "      <td>0.0</td>\n",
       "      <td>фонд кино</td>\n",
       "      <td>5.0</td>\n",
       "      <td>детский,мультфильм</td>\n",
       "      <td>106.514301</td>\n",
       "    </tr>\n",
       "    <tr>\n",
       "      <th>5997</th>\n",
       "      <td>принцесса и дракон</td>\n",
       "      <td>114003018</td>\n",
       "      <td>2018-08-23 12:00:00+00:00</td>\n",
       "      <td>анимационный</td>\n",
       "      <td>ооо лицензионные бренды</td>\n",
       "      <td>россия</td>\n",
       "      <td>м.нефедова</td>\n",
       "      <td>ооо лицензионные бренды</td>\n",
       "      <td>«6+»-для детей старше 6 лет</td>\n",
       "      <td>40000.0</td>\n",
       "      <td>40000.000</td>\n",
       "      <td>0.0</td>\n",
       "      <td>фонд кино</td>\n",
       "      <td>5.2</td>\n",
       "      <td>детский,мультфильм,фэнтези</td>\n",
       "      <td>83.366329</td>\n",
       "    </tr>\n",
       "    <tr>\n",
       "      <th>6310</th>\n",
       "      <td>баба яга</td>\n",
       "      <td>114006518</td>\n",
       "      <td>2018-11-08 12:00:00+00:00</td>\n",
       "      <td>анимационный</td>\n",
       "      <td>ооо арт пикчерс студия</td>\n",
       "      <td>россия</td>\n",
       "      <td>в.саков</td>\n",
       "      <td>ооо арт пикчерс студия,ооо криэйтив анимэйшн,о...</td>\n",
       "      <td>«6+»-для детей старше 6 лет</td>\n",
       "      <td>0.0</td>\n",
       "      <td>138969.465</td>\n",
       "      <td>0.0</td>\n",
       "      <td>фонд кино</td>\n",
       "      <td>NaN</td>\n",
       "      <td>драма</td>\n",
       "      <td>1.334699</td>\n",
       "    </tr>\n",
       "    <tr>\n",
       "      <th>6796</th>\n",
       "      <td>большое путешествие</td>\n",
       "      <td>114002419</td>\n",
       "      <td>2019-04-20 12:00:00+00:00</td>\n",
       "      <td>анимационный</td>\n",
       "      <td>ооо лицензионные бренды</td>\n",
       "      <td>россия</td>\n",
       "      <td>в.ровенский,н.лопато</td>\n",
       "      <td>ооо лицензионные бренды</td>\n",
       "      <td>«6+»-для детей старше 6 лет</td>\n",
       "      <td>60000.0</td>\n",
       "      <td>120000.000</td>\n",
       "      <td>0.0</td>\n",
       "      <td>фонд кино</td>\n",
       "      <td>6.2</td>\n",
       "      <td>комедия,мультфильм,приключения</td>\n",
       "      <td>147.606827</td>\n",
       "    </tr>\n",
       "  </tbody>\n",
       "</table>\n",
       "</div>"
      ],
      "text/plain": [
       "                       title   puNumber           show_start_date  \\\n",
       "2050                     14+  111023614 2014-12-19 12:00:00+00:00   \n",
       "2055               дуxless 2  111000415 2015-01-26 12:00:00+00:00   \n",
       "2469             воин (2015)  111017315 2015-09-28 12:00:00+00:00   \n",
       "2529                 бармен.  111009615 2015-05-26 12:00:00+00:00   \n",
       "2612     савва. сердце воина  114001715 2015-07-21 12:00:00+00:00   \n",
       "2681          тряпичный союз  111010215 2015-06-08 12:00:00+00:00   \n",
       "2785      срочно выйду замуж  111017115 2015-09-30 12:00:00+00:00   \n",
       "2871         помню-не помню!  111004916 2016-03-01 12:00:00+00:00   \n",
       "3044  любовь с ограничениями  111008216 2016-04-29 12:00:00+00:00   \n",
       "3561       притяжение (2016)  111018116 2016-12-16 12:00:00+00:00   \n",
       "3671                чудо-юдо  114001817 2017-06-27 12:00:00+00:00   \n",
       "3735                    мифы  111004317 2017-06-07 12:00:00+00:00   \n",
       "5662                   селфи  111012117 2018-02-01 12:00:00+00:00   \n",
       "5795              два хвоста  114001018 2018-05-31 12:00:00+00:00   \n",
       "5997      принцесса и дракон  114003018 2018-08-23 12:00:00+00:00   \n",
       "6310                баба яга  114006518 2018-11-08 12:00:00+00:00   \n",
       "6796     большое путешествие  114002419 2019-04-20 12:00:00+00:00   \n",
       "\n",
       "                type                                  film_studio  \\\n",
       "2050  художественный                     ооо киностудия  сентябрь   \n",
       "2055  художественный  ооо арт пикчерс студия,ооо киностудия слово   \n",
       "2469  художественный  ооо арт пикчерс студия,ооо форпост продакшн   \n",
       "2529  художественный         ао вайт медиа,ооо арт пикчерс студия   \n",
       "2612    анимационный  ооо арт пикчерс студия,ооо глюкоза продакшн   \n",
       "2681  художественный                   ооо кинокомпания коктебель   \n",
       "2785  художественный         ао вайт медиа,ооо арт пикчерс студия   \n",
       "2871  художественный                                ооо кинофирма   \n",
       "3044  художественный         ао вайт медиа,ооо арт пикчерс студия   \n",
       "3561  художественный      ооо арт пикчерс студия,ооо водород 2011   \n",
       "3671    анимационный                                ооо кинофирма   \n",
       "3735  художественный          ооо арт пикчерс студия,ооо хайпфилм   \n",
       "5662  художественный  ооо арт пикчерс студия,ооо киностудия слово   \n",
       "5795    анимационный                      ооо лицензионные бренды   \n",
       "5997    анимационный                      ооо лицензионные бренды   \n",
       "6310    анимационный                       ооо арт пикчерс студия   \n",
       "6796    анимационный                      ооо лицензионные бренды   \n",
       "\n",
       "     production_country                      director  \\\n",
       "2050             россия                      а.зайцев   \n",
       "2055             россия                    р.прыгунов   \n",
       "2469             россия                   а.андрианов   \n",
       "2529             россия                  д.штурманова   \n",
       "2612             россия                      м.фадеев   \n",
       "2681             россия                   м.местецкий   \n",
       "2785             россия                     с чекалов   \n",
       "2871             россия                   в.ровенский   \n",
       "3044             россия                       д.тюрин   \n",
       "3561             россия                   ф.бондарчук   \n",
       "3671             россия                     а.лукичев   \n",
       "3735             россия                  а.молочников   \n",
       "5662             россия                    н.хомерики   \n",
       "5795             россия  в.азеев,в.ровенский,н.лопато   \n",
       "5997             россия                    м.нефедова   \n",
       "6310             россия                       в.саков   \n",
       "6796             россия          в.ровенский,н.лопато   \n",
       "\n",
       "                                               producer  \\\n",
       "2050                                 а.зайцев,о.гранина   \n",
       "2055                   д.рудовский,п.ануров,ф.бондарчук   \n",
       "2469                             ооо арт пикчерс студия   \n",
       "2529                                        т.вайнштейн   \n",
       "2612                                         а.чистяков   \n",
       "2681                               а.кушаев,р.борисевич   \n",
       "2785                д.рудовский,т.вайнштейн,ф.бондарчук   \n",
       "2871                                      ооо кинофирма   \n",
       "3044                д.рудовский,т.вайнштейн,ф.бондарчук   \n",
       "3561                             ооо арт пикчерс студия   \n",
       "3671                                      ооо кинофирма   \n",
       "3735  д.рудовский,и.стюарт,м.османн,ф.бондарчук,ю.ко...   \n",
       "5662                   д.рудовский,п.ануров,ф.бондарчук   \n",
       "5795                            ооо лицензионные бренды   \n",
       "5997                            ооо лицензионные бренды   \n",
       "6310  ооо арт пикчерс студия,ооо криэйтив анимэйшн,о...   \n",
       "6796                            ооо лицензионные бренды   \n",
       "\n",
       "                    age_restriction  refundable_support  \\\n",
       "2050  «16+»-для детей старше 16 лет                 0.0   \n",
       "2055  «16+»-для детей старше 16 лет                 0.0   \n",
       "2469  «12+»-для детей старше 12 лет             10000.0   \n",
       "2529  «16+»-для детей старше 16 лет             20000.0   \n",
       "2612    «6+»-для детей старше 6 лет             60000.0   \n",
       "2681      «18+»-запрещено для детей                 0.0   \n",
       "2785  «16+»-для детей старше 16 лет                 0.0   \n",
       "2871  «12+»-для детей старше 12 лет                 0.0   \n",
       "3044  «16+»-для детей старше 16 лет             19000.0   \n",
       "3561  «12+»-для детей старше 12 лет                 0.0   \n",
       "3671    «6+»-для детей старше 6 лет             20000.0   \n",
       "3735  «16+»-для детей старше 16 лет             25000.0   \n",
       "5662  «16+»-для детей старше 16 лет             20000.0   \n",
       "5795    «6+»-для детей старше 6 лет             10000.0   \n",
       "5997    «6+»-для детей старше 6 лет             40000.0   \n",
       "6310    «6+»-для детей старше 6 лет                 0.0   \n",
       "6796    «6+»-для детей старше 6 лет             60000.0   \n",
       "\n",
       "      nonrefundable_support  budget                 financing_source  ratings  \\\n",
       "2050              23000.000     0.0  министерство культуры,фонд кино      6.6   \n",
       "2055              75000.000     0.0                        фонд кино      6.6   \n",
       "2469              70000.000     0.0                        фонд кино      7.8   \n",
       "2529                  0.000     0.0                        фонд кино      6.2   \n",
       "2612             100000.000     0.0                        фонд кино      4.6   \n",
       "2681              59000.000     0.0                        фонд кино      6.3   \n",
       "2785              35000.000     0.0                        фонд кино      5.1   \n",
       "2871               6000.000     0.0            министерство культуры      4.3   \n",
       "3044              51000.000     0.0                        фонд кино      6.3   \n",
       "3561             250000.000     0.0                        фонд кино      5.6   \n",
       "3671              20000.000     0.0                        фонд кино      5.2   \n",
       "3735              20000.000     0.0                        фонд кино      4.8   \n",
       "5662              40000.000     0.0                        фонд кино      5.8   \n",
       "5795              60000.000     0.0                        фонд кино      5.0   \n",
       "5997              40000.000     0.0                        фонд кино      5.2   \n",
       "6310             138969.465     0.0                        фонд кино      NaN   \n",
       "6796             120000.000     0.0                        фонд кино      6.2   \n",
       "\n",
       "                              genres   box_office  \n",
       "2050                       мелодрама    10.234016  \n",
       "2055                           драма   446.163511  \n",
       "2469           боевик,драма,криминал   196.572438  \n",
       "2529                 комедия,фэнтези    67.418975  \n",
       "2612  мультфильм,приключения,фэнтези   184.487551  \n",
       "2681                   драма,комедия     1.957739  \n",
       "2785               комедия,мелодрама    72.937783  \n",
       "2871                         комедия    15.362931  \n",
       "3044               комедия,мелодрама    70.299052  \n",
       "3561                      фантастика  1038.321489  \n",
       "3671     мультфильм,семейный,фэнтези    55.108015  \n",
       "3735                         комедия    50.451949  \n",
       "5662                   драма,триллер   225.196400  \n",
       "5795              детский,мультфильм   106.514301  \n",
       "5997      детский,мультфильм,фэнтези    83.366329  \n",
       "6310                           драма     1.334699  \n",
       "6796  комедия,мультфильм,приключения   147.606827  "
      ]
     },
     "execution_count": 42,
     "metadata": {},
     "output_type": "execute_result"
    }
   ],
   "source": [
    "data_clean.loc[(data_clean['budget']*1000) < (data_clean['refundable_support'] + data_clean['nonrefundable_support'])]"
   ]
  },
  {
   "cell_type": "code",
   "execution_count": 43,
   "metadata": {},
   "outputs": [
    {
     "name": "stdout",
     "output_type": "stream",
     "text": [
      "<class 'pandas.core.frame.DataFrame'>\n",
      "Int64Index: 7442 entries, 0 to 7458\n",
      "Data columns (total 16 columns):\n",
      " #   Column                 Non-Null Count  Dtype              \n",
      "---  ------                 --------------  -----              \n",
      " 0   title                  7442 non-null   object             \n",
      " 1   puNumber               7442 non-null   object             \n",
      " 2   show_start_date        7442 non-null   datetime64[ns, UTC]\n",
      " 3   type                   7442 non-null   object             \n",
      " 4   film_studio            7442 non-null   object             \n",
      " 5   production_country     7442 non-null   object             \n",
      " 6   director               7442 non-null   object             \n",
      " 7   producer               7442 non-null   object             \n",
      " 8   age_restriction        7442 non-null   object             \n",
      " 9   refundable_support     315 non-null    float64            \n",
      " 10  nonrefundable_support  315 non-null    float64            \n",
      " 11  budget                 315 non-null    float64            \n",
      " 12  financing_source       7442 non-null   object             \n",
      " 13  ratings                6495 non-null   float64            \n",
      " 14  genres                 7442 non-null   object             \n",
      " 15  box_office             3138 non-null   float64            \n",
      "dtypes: datetime64[ns, UTC](1), float64(5), object(10)\n",
      "memory usage: 988.4+ KB\n"
     ]
    }
   ],
   "source": [
    "#Таковых немного - удаляем\n",
    "data_clean = data_clean.loc[~((data_clean['budget']*1000) < (data_clean['refundable_support'] + data_clean['nonrefundable_support']))]\n",
    "#data_clean.loc[(data_clean['budget']*1000) < (data_clean['refundable_support'] + data_clean['budget'])]\n",
    "data_clean.info()"
   ]
  },
  {
   "cell_type": "code",
   "execution_count": 44,
   "metadata": {
    "id": "I-yd1DkWgFyT"
   },
   "outputs": [
    {
     "data": {
      "text/html": [
       "<div>\n",
       "<style scoped>\n",
       "    .dataframe tbody tr th:only-of-type {\n",
       "        vertical-align: middle;\n",
       "    }\n",
       "\n",
       "    .dataframe tbody tr th {\n",
       "        vertical-align: top;\n",
       "    }\n",
       "\n",
       "    .dataframe thead th {\n",
       "        text-align: right;\n",
       "    }\n",
       "</style>\n",
       "<table border=\"1\" class=\"dataframe\">\n",
       "  <thead>\n",
       "    <tr style=\"text-align: right;\">\n",
       "      <th></th>\n",
       "      <th>title</th>\n",
       "      <th>puNumber</th>\n",
       "      <th>show_start_date</th>\n",
       "      <th>type</th>\n",
       "      <th>film_studio</th>\n",
       "      <th>production_country</th>\n",
       "      <th>director</th>\n",
       "      <th>producer</th>\n",
       "      <th>age_restriction</th>\n",
       "      <th>refundable_support</th>\n",
       "      <th>nonrefundable_support</th>\n",
       "      <th>budget</th>\n",
       "      <th>financing_source</th>\n",
       "      <th>ratings</th>\n",
       "      <th>genres</th>\n",
       "      <th>box_office</th>\n",
       "      <th>show_start_date_year</th>\n",
       "    </tr>\n",
       "  </thead>\n",
       "  <tbody>\n",
       "    <tr>\n",
       "      <th>0</th>\n",
       "      <td>открытый простор</td>\n",
       "      <td>221048915</td>\n",
       "      <td>2015-11-27 12:00:00+00:00</td>\n",
       "      <td>художественный</td>\n",
       "      <td>бикон пикчерз,кобальт пикчерз,тачстоун пикчерз...</td>\n",
       "      <td>сша</td>\n",
       "      <td>кевин костнер</td>\n",
       "      <td>джейк эбертс,дэвид валдес,кевин костнер</td>\n",
       "      <td>«18+»-запрещено для детей</td>\n",
       "      <td>NaN</td>\n",
       "      <td>NaN</td>\n",
       "      <td>NaN</td>\n",
       "      <td></td>\n",
       "      <td>7.2</td>\n",
       "      <td>боевик,драма,мелодрама</td>\n",
       "      <td>NaN</td>\n",
       "      <td>2015</td>\n",
       "    </tr>\n",
       "    <tr>\n",
       "      <th>1</th>\n",
       "      <td>особо важное задание</td>\n",
       "      <td>111013716</td>\n",
       "      <td>2016-09-13 12:00:00+00:00</td>\n",
       "      <td>художественный</td>\n",
       "      <td>киностудия мосфильм</td>\n",
       "      <td>ссср</td>\n",
       "      <td>е.матвеев</td>\n",
       "      <td></td>\n",
       "      <td>«6+»-для детей старше 6 лет</td>\n",
       "      <td>NaN</td>\n",
       "      <td>NaN</td>\n",
       "      <td>NaN</td>\n",
       "      <td></td>\n",
       "      <td>6.6</td>\n",
       "      <td>военный,драма</td>\n",
       "      <td>NaN</td>\n",
       "      <td>2016</td>\n",
       "    </tr>\n",
       "    <tr>\n",
       "      <th>2</th>\n",
       "      <td>особо опасен</td>\n",
       "      <td>221038416</td>\n",
       "      <td>2016-10-10 12:00:00+00:00</td>\n",
       "      <td>художественный</td>\n",
       "      <td>кикстарт продакшнз,марк платт продакшнз,рилейт...</td>\n",
       "      <td>сша</td>\n",
       "      <td>тимур бекмамбетов</td>\n",
       "      <td>джейсон нетер,джим лемли,марк е.платт,яйн смит</td>\n",
       "      <td>«18+»-запрещено для детей</td>\n",
       "      <td>NaN</td>\n",
       "      <td>NaN</td>\n",
       "      <td>NaN</td>\n",
       "      <td></td>\n",
       "      <td>6.8</td>\n",
       "      <td>боевик,триллер,фантастика</td>\n",
       "      <td>NaN</td>\n",
       "      <td>2016</td>\n",
       "    </tr>\n",
       "  </tbody>\n",
       "</table>\n",
       "</div>"
      ],
      "text/plain": [
       "                  title   puNumber           show_start_date            type  \\\n",
       "0      открытый простор  221048915 2015-11-27 12:00:00+00:00  художественный   \n",
       "1  особо важное задание  111013716 2016-09-13 12:00:00+00:00  художественный   \n",
       "2          особо опасен  221038416 2016-10-10 12:00:00+00:00  художественный   \n",
       "\n",
       "                                         film_studio production_country  \\\n",
       "0  бикон пикчерз,кобальт пикчерз,тачстоун пикчерз...                сша   \n",
       "1                                киностудия мосфильм               ссср   \n",
       "2  кикстарт продакшнз,марк платт продакшнз,рилейт...                сша   \n",
       "\n",
       "            director                                        producer  \\\n",
       "0      кевин костнер         джейк эбертс,дэвид валдес,кевин костнер   \n",
       "1          е.матвеев                                                   \n",
       "2  тимур бекмамбетов  джейсон нетер,джим лемли,марк е.платт,яйн смит   \n",
       "\n",
       "               age_restriction  refundable_support  nonrefundable_support  \\\n",
       "0    «18+»-запрещено для детей                 NaN                    NaN   \n",
       "1  «6+»-для детей старше 6 лет                 NaN                    NaN   \n",
       "2    «18+»-запрещено для детей                 NaN                    NaN   \n",
       "\n",
       "   budget financing_source  ratings                     genres  box_office  \\\n",
       "0     NaN                       7.2     боевик,драма,мелодрама         NaN   \n",
       "1     NaN                       6.6              военный,драма         NaN   \n",
       "2     NaN                       6.8  боевик,триллер,фантастика         NaN   \n",
       "\n",
       "   show_start_date_year  \n",
       "0                  2015  \n",
       "1                  2016  \n",
       "2                  2016  "
      ]
     },
     "execution_count": 44,
     "metadata": {},
     "output_type": "execute_result"
    }
   ],
   "source": [
    "data_clean['show_start_date_year'] = data_clean['show_start_date'].dt.year\n",
    "data_clean.head(3)"
   ]
  },
  {
   "cell_type": "code",
   "execution_count": 45,
   "metadata": {},
   "outputs": [
    {
     "data": {
      "text/html": [
       "<div>\n",
       "<style scoped>\n",
       "    .dataframe tbody tr th:only-of-type {\n",
       "        vertical-align: middle;\n",
       "    }\n",
       "\n",
       "    .dataframe tbody tr th {\n",
       "        vertical-align: top;\n",
       "    }\n",
       "\n",
       "    .dataframe thead th {\n",
       "        text-align: right;\n",
       "    }\n",
       "</style>\n",
       "<table border=\"1\" class=\"dataframe\">\n",
       "  <thead>\n",
       "    <tr style=\"text-align: right;\">\n",
       "      <th></th>\n",
       "      <th>title</th>\n",
       "      <th>puNumber</th>\n",
       "      <th>show_start_date</th>\n",
       "      <th>type</th>\n",
       "      <th>film_studio</th>\n",
       "      <th>production_country</th>\n",
       "      <th>director</th>\n",
       "      <th>producer</th>\n",
       "      <th>age_restriction</th>\n",
       "      <th>refundable_support</th>\n",
       "      <th>nonrefundable_support</th>\n",
       "      <th>budget</th>\n",
       "      <th>financing_source</th>\n",
       "      <th>ratings</th>\n",
       "      <th>genres</th>\n",
       "      <th>box_office</th>\n",
       "      <th>show_start_date_year</th>\n",
       "      <th>main_director</th>\n",
       "      <th>main_genres</th>\n",
       "    </tr>\n",
       "  </thead>\n",
       "  <tbody>\n",
       "    <tr>\n",
       "      <th>0</th>\n",
       "      <td>открытый простор</td>\n",
       "      <td>221048915</td>\n",
       "      <td>2015-11-27 12:00:00+00:00</td>\n",
       "      <td>художественный</td>\n",
       "      <td>бикон пикчерз,кобальт пикчерз,тачстоун пикчерз...</td>\n",
       "      <td>сша</td>\n",
       "      <td>кевин костнер</td>\n",
       "      <td>джейк эбертс,дэвид валдес,кевин костнер</td>\n",
       "      <td>«18+»-запрещено для детей</td>\n",
       "      <td>NaN</td>\n",
       "      <td>NaN</td>\n",
       "      <td>NaN</td>\n",
       "      <td></td>\n",
       "      <td>7.2</td>\n",
       "      <td>боевик,драма,мелодрама</td>\n",
       "      <td>NaN</td>\n",
       "      <td>2015</td>\n",
       "      <td>кевин костнер</td>\n",
       "      <td>боевик</td>\n",
       "    </tr>\n",
       "    <tr>\n",
       "      <th>1</th>\n",
       "      <td>особо важное задание</td>\n",
       "      <td>111013716</td>\n",
       "      <td>2016-09-13 12:00:00+00:00</td>\n",
       "      <td>художественный</td>\n",
       "      <td>киностудия мосфильм</td>\n",
       "      <td>ссср</td>\n",
       "      <td>е.матвеев</td>\n",
       "      <td></td>\n",
       "      <td>«6+»-для детей старше 6 лет</td>\n",
       "      <td>NaN</td>\n",
       "      <td>NaN</td>\n",
       "      <td>NaN</td>\n",
       "      <td></td>\n",
       "      <td>6.6</td>\n",
       "      <td>военный,драма</td>\n",
       "      <td>NaN</td>\n",
       "      <td>2016</td>\n",
       "      <td>е.матвеев</td>\n",
       "      <td>военный</td>\n",
       "    </tr>\n",
       "    <tr>\n",
       "      <th>2</th>\n",
       "      <td>особо опасен</td>\n",
       "      <td>221038416</td>\n",
       "      <td>2016-10-10 12:00:00+00:00</td>\n",
       "      <td>художественный</td>\n",
       "      <td>кикстарт продакшнз,марк платт продакшнз,рилейт...</td>\n",
       "      <td>сша</td>\n",
       "      <td>тимур бекмамбетов</td>\n",
       "      <td>джейсон нетер,джим лемли,марк е.платт,яйн смит</td>\n",
       "      <td>«18+»-запрещено для детей</td>\n",
       "      <td>NaN</td>\n",
       "      <td>NaN</td>\n",
       "      <td>NaN</td>\n",
       "      <td></td>\n",
       "      <td>6.8</td>\n",
       "      <td>боевик,триллер,фантастика</td>\n",
       "      <td>NaN</td>\n",
       "      <td>2016</td>\n",
       "      <td>тимур бекмамбетов</td>\n",
       "      <td>боевик</td>\n",
       "    </tr>\n",
       "    <tr>\n",
       "      <th>3</th>\n",
       "      <td>особо опасен</td>\n",
       "      <td>221026916</td>\n",
       "      <td>2016-06-10 12:00:00+00:00</td>\n",
       "      <td>художественный</td>\n",
       "      <td>кикстарт продакшнз,марк платт продакшнз,рилейт...</td>\n",
       "      <td>сша</td>\n",
       "      <td>тимур бекмамбетов</td>\n",
       "      <td>джейсон нетер,джим лемли,марк е.платт,яйн смит</td>\n",
       "      <td>«18+»-запрещено для детей</td>\n",
       "      <td>NaN</td>\n",
       "      <td>NaN</td>\n",
       "      <td>NaN</td>\n",
       "      <td></td>\n",
       "      <td>6.8</td>\n",
       "      <td>боевик,триллер,фантастика</td>\n",
       "      <td>NaN</td>\n",
       "      <td>2016</td>\n",
       "      <td>тимур бекмамбетов</td>\n",
       "      <td>боевик</td>\n",
       "    </tr>\n",
       "    <tr>\n",
       "      <th>4</th>\n",
       "      <td>особо опасен</td>\n",
       "      <td>221030815</td>\n",
       "      <td>2015-07-29 12:00:00+00:00</td>\n",
       "      <td>художественный</td>\n",
       "      <td>кикстарт продакшнз,марк платт продакшнз,рилейт...</td>\n",
       "      <td>сша</td>\n",
       "      <td>тимур бекмамбетов</td>\n",
       "      <td>джейсон нетер,джим лемли,марк е.платт,яйн смит</td>\n",
       "      <td>«18+»-запрещено для детей</td>\n",
       "      <td>NaN</td>\n",
       "      <td>NaN</td>\n",
       "      <td>NaN</td>\n",
       "      <td></td>\n",
       "      <td>6.8</td>\n",
       "      <td>боевик,триллер,фантастика</td>\n",
       "      <td>NaN</td>\n",
       "      <td>2015</td>\n",
       "      <td>тимур бекмамбетов</td>\n",
       "      <td>боевик</td>\n",
       "    </tr>\n",
       "  </tbody>\n",
       "</table>\n",
       "</div>"
      ],
      "text/plain": [
       "                  title   puNumber           show_start_date            type  \\\n",
       "0      открытый простор  221048915 2015-11-27 12:00:00+00:00  художественный   \n",
       "1  особо важное задание  111013716 2016-09-13 12:00:00+00:00  художественный   \n",
       "2          особо опасен  221038416 2016-10-10 12:00:00+00:00  художественный   \n",
       "3          особо опасен  221026916 2016-06-10 12:00:00+00:00  художественный   \n",
       "4          особо опасен  221030815 2015-07-29 12:00:00+00:00  художественный   \n",
       "\n",
       "                                         film_studio production_country  \\\n",
       "0  бикон пикчерз,кобальт пикчерз,тачстоун пикчерз...                сша   \n",
       "1                                киностудия мосфильм               ссср   \n",
       "2  кикстарт продакшнз,марк платт продакшнз,рилейт...                сша   \n",
       "3  кикстарт продакшнз,марк платт продакшнз,рилейт...                сша   \n",
       "4  кикстарт продакшнз,марк платт продакшнз,рилейт...                сша   \n",
       "\n",
       "            director                                        producer  \\\n",
       "0      кевин костнер         джейк эбертс,дэвид валдес,кевин костнер   \n",
       "1          е.матвеев                                                   \n",
       "2  тимур бекмамбетов  джейсон нетер,джим лемли,марк е.платт,яйн смит   \n",
       "3  тимур бекмамбетов  джейсон нетер,джим лемли,марк е.платт,яйн смит   \n",
       "4  тимур бекмамбетов  джейсон нетер,джим лемли,марк е.платт,яйн смит   \n",
       "\n",
       "               age_restriction  refundable_support  nonrefundable_support  \\\n",
       "0    «18+»-запрещено для детей                 NaN                    NaN   \n",
       "1  «6+»-для детей старше 6 лет                 NaN                    NaN   \n",
       "2    «18+»-запрещено для детей                 NaN                    NaN   \n",
       "3    «18+»-запрещено для детей                 NaN                    NaN   \n",
       "4    «18+»-запрещено для детей                 NaN                    NaN   \n",
       "\n",
       "   budget financing_source  ratings                     genres  box_office  \\\n",
       "0     NaN                       7.2     боевик,драма,мелодрама         NaN   \n",
       "1     NaN                       6.6              военный,драма         NaN   \n",
       "2     NaN                       6.8  боевик,триллер,фантастика         NaN   \n",
       "3     NaN                       6.8  боевик,триллер,фантастика         NaN   \n",
       "4     NaN                       6.8  боевик,триллер,фантастика         NaN   \n",
       "\n",
       "   show_start_date_year      main_director main_genres  \n",
       "0                  2015      кевин костнер      боевик  \n",
       "1                  2016          е.матвеев     военный  \n",
       "2                  2016  тимур бекмамбетов      боевик  \n",
       "3                  2016  тимур бекмамбетов      боевик  \n",
       "4                  2015  тимур бекмамбетов      боевик  "
      ]
     },
     "execution_count": 45,
     "metadata": {},
     "output_type": "execute_result"
    }
   ],
   "source": [
    "s = data_clean['director'].str.split(',')\n",
    "data_clean['main_director'] = s.str[0]\n",
    "s = data_clean['genres'].str.split(',')\n",
    "data_clean['main_genres'] = s.str[0]\n",
    "data_clean.head(5)"
   ]
  },
  {
   "cell_type": "code",
   "execution_count": 46,
   "metadata": {
    "id": "LV6qFuZLgFyV"
   },
   "outputs": [
    {
     "data": {
      "text/html": [
       "<div>\n",
       "<style scoped>\n",
       "    .dataframe tbody tr th:only-of-type {\n",
       "        vertical-align: middle;\n",
       "    }\n",
       "\n",
       "    .dataframe tbody tr th {\n",
       "        vertical-align: top;\n",
       "    }\n",
       "\n",
       "    .dataframe thead th {\n",
       "        text-align: right;\n",
       "    }\n",
       "</style>\n",
       "<table border=\"1\" class=\"dataframe\">\n",
       "  <thead>\n",
       "    <tr style=\"text-align: right;\">\n",
       "      <th></th>\n",
       "      <th>title</th>\n",
       "      <th>puNumber</th>\n",
       "      <th>show_start_date</th>\n",
       "      <th>type</th>\n",
       "      <th>film_studio</th>\n",
       "      <th>production_country</th>\n",
       "      <th>director</th>\n",
       "      <th>producer</th>\n",
       "      <th>age_restriction</th>\n",
       "      <th>refundable_support</th>\n",
       "      <th>nonrefundable_support</th>\n",
       "      <th>budget</th>\n",
       "      <th>financing_source</th>\n",
       "      <th>ratings</th>\n",
       "      <th>genres</th>\n",
       "      <th>box_office</th>\n",
       "      <th>show_start_date_year</th>\n",
       "      <th>main_director</th>\n",
       "      <th>main_genres</th>\n",
       "      <th>gos_share</th>\n",
       "    </tr>\n",
       "  </thead>\n",
       "  <tbody>\n",
       "    <tr>\n",
       "      <th>1280</th>\n",
       "      <td>пока еще жива</td>\n",
       "      <td>111005313</td>\n",
       "      <td>2013-10-11 12:00:00+00:00</td>\n",
       "      <td>художественный</td>\n",
       "      <td>ано содействия развитию кинематографии ангел-ф...</td>\n",
       "      <td>россия</td>\n",
       "      <td>а.атанесян</td>\n",
       "      <td>а.атанесян,м.бабаханов,р.бутко</td>\n",
       "      <td>«16+»-для детей старше 16 лет</td>\n",
       "      <td>0.0</td>\n",
       "      <td>26500.000</td>\n",
       "      <td>79.411900</td>\n",
       "      <td>министерство культуры</td>\n",
       "      <td>8.1</td>\n",
       "      <td>драма,мелодрама</td>\n",
       "      <td>0.365354</td>\n",
       "      <td>2013</td>\n",
       "      <td>а.атанесян</td>\n",
       "      <td>драма</td>\n",
       "      <td>0.333703</td>\n",
       "    </tr>\n",
       "    <tr>\n",
       "      <th>1446</th>\n",
       "      <td>бесславные придурки</td>\n",
       "      <td>111003314</td>\n",
       "      <td>2014-03-28 12:00:00+00:00</td>\n",
       "      <td>художественный</td>\n",
       "      <td>ооо компания атк-студио</td>\n",
       "      <td>россия</td>\n",
       "      <td>а.якимчук</td>\n",
       "      <td>а.тютрюмов</td>\n",
       "      <td>«12+»-для детей старше 12 лет</td>\n",
       "      <td>0.0</td>\n",
       "      <td>26000.000</td>\n",
       "      <td>37.142857</td>\n",
       "      <td>министерство культуры</td>\n",
       "      <td>NaN</td>\n",
       "      <td>драма</td>\n",
       "      <td>0.028140</td>\n",
       "      <td>2014</td>\n",
       "      <td>а.якимчук</td>\n",
       "      <td>драма</td>\n",
       "      <td>0.700000</td>\n",
       "    </tr>\n",
       "    <tr>\n",
       "      <th>1496</th>\n",
       "      <td>невидимки</td>\n",
       "      <td>111004213</td>\n",
       "      <td>2013-09-10 12:00:00+00:00</td>\n",
       "      <td>художественный</td>\n",
       "      <td>ооо компания реал-дакота</td>\n",
       "      <td>россия</td>\n",
       "      <td>р.давлетьяров,с.комаров</td>\n",
       "      <td>а.котелевский,а.олейников,р.давлетьяров</td>\n",
       "      <td>«12+»-для детей старше 12 лет</td>\n",
       "      <td>0.0</td>\n",
       "      <td>107847.945</td>\n",
       "      <td>176.023490</td>\n",
       "      <td>фонд кино</td>\n",
       "      <td>5.3</td>\n",
       "      <td>комедия,фантастика</td>\n",
       "      <td>19.957031</td>\n",
       "      <td>2013</td>\n",
       "      <td>р.давлетьяров</td>\n",
       "      <td>комедия</td>\n",
       "      <td>0.612691</td>\n",
       "    </tr>\n",
       "    <tr>\n",
       "      <th>1522</th>\n",
       "      <td>берцы</td>\n",
       "      <td>111004314</td>\n",
       "      <td>2014-05-05 12:00:00+00:00</td>\n",
       "      <td>художественный</td>\n",
       "      <td>ооо студия пассажир</td>\n",
       "      <td>россия</td>\n",
       "      <td>е.миндадзе (псевдоним катя шагалова)</td>\n",
       "      <td>л.антонова</td>\n",
       "      <td>«16+»-для детей старше 16 лет</td>\n",
       "      <td>0.0</td>\n",
       "      <td>28000.000</td>\n",
       "      <td>40.574140</td>\n",
       "      <td>министерство культуры</td>\n",
       "      <td>4.2</td>\n",
       "      <td>драма</td>\n",
       "      <td>0.055918</td>\n",
       "      <td>2014</td>\n",
       "      <td>е.миндадзе (псевдоним катя шагалова)</td>\n",
       "      <td>драма</td>\n",
       "      <td>0.690095</td>\n",
       "    </tr>\n",
       "    <tr>\n",
       "      <th>1789</th>\n",
       "      <td>братья ч</td>\n",
       "      <td>111004414</td>\n",
       "      <td>2014-04-23 12:00:00+00:00</td>\n",
       "      <td>художественный</td>\n",
       "      <td>ооо студия пассажир</td>\n",
       "      <td>россия</td>\n",
       "      <td>м.угаров</td>\n",
       "      <td>а.миндадзе,л.антонова</td>\n",
       "      <td>«16+»-для детей старше 16 лет</td>\n",
       "      <td>0.0</td>\n",
       "      <td>25000.000</td>\n",
       "      <td>40.015122</td>\n",
       "      <td>министерство культуры</td>\n",
       "      <td>6.4</td>\n",
       "      <td>драма</td>\n",
       "      <td>0.232100</td>\n",
       "      <td>2014</td>\n",
       "      <td>м.угаров</td>\n",
       "      <td>драма</td>\n",
       "      <td>0.624764</td>\n",
       "    </tr>\n",
       "    <tr>\n",
       "      <th>...</th>\n",
       "      <td>...</td>\n",
       "      <td>...</td>\n",
       "      <td>...</td>\n",
       "      <td>...</td>\n",
       "      <td>...</td>\n",
       "      <td>...</td>\n",
       "      <td>...</td>\n",
       "      <td>...</td>\n",
       "      <td>...</td>\n",
       "      <td>...</td>\n",
       "      <td>...</td>\n",
       "      <td>...</td>\n",
       "      <td>...</td>\n",
       "      <td>...</td>\n",
       "      <td>...</td>\n",
       "      <td>...</td>\n",
       "      <td>...</td>\n",
       "      <td>...</td>\n",
       "      <td>...</td>\n",
       "      <td>...</td>\n",
       "    </tr>\n",
       "    <tr>\n",
       "      <th>7437</th>\n",
       "      <td>союз спасения</td>\n",
       "      <td>111022019</td>\n",
       "      <td>2019-12-26 12:00:00+00:00</td>\n",
       "      <td>художественный</td>\n",
       "      <td>зао дирекция кино</td>\n",
       "      <td>россия</td>\n",
       "      <td>а.кравчук</td>\n",
       "      <td>а.максимов,к.эрнст</td>\n",
       "      <td>«12+»-для детей старше 12 лет</td>\n",
       "      <td>100000.0</td>\n",
       "      <td>400000.000</td>\n",
       "      <td>980.000000</td>\n",
       "      <td>фонд кино</td>\n",
       "      <td>6.0</td>\n",
       "      <td>биография,драма,история</td>\n",
       "      <td>717.703186</td>\n",
       "      <td>2019</td>\n",
       "      <td>а.кравчук</td>\n",
       "      <td>биография</td>\n",
       "      <td>0.510204</td>\n",
       "    </tr>\n",
       "    <tr>\n",
       "      <th>7439</th>\n",
       "      <td>иван царевич и серый волк 4</td>\n",
       "      <td>114005019</td>\n",
       "      <td>2019-12-20 12:00:00+00:00</td>\n",
       "      <td>анимационный</td>\n",
       "      <td>ооо студия анимационного кино мельница</td>\n",
       "      <td>россия</td>\n",
       "      <td>д.шмидт,к.феоктистов</td>\n",
       "      <td>а.боярский,с.сельянов</td>\n",
       "      <td>«6+»-для детей старше 6 лет</td>\n",
       "      <td>100000.0</td>\n",
       "      <td>0.000</td>\n",
       "      <td>190.000000</td>\n",
       "      <td>фонд кино</td>\n",
       "      <td>6.7</td>\n",
       "      <td>мультфильм,приключения,семейный</td>\n",
       "      <td>501.069235</td>\n",
       "      <td>2019</td>\n",
       "      <td>д.шмидт</td>\n",
       "      <td>мультфильм</td>\n",
       "      <td>0.526316</td>\n",
       "    </tr>\n",
       "    <tr>\n",
       "      <th>7447</th>\n",
       "      <td>вторжение</td>\n",
       "      <td>111022519</td>\n",
       "      <td>2019-12-23 12:00:00+00:00</td>\n",
       "      <td>художественный</td>\n",
       "      <td>ооо арт пикчерс студия,ооо водород 2011</td>\n",
       "      <td>россия</td>\n",
       "      <td>ф.бондарчук</td>\n",
       "      <td>а.андрющенко,д.рудовский,м.врубель,ф.бондарчук</td>\n",
       "      <td>«12+»-для детей старше 12 лет</td>\n",
       "      <td>100000.0</td>\n",
       "      <td>400000.000</td>\n",
       "      <td>944.000000</td>\n",
       "      <td>фонд кино</td>\n",
       "      <td>5.7</td>\n",
       "      <td>боевик,фантастика</td>\n",
       "      <td>NaN</td>\n",
       "      <td>2019</td>\n",
       "      <td>ф.бондарчук</td>\n",
       "      <td>боевик</td>\n",
       "      <td>0.529661</td>\n",
       "    </tr>\n",
       "    <tr>\n",
       "      <th>7449</th>\n",
       "      <td>я свободен</td>\n",
       "      <td>111023019</td>\n",
       "      <td>2019-12-26 12:00:00+00:00</td>\n",
       "      <td>художественный</td>\n",
       "      <td>ао тпо киностудия им. м.горького</td>\n",
       "      <td>россия</td>\n",
       "      <td>и.северов</td>\n",
       "      <td>с.зернов</td>\n",
       "      <td>«12+»-для детей старше 12 лет</td>\n",
       "      <td>0.0</td>\n",
       "      <td>30000.000</td>\n",
       "      <td>46.154000</td>\n",
       "      <td>министерство культуры</td>\n",
       "      <td>5.9</td>\n",
       "      <td>драма</td>\n",
       "      <td>NaN</td>\n",
       "      <td>2019</td>\n",
       "      <td>и.северов</td>\n",
       "      <td>драма</td>\n",
       "      <td>0.649998</td>\n",
       "    </tr>\n",
       "    <tr>\n",
       "      <th>7451</th>\n",
       "      <td>(не)идеальный мужчина</td>\n",
       "      <td>111023119</td>\n",
       "      <td>2019-12-24 12:00:00+00:00</td>\n",
       "      <td>художественный</td>\n",
       "      <td>ооо нон-стоп продакшн</td>\n",
       "      <td>россия</td>\n",
       "      <td>м.бальчюнас (псевдоним м.вайсберг)</td>\n",
       "      <td>а.роднянский,м.вайсберг,р.минасбекян,с.мелькумов</td>\n",
       "      <td>«12+»-для детей старше 12 лет</td>\n",
       "      <td>40000.0</td>\n",
       "      <td>60000.000</td>\n",
       "      <td>150.147502</td>\n",
       "      <td>фонд кино</td>\n",
       "      <td>4.5</td>\n",
       "      <td>комедия,мелодрама,фантастика</td>\n",
       "      <td>NaN</td>\n",
       "      <td>2019</td>\n",
       "      <td>м.бальчюнас (псевдоним м.вайсберг)</td>\n",
       "      <td>комедия</td>\n",
       "      <td>0.666012</td>\n",
       "    </tr>\n",
       "  </tbody>\n",
       "</table>\n",
       "<p>315 rows × 20 columns</p>\n",
       "</div>"
      ],
      "text/plain": [
       "                            title   puNumber           show_start_date  \\\n",
       "1280                пока еще жива  111005313 2013-10-11 12:00:00+00:00   \n",
       "1446          бесславные придурки  111003314 2014-03-28 12:00:00+00:00   \n",
       "1496                    невидимки  111004213 2013-09-10 12:00:00+00:00   \n",
       "1522                        берцы  111004314 2014-05-05 12:00:00+00:00   \n",
       "1789                     братья ч  111004414 2014-04-23 12:00:00+00:00   \n",
       "...                           ...        ...                       ...   \n",
       "7437                союз спасения  111022019 2019-12-26 12:00:00+00:00   \n",
       "7439  иван царевич и серый волк 4  114005019 2019-12-20 12:00:00+00:00   \n",
       "7447                    вторжение  111022519 2019-12-23 12:00:00+00:00   \n",
       "7449                   я свободен  111023019 2019-12-26 12:00:00+00:00   \n",
       "7451        (не)идеальный мужчина  111023119 2019-12-24 12:00:00+00:00   \n",
       "\n",
       "                type                                        film_studio  \\\n",
       "1280  художественный  ано содействия развитию кинематографии ангел-ф...   \n",
       "1446  художественный                            ооо компания атк-студио   \n",
       "1496  художественный                           ооо компания реал-дакота   \n",
       "1522  художественный                                ооо студия пассажир   \n",
       "1789  художественный                                ооо студия пассажир   \n",
       "...              ...                                                ...   \n",
       "7437  художественный                                  зао дирекция кино   \n",
       "7439    анимационный             ооо студия анимационного кино мельница   \n",
       "7447  художественный            ооо арт пикчерс студия,ооо водород 2011   \n",
       "7449  художественный                   ао тпо киностудия им. м.горького   \n",
       "7451  художественный                              ооо нон-стоп продакшн   \n",
       "\n",
       "     production_country                              director  \\\n",
       "1280             россия                            а.атанесян   \n",
       "1446             россия                             а.якимчук   \n",
       "1496             россия               р.давлетьяров,с.комаров   \n",
       "1522             россия  е.миндадзе (псевдоним катя шагалова)   \n",
       "1789             россия                              м.угаров   \n",
       "...                 ...                                   ...   \n",
       "7437             россия                             а.кравчук   \n",
       "7439             россия                  д.шмидт,к.феоктистов   \n",
       "7447             россия                           ф.бондарчук   \n",
       "7449             россия                             и.северов   \n",
       "7451             россия    м.бальчюнас (псевдоним м.вайсберг)   \n",
       "\n",
       "                                              producer  \\\n",
       "1280                    а.атанесян,м.бабаханов,р.бутко   \n",
       "1446                                        а.тютрюмов   \n",
       "1496           а.котелевский,а.олейников,р.давлетьяров   \n",
       "1522                                        л.антонова   \n",
       "1789                             а.миндадзе,л.антонова   \n",
       "...                                                ...   \n",
       "7437                                а.максимов,к.эрнст   \n",
       "7439                             а.боярский,с.сельянов   \n",
       "7447    а.андрющенко,д.рудовский,м.врубель,ф.бондарчук   \n",
       "7449                                          с.зернов   \n",
       "7451  а.роднянский,м.вайсберг,р.минасбекян,с.мелькумов   \n",
       "\n",
       "                    age_restriction  refundable_support  \\\n",
       "1280  «16+»-для детей старше 16 лет                 0.0   \n",
       "1446  «12+»-для детей старше 12 лет                 0.0   \n",
       "1496  «12+»-для детей старше 12 лет                 0.0   \n",
       "1522  «16+»-для детей старше 16 лет                 0.0   \n",
       "1789  «16+»-для детей старше 16 лет                 0.0   \n",
       "...                             ...                 ...   \n",
       "7437  «12+»-для детей старше 12 лет            100000.0   \n",
       "7439    «6+»-для детей старше 6 лет            100000.0   \n",
       "7447  «12+»-для детей старше 12 лет            100000.0   \n",
       "7449  «12+»-для детей старше 12 лет                 0.0   \n",
       "7451  «12+»-для детей старше 12 лет             40000.0   \n",
       "\n",
       "      nonrefundable_support      budget       financing_source  ratings  \\\n",
       "1280              26500.000   79.411900  министерство культуры      8.1   \n",
       "1446              26000.000   37.142857  министерство культуры      NaN   \n",
       "1496             107847.945  176.023490              фонд кино      5.3   \n",
       "1522              28000.000   40.574140  министерство культуры      4.2   \n",
       "1789              25000.000   40.015122  министерство культуры      6.4   \n",
       "...                     ...         ...                    ...      ...   \n",
       "7437             400000.000  980.000000              фонд кино      6.0   \n",
       "7439                  0.000  190.000000              фонд кино      6.7   \n",
       "7447             400000.000  944.000000              фонд кино      5.7   \n",
       "7449              30000.000   46.154000  министерство культуры      5.9   \n",
       "7451              60000.000  150.147502              фонд кино      4.5   \n",
       "\n",
       "                               genres  box_office  show_start_date_year  \\\n",
       "1280                  драма,мелодрама    0.365354                  2013   \n",
       "1446                            драма    0.028140                  2014   \n",
       "1496               комедия,фантастика   19.957031                  2013   \n",
       "1522                            драма    0.055918                  2014   \n",
       "1789                            драма    0.232100                  2014   \n",
       "...                               ...         ...                   ...   \n",
       "7437          биография,драма,история  717.703186                  2019   \n",
       "7439  мультфильм,приключения,семейный  501.069235                  2019   \n",
       "7447                боевик,фантастика         NaN                  2019   \n",
       "7449                            драма         NaN                  2019   \n",
       "7451     комедия,мелодрама,фантастика         NaN                  2019   \n",
       "\n",
       "                             main_director main_genres  gos_share  \n",
       "1280                            а.атанесян       драма   0.333703  \n",
       "1446                             а.якимчук       драма   0.700000  \n",
       "1496                         р.давлетьяров     комедия   0.612691  \n",
       "1522  е.миндадзе (псевдоним катя шагалова)       драма   0.690095  \n",
       "1789                              м.угаров       драма   0.624764  \n",
       "...                                    ...         ...        ...  \n",
       "7437                             а.кравчук   биография   0.510204  \n",
       "7439                               д.шмидт  мультфильм   0.526316  \n",
       "7447                           ф.бондарчук      боевик   0.529661  \n",
       "7449                             и.северов       драма   0.649998  \n",
       "7451    м.бальчюнас (псевдоним м.вайсберг)     комедия   0.666012  \n",
       "\n",
       "[315 rows x 20 columns]"
      ]
     },
     "execution_count": 46,
     "metadata": {},
     "output_type": "execute_result"
    }
   ],
   "source": [
    "data_clean['gos_share'] = (data_clean['refundable_support'] + data_clean['nonrefundable_support']) / (data_clean['budget']*1000)\n",
    "data_clean.loc[~data_clean['gos_share'].isna()]"
   ]
  },
  {
   "cell_type": "markdown",
   "metadata": {
    "id": "6t4EukPLgFyV"
   },
   "source": [
    "### Шаг 3. исследовательский анализ данных\n"
   ]
  },
  {
   "cell_type": "code",
   "execution_count": 47,
   "metadata": {
    "id": "ABeV47y7gFyW"
   },
   "outputs": [
    {
     "data": {
      "text/plain": [
       "show_start_date_year\n",
       "2010    980\n",
       "2011    620\n",
       "2012    592\n",
       "2013    629\n",
       "2014    805\n",
       "2015    699\n",
       "2016    814\n",
       "2017    503\n",
       "2018    875\n",
       "2019    925\n",
       "Name: show_start_date_year, dtype: int64"
      ]
     },
     "execution_count": 47,
     "metadata": {},
     "output_type": "execute_result"
    }
   ],
   "source": [
    "films_count=data_clean.groupby('show_start_date_year')['show_start_date_year'].count()\n",
    "#films_count = pd.DataFrame({'year':films_count.index, 'count':films_count.values})\n",
    "films_count"
   ]
  },
  {
   "cell_type": "code",
   "execution_count": 48,
   "metadata": {},
   "outputs": [
    {
     "data": {
      "text/plain": [
       "<AxesSubplot:xlabel='show_start_date_year'>"
      ]
     },
     "execution_count": 48,
     "metadata": {},
     "output_type": "execute_result"
    },
    {
     "data": {
      "image/png": "[encoded data removed]",
      "text/plain": [
       "<Figure size 432x288 with 1 Axes>"
      ]
     },
     "metadata": {
      "needs_background": "light"
     },
     "output_type": "display_data"
    }
   ],
   "source": [
    "films_count.plot(kind = 'line', alpha = 1)"
   ]
  },
  {
   "cell_type": "markdown",
   "metadata": {},
   "source": [
    "Складывается впечатление, что выпуск фильмов в прокат цикличен\n",
    "Возможно, при хорошей экономической ситуации закладываентся больше средств на производство фильмов, и в моменты наступления кризисов количество фильмов в прокате достигает пика\n",
    "В моменты кризиса производство фильмов падает, соответственно выход в прокат снижается и достигает нижнего пика в моменты хорошей экономической ситуации"
   ]
  },
  {
   "cell_type": "code",
   "execution_count": 49,
   "metadata": {},
   "outputs": [
    {
     "data": {
      "text/html": [
       "<div>\n",
       "<style scoped>\n",
       "    .dataframe tbody tr th:only-of-type {\n",
       "        vertical-align: middle;\n",
       "    }\n",
       "\n",
       "    .dataframe tbody tr th {\n",
       "        vertical-align: top;\n",
       "    }\n",
       "\n",
       "    .dataframe thead th {\n",
       "        text-align: right;\n",
       "    }\n",
       "</style>\n",
       "<table border=\"1\" class=\"dataframe\">\n",
       "  <thead>\n",
       "    <tr style=\"text-align: right;\">\n",
       "      <th></th>\n",
       "      <th>box_office_count</th>\n",
       "      <th>total_count</th>\n",
       "      <th>box_office_share</th>\n",
       "    </tr>\n",
       "    <tr>\n",
       "      <th>show_start_date_year</th>\n",
       "      <th></th>\n",
       "      <th></th>\n",
       "      <th></th>\n",
       "    </tr>\n",
       "  </thead>\n",
       "  <tbody>\n",
       "    <tr>\n",
       "      <th>2010</th>\n",
       "      <td>105</td>\n",
       "      <td>980</td>\n",
       "      <td>0.107143</td>\n",
       "    </tr>\n",
       "    <tr>\n",
       "      <th>2011</th>\n",
       "      <td>109</td>\n",
       "      <td>620</td>\n",
       "      <td>0.175806</td>\n",
       "    </tr>\n",
       "    <tr>\n",
       "      <th>2012</th>\n",
       "      <td>127</td>\n",
       "      <td>592</td>\n",
       "      <td>0.214527</td>\n",
       "    </tr>\n",
       "    <tr>\n",
       "      <th>2013</th>\n",
       "      <td>184</td>\n",
       "      <td>629</td>\n",
       "      <td>0.292528</td>\n",
       "    </tr>\n",
       "    <tr>\n",
       "      <th>2014</th>\n",
       "      <td>278</td>\n",
       "      <td>805</td>\n",
       "      <td>0.345342</td>\n",
       "    </tr>\n",
       "    <tr>\n",
       "      <th>2015</th>\n",
       "      <td>459</td>\n",
       "      <td>699</td>\n",
       "      <td>0.656652</td>\n",
       "    </tr>\n",
       "    <tr>\n",
       "      <th>2016</th>\n",
       "      <td>522</td>\n",
       "      <td>814</td>\n",
       "      <td>0.641278</td>\n",
       "    </tr>\n",
       "    <tr>\n",
       "      <th>2017</th>\n",
       "      <td>355</td>\n",
       "      <td>503</td>\n",
       "      <td>0.705765</td>\n",
       "    </tr>\n",
       "    <tr>\n",
       "      <th>2018</th>\n",
       "      <td>470</td>\n",
       "      <td>875</td>\n",
       "      <td>0.537143</td>\n",
       "    </tr>\n",
       "    <tr>\n",
       "      <th>2019</th>\n",
       "      <td>529</td>\n",
       "      <td>925</td>\n",
       "      <td>0.571892</td>\n",
       "    </tr>\n",
       "  </tbody>\n",
       "</table>\n",
       "</div>"
      ],
      "text/plain": [
       "                      box_office_count  total_count  box_office_share\n",
       "show_start_date_year                                                 \n",
       "2010                               105          980          0.107143\n",
       "2011                               109          620          0.175806\n",
       "2012                               127          592          0.214527\n",
       "2013                               184          629          0.292528\n",
       "2014                               278          805          0.345342\n",
       "2015                               459          699          0.656652\n",
       "2016                               522          814          0.641278\n",
       "2017                               355          503          0.705765\n",
       "2018                               470          875          0.537143\n",
       "2019                               529          925          0.571892"
      ]
     },
     "execution_count": 49,
     "metadata": {},
     "output_type": "execute_result"
    }
   ],
   "source": [
    "data_clean_box_office_share = data_clean.pivot_table(index='show_start_date_year', values=['title', 'box_office'], aggfunc=['count'])#.reset_index()\n",
    "data_clean_box_office_share.columns = [ 'box_office_count', 'total_count']\n",
    "data_clean_box_office_share['box_office_share'] = data_clean_box_office_share['box_office_count'] / data_clean_box_office_share['total_count']\n",
    "data_clean_box_office_share"
   ]
  },
  {
   "cell_type": "code",
   "execution_count": 50,
   "metadata": {},
   "outputs": [
    {
     "data": {
      "text/plain": [
       "<AxesSubplot:xlabel='show_start_date_year'>"
      ]
     },
     "execution_count": 50,
     "metadata": {},
     "output_type": "execute_result"
    },
    {
     "data": {
      "image/png": "[encoded data removed]",
      "text/plain": [
       "<Figure size 432x288 with 1 Axes>"
      ]
     },
     "metadata": {
      "needs_background": "light"
     },
     "output_type": "display_data"
    }
   ],
   "source": [
    "data_clean_box_office_share['box_office_share'].plot(kind = 'line', alpha = 1)"
   ]
  },
  {
   "cell_type": "markdown",
   "metadata": {},
   "source": [
    "Динамика, ожидаемо восходящая. Думаю это связано с улучшением качества накапливаемых данных\n",
    "Наиболее полно по кассовым сборам представлен период с 2015 по 2017 годы"
   ]
  },
  {
   "cell_type": "code",
   "execution_count": 51,
   "metadata": {},
   "outputs": [
    {
     "data": {
      "text/html": [
       "<div>\n",
       "<style scoped>\n",
       "    .dataframe tbody tr th:only-of-type {\n",
       "        vertical-align: middle;\n",
       "    }\n",
       "\n",
       "    .dataframe tbody tr th {\n",
       "        vertical-align: top;\n",
       "    }\n",
       "\n",
       "    .dataframe thead th {\n",
       "        text-align: right;\n",
       "    }\n",
       "</style>\n",
       "<table border=\"1\" class=\"dataframe\">\n",
       "  <thead>\n",
       "    <tr style=\"text-align: right;\">\n",
       "      <th></th>\n",
       "      <th>title</th>\n",
       "      <th>puNumber</th>\n",
       "      <th>show_start_date</th>\n",
       "      <th>type</th>\n",
       "      <th>film_studio</th>\n",
       "      <th>production_country</th>\n",
       "      <th>director</th>\n",
       "      <th>producer</th>\n",
       "      <th>age_restriction</th>\n",
       "      <th>refundable_support</th>\n",
       "      <th>nonrefundable_support</th>\n",
       "      <th>budget</th>\n",
       "      <th>financing_source</th>\n",
       "      <th>ratings</th>\n",
       "      <th>genres</th>\n",
       "      <th>box_office</th>\n",
       "      <th>show_start_date_year</th>\n",
       "      <th>main_director</th>\n",
       "      <th>main_genres</th>\n",
       "      <th>gos_share</th>\n",
       "    </tr>\n",
       "  </thead>\n",
       "  <tbody>\n",
       "    <tr>\n",
       "      <th>2428</th>\n",
       "      <td>племя.</td>\n",
       "      <td>131000614</td>\n",
       "      <td>2014-12-29 12:00:00+00:00</td>\n",
       "      <td>художественный</td>\n",
       "      <td>гармата филм продакшн</td>\n",
       "      <td>украина-нидерланды</td>\n",
       "      <td>мирослав слабошпицкий</td>\n",
       "      <td>валентин васянович,елена слабошпицкая,ия мысли...</td>\n",
       "      <td>«18+»-запрещено для детей</td>\n",
       "      <td>NaN</td>\n",
       "      <td>NaN</td>\n",
       "      <td>NaN</td>\n",
       "      <td></td>\n",
       "      <td>6.4</td>\n",
       "      <td>драма,криминал</td>\n",
       "      <td>1.003723</td>\n",
       "      <td>2014</td>\n",
       "      <td>мирослав слабошпицкий</td>\n",
       "      <td>драма</td>\n",
       "      <td>NaN</td>\n",
       "    </tr>\n",
       "    <tr>\n",
       "      <th>2860</th>\n",
       "      <td>клан (2015)</td>\n",
       "      <td>121002816</td>\n",
       "      <td>2016-02-11 12:00:00+00:00</td>\n",
       "      <td>художественный</td>\n",
       "      <td>ка и эс фильм,крамер и сигман фильм,матанза си...</td>\n",
       "      <td>аргентина-испания</td>\n",
       "      <td>пабло троперо</td>\n",
       "      <td>августин альмодовар,педро альмодовар,уго сигма...</td>\n",
       "      <td>«18+»-запрещено для детей</td>\n",
       "      <td>NaN</td>\n",
       "      <td>NaN</td>\n",
       "      <td>NaN</td>\n",
       "      <td></td>\n",
       "      <td>6.1</td>\n",
       "      <td>драма,криминал,триллер</td>\n",
       "      <td>1.007437</td>\n",
       "      <td>2016</td>\n",
       "      <td>пабло троперо</td>\n",
       "      <td>драма</td>\n",
       "      <td>NaN</td>\n",
       "    </tr>\n",
       "    <tr>\n",
       "      <th>6532</th>\n",
       "      <td>любовь и прочий зоопарк</td>\n",
       "      <td>121029718</td>\n",
       "      <td>2018-12-27 12:00:00+00:00</td>\n",
       "      <td>художественный</td>\n",
       "      <td>агат фильм / си,ареми продюксьон,ля банк поста...</td>\n",
       "      <td>франция-бельгия</td>\n",
       "      <td>антони кордье</td>\n",
       "      <td>николас бланк</td>\n",
       "      <td>«18+»-запрещено для детей</td>\n",
       "      <td>NaN</td>\n",
       "      <td>NaN</td>\n",
       "      <td>NaN</td>\n",
       "      <td></td>\n",
       "      <td>5.9</td>\n",
       "      <td>комедия,мелодрама</td>\n",
       "      <td>1.012749</td>\n",
       "      <td>2018</td>\n",
       "      <td>антони кордье</td>\n",
       "      <td>комедия</td>\n",
       "      <td>NaN</td>\n",
       "    </tr>\n",
       "    <tr>\n",
       "      <th>2851</th>\n",
       "      <td>взорвать гитлера</td>\n",
       "      <td>121005716</td>\n",
       "      <td>2016-03-23 12:00:00+00:00</td>\n",
       "      <td>художественный</td>\n",
       "      <td>а эр дэ дегето филм,алболина филм,арт,байришер...</td>\n",
       "      <td>германия</td>\n",
       "      <td>оливер хиршбигель</td>\n",
       "      <td>манфред хаттендорф,фред брайнерсдорфер</td>\n",
       "      <td>«18+»-запрещено для детей</td>\n",
       "      <td>NaN</td>\n",
       "      <td>NaN</td>\n",
       "      <td>NaN</td>\n",
       "      <td></td>\n",
       "      <td>6.7</td>\n",
       "      <td>военный,драма,история</td>\n",
       "      <td>1.012971</td>\n",
       "      <td>2016</td>\n",
       "      <td>оливер хиршбигель</td>\n",
       "      <td>военный</td>\n",
       "      <td>NaN</td>\n",
       "    </tr>\n",
       "    <tr>\n",
       "      <th>7108</th>\n",
       "      <td>дефолт</td>\n",
       "      <td>121022419</td>\n",
       "      <td>2019-08-15 12:00:00+00:00</td>\n",
       "      <td>художественный</td>\n",
       "      <td>зип синема,си джи интертейнмент</td>\n",
       "      <td>южная корея</td>\n",
       "      <td>чхве гук-хи</td>\n",
       "      <td>ли ю-джин,о хё-джин</td>\n",
       "      <td>«18+»-запрещено для детей</td>\n",
       "      <td>NaN</td>\n",
       "      <td>NaN</td>\n",
       "      <td>NaN</td>\n",
       "      <td></td>\n",
       "      <td>6.8</td>\n",
       "      <td>драма,история</td>\n",
       "      <td>1.015408</td>\n",
       "      <td>2019</td>\n",
       "      <td>чхве гук-хи</td>\n",
       "      <td>драма</td>\n",
       "      <td>NaN</td>\n",
       "    </tr>\n",
       "    <tr>\n",
       "      <th>...</th>\n",
       "      <td>...</td>\n",
       "      <td>...</td>\n",
       "      <td>...</td>\n",
       "      <td>...</td>\n",
       "      <td>...</td>\n",
       "      <td>...</td>\n",
       "      <td>...</td>\n",
       "      <td>...</td>\n",
       "      <td>...</td>\n",
       "      <td>...</td>\n",
       "      <td>...</td>\n",
       "      <td>...</td>\n",
       "      <td>...</td>\n",
       "      <td>...</td>\n",
       "      <td>...</td>\n",
       "      <td>...</td>\n",
       "      <td>...</td>\n",
       "      <td>...</td>\n",
       "      <td>...</td>\n",
       "      <td>...</td>\n",
       "    </tr>\n",
       "    <tr>\n",
       "      <th>3484</th>\n",
       "      <td>пираты карибского моря: мертвецы не рассказыва...</td>\n",
       "      <td>121009217</td>\n",
       "      <td>2017-05-17 12:00:00+00:00</td>\n",
       "      <td>художественный</td>\n",
       "      <td>джерри брукхаймер филмз,инфинитум нихил,уолт д...</td>\n",
       "      <td>сша</td>\n",
       "      <td>йоаким реннинг,эспен сандберг</td>\n",
       "      <td>джерри брукхаймер</td>\n",
       "      <td>«16+»-для детей старше 16 лет</td>\n",
       "      <td>NaN</td>\n",
       "      <td>NaN</td>\n",
       "      <td>NaN</td>\n",
       "      <td></td>\n",
       "      <td>6.6</td>\n",
       "      <td>боевик,комедия,фэнтези</td>\n",
       "      <td>2118.396119</td>\n",
       "      <td>2017</td>\n",
       "      <td>йоаким реннинг</td>\n",
       "      <td>боевик</td>\n",
       "      <td>NaN</td>\n",
       "    </tr>\n",
       "    <tr>\n",
       "      <th>6526</th>\n",
       "      <td>т-34</td>\n",
       "      <td>111024918</td>\n",
       "      <td>2018-12-21 12:00:00+00:00</td>\n",
       "      <td>художественный</td>\n",
       "      <td>ооо амедиа продакшн и ао телекомпания,ооо кино...</td>\n",
       "      <td>россия</td>\n",
       "      <td>а.сидоров</td>\n",
       "      <td>а.златопольский,л.блаватник,н.михалкова,н.ярал...</td>\n",
       "      <td>«12+»-для детей старше 12 лет</td>\n",
       "      <td>60000.0</td>\n",
       "      <td>120000.0</td>\n",
       "      <td>563.784717</td>\n",
       "      <td>фонд кино</td>\n",
       "      <td>6.5</td>\n",
       "      <td>боевик,военный,драма</td>\n",
       "      <td>2271.754005</td>\n",
       "      <td>2018</td>\n",
       "      <td>а.сидоров</td>\n",
       "      <td>боевик</td>\n",
       "      <td>0.319271</td>\n",
       "    </tr>\n",
       "    <tr>\n",
       "      <th>6793</th>\n",
       "      <td>мстители: финал</td>\n",
       "      <td>121005519</td>\n",
       "      <td>2019-04-29 12:00:00+00:00</td>\n",
       "      <td>художественный</td>\n",
       "      <td>марвел студиос</td>\n",
       "      <td>сша</td>\n",
       "      <td>джо руссо,энтони руссо</td>\n",
       "      <td>кевин фейги</td>\n",
       "      <td>«16+»-для детей старше 16 лет</td>\n",
       "      <td>NaN</td>\n",
       "      <td>NaN</td>\n",
       "      <td>NaN</td>\n",
       "      <td></td>\n",
       "      <td>7.6</td>\n",
       "      <td>боевик,драма,фантастика</td>\n",
       "      <td>2576.613777</td>\n",
       "      <td>2019</td>\n",
       "      <td>джо руссо</td>\n",
       "      <td>боевик</td>\n",
       "      <td>NaN</td>\n",
       "    </tr>\n",
       "    <tr>\n",
       "      <th>5642</th>\n",
       "      <td>движение вверх</td>\n",
       "      <td>111011817</td>\n",
       "      <td>2017-12-21 12:00:00+00:00</td>\n",
       "      <td>художественный</td>\n",
       "      <td>ооо студия тритэ никиты михалкова</td>\n",
       "      <td>россия</td>\n",
       "      <td>а.мегердичев</td>\n",
       "      <td>а.златопольский,л.верещагин,н.михалков,ооо сту...</td>\n",
       "      <td>«6+»-для детей старше 6 лет</td>\n",
       "      <td>0.0</td>\n",
       "      <td>400000.0</td>\n",
       "      <td>590.192191</td>\n",
       "      <td>фонд кино</td>\n",
       "      <td>7.5</td>\n",
       "      <td>драма,спорт</td>\n",
       "      <td>2779.686144</td>\n",
       "      <td>2017</td>\n",
       "      <td>а.мегердичев</td>\n",
       "      <td>драма</td>\n",
       "      <td>0.677745</td>\n",
       "    </tr>\n",
       "    <tr>\n",
       "      <th>7429</th>\n",
       "      <td>холоп</td>\n",
       "      <td>111021719</td>\n",
       "      <td>2019-12-19 12:00:00+00:00</td>\n",
       "      <td>художественный</td>\n",
       "      <td>ооо мем-медиа по заказу ао вбд груп</td>\n",
       "      <td>россия</td>\n",
       "      <td>к.шипенко</td>\n",
       "      <td>а.кушаев,а.троцюк,в.верещагин,в.дусмухаметов,в...</td>\n",
       "      <td>«12+»-для детей старше 12 лет</td>\n",
       "      <td>25000.0</td>\n",
       "      <td>35000.0</td>\n",
       "      <td>160.000000</td>\n",
       "      <td>фонд кино</td>\n",
       "      <td>6.8</td>\n",
       "      <td>комедия</td>\n",
       "      <td>3073.568691</td>\n",
       "      <td>2019</td>\n",
       "      <td>к.шипенко</td>\n",
       "      <td>комедия</td>\n",
       "      <td>0.375000</td>\n",
       "    </tr>\n",
       "  </tbody>\n",
       "</table>\n",
       "<p>1883 rows × 20 columns</p>\n",
       "</div>"
      ],
      "text/plain": [
       "                                                  title   puNumber  \\\n",
       "2428                                             племя.  131000614   \n",
       "2860                                        клан (2015)  121002816   \n",
       "6532                            любовь и прочий зоопарк  121029718   \n",
       "2851                                   взорвать гитлера  121005716   \n",
       "7108                                             дефолт  121022419   \n",
       "...                                                 ...        ...   \n",
       "3484  пираты карибского моря: мертвецы не рассказыва...  121009217   \n",
       "6526                                               т-34  111024918   \n",
       "6793                                    мстители: финал  121005519   \n",
       "5642                                     движение вверх  111011817   \n",
       "7429                                              холоп  111021719   \n",
       "\n",
       "               show_start_date            type  \\\n",
       "2428 2014-12-29 12:00:00+00:00  художественный   \n",
       "2860 2016-02-11 12:00:00+00:00  художественный   \n",
       "6532 2018-12-27 12:00:00+00:00  художественный   \n",
       "2851 2016-03-23 12:00:00+00:00  художественный   \n",
       "7108 2019-08-15 12:00:00+00:00  художественный   \n",
       "...                        ...             ...   \n",
       "3484 2017-05-17 12:00:00+00:00  художественный   \n",
       "6526 2018-12-21 12:00:00+00:00  художественный   \n",
       "6793 2019-04-29 12:00:00+00:00  художественный   \n",
       "5642 2017-12-21 12:00:00+00:00  художественный   \n",
       "7429 2019-12-19 12:00:00+00:00  художественный   \n",
       "\n",
       "                                            film_studio  production_country  \\\n",
       "2428                              гармата филм продакшн  украина-нидерланды   \n",
       "2860  ка и эс фильм,крамер и сигман фильм,матанза си...   аргентина-испания   \n",
       "6532  агат фильм / си,ареми продюксьон,ля банк поста...     франция-бельгия   \n",
       "2851  а эр дэ дегето филм,алболина филм,арт,байришер...            германия   \n",
       "7108                    зип синема,си джи интертейнмент         южная корея   \n",
       "...                                                 ...                 ...   \n",
       "3484  джерри брукхаймер филмз,инфинитум нихил,уолт д...                 сша   \n",
       "6526  ооо амедиа продакшн и ао телекомпания,ооо кино...              россия   \n",
       "6793                                     марвел студиос                 сша   \n",
       "5642                  ооо студия тритэ никиты михалкова              россия   \n",
       "7429                ооо мем-медиа по заказу ао вбд груп              россия   \n",
       "\n",
       "                           director  \\\n",
       "2428          мирослав слабошпицкий   \n",
       "2860                  пабло троперо   \n",
       "6532                  антони кордье   \n",
       "2851              оливер хиршбигель   \n",
       "7108                    чхве гук-хи   \n",
       "...                             ...   \n",
       "3484  йоаким реннинг,эспен сандберг   \n",
       "6526                      а.сидоров   \n",
       "6793         джо руссо,энтони руссо   \n",
       "5642                   а.мегердичев   \n",
       "7429                      к.шипенко   \n",
       "\n",
       "                                               producer  \\\n",
       "2428  валентин васянович,елена слабошпицкая,ия мысли...   \n",
       "2860  августин альмодовар,педро альмодовар,уго сигма...   \n",
       "6532                                      николас бланк   \n",
       "2851             манфред хаттендорф,фред брайнерсдорфер   \n",
       "7108                                ли ю-джин,о хё-джин   \n",
       "...                                                 ...   \n",
       "3484                                  джерри брукхаймер   \n",
       "6526  а.златопольский,л.блаватник,н.михалкова,н.ярал...   \n",
       "6793                                        кевин фейги   \n",
       "5642  а.златопольский,л.верещагин,н.михалков,ооо сту...   \n",
       "7429  а.кушаев,а.троцюк,в.верещагин,в.дусмухаметов,в...   \n",
       "\n",
       "                    age_restriction  refundable_support  \\\n",
       "2428      «18+»-запрещено для детей                 NaN   \n",
       "2860      «18+»-запрещено для детей                 NaN   \n",
       "6532      «18+»-запрещено для детей                 NaN   \n",
       "2851      «18+»-запрещено для детей                 NaN   \n",
       "7108      «18+»-запрещено для детей                 NaN   \n",
       "...                             ...                 ...   \n",
       "3484  «16+»-для детей старше 16 лет                 NaN   \n",
       "6526  «12+»-для детей старше 12 лет             60000.0   \n",
       "6793  «16+»-для детей старше 16 лет                 NaN   \n",
       "5642    «6+»-для детей старше 6 лет                 0.0   \n",
       "7429  «12+»-для детей старше 12 лет             25000.0   \n",
       "\n",
       "      nonrefundable_support      budget financing_source  ratings  \\\n",
       "2428                    NaN         NaN                       6.4   \n",
       "2860                    NaN         NaN                       6.1   \n",
       "6532                    NaN         NaN                       5.9   \n",
       "2851                    NaN         NaN                       6.7   \n",
       "7108                    NaN         NaN                       6.8   \n",
       "...                     ...         ...              ...      ...   \n",
       "3484                    NaN         NaN                       6.6   \n",
       "6526               120000.0  563.784717        фонд кино      6.5   \n",
       "6793                    NaN         NaN                       7.6   \n",
       "5642               400000.0  590.192191        фонд кино      7.5   \n",
       "7429                35000.0  160.000000        фонд кино      6.8   \n",
       "\n",
       "                       genres   box_office  show_start_date_year  \\\n",
       "2428           драма,криминал     1.003723                  2014   \n",
       "2860   драма,криминал,триллер     1.007437                  2016   \n",
       "6532        комедия,мелодрама     1.012749                  2018   \n",
       "2851    военный,драма,история     1.012971                  2016   \n",
       "7108            драма,история     1.015408                  2019   \n",
       "...                       ...          ...                   ...   \n",
       "3484   боевик,комедия,фэнтези  2118.396119                  2017   \n",
       "6526     боевик,военный,драма  2271.754005                  2018   \n",
       "6793  боевик,драма,фантастика  2576.613777                  2019   \n",
       "5642              драма,спорт  2779.686144                  2017   \n",
       "7429                  комедия  3073.568691                  2019   \n",
       "\n",
       "              main_director main_genres  gos_share  \n",
       "2428  мирослав слабошпицкий       драма        NaN  \n",
       "2860          пабло троперо       драма        NaN  \n",
       "6532          антони кордье     комедия        NaN  \n",
       "2851      оливер хиршбигель     военный        NaN  \n",
       "7108            чхве гук-хи       драма        NaN  \n",
       "...                     ...         ...        ...  \n",
       "3484         йоаким реннинг      боевик        NaN  \n",
       "6526              а.сидоров      боевик   0.319271  \n",
       "6793              джо руссо      боевик        NaN  \n",
       "5642           а.мегердичев       драма   0.677745  \n",
       "7429              к.шипенко     комедия   0.375000  \n",
       "\n",
       "[1883 rows x 20 columns]"
      ]
     },
     "execution_count": 51,
     "metadata": {},
     "output_type": "execute_result"
    }
   ],
   "source": [
    "data_clean.loc[(~data_clean['box_office'].isna())&(data_clean['box_office'] > 1)].sort_values('box_office')"
   ]
  },
  {
   "cell_type": "code",
   "execution_count": 52,
   "metadata": {
    "id": "tfEhofYvgFyX"
   },
   "outputs": [
    {
     "data": {
      "text/html": [
       "<div>\n",
       "<style scoped>\n",
       "    .dataframe tbody tr th:only-of-type {\n",
       "        vertical-align: middle;\n",
       "    }\n",
       "\n",
       "    .dataframe tbody tr th {\n",
       "        vertical-align: top;\n",
       "    }\n",
       "\n",
       "    .dataframe thead th {\n",
       "        text-align: right;\n",
       "    }\n",
       "</style>\n",
       "<table border=\"1\" class=\"dataframe\">\n",
       "  <thead>\n",
       "    <tr style=\"text-align: right;\">\n",
       "      <th></th>\n",
       "      <th>sum</th>\n",
       "      <th>median</th>\n",
       "      <th>mean</th>\n",
       "      <th>min</th>\n",
       "      <th>max</th>\n",
       "    </tr>\n",
       "    <tr>\n",
       "      <th>show_start_date_year</th>\n",
       "      <th></th>\n",
       "      <th></th>\n",
       "      <th></th>\n",
       "      <th></th>\n",
       "      <th></th>\n",
       "    </tr>\n",
       "  </thead>\n",
       "  <tbody>\n",
       "    <tr>\n",
       "      <th>2010</th>\n",
       "      <td>1.446400</td>\n",
       "      <td>1.446400</td>\n",
       "      <td>1.446400</td>\n",
       "      <td>1.446400</td>\n",
       "      <td>1.446400</td>\n",
       "    </tr>\n",
       "    <tr>\n",
       "      <th>2011</th>\n",
       "      <td>11.618085</td>\n",
       "      <td>11.618085</td>\n",
       "      <td>11.618085</td>\n",
       "      <td>11.618085</td>\n",
       "      <td>11.618085</td>\n",
       "    </tr>\n",
       "    <tr>\n",
       "      <th>2012</th>\n",
       "      <td>2.311220</td>\n",
       "      <td>2.311220</td>\n",
       "      <td>2.311220</td>\n",
       "      <td>2.311220</td>\n",
       "      <td>2.311220</td>\n",
       "    </tr>\n",
       "    <tr>\n",
       "      <th>2013</th>\n",
       "      <td>25.360467</td>\n",
       "      <td>4.321638</td>\n",
       "      <td>8.453489</td>\n",
       "      <td>1.081797</td>\n",
       "      <td>19.957031</td>\n",
       "    </tr>\n",
       "    <tr>\n",
       "      <th>2014</th>\n",
       "      <td>7411.402802</td>\n",
       "      <td>21.446205</td>\n",
       "      <td>130.024611</td>\n",
       "      <td>1.003723</td>\n",
       "      <td>1016.410635</td>\n",
       "    </tr>\n",
       "    <tr>\n",
       "      <th>2015</th>\n",
       "      <td>38491.960769</td>\n",
       "      <td>16.184128</td>\n",
       "      <td>116.996841</td>\n",
       "      <td>1.052549</td>\n",
       "      <td>1658.861425</td>\n",
       "    </tr>\n",
       "    <tr>\n",
       "      <th>2016</th>\n",
       "      <td>46695.258344</td>\n",
       "      <td>15.997809</td>\n",
       "      <td>128.637075</td>\n",
       "      <td>1.007437</td>\n",
       "      <td>2048.126108</td>\n",
       "    </tr>\n",
       "    <tr>\n",
       "      <th>2017</th>\n",
       "      <td>48433.385037</td>\n",
       "      <td>18.085072</td>\n",
       "      <td>162.528138</td>\n",
       "      <td>1.067649</td>\n",
       "      <td>2779.686144</td>\n",
       "    </tr>\n",
       "    <tr>\n",
       "      <th>2018</th>\n",
       "      <td>49222.020002</td>\n",
       "      <td>13.839305</td>\n",
       "      <td>122.139007</td>\n",
       "      <td>1.012749</td>\n",
       "      <td>2271.754005</td>\n",
       "    </tr>\n",
       "    <tr>\n",
       "      <th>2019</th>\n",
       "      <td>48230.703224</td>\n",
       "      <td>8.569387</td>\n",
       "      <td>112.952467</td>\n",
       "      <td>1.015408</td>\n",
       "      <td>3073.568691</td>\n",
       "    </tr>\n",
       "  </tbody>\n",
       "</table>\n",
       "</div>"
      ],
      "text/plain": [
       "                               sum     median        mean        min  \\\n",
       "show_start_date_year                                                   \n",
       "2010                      1.446400   1.446400    1.446400   1.446400   \n",
       "2011                     11.618085  11.618085   11.618085  11.618085   \n",
       "2012                      2.311220   2.311220    2.311220   2.311220   \n",
       "2013                     25.360467   4.321638    8.453489   1.081797   \n",
       "2014                   7411.402802  21.446205  130.024611   1.003723   \n",
       "2015                  38491.960769  16.184128  116.996841   1.052549   \n",
       "2016                  46695.258344  15.997809  128.637075   1.007437   \n",
       "2017                  48433.385037  18.085072  162.528138   1.067649   \n",
       "2018                  49222.020002  13.839305  122.139007   1.012749   \n",
       "2019                  48230.703224   8.569387  112.952467   1.015408   \n",
       "\n",
       "                              max  \n",
       "show_start_date_year               \n",
       "2010                     1.446400  \n",
       "2011                    11.618085  \n",
       "2012                     2.311220  \n",
       "2013                    19.957031  \n",
       "2014                  1016.410635  \n",
       "2015                  1658.861425  \n",
       "2016                  2048.126108  \n",
       "2017                  2779.686144  \n",
       "2018                  2271.754005  \n",
       "2019                  3073.568691  "
      ]
     },
     "execution_count": 52,
     "metadata": {},
     "output_type": "execute_result"
    }
   ],
   "source": [
    "data_clean_box_office_stat = data_clean.loc[data_clean['box_office']>1, ['show_start_date_year', 'box_office']].pivot_table(index='show_start_date_year', values=['box_office'], aggfunc=['sum', 'median', 'mean', 'min', 'max'])#.reset_index()\n",
    "data_clean_box_office_stat.columns = ['sum', 'median', 'mean', 'min', 'max']\n",
    "data_clean_box_office_stat"
   ]
  },
  {
   "cell_type": "code",
   "execution_count": 53,
   "metadata": {},
   "outputs": [
    {
     "data": {
      "text/plain": [
       "<AxesSubplot:xlabel='show_start_date_year'>"
      ]
     },
     "execution_count": 53,
     "metadata": {},
     "output_type": "execute_result"
    },
    {
     "data": {
      "image/png": "[encoded data removed]",
      "text/plain": [
       "<Figure size 432x288 with 1 Axes>"
      ]
     },
     "metadata": {
      "needs_background": "light"
     },
     "output_type": "display_data"
    }
   ],
   "source": [
    "data_clean_box_office_stat['sum'].plot(kind = 'line', alpha = 1)"
   ]
  },
  {
   "cell_type": "code",
   "execution_count": 54,
   "metadata": {},
   "outputs": [
    {
     "name": "stdout",
     "output_type": "stream",
     "text": [
      "2010 2018\n"
     ]
    }
   ],
   "source": [
    "a = data_clean_box_office_stat.sort_values('sum', ascending = True).head(1).reset_index()\n",
    "min_ = a.loc[0,'show_start_date_year']\n",
    "\n",
    "a = data_clean_box_office_stat.sort_values('sum', ascending = False).head(1).reset_index()\n",
    "max_ = a.loc[0,'show_start_date_year']\n",
    "\n",
    "print(min_, max_)"
   ]
  },
  {
   "cell_type": "markdown",
   "metadata": {},
   "source": [
    "Общая динамика сборов ожидаемо растет.\n",
    "Это связано и с все большим количеством фильмов, и с лучшей заполненностью данных\n",
    "\n",
    "Минимальное сборы были в 2010\n",
    "Максимальные - в 2018"
   ]
  },
  {
   "cell_type": "code",
   "execution_count": 55,
   "metadata": {
    "id": "jmp-rgg9gFyY"
   },
   "outputs": [
    {
     "data": {
      "text/plain": [
       "<AxesSubplot:xlabel='show_start_date_year'>"
      ]
     },
     "execution_count": 55,
     "metadata": {},
     "output_type": "execute_result"
    },
    {
     "data": {
      "image/png": "[encoded data removed]",
      "text/plain": [
       "<Figure size 432x288 with 1 Axes>"
      ]
     },
     "metadata": {
      "needs_background": "light"
     },
     "output_type": "display_data"
    }
   ],
   "source": [
    "data_clean_box_office_stat['median'].plot(kind = 'line', alpha = 1)"
   ]
  },
  {
   "cell_type": "code",
   "execution_count": 56,
   "metadata": {},
   "outputs": [
    {
     "data": {
      "text/plain": [
       "<AxesSubplot:xlabel='show_start_date_year'>"
      ]
     },
     "execution_count": 56,
     "metadata": {},
     "output_type": "execute_result"
    },
    {
     "data": {
      "image/png": "[encoded data removed]",
      "text/plain": [
       "<Figure size 432x288 with 1 Axes>"
      ]
     },
     "metadata": {
      "needs_background": "light"
     },
     "output_type": "display_data"
    }
   ],
   "source": [
    "data_clean_box_office_stat['mean'].plot(kind = 'line', alpha = 1)"
   ]
  },
  {
   "cell_type": "markdown",
   "metadata": {},
   "source": [
    "И среднее и медианное значение показывают схожую динамику\n",
    "Значит дело не только в заполненности данных, но и действительно - кассовые сборы фильмов увеличиваются.\n",
    "И главно причиной здесь скорее всего является увеличение в прокате количества фильмов"
   ]
  },
  {
   "cell_type": "code",
   "execution_count": 57,
   "metadata": {},
   "outputs": [
    {
     "data": {
      "text/plain": [
       "array([[<AxesSubplot:title={'center':'box_office'}>]], dtype=object)"
      ]
     },
     "execution_count": 57,
     "metadata": {},
     "output_type": "execute_result"
    },
    {
     "data": {
      "image/png": "[encoded data removed]",
      "text/plain": [
       "<Figure size 432x288 with 1 Axes>"
      ]
     },
     "metadata": {
      "needs_background": "light"
     },
     "output_type": "display_data"
    }
   ],
   "source": [
    "data_clean.loc[data_clean['show_start_date_year']==2014, ['box_office']].sort_values('box_office', ascending = False)#.hist(bins = 30)\n",
    "data_clean.loc[data_clean['show_start_date_year']==2014, ['box_office']].hist(bins = 30)"
   ]
  },
  {
   "cell_type": "code",
   "execution_count": 58,
   "metadata": {},
   "outputs": [
    {
     "data": {
      "text/plain": [
       "<AxesSubplot:>"
      ]
     },
     "execution_count": 58,
     "metadata": {},
     "output_type": "execute_result"
    },
    {
     "data": {
      "image/png": "[encoded data removed]",
      "text/plain": [
       "<Figure size 432x288 with 1 Axes>"
      ]
     },
     "metadata": {
      "needs_background": "light"
     },
     "output_type": "display_data"
    }
   ],
   "source": [
    "data_clean.loc[data_clean['show_start_date_year']==2014, ['box_office']].boxplot(column=['box_office'])"
   ]
  },
  {
   "cell_type": "markdown",
   "metadata": {},
   "source": [
    "C 2013 года медиана и среднее разнятся потому что увеличивается разброс между максимальным и минимальным значениями по кассовым сборам - выходят фильмы-хиты, которые значительно превышают сборы всех остальных.\n",
    "Тогда как большинство фильмов имеют низкий успех\n",
    "\n",
    "Я отфильтровал фильмы, которые собирают больше 1 млн. рублей и все равно большинство фильмов собирают в районе самой низкой отметки - 1 млн."
   ]
  },
  {
   "cell_type": "code",
   "execution_count": 59,
   "metadata": {
    "id": "jsSbEqfjgFya"
   },
   "outputs": [
    {
     "data": {
      "text/html": [
       "<div>\n",
       "<style scoped>\n",
       "    .dataframe tbody tr th:only-of-type {\n",
       "        vertical-align: middle;\n",
       "    }\n",
       "\n",
       "    .dataframe tbody tr th {\n",
       "        vertical-align: top;\n",
       "    }\n",
       "\n",
       "    .dataframe thead tr th {\n",
       "        text-align: left;\n",
       "    }\n",
       "\n",
       "    .dataframe thead tr:last-of-type th {\n",
       "        text-align: right;\n",
       "    }\n",
       "</style>\n",
       "<table border=\"1\" class=\"dataframe\">\n",
       "  <thead>\n",
       "    <tr>\n",
       "      <th></th>\n",
       "      <th colspan=\"5\" halign=\"left\">sum</th>\n",
       "    </tr>\n",
       "    <tr>\n",
       "      <th></th>\n",
       "      <th colspan=\"5\" halign=\"left\">box_office</th>\n",
       "    </tr>\n",
       "    <tr>\n",
       "      <th>age_restriction</th>\n",
       "      <th>«0+»-для любой зрительской аудитории</th>\n",
       "      <th>«12+»-для детей старше 12 лет</th>\n",
       "      <th>«16+»-для детей старше 16 лет</th>\n",
       "      <th>«18+»-запрещено для детей</th>\n",
       "      <th>«6+»-для детей старше 6 лет</th>\n",
       "    </tr>\n",
       "    <tr>\n",
       "      <th>show_start_date_year</th>\n",
       "      <th></th>\n",
       "      <th></th>\n",
       "      <th></th>\n",
       "      <th></th>\n",
       "      <th></th>\n",
       "    </tr>\n",
       "  </thead>\n",
       "  <tbody>\n",
       "    <tr>\n",
       "      <th>2010</th>\n",
       "      <td>1.887611</td>\n",
       "      <td>0.120146</td>\n",
       "      <td>0.366512</td>\n",
       "      <td>0.054385</td>\n",
       "      <td>NaN</td>\n",
       "    </tr>\n",
       "    <tr>\n",
       "      <th>2011</th>\n",
       "      <td>13.499871</td>\n",
       "      <td>0.219891</td>\n",
       "      <td>0.381513</td>\n",
       "      <td>0.001040</td>\n",
       "      <td>0.000450</td>\n",
       "    </tr>\n",
       "    <tr>\n",
       "      <th>2012</th>\n",
       "      <td>2.222133</td>\n",
       "      <td>0.108734</td>\n",
       "      <td>3.254216</td>\n",
       "      <td>0.182580</td>\n",
       "      <td>1.143410</td>\n",
       "    </tr>\n",
       "    <tr>\n",
       "      <th>2013</th>\n",
       "      <td>2.710302</td>\n",
       "      <td>20.910337</td>\n",
       "      <td>0.658070</td>\n",
       "      <td>5.161246</td>\n",
       "      <td>0.359752</td>\n",
       "    </tr>\n",
       "    <tr>\n",
       "      <th>2014</th>\n",
       "      <td>375.562258</td>\n",
       "      <td>2584.782324</td>\n",
       "      <td>534.046071</td>\n",
       "      <td>2209.712747</td>\n",
       "      <td>1730.614443</td>\n",
       "    </tr>\n",
       "    <tr>\n",
       "      <th>2015</th>\n",
       "      <td>379.054578</td>\n",
       "      <td>13419.509571</td>\n",
       "      <td>10781.600601</td>\n",
       "      <td>5430.350629</td>\n",
       "      <td>8517.311820</td>\n",
       "    </tr>\n",
       "    <tr>\n",
       "      <th>2016</th>\n",
       "      <td>150.034322</td>\n",
       "      <td>11150.762104</td>\n",
       "      <td>16594.249490</td>\n",
       "      <td>6793.929819</td>\n",
       "      <td>12053.146008</td>\n",
       "    </tr>\n",
       "    <tr>\n",
       "      <th>2017</th>\n",
       "      <td>229.598930</td>\n",
       "      <td>7851.427661</td>\n",
       "      <td>18694.590951</td>\n",
       "      <td>9651.495581</td>\n",
       "      <td>12031.034131</td>\n",
       "    </tr>\n",
       "    <tr>\n",
       "      <th>2018</th>\n",
       "      <td>32.449002</td>\n",
       "      <td>14267.250436</td>\n",
       "      <td>16278.405947</td>\n",
       "      <td>8760.085501</td>\n",
       "      <td>9913.759294</td>\n",
       "    </tr>\n",
       "    <tr>\n",
       "      <th>2019</th>\n",
       "      <td>17.746067</td>\n",
       "      <td>12680.198774</td>\n",
       "      <td>12753.418985</td>\n",
       "      <td>10121.796304</td>\n",
       "      <td>12704.941824</td>\n",
       "    </tr>\n",
       "  </tbody>\n",
       "</table>\n",
       "</div>"
      ],
      "text/plain": [
       "                                                      sum  \\\n",
       "                                               box_office   \n",
       "age_restriction      «0+»-для любой зрительской аудитории   \n",
       "show_start_date_year                                        \n",
       "2010                                             1.887611   \n",
       "2011                                            13.499871   \n",
       "2012                                             2.222133   \n",
       "2013                                             2.710302   \n",
       "2014                                           375.562258   \n",
       "2015                                           379.054578   \n",
       "2016                                           150.034322   \n",
       "2017                                           229.598930   \n",
       "2018                                            32.449002   \n",
       "2019                                            17.746067   \n",
       "\n",
       "                                                    \\\n",
       "                                                     \n",
       "age_restriction      «12+»-для детей старше 12 лет   \n",
       "show_start_date_year                                 \n",
       "2010                                      0.120146   \n",
       "2011                                      0.219891   \n",
       "2012                                      0.108734   \n",
       "2013                                     20.910337   \n",
       "2014                                   2584.782324   \n",
       "2015                                  13419.509571   \n",
       "2016                                  11150.762104   \n",
       "2017                                   7851.427661   \n",
       "2018                                  14267.250436   \n",
       "2019                                  12680.198774   \n",
       "\n",
       "                                                                              \\\n",
       "                                                                               \n",
       "age_restriction      «16+»-для детей старше 16 лет «18+»-запрещено для детей   \n",
       "show_start_date_year                                                           \n",
       "2010                                      0.366512                  0.054385   \n",
       "2011                                      0.381513                  0.001040   \n",
       "2012                                      3.254216                  0.182580   \n",
       "2013                                      0.658070                  5.161246   \n",
       "2014                                    534.046071               2209.712747   \n",
       "2015                                  10781.600601               5430.350629   \n",
       "2016                                  16594.249490               6793.929819   \n",
       "2017                                  18694.590951               9651.495581   \n",
       "2018                                  16278.405947               8760.085501   \n",
       "2019                                  12753.418985              10121.796304   \n",
       "\n",
       "                                                  \n",
       "                                                  \n",
       "age_restriction      «6+»-для детей старше 6 лет  \n",
       "show_start_date_year                              \n",
       "2010                                         NaN  \n",
       "2011                                    0.000450  \n",
       "2012                                    1.143410  \n",
       "2013                                    0.359752  \n",
       "2014                                 1730.614443  \n",
       "2015                                 8517.311820  \n",
       "2016                                12053.146008  \n",
       "2017                                12031.034131  \n",
       "2018                                 9913.759294  \n",
       "2019                                12704.941824  "
      ]
     },
     "execution_count": 59,
     "metadata": {},
     "output_type": "execute_result"
    }
   ],
   "source": [
    "data_clean_box_office_lims = data_clean.pivot_table(index='show_start_date_year', columns = 'age_restriction', values=['box_office'], aggfunc=['sum'])#.reset_index()\n",
    "#data_clean_box_office_lims.columns = ['sum', 'median', 'mean']\n",
    "data_clean_box_office_lims"
   ]
  },
  {
   "cell_type": "code",
   "execution_count": 60,
   "metadata": {},
   "outputs": [
    {
     "data": {
      "text/plain": [
       "<matplotlib.legend.Legend at 0x7fbc74f01340>"
      ]
     },
     "execution_count": 60,
     "metadata": {},
     "output_type": "execute_result"
    },
    {
     "data": {
      "image/png": "[encoded data removed]",
      "text/plain": [
       "<Figure size 432x288 with 1 Axes>"
      ]
     },
     "metadata": {
      "needs_background": "light"
     },
     "output_type": "display_data"
    }
   ],
   "source": [
    "data_clean_box_office_lims.plot(kind = 'line', alpha = 1, xlim=[2015, 2019]).legend(loc=2, prop={'size': 7})"
   ]
  },
  {
   "cell_type": "markdown",
   "metadata": {},
   "source": [
    "Объемы сборов разнятся для каждой из зрительских категорий.\n",
    "Вероятно, это связано с величиной той или иной категорией.\n",
    "\n",
    "Самая малочисленная аудитория у фильмов 0+, т.к. по большей степени это детские фильмы\n",
    "Самая многочисленная аудитория у фильмов 16+ - вероятно это оптимальное сочетание по уровню бюджета фильма и охвата населения, которому достпны такие фильмы"
   ]
  },
  {
   "cell_type": "markdown",
   "metadata": {
    "id": "l_Kg6Ku4gFya"
   },
   "source": [
    "### Шаг 4. фильмы, которые получили государственную поддержку\n",
    "\n",
    "На этом этапе нет конкретных инструкций и заданий — поищите интересные закономерности в данных. Посмотрите, сколько выделяют средств на поддержку кино. Проверьте, хорошо ли окупаются такие фильмы, какой у них рейтинг."
   ]
  },
  {
   "cell_type": "code",
   "execution_count": 61,
   "metadata": {
    "id": "W9QKpjUdgFyb"
   },
   "outputs": [
    {
     "data": {
      "text/plain": [
       "array(['', 'министерство культуры', 'фонд кино',\n",
       "       'министерство культуры,фонд кино'], dtype=object)"
      ]
     },
     "execution_count": 61,
     "metadata": {},
     "output_type": "execute_result"
    }
   ],
   "source": [
    "data_clean['financing_source'].unique()"
   ]
  },
  {
   "cell_type": "code",
   "execution_count": 62,
   "metadata": {},
   "outputs": [
    {
     "data": {
      "text/html": [
       "<div>\n",
       "<style scoped>\n",
       "    .dataframe tbody tr th:only-of-type {\n",
       "        vertical-align: middle;\n",
       "    }\n",
       "\n",
       "    .dataframe tbody tr th {\n",
       "        vertical-align: top;\n",
       "    }\n",
       "\n",
       "    .dataframe thead th {\n",
       "        text-align: right;\n",
       "    }\n",
       "</style>\n",
       "<table border=\"1\" class=\"dataframe\">\n",
       "  <thead>\n",
       "    <tr style=\"text-align: right;\">\n",
       "      <th></th>\n",
       "      <th>title</th>\n",
       "      <th>puNumber</th>\n",
       "      <th>show_start_date</th>\n",
       "      <th>type</th>\n",
       "      <th>film_studio</th>\n",
       "      <th>production_country</th>\n",
       "      <th>director</th>\n",
       "      <th>producer</th>\n",
       "      <th>age_restriction</th>\n",
       "      <th>refundable_support</th>\n",
       "      <th>nonrefundable_support</th>\n",
       "      <th>budget</th>\n",
       "      <th>financing_source</th>\n",
       "      <th>ratings</th>\n",
       "      <th>genres</th>\n",
       "      <th>box_office</th>\n",
       "      <th>show_start_date_year</th>\n",
       "      <th>main_director</th>\n",
       "      <th>main_genres</th>\n",
       "      <th>gos_share</th>\n",
       "    </tr>\n",
       "  </thead>\n",
       "  <tbody>\n",
       "    <tr>\n",
       "      <th>0</th>\n",
       "      <td>открытый простор</td>\n",
       "      <td>221048915</td>\n",
       "      <td>2015-11-27 12:00:00+00:00</td>\n",
       "      <td>художественный</td>\n",
       "      <td>бикон пикчерз,кобальт пикчерз,тачстоун пикчерз...</td>\n",
       "      <td>сша</td>\n",
       "      <td>кевин костнер</td>\n",
       "      <td>джейк эбертс,дэвид валдес,кевин костнер</td>\n",
       "      <td>«18+»-запрещено для детей</td>\n",
       "      <td>NaN</td>\n",
       "      <td>NaN</td>\n",
       "      <td>NaN</td>\n",
       "      <td></td>\n",
       "      <td>7.2</td>\n",
       "      <td>боевик,драма,мелодрама</td>\n",
       "      <td>NaN</td>\n",
       "      <td>2015</td>\n",
       "      <td>кевин костнер</td>\n",
       "      <td>боевик</td>\n",
       "      <td>NaN</td>\n",
       "    </tr>\n",
       "    <tr>\n",
       "      <th>1</th>\n",
       "      <td>особо важное задание</td>\n",
       "      <td>111013716</td>\n",
       "      <td>2016-09-13 12:00:00+00:00</td>\n",
       "      <td>художественный</td>\n",
       "      <td>киностудия мосфильм</td>\n",
       "      <td>ссср</td>\n",
       "      <td>е.матвеев</td>\n",
       "      <td></td>\n",
       "      <td>«6+»-для детей старше 6 лет</td>\n",
       "      <td>NaN</td>\n",
       "      <td>NaN</td>\n",
       "      <td>NaN</td>\n",
       "      <td></td>\n",
       "      <td>6.6</td>\n",
       "      <td>военный,драма</td>\n",
       "      <td>NaN</td>\n",
       "      <td>2016</td>\n",
       "      <td>е.матвеев</td>\n",
       "      <td>военный</td>\n",
       "      <td>NaN</td>\n",
       "    </tr>\n",
       "    <tr>\n",
       "      <th>2</th>\n",
       "      <td>особо опасен</td>\n",
       "      <td>221038416</td>\n",
       "      <td>2016-10-10 12:00:00+00:00</td>\n",
       "      <td>художественный</td>\n",
       "      <td>кикстарт продакшнз,марк платт продакшнз,рилейт...</td>\n",
       "      <td>сша</td>\n",
       "      <td>тимур бекмамбетов</td>\n",
       "      <td>джейсон нетер,джим лемли,марк е.платт,яйн смит</td>\n",
       "      <td>«18+»-запрещено для детей</td>\n",
       "      <td>NaN</td>\n",
       "      <td>NaN</td>\n",
       "      <td>NaN</td>\n",
       "      <td></td>\n",
       "      <td>6.8</td>\n",
       "      <td>боевик,триллер,фантастика</td>\n",
       "      <td>NaN</td>\n",
       "      <td>2016</td>\n",
       "      <td>тимур бекмамбетов</td>\n",
       "      <td>боевик</td>\n",
       "      <td>NaN</td>\n",
       "    </tr>\n",
       "  </tbody>\n",
       "</table>\n",
       "</div>"
      ],
      "text/plain": [
       "                  title   puNumber           show_start_date            type  \\\n",
       "0      открытый простор  221048915 2015-11-27 12:00:00+00:00  художественный   \n",
       "1  особо важное задание  111013716 2016-09-13 12:00:00+00:00  художественный   \n",
       "2          особо опасен  221038416 2016-10-10 12:00:00+00:00  художественный   \n",
       "\n",
       "                                         film_studio production_country  \\\n",
       "0  бикон пикчерз,кобальт пикчерз,тачстоун пикчерз...                сша   \n",
       "1                                киностудия мосфильм               ссср   \n",
       "2  кикстарт продакшнз,марк платт продакшнз,рилейт...                сша   \n",
       "\n",
       "            director                                        producer  \\\n",
       "0      кевин костнер         джейк эбертс,дэвид валдес,кевин костнер   \n",
       "1          е.матвеев                                                   \n",
       "2  тимур бекмамбетов  джейсон нетер,джим лемли,марк е.платт,яйн смит   \n",
       "\n",
       "               age_restriction  refundable_support  nonrefundable_support  \\\n",
       "0    «18+»-запрещено для детей                 NaN                    NaN   \n",
       "1  «6+»-для детей старше 6 лет                 NaN                    NaN   \n",
       "2    «18+»-запрещено для детей                 NaN                    NaN   \n",
       "\n",
       "   budget financing_source  ratings                     genres  box_office  \\\n",
       "0     NaN                       7.2     боевик,драма,мелодрама         NaN   \n",
       "1     NaN                       6.6              военный,драма         NaN   \n",
       "2     NaN                       6.8  боевик,триллер,фантастика         NaN   \n",
       "\n",
       "   show_start_date_year      main_director main_genres  gos_share  \n",
       "0                  2015      кевин костнер      боевик        NaN  \n",
       "1                  2016          е.матвеев     военный        NaN  \n",
       "2                  2016  тимур бекмамбетов      боевик        NaN  "
      ]
     },
     "execution_count": 62,
     "metadata": {},
     "output_type": "execute_result"
    }
   ],
   "source": [
    "data_clean.loc[~data_clean['financing_source'].isna()].head(3)"
   ]
  },
  {
   "cell_type": "code",
   "execution_count": 63,
   "metadata": {},
   "outputs": [
    {
     "data": {
      "text/plain": [
       "<AxesSubplot:xlabel='show_start_date_year'>"
      ]
     },
     "execution_count": 63,
     "metadata": {},
     "output_type": "execute_result"
    },
    {
     "data": {
      "image/png": "[encoded data removed]",
      "text/plain": [
       "<Figure size 432x288 with 1 Axes>"
      ]
     },
     "metadata": {
      "needs_background": "light"
     },
     "output_type": "display_data"
    }
   ],
   "source": [
    "data_clean_gosporg = data_clean.loc[~data_clean['financing_source'].isna()]\n",
    "temp_table = data_clean_gosporg.pivot_table(index='show_start_date_year', values=['budget'], aggfunc=['sum'])#.reset_index()\n",
    "temp_table.columns = ['budget']\n",
    "temp_table['budget'].plot(kind = 'line', alpha = 1)"
   ]
  },
  {
   "cell_type": "markdown",
   "metadata": {},
   "source": [
    "Объем гос поддержки при производстве фильмов растет с течением времени"
   ]
  },
  {
   "cell_type": "code",
   "execution_count": 64,
   "metadata": {},
   "outputs": [
    {
     "data": {
      "text/plain": [
       "<AxesSubplot:xlabel='show_start_date_year'>"
      ]
     },
     "execution_count": 64,
     "metadata": {},
     "output_type": "execute_result"
    },
    {
     "data": {
      "image/png": "[encoded data removed]",
      "text/plain": [
       "<Figure size 432x288 with 1 Axes>"
      ]
     },
     "metadata": {
      "needs_background": "light"
     },
     "output_type": "display_data"
    }
   ],
   "source": [
    "temp_table = data_clean_gosporg.pivot_table(index='show_start_date_year', values=['gos_share'], aggfunc=['sum'])#.reset_index()\n",
    "temp_table.columns = ['gos_share']\n",
    "temp_table['gos_share'].plot(kind = 'line', alpha = 1)"
   ]
  },
  {
   "cell_type": "markdown",
   "metadata": {},
   "source": [
    "Доля господдержки в фильмах в среднем не превышаети 40%"
   ]
  },
  {
   "cell_type": "code",
   "execution_count": 65,
   "metadata": {},
   "outputs": [
    {
     "data": {
      "text/html": [
       "<div>\n",
       "<style scoped>\n",
       "    .dataframe tbody tr th:only-of-type {\n",
       "        vertical-align: middle;\n",
       "    }\n",
       "\n",
       "    .dataframe tbody tr th {\n",
       "        vertical-align: top;\n",
       "    }\n",
       "\n",
       "    .dataframe thead th {\n",
       "        text-align: right;\n",
       "    }\n",
       "</style>\n",
       "<table border=\"1\" class=\"dataframe\">\n",
       "  <thead>\n",
       "    <tr style=\"text-align: right;\">\n",
       "      <th></th>\n",
       "      <th>title</th>\n",
       "    </tr>\n",
       "    <tr>\n",
       "      <th>main_genres</th>\n",
       "      <th></th>\n",
       "    </tr>\n",
       "  </thead>\n",
       "  <tbody>\n",
       "    <tr>\n",
       "      <th>драма</th>\n",
       "      <td>3006</td>\n",
       "    </tr>\n",
       "    <tr>\n",
       "      <th>комедия</th>\n",
       "      <td>1243</td>\n",
       "    </tr>\n",
       "    <tr>\n",
       "      <th>боевик</th>\n",
       "      <td>1173</td>\n",
       "    </tr>\n",
       "    <tr>\n",
       "      <th>детектив</th>\n",
       "      <td>376</td>\n",
       "    </tr>\n",
       "    <tr>\n",
       "      <th>биография</th>\n",
       "      <td>312</td>\n",
       "    </tr>\n",
       "    <tr>\n",
       "      <th>триллер</th>\n",
       "      <td>204</td>\n",
       "    </tr>\n",
       "    <tr>\n",
       "      <th>документальный</th>\n",
       "      <td>173</td>\n",
       "    </tr>\n",
       "    <tr>\n",
       "      <th>мультфильм</th>\n",
       "      <td>163</td>\n",
       "    </tr>\n",
       "    <tr>\n",
       "      <th>военный</th>\n",
       "      <td>147</td>\n",
       "    </tr>\n",
       "    <tr>\n",
       "      <th>мелодрама</th>\n",
       "      <td>137</td>\n",
       "    </tr>\n",
       "    <tr>\n",
       "      <th>ужасы</th>\n",
       "      <td>100</td>\n",
       "    </tr>\n",
       "    <tr>\n",
       "      <th>приключения</th>\n",
       "      <td>93</td>\n",
       "    </tr>\n",
       "    <tr>\n",
       "      <th>детский</th>\n",
       "      <td>87</td>\n",
       "    </tr>\n",
       "    <tr>\n",
       "      <th>аниме</th>\n",
       "      <td>74</td>\n",
       "    </tr>\n",
       "    <tr>\n",
       "      <th>криминал</th>\n",
       "      <td>44</td>\n",
       "    </tr>\n",
       "    <tr>\n",
       "      <th>вестерн</th>\n",
       "      <td>22</td>\n",
       "    </tr>\n",
       "    <tr>\n",
       "      <th>короткометражка</th>\n",
       "      <td>20</td>\n",
       "    </tr>\n",
       "    <tr>\n",
       "      <th>история</th>\n",
       "      <td>19</td>\n",
       "    </tr>\n",
       "    <tr>\n",
       "      <th>семейный</th>\n",
       "      <td>13</td>\n",
       "    </tr>\n",
       "    <tr>\n",
       "      <th>концерт</th>\n",
       "      <td>11</td>\n",
       "    </tr>\n",
       "    <tr>\n",
       "      <th>фэнтези</th>\n",
       "      <td>10</td>\n",
       "    </tr>\n",
       "    <tr>\n",
       "      <th>фантастика</th>\n",
       "      <td>6</td>\n",
       "    </tr>\n",
       "    <tr>\n",
       "      <th>мюзикл</th>\n",
       "      <td>5</td>\n",
       "    </tr>\n",
       "    <tr>\n",
       "      <th>для взрослых</th>\n",
       "      <td>3</td>\n",
       "    </tr>\n",
       "    <tr>\n",
       "      <th>реальное тв</th>\n",
       "      <td>1</td>\n",
       "    </tr>\n",
       "  </tbody>\n",
       "</table>\n",
       "</div>"
      ],
      "text/plain": [
       "                 title\n",
       "main_genres           \n",
       "драма             3006\n",
       "комедия           1243\n",
       "боевик            1173\n",
       "детектив           376\n",
       "биография          312\n",
       "триллер            204\n",
       "документальный     173\n",
       "мультфильм         163\n",
       "военный            147\n",
       "мелодрама          137\n",
       "ужасы              100\n",
       "приключения         93\n",
       "детский             87\n",
       "аниме               74\n",
       "криминал            44\n",
       "вестерн             22\n",
       "короткометражка     20\n",
       "история             19\n",
       "семейный            13\n",
       "концерт             11\n",
       "фэнтези             10\n",
       "фантастика           6\n",
       "мюзикл               5\n",
       "для взрослых         3\n",
       "реальное тв          1"
      ]
     },
     "execution_count": 65,
     "metadata": {},
     "output_type": "execute_result"
    }
   ],
   "source": [
    "temp_table = data_clean_gosporg.pivot_table(index='main_genres', values = ['title'], aggfunc=['count'])\n",
    "temp_table.columns = ['title']\n",
    "temp_table.sort_values('title', ascending = False)"
   ]
  },
  {
   "cell_type": "markdown",
   "metadata": {},
   "source": [
    "Больше всего госсредств выделяется на мелодрамы"
   ]
  },
  {
   "cell_type": "code",
   "execution_count": 66,
   "metadata": {},
   "outputs": [
    {
     "data": {
      "text/html": [
       "<div>\n",
       "<style scoped>\n",
       "    .dataframe tbody tr th:only-of-type {\n",
       "        vertical-align: middle;\n",
       "    }\n",
       "\n",
       "    .dataframe tbody tr th {\n",
       "        vertical-align: top;\n",
       "    }\n",
       "\n",
       "    .dataframe thead th {\n",
       "        text-align: right;\n",
       "    }\n",
       "</style>\n",
       "<table border=\"1\" class=\"dataframe\">\n",
       "  <thead>\n",
       "    <tr style=\"text-align: right;\">\n",
       "      <th></th>\n",
       "      <th>title</th>\n",
       "    </tr>\n",
       "    <tr>\n",
       "      <th>age_restriction</th>\n",
       "      <th></th>\n",
       "    </tr>\n",
       "  </thead>\n",
       "  <tbody>\n",
       "    <tr>\n",
       "      <th>«16+»-для детей старше 16 лет</th>\n",
       "      <td>2841</td>\n",
       "    </tr>\n",
       "    <tr>\n",
       "      <th>«18+»-запрещено для детей</th>\n",
       "      <td>1600</td>\n",
       "    </tr>\n",
       "    <tr>\n",
       "      <th>«12+»-для детей старше 12 лет</th>\n",
       "      <td>1581</td>\n",
       "    </tr>\n",
       "    <tr>\n",
       "      <th>«0+»-для любой зрительской аудитории</th>\n",
       "      <td>803</td>\n",
       "    </tr>\n",
       "    <tr>\n",
       "      <th>«6+»-для детей старше 6 лет</th>\n",
       "      <td>617</td>\n",
       "    </tr>\n",
       "  </tbody>\n",
       "</table>\n",
       "</div>"
      ],
      "text/plain": [
       "                                      title\n",
       "age_restriction                            \n",
       "«16+»-для детей старше 16 лет          2841\n",
       "«18+»-запрещено для детей              1600\n",
       "«12+»-для детей старше 12 лет          1581\n",
       "«0+»-для любой зрительской аудитории    803\n",
       "«6+»-для детей старше 6 лет             617"
      ]
     },
     "execution_count": 66,
     "metadata": {},
     "output_type": "execute_result"
    }
   ],
   "source": [
    "temp_table = data_clean_gosporg.pivot_table(index='age_restriction', values = ['title'], aggfunc=['count'])\n",
    "temp_table.columns = ['title']\n",
    "temp_table.sort_values('title', ascending = False)"
   ]
  },
  {
   "cell_type": "markdown",
   "metadata": {},
   "source": []
  },
  {
   "cell_type": "markdown",
   "metadata": {},
   "source": [
    "Учитывая, что по большей части госсредства выделяются на мелодрамы, то аудитория фильмов категории 16+ также ожидаемо наибольшая в доле всех фильмов с госучастием"
   ]
  },
  {
   "cell_type": "code",
   "execution_count": 67,
   "metadata": {},
   "outputs": [
    {
     "data": {
      "text/plain": [
       "<AxesSubplot:xlabel='show_start_date_year'>"
      ]
     },
     "execution_count": 67,
     "metadata": {},
     "output_type": "execute_result"
    },
    {
     "data": {
      "image/png": "[encoded data removed]",
      "text/plain": [
       "<Figure size 432x288 with 1 Axes>"
      ]
     },
     "metadata": {
      "needs_background": "light"
     },
     "output_type": "display_data"
    }
   ],
   "source": [
    "temp_table = data_clean_gosporg.pivot_table(index='show_start_date_year', values = ['ratings'], aggfunc=['mean'])\n",
    "temp_table.columns = ['ratings']\n",
    "temp_table['ratings'].plot(kind = 'line', alpha = 1)"
   ]
  },
  {
   "cell_type": "markdown",
   "metadata": {},
   "source": [
    "А вот рейтинги фильмов с госучастием чуть выше среднего. и при этом еще и снижается\n",
    "Вероятно, окупаемость будет показывать аналогичную картинку"
   ]
  },
  {
   "cell_type": "code",
   "execution_count": 68,
   "metadata": {},
   "outputs": [
    {
     "data": {
      "text/plain": [
       "<AxesSubplot:xlabel='show_start_date_year'>"
      ]
     },
     "execution_count": 68,
     "metadata": {},
     "output_type": "execute_result"
    },
    {
     "data": {
      "image/png": "[encoded data removed]",
      "text/plain": [
       "<Figure size 432x288 with 1 Axes>"
      ]
     },
     "metadata": {
      "needs_background": "light"
     },
     "output_type": "display_data"
    }
   ],
   "source": [
    "data_clean_gosporg['rentab'] = data_clean_gosporg['box_office'] / data_clean_gosporg['budget']\n",
    "temp_table = data_clean_gosporg.pivot_table(index='show_start_date_year', values = ['rentab'], aggfunc=['mean'])\n",
    "temp_table.columns = ['rentab']\n",
    "temp_table['rentab'].plot(kind = 'line', alpha = 1)"
   ]
  },
  {
   "cell_type": "markdown",
   "metadata": {},
   "source": [
    "Учитывая низкие рейтинги фильмов с госучастием, их оккупаемость оставляет жедлать лучшего"
   ]
  },
  {
   "cell_type": "code",
   "execution_count": 69,
   "metadata": {},
   "outputs": [
    {
     "data": {
      "text/html": [
       "<div>\n",
       "<style scoped>\n",
       "    .dataframe tbody tr th:only-of-type {\n",
       "        vertical-align: middle;\n",
       "    }\n",
       "\n",
       "    .dataframe tbody tr th {\n",
       "        vertical-align: top;\n",
       "    }\n",
       "\n",
       "    .dataframe thead th {\n",
       "        text-align: right;\n",
       "    }\n",
       "</style>\n",
       "<table border=\"1\" class=\"dataframe\">\n",
       "  <thead>\n",
       "    <tr style=\"text-align: right;\">\n",
       "      <th></th>\n",
       "      <th>gos_share</th>\n",
       "    </tr>\n",
       "    <tr>\n",
       "      <th>director</th>\n",
       "      <th></th>\n",
       "    </tr>\n",
       "  </thead>\n",
       "  <tbody>\n",
       "    <tr>\n",
       "      <th>с.андреасян</th>\n",
       "      <td>4</td>\n",
       "    </tr>\n",
       "    <tr>\n",
       "      <th>р.давлетьяров</th>\n",
       "      <td>4</td>\n",
       "    </tr>\n",
       "    <tr>\n",
       "      <th>д.дьяченко</th>\n",
       "      <td>4</td>\n",
       "    </tr>\n",
       "    <tr>\n",
       "      <th>с.мокрицкий</th>\n",
       "      <td>3</td>\n",
       "    </tr>\n",
       "    <tr>\n",
       "      <th>к.шипенко</th>\n",
       "      <td>3</td>\n",
       "    </tr>\n",
       "    <tr>\n",
       "      <th>а.аксененко</th>\n",
       "      <td>3</td>\n",
       "    </tr>\n",
       "    <tr>\n",
       "      <th>к.худяков</th>\n",
       "      <td>2</td>\n",
       "    </tr>\n",
       "    <tr>\n",
       "      <th>ф.дмитриев</th>\n",
       "      <td>2</td>\n",
       "    </tr>\n",
       "    <tr>\n",
       "      <th>м.расходников</th>\n",
       "      <td>2</td>\n",
       "    </tr>\n",
       "    <tr>\n",
       "      <th>с.подгаевский</th>\n",
       "      <td>2</td>\n",
       "    </tr>\n",
       "  </tbody>\n",
       "</table>\n",
       "</div>"
      ],
      "text/plain": [
       "               gos_share\n",
       "director                \n",
       "с.андреасян            4\n",
       "р.давлетьяров          4\n",
       "д.дьяченко             4\n",
       "с.мокрицкий            3\n",
       "к.шипенко              3\n",
       "а.аксененко            3\n",
       "к.худяков              2\n",
       "ф.дмитриев             2\n",
       "м.расходников          2\n",
       "с.подгаевский          2"
      ]
     },
     "execution_count": 69,
     "metadata": {},
     "output_type": "execute_result"
    }
   ],
   "source": [
    "temp_table = data_clean_gosporg.pivot_table(index='director', values = ['gos_share'], aggfunc=['count'])\n",
    "temp_table.columns = ['gos_share']\n",
    "temp_table.sort_values('gos_share', ascending = False).head(10)"
   ]
  },
  {
   "cell_type": "markdown",
   "metadata": {},
   "source": [
    "Не знаю, кто эти люди... Наверное у них хорошая харизма... или знакомства"
   ]
  },
  {
   "cell_type": "markdown",
   "metadata": {
    "id": "V2gYwMcPgFyd"
   },
   "source": [
    "### Шаг 5.  общий вывод"
   ]
  },
  {
   "cell_type": "markdown",
   "metadata": {
    "id": "AYRg3dzXgFye"
   },
   "source": [
    "1. ОБъем выпускаемых фильмов как и любой экономическитй процесс подвержен цикличности\n",
    "При этом в год оборот фильмом не превышает и 1000 картин\n",
    "2. Объем кассовых сборов по фильмам увеличивается с течением времени, скорее всего, по причине улучшения качества заполнения данных\n",
    "3. Объемы сборов разнятся для каждой категории фильмов по ограничениям. Самые низкие сборы у фльмоав 0+, самые высокие - у 16+, вероятно, из-за разной численности категорий зрителей\n",
    "4. Наиболее популярным жанром фильмов является драма\n",
    "5. Абсолютный объем господдержки фильмов с госучастием увеличивается с течением времени, однако это скорее всего связано с инфляцией, т.к. доля господдержки условно постоянна и не превышает 40%\n",
    "6. Качество фильмов с господдержкой слабое, т.к. их ретйинг чуть выше среднего, неудивительно, что такие фильмы редко окупаются\n",
    "7. С 2013 года начинают появляться фильмы-хиты, сборы которых кардинально отличаются от основной массы фильмов\n",
    "\n",
    "\n",
    "Какие дополнительные исследования можно было бы провести:\n",
    "- рентабельность фильмов по жанрам - воозможно какие-то жанры фильмов все же более успешны на фоне остальных (в том числе и по фильмам с господдержкой отдельно)"
   ]
  }
 ],
 "metadata": {
  "ExecuteTimeLog": [
   {
    "duration": 537,
    "start_time": "2021-07-07T10:12:08.634Z"
   },
   {
    "duration": 206,
    "start_time": "2021-07-07T10:12:30.191Z"
   },
   {
    "duration": 227,
    "start_time": "2021-07-07T10:12:33.078Z"
   },
   {
    "duration": 153,
    "start_time": "2021-07-07T10:13:42.146Z"
   },
   {
    "duration": 233,
    "start_time": "2021-07-07T10:30:09.252Z"
   },
   {
    "duration": 19,
    "start_time": "2021-07-07T10:30:15.577Z"
   },
   {
    "duration": 18,
    "start_time": "2021-07-07T10:30:57.348Z"
   },
   {
    "duration": 19,
    "start_time": "2021-07-07T10:31:17.452Z"
   },
   {
    "duration": 21,
    "start_time": "2021-07-07T10:31:32.227Z"
   },
   {
    "duration": 27,
    "start_time": "2021-07-07T10:32:06.588Z"
   },
   {
    "duration": 23,
    "start_time": "2021-07-07T10:32:43.645Z"
   },
   {
    "duration": 24,
    "start_time": "2021-07-07T10:33:06.948Z"
   },
   {
    "duration": 7,
    "start_time": "2021-07-07T10:33:28.558Z"
   },
   {
    "duration": 23,
    "start_time": "2021-07-07T10:33:43.761Z"
   },
   {
    "duration": 28,
    "start_time": "2021-07-07T10:34:13.466Z"
   },
   {
    "duration": 23,
    "start_time": "2021-07-07T10:35:56.187Z"
   },
   {
    "duration": 6,
    "start_time": "2021-07-07T10:36:48.182Z"
   },
   {
    "duration": 14,
    "start_time": "2021-07-07T10:37:49.641Z"
   },
   {
    "duration": 6,
    "start_time": "2021-07-07T10:38:06.694Z"
   },
   {
    "duration": 6,
    "start_time": "2021-07-07T10:38:13.493Z"
   },
   {
    "duration": 19,
    "start_time": "2021-07-07T10:38:44.056Z"
   },
   {
    "duration": 186,
    "start_time": "2021-07-07T10:48:35.618Z"
   },
   {
    "duration": 24,
    "start_time": "2021-07-07T10:48:51.498Z"
   },
   {
    "duration": 20,
    "start_time": "2021-07-07T10:48:59.415Z"
   },
   {
    "duration": 20,
    "start_time": "2021-07-07T10:53:02.195Z"
   },
   {
    "duration": 188,
    "start_time": "2021-07-07T10:54:40.486Z"
   },
   {
    "duration": 115,
    "start_time": "2021-07-07T10:54:52.552Z"
   },
   {
    "duration": 214,
    "start_time": "2021-07-07T10:54:56.354Z"
   },
   {
    "duration": 47,
    "start_time": "2021-07-07T10:54:58.282Z"
   },
   {
    "duration": 217,
    "start_time": "2021-07-07T10:59:16.075Z"
   },
   {
    "duration": 51,
    "start_time": "2021-07-07T10:59:16.243Z"
   },
   {
    "duration": 578,
    "start_time": "2021-07-07T10:59:18.774Z"
   },
   {
    "duration": 161,
    "start_time": "2021-07-07T10:59:21.238Z"
   },
   {
    "duration": 59,
    "start_time": "2021-07-07T10:59:21.453Z"
   },
   {
    "duration": 3,
    "start_time": "2021-07-07T11:02:10.786Z"
   },
   {
    "duration": 13,
    "start_time": "2021-07-07T11:07:07.722Z"
   },
   {
    "duration": 26,
    "start_time": "2021-07-07T11:07:17.958Z"
   },
   {
    "duration": 22,
    "start_time": "2021-07-07T11:08:17.939Z"
   },
   {
    "duration": 212,
    "start_time": "2021-07-07T11:08:19.665Z"
   },
   {
    "duration": 21,
    "start_time": "2021-07-07T11:08:29.945Z"
   },
   {
    "duration": 31,
    "start_time": "2021-07-07T11:08:38.899Z"
   },
   {
    "duration": 23,
    "start_time": "2021-07-07T11:08:54.527Z"
   },
   {
    "duration": 8,
    "start_time": "2021-07-07T11:18:55.974Z"
   },
   {
    "duration": 7,
    "start_time": "2021-07-07T11:19:03.639Z"
   },
   {
    "duration": 7,
    "start_time": "2021-07-07T11:19:06.444Z"
   },
   {
    "duration": 578,
    "start_time": "2021-07-07T12:09:59.576Z"
   },
   {
    "duration": 195,
    "start_time": "2021-07-07T12:10:00.156Z"
   },
   {
    "duration": 115,
    "start_time": "2021-07-07T12:10:00.353Z"
   },
   {
    "duration": 3,
    "start_time": "2021-07-07T12:10:00.470Z"
   },
   {
    "duration": 32,
    "start_time": "2021-07-07T12:10:00.474Z"
   },
   {
    "duration": 23,
    "start_time": "2021-07-07T12:10:00.508Z"
   },
   {
    "duration": 19,
    "start_time": "2021-07-07T12:10:00.533Z"
   },
   {
    "duration": 44,
    "start_time": "2021-07-07T12:10:00.553Z"
   },
   {
    "duration": 7,
    "start_time": "2021-07-07T12:10:00.600Z"
   },
   {
    "duration": 7,
    "start_time": "2021-07-07T12:19:45.761Z"
   },
   {
    "duration": 21,
    "start_time": "2021-07-07T12:21:35.482Z"
   },
   {
    "duration": 21,
    "start_time": "2021-07-07T12:29:23.569Z"
   },
   {
    "duration": 525,
    "start_time": "2021-07-07T12:29:44.542Z"
   },
   {
    "duration": 214,
    "start_time": "2021-07-07T12:29:45.069Z"
   },
   {
    "duration": 92,
    "start_time": "2021-07-07T12:29:45.285Z"
   },
   {
    "duration": 3,
    "start_time": "2021-07-07T12:29:45.379Z"
   },
   {
    "duration": 28,
    "start_time": "2021-07-07T12:29:45.384Z"
   },
   {
    "duration": 23,
    "start_time": "2021-07-07T12:29:45.413Z"
   },
   {
    "duration": 21,
    "start_time": "2021-07-07T12:29:45.437Z"
   },
   {
    "duration": 41,
    "start_time": "2021-07-07T12:29:45.460Z"
   },
   {
    "duration": 7,
    "start_time": "2021-07-07T12:29:45.502Z"
   },
   {
    "duration": 20,
    "start_time": "2021-07-07T12:29:45.511Z"
   },
   {
    "duration": 12,
    "start_time": "2021-07-07T12:34:02.800Z"
   },
   {
    "duration": 7,
    "start_time": "2021-07-07T12:35:10.479Z"
   },
   {
    "duration": 8,
    "start_time": "2021-07-07T12:35:22.440Z"
   },
   {
    "duration": 6,
    "start_time": "2021-07-07T12:35:35.649Z"
   },
   {
    "duration": 6,
    "start_time": "2021-07-07T12:35:43.107Z"
   },
   {
    "duration": 22,
    "start_time": "2021-07-07T12:38:03.029Z"
   },
   {
    "duration": 10,
    "start_time": "2021-07-07T12:38:06.592Z"
   },
   {
    "duration": 563,
    "start_time": "2021-07-07T12:38:46.493Z"
   },
   {
    "duration": 265,
    "start_time": "2021-07-07T12:38:47.058Z"
   },
   {
    "duration": 94,
    "start_time": "2021-07-07T12:38:47.325Z"
   },
   {
    "duration": 3,
    "start_time": "2021-07-07T12:38:47.422Z"
   },
   {
    "duration": 30,
    "start_time": "2021-07-07T12:38:47.427Z"
   },
   {
    "duration": 16,
    "start_time": "2021-07-07T12:38:53.305Z"
   },
   {
    "duration": 10,
    "start_time": "2021-07-07T12:38:53.499Z"
   },
   {
    "duration": 8,
    "start_time": "2021-07-07T12:39:48.161Z"
   },
   {
    "duration": 27,
    "start_time": "2021-07-07T12:41:17.629Z"
   },
   {
    "duration": 17,
    "start_time": "2021-07-07T12:41:17.867Z"
   },
   {
    "duration": 21,
    "start_time": "2021-07-07T12:41:19.310Z"
   },
   {
    "duration": 7,
    "start_time": "2021-07-07T12:41:19.544Z"
   },
   {
    "duration": 20,
    "start_time": "2021-07-07T12:41:20.504Z"
   },
   {
    "duration": 554,
    "start_time": "2021-07-07T12:56:23.696Z"
   },
   {
    "duration": 200,
    "start_time": "2021-07-07T12:56:25.234Z"
   },
   {
    "duration": 119,
    "start_time": "2021-07-07T12:56:25.480Z"
   },
   {
    "duration": 4,
    "start_time": "2021-07-07T12:56:25.762Z"
   },
   {
    "duration": 26,
    "start_time": "2021-07-07T12:56:27.172Z"
   },
   {
    "duration": 12,
    "start_time": "2021-07-07T12:56:29.051Z"
   },
   {
    "duration": 10,
    "start_time": "2021-07-07T12:56:29.291Z"
   },
   {
    "duration": 8,
    "start_time": "2021-07-07T12:56:29.623Z"
   },
   {
    "duration": 28,
    "start_time": "2021-07-07T12:56:32.137Z"
   },
   {
    "duration": 19,
    "start_time": "2021-07-07T12:56:39.785Z"
   },
   {
    "duration": 20,
    "start_time": "2021-07-07T12:56:44.297Z"
   },
   {
    "duration": 7,
    "start_time": "2021-07-07T12:56:45.392Z"
   },
   {
    "duration": 23,
    "start_time": "2021-07-07T12:56:46.615Z"
   },
   {
    "duration": 4,
    "start_time": "2021-07-07T12:57:06.625Z"
   },
   {
    "duration": 32,
    "start_time": "2021-07-07T12:57:36.690Z"
   },
   {
    "duration": 18,
    "start_time": "2021-07-07T12:58:00.149Z"
   },
   {
    "duration": 15,
    "start_time": "2021-07-07T12:59:16.793Z"
   },
   {
    "duration": 7,
    "start_time": "2021-07-07T13:19:22.624Z"
   },
   {
    "duration": 6,
    "start_time": "2021-07-07T14:17:33.527Z"
   },
   {
    "duration": 9,
    "start_time": "2021-07-07T14:17:48.409Z"
   },
   {
    "duration": 8,
    "start_time": "2021-07-07T14:20:13.060Z"
   },
   {
    "duration": 8,
    "start_time": "2021-07-07T14:20:37.957Z"
   },
   {
    "duration": 8,
    "start_time": "2021-07-07T14:20:47.470Z"
   },
   {
    "duration": 9,
    "start_time": "2021-07-07T14:20:54.503Z"
   },
   {
    "duration": 10,
    "start_time": "2021-07-07T14:28:57.763Z"
   },
   {
    "duration": 3,
    "start_time": "2021-07-07T14:30:23.377Z"
   },
   {
    "duration": 3,
    "start_time": "2021-07-07T14:30:36.489Z"
   },
   {
    "duration": 103,
    "start_time": "2021-07-07T14:30:52.351Z"
   },
   {
    "duration": 8,
    "start_time": "2021-07-07T14:30:54.763Z"
   },
   {
    "duration": 8,
    "start_time": "2021-07-07T14:31:29.301Z"
   },
   {
    "duration": 13,
    "start_time": "2021-07-07T14:31:44.516Z"
   },
   {
    "duration": 7,
    "start_time": "2021-07-07T14:33:10.972Z"
   },
   {
    "duration": 11,
    "start_time": "2021-07-07T14:33:27.780Z"
   },
   {
    "duration": 8,
    "start_time": "2021-07-07T14:34:44.588Z"
   },
   {
    "duration": 57,
    "start_time": "2021-07-07T14:35:59.042Z"
   },
   {
    "duration": 3,
    "start_time": "2021-07-07T14:36:28.168Z"
   },
   {
    "duration": 5,
    "start_time": "2021-07-07T14:36:46.254Z"
   },
   {
    "duration": 4,
    "start_time": "2021-07-07T14:36:52.714Z"
   },
   {
    "duration": 3,
    "start_time": "2021-07-07T14:36:56.612Z"
   },
   {
    "duration": 4,
    "start_time": "2021-07-07T14:36:57.049Z"
   },
   {
    "duration": 3,
    "start_time": "2021-07-07T14:39:21.214Z"
   },
   {
    "duration": 7,
    "start_time": "2021-07-07T14:39:52.406Z"
   },
   {
    "duration": 11,
    "start_time": "2021-07-07T14:39:58.576Z"
   },
   {
    "duration": 9,
    "start_time": "2021-07-07T14:40:26.301Z"
   },
   {
    "duration": 10,
    "start_time": "2021-07-07T14:40:31.704Z"
   },
   {
    "duration": 11,
    "start_time": "2021-07-07T14:40:36.249Z"
   },
   {
    "duration": 10,
    "start_time": "2021-07-07T14:40:39.783Z"
   },
   {
    "duration": 9,
    "start_time": "2021-07-07T14:40:48.558Z"
   },
   {
    "duration": 10,
    "start_time": "2021-07-07T14:40:57.143Z"
   },
   {
    "duration": 9,
    "start_time": "2021-07-07T14:41:06.074Z"
   },
   {
    "duration": 4324,
    "start_time": "2021-07-07T14:41:22.004Z"
   },
   {
    "duration": 11,
    "start_time": "2021-07-07T14:41:33.392Z"
   },
   {
    "duration": 9,
    "start_time": "2021-07-07T14:41:39.288Z"
   },
   {
    "duration": 569,
    "start_time": "2021-07-07T14:42:14.387Z"
   },
   {
    "duration": 197,
    "start_time": "2021-07-07T14:42:14.959Z"
   },
   {
    "duration": 84,
    "start_time": "2021-07-07T14:42:16.052Z"
   },
   {
    "duration": 4,
    "start_time": "2021-07-07T14:42:16.900Z"
   },
   {
    "duration": 27,
    "start_time": "2021-07-07T14:42:19.898Z"
   },
   {
    "duration": 12,
    "start_time": "2021-07-07T14:42:21.577Z"
   },
   {
    "duration": 9,
    "start_time": "2021-07-07T14:42:21.813Z"
   },
   {
    "duration": 9,
    "start_time": "2021-07-07T14:42:22.569Z"
   },
   {
    "duration": 29,
    "start_time": "2021-07-07T14:42:25.837Z"
   },
   {
    "duration": 20,
    "start_time": "2021-07-07T14:42:27.003Z"
   },
   {
    "duration": 21,
    "start_time": "2021-07-07T14:42:28.767Z"
   },
   {
    "duration": 7,
    "start_time": "2021-07-07T14:42:29.838Z"
   },
   {
    "duration": 4,
    "start_time": "2021-07-07T14:43:25.493Z"
   },
   {
    "duration": 7,
    "start_time": "2021-07-07T14:43:26.573Z"
   },
   {
    "duration": 10,
    "start_time": "2021-07-07T14:43:31.639Z"
   },
   {
    "duration": 9,
    "start_time": "2021-07-07T14:43:32.046Z"
   },
   {
    "duration": 10,
    "start_time": "2021-07-07T14:43:33.301Z"
   },
   {
    "duration": 12,
    "start_time": "2021-07-07T14:43:33.658Z"
   },
   {
    "duration": 8,
    "start_time": "2021-07-07T14:43:34.552Z"
   },
   {
    "duration": 9,
    "start_time": "2021-07-07T14:43:35.058Z"
   },
   {
    "duration": 12,
    "start_time": "2021-07-07T14:43:35.914Z"
   },
   {
    "duration": 17,
    "start_time": "2021-07-07T14:45:34.368Z"
   },
   {
    "duration": 512,
    "start_time": "2021-07-07T14:51:58.236Z"
   },
   {
    "duration": 223,
    "start_time": "2021-07-07T14:51:58.750Z"
   },
   {
    "duration": 93,
    "start_time": "2021-07-07T14:51:58.977Z"
   },
   {
    "duration": 4,
    "start_time": "2021-07-07T14:51:59.071Z"
   },
   {
    "duration": 37,
    "start_time": "2021-07-07T14:51:59.077Z"
   },
   {
    "duration": 18,
    "start_time": "2021-07-07T14:51:59.116Z"
   },
   {
    "duration": 10,
    "start_time": "2021-07-07T14:51:59.137Z"
   },
   {
    "duration": 8,
    "start_time": "2021-07-07T14:51:59.149Z"
   },
   {
    "duration": 54,
    "start_time": "2021-07-07T14:51:59.158Z"
   },
   {
    "duration": 18,
    "start_time": "2021-07-07T14:51:59.213Z"
   },
   {
    "duration": 22,
    "start_time": "2021-07-07T14:51:59.232Z"
   },
   {
    "duration": 36,
    "start_time": "2021-07-07T14:51:59.255Z"
   },
   {
    "duration": 7,
    "start_time": "2021-07-07T14:51:59.293Z"
   },
   {
    "duration": 10,
    "start_time": "2021-07-07T14:51:59.302Z"
   },
   {
    "duration": 9,
    "start_time": "2021-07-07T14:51:59.313Z"
   },
   {
    "duration": 11,
    "start_time": "2021-07-07T14:51:59.324Z"
   },
   {
    "duration": 8,
    "start_time": "2021-07-07T14:51:59.337Z"
   },
   {
    "duration": 46,
    "start_time": "2021-07-07T14:51:59.347Z"
   },
   {
    "duration": 22,
    "start_time": "2021-07-07T14:51:59.395Z"
   },
   {
    "duration": 24,
    "start_time": "2021-07-07T14:57:32.911Z"
   },
   {
    "duration": 7,
    "start_time": "2021-07-07T14:58:22.070Z"
   },
   {
    "duration": 4,
    "start_time": "2021-07-07T14:59:11.239Z"
   },
   {
    "duration": 25,
    "start_time": "2021-07-07T15:07:22.208Z"
   },
   {
    "duration": 16,
    "start_time": "2021-07-07T15:08:25.560Z"
   },
   {
    "duration": 15,
    "start_time": "2021-07-07T15:08:40.647Z"
   },
   {
    "duration": 14,
    "start_time": "2021-07-07T15:08:46.669Z"
   },
   {
    "duration": 533,
    "start_time": "2021-07-07T15:18:07.440Z"
   },
   {
    "duration": 173,
    "start_time": "2021-07-07T15:18:07.974Z"
   },
   {
    "duration": 84,
    "start_time": "2021-07-07T15:18:08.149Z"
   },
   {
    "duration": 3,
    "start_time": "2021-07-07T15:18:08.235Z"
   },
   {
    "duration": 30,
    "start_time": "2021-07-07T15:18:08.240Z"
   },
   {
    "duration": 22,
    "start_time": "2021-07-07T15:18:08.272Z"
   },
   {
    "duration": 11,
    "start_time": "2021-07-07T15:18:08.295Z"
   },
   {
    "duration": 11,
    "start_time": "2021-07-07T15:18:08.309Z"
   },
   {
    "duration": 40,
    "start_time": "2021-07-07T15:18:08.322Z"
   },
   {
    "duration": 42,
    "start_time": "2021-07-07T15:18:08.364Z"
   },
   {
    "duration": 22,
    "start_time": "2021-07-07T15:18:08.408Z"
   },
   {
    "duration": 5,
    "start_time": "2021-07-07T15:18:08.432Z"
   },
   {
    "duration": 13,
    "start_time": "2021-07-07T15:18:08.439Z"
   },
   {
    "duration": 9,
    "start_time": "2021-07-07T15:18:08.454Z"
   },
   {
    "duration": 32,
    "start_time": "2021-07-07T15:18:08.465Z"
   },
   {
    "duration": 10,
    "start_time": "2021-07-07T15:18:08.501Z"
   },
   {
    "duration": 7,
    "start_time": "2021-07-07T15:18:08.513Z"
   },
   {
    "duration": 11,
    "start_time": "2021-07-07T15:18:08.521Z"
   },
   {
    "duration": 17,
    "start_time": "2021-07-07T15:18:08.534Z"
   },
   {
    "duration": 44,
    "start_time": "2021-07-07T15:18:08.553Z"
   },
   {
    "duration": 22,
    "start_time": "2021-07-07T15:18:08.599Z"
   },
   {
    "duration": 61,
    "start_time": "2021-07-07T15:18:08.622Z"
   },
   {
    "duration": 7,
    "start_time": "2021-07-07T15:18:39.457Z"
   },
   {
    "duration": 5,
    "start_time": "2021-07-07T16:05:17.020Z"
   },
   {
    "duration": 5,
    "start_time": "2021-07-07T16:51:28.794Z"
   },
   {
    "duration": 546,
    "start_time": "2021-07-07T16:52:26.306Z"
   },
   {
    "duration": 203,
    "start_time": "2021-07-07T16:52:27.523Z"
   },
   {
    "duration": 85,
    "start_time": "2021-07-07T16:52:27.736Z"
   },
   {
    "duration": 4,
    "start_time": "2021-07-07T16:52:27.899Z"
   },
   {
    "duration": 25,
    "start_time": "2021-07-07T16:52:28.674Z"
   },
   {
    "duration": 8,
    "start_time": "2021-07-07T16:52:32.956Z"
   },
   {
    "duration": 18,
    "start_time": "2021-07-07T16:52:35.616Z"
   },
   {
    "duration": 6,
    "start_time": "2021-07-07T16:52:36.913Z"
   },
   {
    "duration": 11,
    "start_time": "2021-07-07T16:52:40.258Z"
   },
   {
    "duration": 10,
    "start_time": "2021-07-07T16:52:46.251Z"
   },
   {
    "duration": 8,
    "start_time": "2021-07-07T16:52:47.182Z"
   },
   {
    "duration": 27,
    "start_time": "2021-07-07T16:53:20.391Z"
   },
   {
    "duration": 20,
    "start_time": "2021-07-07T16:53:22.022Z"
   },
   {
    "duration": 23,
    "start_time": "2021-07-07T16:53:23.690Z"
   },
   {
    "duration": 8,
    "start_time": "2021-07-07T16:53:24.261Z"
   },
   {
    "duration": 4,
    "start_time": "2021-07-07T16:53:38.733Z"
   },
   {
    "duration": 7,
    "start_time": "2021-07-07T16:53:40.445Z"
   },
   {
    "duration": 11,
    "start_time": "2021-07-07T16:53:41.348Z"
   },
   {
    "duration": 13,
    "start_time": "2021-07-07T16:53:45.250Z"
   },
   {
    "duration": 12,
    "start_time": "2021-07-07T16:53:45.467Z"
   },
   {
    "duration": 4,
    "start_time": "2021-07-07T16:55:32.704Z"
   },
   {
    "duration": 12,
    "start_time": "2021-07-07T16:55:49.012Z"
   },
   {
    "duration": 18,
    "start_time": "2021-07-07T16:55:49.547Z"
   },
   {
    "duration": 611,
    "start_time": "2021-07-07T16:58:35.156Z"
   },
   {
    "duration": 200,
    "start_time": "2021-07-07T16:58:35.770Z"
   },
   {
    "duration": 86,
    "start_time": "2021-07-07T16:58:35.972Z"
   },
   {
    "duration": 3,
    "start_time": "2021-07-07T16:58:36.060Z"
   },
   {
    "duration": 27,
    "start_time": "2021-07-07T16:58:36.065Z"
   },
   {
    "duration": 8,
    "start_time": "2021-07-07T16:58:36.094Z"
   },
   {
    "duration": 17,
    "start_time": "2021-07-07T16:58:36.103Z"
   },
   {
    "duration": 5,
    "start_time": "2021-07-07T16:58:36.123Z"
   },
   {
    "duration": 11,
    "start_time": "2021-07-07T16:58:36.130Z"
   },
   {
    "duration": 7,
    "start_time": "2021-07-07T16:58:36.143Z"
   },
   {
    "duration": 37,
    "start_time": "2021-07-07T16:58:36.152Z"
   },
   {
    "duration": 27,
    "start_time": "2021-07-07T16:58:36.191Z"
   },
   {
    "duration": 19,
    "start_time": "2021-07-07T16:58:36.219Z"
   },
   {
    "duration": 49,
    "start_time": "2021-07-07T16:58:36.240Z"
   },
   {
    "duration": 6,
    "start_time": "2021-07-07T16:58:36.291Z"
   },
   {
    "duration": 3,
    "start_time": "2021-07-07T16:58:36.299Z"
   },
   {
    "duration": 13,
    "start_time": "2021-07-07T16:58:36.304Z"
   },
   {
    "duration": 10,
    "start_time": "2021-07-07T16:58:36.319Z"
   },
   {
    "duration": 10,
    "start_time": "2021-07-07T16:58:36.331Z"
   },
   {
    "duration": 44,
    "start_time": "2021-07-07T16:58:36.343Z"
   },
   {
    "duration": 4,
    "start_time": "2021-07-07T16:58:36.388Z"
   },
   {
    "duration": 13,
    "start_time": "2021-07-07T16:58:36.394Z"
   },
   {
    "duration": 16,
    "start_time": "2021-07-07T16:58:36.410Z"
   },
   {
    "duration": 8,
    "start_time": "2021-07-07T17:02:31.629Z"
   },
   {
    "duration": 8,
    "start_time": "2021-07-07T17:02:34.308Z"
   },
   {
    "duration": 6,
    "start_time": "2021-07-07T17:05:13.483Z"
   },
   {
    "duration": 17,
    "start_time": "2021-07-07T17:05:20.606Z"
   },
   {
    "duration": 7,
    "start_time": "2021-07-07T17:05:34.638Z"
   },
   {
    "duration": 3,
    "start_time": "2021-07-07T17:06:31.883Z"
   },
   {
    "duration": 570,
    "start_time": "2021-07-07T17:06:37.165Z"
   },
   {
    "duration": 174,
    "start_time": "2021-07-07T17:06:37.737Z"
   },
   {
    "duration": 47,
    "start_time": "2021-07-07T17:06:37.913Z"
   },
   {
    "duration": 3,
    "start_time": "2021-07-07T17:06:37.962Z"
   },
   {
    "duration": 27,
    "start_time": "2021-07-07T17:06:37.967Z"
   },
   {
    "duration": 7,
    "start_time": "2021-07-07T17:06:37.996Z"
   },
   {
    "duration": 16,
    "start_time": "2021-07-07T17:06:38.005Z"
   },
   {
    "duration": 6,
    "start_time": "2021-07-07T17:06:38.024Z"
   },
   {
    "duration": 12,
    "start_time": "2021-07-07T17:06:38.031Z"
   },
   {
    "duration": 41,
    "start_time": "2021-07-07T17:06:38.045Z"
   },
   {
    "duration": 8,
    "start_time": "2021-07-07T17:06:38.088Z"
   },
   {
    "duration": 26,
    "start_time": "2021-07-07T17:06:38.098Z"
   },
   {
    "duration": 17,
    "start_time": "2021-07-07T17:06:38.126Z"
   },
   {
    "duration": 43,
    "start_time": "2021-07-07T17:06:38.144Z"
   },
   {
    "duration": 6,
    "start_time": "2021-07-07T17:06:38.188Z"
   },
   {
    "duration": 5,
    "start_time": "2021-07-07T17:06:38.195Z"
   },
   {
    "duration": 9,
    "start_time": "2021-07-07T17:06:38.201Z"
   },
   {
    "duration": 12,
    "start_time": "2021-07-07T17:06:38.212Z"
   },
   {
    "duration": 11,
    "start_time": "2021-07-07T17:06:38.226Z"
   },
   {
    "duration": 47,
    "start_time": "2021-07-07T17:06:38.239Z"
   },
   {
    "duration": 4,
    "start_time": "2021-07-07T17:06:38.288Z"
   },
   {
    "duration": 13,
    "start_time": "2021-07-07T17:06:38.293Z"
   },
   {
    "duration": 5,
    "start_time": "2021-07-07T17:06:38.309Z"
   },
   {
    "duration": 18,
    "start_time": "2021-07-07T17:06:38.325Z"
   },
   {
    "duration": 20,
    "start_time": "2021-07-07T17:07:02.805Z"
   },
   {
    "duration": 19,
    "start_time": "2021-07-07T17:07:08.527Z"
   },
   {
    "duration": 19,
    "start_time": "2021-07-07T17:07:12.758Z"
   },
   {
    "duration": 22,
    "start_time": "2021-07-07T17:07:17.497Z"
   },
   {
    "duration": 19,
    "start_time": "2021-07-07T17:07:19.645Z"
   },
   {
    "duration": 10,
    "start_time": "2021-07-07T17:07:34.239Z"
   },
   {
    "duration": 17,
    "start_time": "2021-07-07T17:07:54.144Z"
   },
   {
    "duration": 14,
    "start_time": "2021-07-07T17:08:14.357Z"
   },
   {
    "duration": 616,
    "start_time": "2021-07-07T17:08:45.254Z"
   },
   {
    "duration": 178,
    "start_time": "2021-07-07T17:08:45.872Z"
   },
   {
    "duration": 60,
    "start_time": "2021-07-07T17:08:46.054Z"
   },
   {
    "duration": 3,
    "start_time": "2021-07-07T17:08:46.116Z"
   },
   {
    "duration": 26,
    "start_time": "2021-07-07T17:08:46.121Z"
   },
   {
    "duration": 7,
    "start_time": "2021-07-07T17:08:46.149Z"
   },
   {
    "duration": 17,
    "start_time": "2021-07-07T17:08:46.158Z"
   },
   {
    "duration": 14,
    "start_time": "2021-07-07T17:08:46.176Z"
   },
   {
    "duration": 17,
    "start_time": "2021-07-07T17:08:46.193Z"
   },
   {
    "duration": 9,
    "start_time": "2021-07-07T17:08:46.211Z"
   },
   {
    "duration": 21,
    "start_time": "2021-07-07T17:08:46.221Z"
   },
   {
    "duration": 49,
    "start_time": "2021-07-07T17:08:46.244Z"
   },
   {
    "duration": 24,
    "start_time": "2021-07-07T17:08:46.295Z"
   },
   {
    "duration": 22,
    "start_time": "2021-07-07T17:08:46.321Z"
   },
   {
    "duration": 6,
    "start_time": "2021-07-07T17:08:46.345Z"
   },
   {
    "duration": 5,
    "start_time": "2021-07-07T17:08:46.353Z"
   },
   {
    "duration": 13,
    "start_time": "2021-07-07T17:08:46.386Z"
   },
   {
    "duration": 12,
    "start_time": "2021-07-07T17:08:46.402Z"
   },
   {
    "duration": 10,
    "start_time": "2021-07-07T17:08:46.415Z"
   },
   {
    "duration": 7,
    "start_time": "2021-07-07T17:08:46.427Z"
   },
   {
    "duration": 8,
    "start_time": "2021-07-07T17:08:46.435Z"
   },
   {
    "duration": 68,
    "start_time": "2021-07-07T17:08:46.446Z"
   },
   {
    "duration": 13,
    "start_time": "2021-07-07T17:08:46.516Z"
   },
   {
    "duration": 78,
    "start_time": "2021-07-07T17:08:46.530Z"
   },
   {
    "duration": 40,
    "start_time": "2021-07-07T17:09:08.185Z"
   },
   {
    "duration": 16,
    "start_time": "2021-07-07T17:09:19.324Z"
   },
   {
    "duration": 21,
    "start_time": "2021-07-07T17:09:23.290Z"
   },
   {
    "duration": 13,
    "start_time": "2021-07-07T17:09:54.812Z"
   },
   {
    "duration": 13,
    "start_time": "2021-07-07T17:10:02.039Z"
   },
   {
    "duration": 10,
    "start_time": "2021-07-07T17:10:29.632Z"
   },
   {
    "duration": 13,
    "start_time": "2021-07-07T17:10:52.372Z"
   },
   {
    "duration": 13,
    "start_time": "2021-07-07T17:11:17.270Z"
   },
   {
    "duration": 13,
    "start_time": "2021-07-07T17:14:59.284Z"
   },
   {
    "duration": 547,
    "start_time": "2021-07-07T17:18:52.403Z"
   },
   {
    "duration": 163,
    "start_time": "2021-07-07T17:18:52.952Z"
   },
   {
    "duration": 44,
    "start_time": "2021-07-07T17:18:53.117Z"
   },
   {
    "duration": 3,
    "start_time": "2021-07-07T17:18:53.162Z"
   },
   {
    "duration": 26,
    "start_time": "2021-07-07T17:18:53.167Z"
   },
   {
    "duration": 6,
    "start_time": "2021-07-07T17:18:53.195Z"
   },
   {
    "duration": 15,
    "start_time": "2021-07-07T17:18:53.203Z"
   },
   {
    "duration": 5,
    "start_time": "2021-07-07T17:18:53.220Z"
   },
   {
    "duration": 11,
    "start_time": "2021-07-07T17:18:53.228Z"
   },
   {
    "duration": 9,
    "start_time": "2021-07-07T17:18:53.241Z"
   },
   {
    "duration": 41,
    "start_time": "2021-07-07T17:18:53.252Z"
   },
   {
    "duration": 33,
    "start_time": "2021-07-07T17:18:53.295Z"
   },
   {
    "duration": 19,
    "start_time": "2021-07-07T17:18:53.330Z"
   },
   {
    "duration": 49,
    "start_time": "2021-07-07T17:18:53.350Z"
   },
   {
    "duration": 5,
    "start_time": "2021-07-07T17:18:53.401Z"
   },
   {
    "duration": 5,
    "start_time": "2021-07-07T17:18:53.408Z"
   },
   {
    "duration": 11,
    "start_time": "2021-07-07T17:18:53.414Z"
   },
   {
    "duration": 9,
    "start_time": "2021-07-07T17:18:53.427Z"
   },
   {
    "duration": 10,
    "start_time": "2021-07-07T17:18:53.437Z"
   },
   {
    "duration": 39,
    "start_time": "2021-07-07T17:18:53.448Z"
   },
   {
    "duration": 26,
    "start_time": "2021-07-07T17:18:55.799Z"
   },
   {
    "duration": 598,
    "start_time": "2021-07-07T17:20:17.862Z"
   },
   {
    "duration": 161,
    "start_time": "2021-07-07T17:20:18.462Z"
   },
   {
    "duration": 45,
    "start_time": "2021-07-07T17:20:18.626Z"
   },
   {
    "duration": 4,
    "start_time": "2021-07-07T17:20:18.673Z"
   },
   {
    "duration": 38,
    "start_time": "2021-07-07T17:20:26.877Z"
   },
   {
    "duration": 7,
    "start_time": "2021-07-07T17:20:37.405Z"
   },
   {
    "duration": 19,
    "start_time": "2021-07-07T17:20:51.534Z"
   },
   {
    "duration": 5,
    "start_time": "2021-07-07T17:20:57.228Z"
   },
   {
    "duration": 7,
    "start_time": "2021-07-07T17:21:08.235Z"
   },
   {
    "duration": 19,
    "start_time": "2021-07-07T17:21:42.158Z"
   },
   {
    "duration": 14,
    "start_time": "2021-07-07T17:21:50.225Z"
   },
   {
    "duration": 22,
    "start_time": "2021-07-07T17:22:54.104Z"
   },
   {
    "duration": 5,
    "start_time": "2021-07-07T17:22:56.371Z"
   },
   {
    "duration": 14,
    "start_time": "2021-07-07T17:22:58.316Z"
   },
   {
    "duration": 5,
    "start_time": "2021-07-07T17:22:58.493Z"
   },
   {
    "duration": 35,
    "start_time": "2021-07-07T17:22:59.666Z"
   },
   {
    "duration": 6,
    "start_time": "2021-07-07T17:23:02.410Z"
   },
   {
    "duration": 611,
    "start_time": "2021-07-07T17:24:59.664Z"
   },
   {
    "duration": 178,
    "start_time": "2021-07-07T17:25:01.945Z"
   },
   {
    "duration": 47,
    "start_time": "2021-07-07T17:25:02.125Z"
   },
   {
    "duration": 2,
    "start_time": "2021-07-07T17:25:07.903Z"
   },
   {
    "duration": 254,
    "start_time": "2021-07-07T17:25:08.232Z"
   },
   {
    "duration": 182,
    "start_time": "2021-07-07T17:25:08.671Z"
   },
   {
    "duration": 6,
    "start_time": "2021-07-07T17:25:13.104Z"
   },
   {
    "duration": 36,
    "start_time": "2021-07-07T17:25:13.662Z"
   },
   {
    "duration": 7,
    "start_time": "2021-07-07T17:25:14.528Z"
   },
   {
    "duration": 24,
    "start_time": "2021-07-07T17:25:27.982Z"
   },
   {
    "duration": 3,
    "start_time": "2021-07-07T17:25:48.982Z"
   },
   {
    "duration": 165,
    "start_time": "2021-07-07T17:25:48.987Z"
   },
   {
    "duration": 50,
    "start_time": "2021-07-07T17:25:49.154Z"
   },
   {
    "duration": 4,
    "start_time": "2021-07-07T17:25:49.206Z"
   },
   {
    "duration": 26,
    "start_time": "2021-07-07T17:25:49.212Z"
   },
   {
    "duration": 7,
    "start_time": "2021-07-07T17:25:49.240Z"
   },
   {
    "duration": 16,
    "start_time": "2021-07-07T17:25:49.249Z"
   },
   {
    "duration": 22,
    "start_time": "2021-07-07T17:25:49.266Z"
   },
   {
    "duration": 16,
    "start_time": "2021-07-07T17:25:49.291Z"
   },
   {
    "duration": 9,
    "start_time": "2021-07-07T17:25:49.309Z"
   },
   {
    "duration": 7,
    "start_time": "2021-07-07T17:25:49.319Z"
   },
   {
    "duration": 28,
    "start_time": "2021-07-07T17:25:49.328Z"
   },
   {
    "duration": 44,
    "start_time": "2021-07-07T17:25:49.357Z"
   },
   {
    "duration": 22,
    "start_time": "2021-07-07T17:25:49.403Z"
   },
   {
    "duration": 7,
    "start_time": "2021-07-07T17:25:49.427Z"
   },
   {
    "duration": 3,
    "start_time": "2021-07-07T17:25:49.436Z"
   },
   {
    "duration": 44,
    "start_time": "2021-07-07T17:25:49.441Z"
   },
   {
    "duration": 12,
    "start_time": "2021-07-07T17:25:49.488Z"
   },
   {
    "duration": 13,
    "start_time": "2021-07-07T17:25:49.502Z"
   },
   {
    "duration": 10,
    "start_time": "2021-07-07T17:25:49.516Z"
   },
   {
    "duration": 62,
    "start_time": "2021-07-07T17:25:49.527Z"
   },
   {
    "duration": 26,
    "start_time": "2021-07-07T17:26:51.809Z"
   },
   {
    "duration": 26,
    "start_time": "2021-07-07T17:26:55.759Z"
   },
   {
    "duration": 26,
    "start_time": "2021-07-07T17:27:04.501Z"
   },
   {
    "duration": 25,
    "start_time": "2021-07-07T17:28:24.859Z"
   },
   {
    "duration": 21,
    "start_time": "2021-07-07T17:28:55.250Z"
   },
   {
    "duration": 21,
    "start_time": "2021-07-07T17:28:58.885Z"
   },
   {
    "duration": 7,
    "start_time": "2021-07-07T17:45:40.972Z"
   },
   {
    "duration": 13,
    "start_time": "2021-07-07T17:45:42.529Z"
   },
   {
    "duration": 27,
    "start_time": "2021-07-07T17:45:51.026Z"
   },
   {
    "duration": 518,
    "start_time": "2021-07-07T17:46:15.532Z"
   },
   {
    "duration": 235,
    "start_time": "2021-07-07T17:46:16.053Z"
   },
   {
    "duration": 80,
    "start_time": "2021-07-07T17:46:16.292Z"
   },
   {
    "duration": 5,
    "start_time": "2021-07-07T17:46:16.373Z"
   },
   {
    "duration": 26,
    "start_time": "2021-07-07T17:46:16.380Z"
   },
   {
    "duration": 7,
    "start_time": "2021-07-07T17:46:16.408Z"
   },
   {
    "duration": 16,
    "start_time": "2021-07-07T17:46:16.418Z"
   },
   {
    "duration": 5,
    "start_time": "2021-07-07T17:46:16.436Z"
   },
   {
    "duration": 13,
    "start_time": "2021-07-07T17:46:16.442Z"
   },
   {
    "duration": 35,
    "start_time": "2021-07-07T17:46:16.456Z"
   },
   {
    "duration": 8,
    "start_time": "2021-07-07T17:46:16.493Z"
   },
   {
    "duration": 28,
    "start_time": "2021-07-07T17:46:16.502Z"
   },
   {
    "duration": 17,
    "start_time": "2021-07-07T17:46:16.532Z"
   },
   {
    "duration": 44,
    "start_time": "2021-07-07T17:46:16.551Z"
   },
   {
    "duration": 6,
    "start_time": "2021-07-07T17:46:16.597Z"
   },
   {
    "duration": 4,
    "start_time": "2021-07-07T17:46:16.605Z"
   },
   {
    "duration": 9,
    "start_time": "2021-07-07T17:46:16.610Z"
   },
   {
    "duration": 9,
    "start_time": "2021-07-07T17:46:16.621Z"
   },
   {
    "duration": 10,
    "start_time": "2021-07-07T17:46:16.632Z"
   },
   {
    "duration": 43,
    "start_time": "2021-07-07T17:46:16.644Z"
   },
   {
    "duration": 26,
    "start_time": "2021-07-07T17:46:16.689Z"
   },
   {
    "duration": 19,
    "start_time": "2021-07-07T17:46:16.718Z"
   },
   {
    "duration": 8,
    "start_time": "2021-07-07T17:46:16.738Z"
   },
   {
    "duration": 43,
    "start_time": "2021-07-07T17:46:16.747Z"
   },
   {
    "duration": 19,
    "start_time": "2021-07-07T17:46:16.791Z"
   },
   {
    "duration": 9,
    "start_time": "2021-07-07T17:46:16.812Z"
   },
   {
    "duration": 60,
    "start_time": "2021-07-07T17:46:16.822Z"
   },
   {
    "duration": -8,
    "start_time": "2021-07-07T17:46:16.892Z"
   },
   {
    "duration": 12,
    "start_time": "2021-07-07T17:48:47.707Z"
   },
   {
    "duration": 553,
    "start_time": "2021-07-07T18:10:09.350Z"
   },
   {
    "duration": 230,
    "start_time": "2021-07-07T18:10:09.905Z"
   },
   {
    "duration": 97,
    "start_time": "2021-07-07T18:10:10.137Z"
   },
   {
    "duration": 5,
    "start_time": "2021-07-07T18:10:10.236Z"
   },
   {
    "duration": 29,
    "start_time": "2021-07-07T18:10:10.242Z"
   },
   {
    "duration": 7,
    "start_time": "2021-07-07T18:10:10.272Z"
   },
   {
    "duration": 15,
    "start_time": "2021-07-07T18:10:10.281Z"
   },
   {
    "duration": 4,
    "start_time": "2021-07-07T18:10:10.299Z"
   },
   {
    "duration": 14,
    "start_time": "2021-07-07T18:10:10.305Z"
   },
   {
    "duration": 8,
    "start_time": "2021-07-07T18:10:10.321Z"
   },
   {
    "duration": 8,
    "start_time": "2021-07-07T18:10:10.331Z"
   },
   {
    "duration": 56,
    "start_time": "2021-07-07T18:10:10.341Z"
   },
   {
    "duration": 19,
    "start_time": "2021-07-07T18:10:10.399Z"
   },
   {
    "duration": 23,
    "start_time": "2021-07-07T18:10:10.419Z"
   },
   {
    "duration": 6,
    "start_time": "2021-07-07T18:10:10.444Z"
   },
   {
    "duration": 9,
    "start_time": "2021-07-07T18:10:10.451Z"
   },
   {
    "duration": 30,
    "start_time": "2021-07-07T18:10:10.462Z"
   },
   {
    "duration": 9,
    "start_time": "2021-07-07T18:10:10.494Z"
   },
   {
    "duration": 14,
    "start_time": "2021-07-07T18:10:10.505Z"
   },
   {
    "duration": 7,
    "start_time": "2021-07-07T18:10:10.521Z"
   },
   {
    "duration": 26,
    "start_time": "2021-07-07T18:10:10.530Z"
   },
   {
    "duration": 44,
    "start_time": "2021-07-07T18:10:10.558Z"
   },
   {
    "duration": 7,
    "start_time": "2021-07-07T18:10:10.605Z"
   },
   {
    "duration": 11,
    "start_time": "2021-07-07T18:10:10.614Z"
   },
   {
    "duration": 19,
    "start_time": "2021-07-07T18:10:10.626Z"
   },
   {
    "duration": 44,
    "start_time": "2021-07-07T18:10:10.646Z"
   },
   {
    "duration": 516,
    "start_time": "2021-07-07T18:14:00.826Z"
   },
   {
    "duration": 230,
    "start_time": "2021-07-07T18:14:01.344Z"
   },
   {
    "duration": 105,
    "start_time": "2021-07-07T18:14:01.576Z"
   },
   {
    "duration": 5,
    "start_time": "2021-07-07T18:14:01.683Z"
   },
   {
    "duration": 46,
    "start_time": "2021-07-07T18:14:01.690Z"
   },
   {
    "duration": 7,
    "start_time": "2021-07-07T18:14:01.738Z"
   },
   {
    "duration": 20,
    "start_time": "2021-07-07T18:14:01.747Z"
   },
   {
    "duration": 16,
    "start_time": "2021-07-07T18:14:01.769Z"
   },
   {
    "duration": 14,
    "start_time": "2021-07-07T18:14:01.787Z"
   },
   {
    "duration": 15,
    "start_time": "2021-07-07T18:14:01.803Z"
   },
   {
    "duration": 12,
    "start_time": "2021-07-07T18:14:01.820Z"
   },
   {
    "duration": 35,
    "start_time": "2021-07-07T18:14:01.833Z"
   },
   {
    "duration": 31,
    "start_time": "2021-07-07T18:14:01.869Z"
   },
   {
    "duration": 37,
    "start_time": "2021-07-07T18:14:01.902Z"
   },
   {
    "duration": 8,
    "start_time": "2021-07-07T18:14:01.942Z"
   },
   {
    "duration": 16,
    "start_time": "2021-07-07T18:14:01.952Z"
   },
   {
    "duration": 13,
    "start_time": "2021-07-07T18:14:01.970Z"
   },
   {
    "duration": 32,
    "start_time": "2021-07-07T18:14:01.985Z"
   },
   {
    "duration": 11,
    "start_time": "2021-07-07T18:14:02.019Z"
   },
   {
    "duration": 22,
    "start_time": "2021-07-07T18:14:02.031Z"
   },
   {
    "duration": 27,
    "start_time": "2021-07-07T18:14:02.055Z"
   },
   {
    "duration": 18,
    "start_time": "2021-07-07T18:14:02.084Z"
   },
   {
    "duration": 18,
    "start_time": "2021-07-07T18:14:02.106Z"
   },
   {
    "duration": 11,
    "start_time": "2021-07-07T18:14:02.126Z"
   },
   {
    "duration": 21,
    "start_time": "2021-07-07T18:14:02.138Z"
   },
   {
    "duration": 32,
    "start_time": "2021-07-07T18:14:02.161Z"
   },
   {
    "duration": 28,
    "start_time": "2021-07-07T18:14:44.295Z"
   },
   {
    "duration": 6,
    "start_time": "2021-07-07T18:15:05.834Z"
   },
   {
    "duration": 511,
    "start_time": "2021-07-07T18:15:41.541Z"
   },
   {
    "duration": 183,
    "start_time": "2021-07-07T18:15:42.054Z"
   },
   {
    "duration": 50,
    "start_time": "2021-07-07T18:15:42.239Z"
   },
   {
    "duration": 5,
    "start_time": "2021-07-07T18:15:42.291Z"
   },
   {
    "duration": 48,
    "start_time": "2021-07-07T18:15:42.297Z"
   },
   {
    "duration": 8,
    "start_time": "2021-07-07T18:15:42.346Z"
   },
   {
    "duration": 17,
    "start_time": "2021-07-07T18:15:42.356Z"
   },
   {
    "duration": 15,
    "start_time": "2021-07-07T18:15:42.375Z"
   },
   {
    "duration": 12,
    "start_time": "2021-07-07T18:15:42.392Z"
   },
   {
    "duration": 7,
    "start_time": "2021-07-07T18:15:42.406Z"
   },
   {
    "duration": 7,
    "start_time": "2021-07-07T18:15:42.415Z"
   },
   {
    "duration": 29,
    "start_time": "2021-07-07T18:15:42.423Z"
   },
   {
    "duration": 43,
    "start_time": "2021-07-07T18:15:42.453Z"
   },
   {
    "duration": 18,
    "start_time": "2021-07-07T18:15:42.497Z"
   },
   {
    "duration": 6,
    "start_time": "2021-07-07T18:15:42.516Z"
   },
   {
    "duration": 3,
    "start_time": "2021-07-07T18:15:42.523Z"
   },
   {
    "duration": 18,
    "start_time": "2021-07-07T18:15:42.528Z"
   },
   {
    "duration": 10,
    "start_time": "2021-07-07T18:15:42.547Z"
   },
   {
    "duration": 36,
    "start_time": "2021-07-07T18:15:42.559Z"
   },
   {
    "duration": 8,
    "start_time": "2021-07-07T18:15:42.597Z"
   },
   {
    "duration": 28,
    "start_time": "2021-07-07T18:15:42.606Z"
   },
   {
    "duration": 52,
    "start_time": "2021-07-07T18:15:42.635Z"
   },
   {
    "duration": 7,
    "start_time": "2021-07-07T18:15:42.690Z"
   },
   {
    "duration": 10,
    "start_time": "2021-07-07T18:15:42.699Z"
   },
   {
    "duration": 19,
    "start_time": "2021-07-07T18:15:42.711Z"
   },
   {
    "duration": 9,
    "start_time": "2021-07-07T18:15:42.732Z"
   },
   {
    "duration": 5,
    "start_time": "2021-07-07T18:15:42.743Z"
   },
   {
    "duration": 1450,
    "start_time": "2021-07-07T18:15:51.984Z"
   },
   {
    "duration": 161,
    "start_time": "2021-07-07T18:15:53.435Z"
   },
   {
    "duration": 124,
    "start_time": "2021-07-07T18:15:53.598Z"
   },
   {
    "duration": 5,
    "start_time": "2021-07-07T18:15:53.724Z"
   },
   {
    "duration": 34,
    "start_time": "2021-07-07T18:15:53.730Z"
   },
   {
    "duration": 7,
    "start_time": "2021-07-07T18:15:53.765Z"
   },
   {
    "duration": 15,
    "start_time": "2021-07-07T18:15:53.773Z"
   },
   {
    "duration": 5,
    "start_time": "2021-07-07T18:15:53.791Z"
   },
   {
    "duration": 19,
    "start_time": "2021-07-07T18:15:53.798Z"
   },
   {
    "duration": 9,
    "start_time": "2021-07-07T18:15:53.818Z"
   },
   {
    "duration": 19,
    "start_time": "2021-07-07T18:15:53.828Z"
   },
   {
    "duration": 27,
    "start_time": "2021-07-07T18:15:53.848Z"
   },
   {
    "duration": 16,
    "start_time": "2021-07-07T18:15:53.884Z"
   },
   {
    "duration": 29,
    "start_time": "2021-07-07T18:15:53.901Z"
   },
   {
    "duration": 5,
    "start_time": "2021-07-07T18:15:53.932Z"
   },
   {
    "duration": 15,
    "start_time": "2021-07-07T18:15:53.939Z"
   },
   {
    "duration": 13,
    "start_time": "2021-07-07T18:15:53.956Z"
   },
   {
    "duration": 20,
    "start_time": "2021-07-07T18:15:53.971Z"
   },
   {
    "duration": 14,
    "start_time": "2021-07-07T18:15:53.992Z"
   },
   {
    "duration": 9,
    "start_time": "2021-07-07T18:15:54.009Z"
   },
   {
    "duration": 28,
    "start_time": "2021-07-07T18:15:54.020Z"
   },
   {
    "duration": 50,
    "start_time": "2021-07-07T18:15:54.051Z"
   },
   {
    "duration": 8,
    "start_time": "2021-07-07T18:15:54.105Z"
   },
   {
    "duration": 11,
    "start_time": "2021-07-07T18:15:54.115Z"
   },
   {
    "duration": 20,
    "start_time": "2021-07-07T18:15:54.128Z"
   },
   {
    "duration": 13,
    "start_time": "2021-07-07T18:15:54.184Z"
   },
   {
    "duration": 7,
    "start_time": "2021-07-07T18:15:54.199Z"
   },
   {
    "duration": 7,
    "start_time": "2021-07-07T18:17:08.042Z"
   },
   {
    "duration": 8,
    "start_time": "2021-07-07T18:17:21.008Z"
   },
   {
    "duration": 7,
    "start_time": "2021-07-07T18:17:29.003Z"
   },
   {
    "duration": 8,
    "start_time": "2021-07-07T18:17:32.492Z"
   },
   {
    "duration": 9,
    "start_time": "2021-07-07T18:17:41.758Z"
   },
   {
    "duration": 255,
    "start_time": "2021-07-07T18:20:20.897Z"
   },
   {
    "duration": 173,
    "start_time": "2021-07-07T18:20:26.636Z"
   },
   {
    "duration": 7,
    "start_time": "2021-07-07T18:21:47.164Z"
   },
   {
    "duration": 254,
    "start_time": "2021-07-07T18:23:08.703Z"
   },
   {
    "duration": 21,
    "start_time": "2021-07-07T18:23:22.506Z"
   },
   {
    "duration": 315,
    "start_time": "2021-07-07T18:25:54.801Z"
   },
   {
    "duration": 34,
    "start_time": "2021-07-07T18:26:51.817Z"
   },
   {
    "duration": 327,
    "start_time": "2021-07-07T18:26:56.147Z"
   },
   {
    "duration": 342,
    "start_time": "2021-07-07T18:27:15.887Z"
   },
   {
    "duration": 302,
    "start_time": "2021-07-07T18:28:18.569Z"
   },
   {
    "duration": 226,
    "start_time": "2021-07-07T18:29:20.879Z"
   },
   {
    "duration": 207,
    "start_time": "2021-07-07T18:29:58.114Z"
   },
   {
    "duration": 140,
    "start_time": "2021-07-07T18:32:04.372Z"
   },
   {
    "duration": 158,
    "start_time": "2021-07-07T18:32:32.508Z"
   },
   {
    "duration": 145,
    "start_time": "2021-07-07T18:32:41.365Z"
   },
   {
    "duration": 132,
    "start_time": "2021-07-07T18:32:45.199Z"
   },
   {
    "duration": 11,
    "start_time": "2021-07-07T18:35:24.679Z"
   },
   {
    "duration": 268,
    "start_time": "2021-07-07T18:36:16.145Z"
   },
   {
    "duration": 227,
    "start_time": "2021-07-07T18:37:04.918Z"
   },
   {
    "duration": 3,
    "start_time": "2021-07-07T18:37:33.012Z"
   },
   {
    "duration": 671,
    "start_time": "2021-07-07T18:37:38.295Z"
   },
   {
    "duration": 54,
    "start_time": "2021-07-07T18:37:53.406Z"
   },
   {
    "duration": 631,
    "start_time": "2021-07-07T18:37:56.463Z"
   },
   {
    "duration": 19,
    "start_time": "2021-07-07T18:39:40.535Z"
   },
   {
    "duration": 20,
    "start_time": "2021-07-07T18:40:12.236Z"
   },
   {
    "duration": 633,
    "start_time": "2021-07-07T18:42:00.398Z"
   },
   {
    "duration": 218,
    "start_time": "2021-07-07T18:42:01.033Z"
   },
   {
    "duration": 49,
    "start_time": "2021-07-07T18:42:01.253Z"
   },
   {
    "duration": 5,
    "start_time": "2021-07-07T18:42:01.303Z"
   },
   {
    "duration": 27,
    "start_time": "2021-07-07T18:42:01.310Z"
   },
   {
    "duration": 8,
    "start_time": "2021-07-07T18:42:01.339Z"
   },
   {
    "duration": 20,
    "start_time": "2021-07-07T18:42:01.348Z"
   },
   {
    "duration": 6,
    "start_time": "2021-07-07T18:42:01.386Z"
   },
   {
    "duration": 16,
    "start_time": "2021-07-07T18:42:01.394Z"
   },
   {
    "duration": 9,
    "start_time": "2021-07-07T18:42:01.411Z"
   },
   {
    "duration": 11,
    "start_time": "2021-07-07T18:42:01.421Z"
   },
   {
    "duration": 31,
    "start_time": "2021-07-07T18:42:01.434Z"
   },
   {
    "duration": 18,
    "start_time": "2021-07-07T18:42:01.485Z"
   },
   {
    "duration": 23,
    "start_time": "2021-07-07T18:42:01.505Z"
   },
   {
    "duration": 6,
    "start_time": "2021-07-07T18:42:01.530Z"
   },
   {
    "duration": 10,
    "start_time": "2021-07-07T18:42:01.538Z"
   },
   {
    "duration": 13,
    "start_time": "2021-07-07T18:42:01.550Z"
   },
   {
    "duration": 24,
    "start_time": "2021-07-07T18:42:01.564Z"
   },
   {
    "duration": 20,
    "start_time": "2021-07-07T18:42:01.590Z"
   },
   {
    "duration": 8,
    "start_time": "2021-07-07T18:42:01.611Z"
   },
   {
    "duration": 31,
    "start_time": "2021-07-07T18:42:01.620Z"
   },
   {
    "duration": 39,
    "start_time": "2021-07-07T18:42:01.653Z"
   },
   {
    "duration": 8,
    "start_time": "2021-07-07T18:42:01.696Z"
   },
   {
    "duration": 13,
    "start_time": "2021-07-07T18:42:01.705Z"
   },
   {
    "duration": 20,
    "start_time": "2021-07-07T18:42:01.720Z"
   },
   {
    "duration": 12,
    "start_time": "2021-07-07T18:42:01.741Z"
   },
   {
    "duration": 35,
    "start_time": "2021-07-07T18:42:01.755Z"
   },
   {
    "duration": 14,
    "start_time": "2021-07-07T18:42:01.792Z"
   },
   {
    "duration": 188,
    "start_time": "2021-07-07T18:42:01.808Z"
   },
   {
    "duration": 19,
    "start_time": "2021-07-07T18:42:01.998Z"
   },
   {
    "duration": 175,
    "start_time": "2021-07-07T18:42:02.019Z"
   },
   {
    "duration": 134,
    "start_time": "2021-07-07T18:42:02.196Z"
   },
   {
    "duration": 10,
    "start_time": "2021-07-07T18:42:02.331Z"
   },
   {
    "duration": 19,
    "start_time": "2021-07-07T18:42:02.343Z"
   },
   {
    "duration": 628,
    "start_time": "2021-07-07T18:46:30.701Z"
   },
   {
    "duration": 183,
    "start_time": "2021-07-07T18:46:31.331Z"
   },
   {
    "duration": 48,
    "start_time": "2021-07-07T18:46:31.516Z"
   },
   {
    "duration": 5,
    "start_time": "2021-07-07T18:46:31.566Z"
   },
   {
    "duration": 28,
    "start_time": "2021-07-07T18:46:31.572Z"
   },
   {
    "duration": 8,
    "start_time": "2021-07-07T18:46:31.602Z"
   },
   {
    "duration": 19,
    "start_time": "2021-07-07T18:46:31.611Z"
   },
   {
    "duration": 6,
    "start_time": "2021-07-07T18:46:31.633Z"
   },
   {
    "duration": 17,
    "start_time": "2021-07-07T18:46:31.642Z"
   },
   {
    "duration": 10,
    "start_time": "2021-07-07T18:46:31.684Z"
   },
   {
    "duration": 9,
    "start_time": "2021-07-07T18:46:31.695Z"
   },
   {
    "duration": 28,
    "start_time": "2021-07-07T18:46:31.705Z"
   },
   {
    "duration": 18,
    "start_time": "2021-07-07T18:46:31.735Z"
   },
   {
    "duration": 48,
    "start_time": "2021-07-07T18:46:31.755Z"
   },
   {
    "duration": 6,
    "start_time": "2021-07-07T18:46:31.804Z"
   },
   {
    "duration": 4,
    "start_time": "2021-07-07T18:46:31.812Z"
   },
   {
    "duration": 9,
    "start_time": "2021-07-07T18:46:31.817Z"
   },
   {
    "duration": 10,
    "start_time": "2021-07-07T18:46:31.827Z"
   },
   {
    "duration": 12,
    "start_time": "2021-07-07T18:46:31.838Z"
   },
   {
    "duration": 39,
    "start_time": "2021-07-07T18:46:31.851Z"
   },
   {
    "duration": 24,
    "start_time": "2021-07-07T18:46:31.892Z"
   },
   {
    "duration": 15,
    "start_time": "2021-07-07T18:46:31.918Z"
   },
   {
    "duration": 7,
    "start_time": "2021-07-07T18:46:31.936Z"
   },
   {
    "duration": 8,
    "start_time": "2021-07-07T18:46:31.944Z"
   },
   {
    "duration": 19,
    "start_time": "2021-07-07T18:46:31.984Z"
   },
   {
    "duration": 10,
    "start_time": "2021-07-07T18:46:32.004Z"
   },
   {
    "duration": 5,
    "start_time": "2021-07-07T18:46:32.016Z"
   },
   {
    "duration": 9,
    "start_time": "2021-07-07T18:46:32.023Z"
   },
   {
    "duration": 199,
    "start_time": "2021-07-07T18:46:32.033Z"
   },
   {
    "duration": 19,
    "start_time": "2021-07-07T18:46:32.234Z"
   },
   {
    "duration": 159,
    "start_time": "2021-07-07T18:46:32.255Z"
   },
   {
    "duration": 134,
    "start_time": "2021-07-07T18:46:32.416Z"
   },
   {
    "duration": 10,
    "start_time": "2021-07-07T18:46:32.552Z"
   },
   {
    "duration": 34,
    "start_time": "2021-07-07T18:46:32.563Z"
   },
   {
    "duration": 1039,
    "start_time": "2021-07-08T08:41:09.419Z"
   },
   {
    "duration": 333,
    "start_time": "2021-07-08T08:41:10.459Z"
   },
   {
    "duration": 173,
    "start_time": "2021-07-08T08:41:10.794Z"
   },
   {
    "duration": 5,
    "start_time": "2021-07-08T08:41:10.968Z"
   },
   {
    "duration": 25,
    "start_time": "2021-07-08T08:41:10.975Z"
   },
   {
    "duration": 9,
    "start_time": "2021-07-08T08:41:11.002Z"
   },
   {
    "duration": 18,
    "start_time": "2021-07-08T08:41:11.013Z"
   },
   {
    "duration": 6,
    "start_time": "2021-07-08T08:41:11.033Z"
   },
   {
    "duration": 44,
    "start_time": "2021-07-08T08:41:11.042Z"
   },
   {
    "duration": 10,
    "start_time": "2021-07-08T08:41:11.088Z"
   },
   {
    "duration": 9,
    "start_time": "2021-07-08T08:41:11.100Z"
   },
   {
    "duration": 27,
    "start_time": "2021-07-08T08:41:11.111Z"
   },
   {
    "duration": 46,
    "start_time": "2021-07-08T08:41:11.140Z"
   },
   {
    "duration": 17,
    "start_time": "2021-07-08T08:41:11.187Z"
   },
   {
    "duration": 6,
    "start_time": "2021-07-08T08:41:11.206Z"
   },
   {
    "duration": 5,
    "start_time": "2021-07-08T08:41:11.213Z"
   },
   {
    "duration": 10,
    "start_time": "2021-07-08T08:41:11.219Z"
   },
   {
    "duration": 9,
    "start_time": "2021-07-08T08:41:11.230Z"
   },
   {
    "duration": 45,
    "start_time": "2021-07-08T08:41:11.241Z"
   },
   {
    "duration": 7,
    "start_time": "2021-07-08T08:41:11.287Z"
   },
   {
    "duration": 24,
    "start_time": "2021-07-08T08:41:11.296Z"
   },
   {
    "duration": 16,
    "start_time": "2021-07-08T08:41:11.322Z"
   },
   {
    "duration": 7,
    "start_time": "2021-07-08T08:41:11.341Z"
   },
   {
    "duration": 41,
    "start_time": "2021-07-08T08:41:11.349Z"
   },
   {
    "duration": 17,
    "start_time": "2021-07-08T08:41:11.391Z"
   },
   {
    "duration": 9,
    "start_time": "2021-07-08T08:41:11.410Z"
   },
   {
    "duration": 5,
    "start_time": "2021-07-08T08:41:11.421Z"
   },
   {
    "duration": 6,
    "start_time": "2021-07-08T08:41:11.428Z"
   },
   {
    "duration": 198,
    "start_time": "2021-07-08T08:41:11.435Z"
   },
   {
    "duration": 18,
    "start_time": "2021-07-08T08:41:11.635Z"
   },
   {
    "duration": 155,
    "start_time": "2021-07-08T08:41:11.655Z"
   },
   {
    "duration": 138,
    "start_time": "2021-07-08T08:41:11.811Z"
   },
   {
    "duration": 10,
    "start_time": "2021-07-08T08:41:11.950Z"
   },
   {
    "duration": 29,
    "start_time": "2021-07-08T08:41:11.961Z"
   },
   {
    "duration": 171,
    "start_time": "2021-07-08T08:47:44.522Z"
   },
   {
    "duration": 124,
    "start_time": "2021-07-08T08:47:46.872Z"
   },
   {
    "duration": 191,
    "start_time": "2021-07-08T08:47:58.148Z"
   },
   {
    "duration": 191,
    "start_time": "2021-07-08T08:48:07.412Z"
   },
   {
    "duration": 261,
    "start_time": "2021-07-08T08:48:10.385Z"
   },
   {
    "duration": 255,
    "start_time": "2021-07-08T08:48:14.494Z"
   },
   {
    "duration": 219,
    "start_time": "2021-07-08T08:48:22.752Z"
   },
   {
    "duration": 173,
    "start_time": "2021-07-08T08:49:06.395Z"
   },
   {
    "duration": 180,
    "start_time": "2021-07-08T08:49:21.011Z"
   },
   {
    "duration": 6,
    "start_time": "2021-07-08T08:50:31.697Z"
   },
   {
    "duration": 10,
    "start_time": "2021-07-08T08:50:47.394Z"
   },
   {
    "duration": 11,
    "start_time": "2021-07-08T08:53:49.332Z"
   },
   {
    "duration": 171,
    "start_time": "2021-07-08T08:54:28.408Z"
   },
   {
    "duration": 636,
    "start_time": "2021-07-08T09:02:48.385Z"
   },
   {
    "duration": 227,
    "start_time": "2021-07-08T09:02:49.023Z"
   },
   {
    "duration": 104,
    "start_time": "2021-07-08T09:02:49.252Z"
   },
   {
    "duration": 5,
    "start_time": "2021-07-08T09:02:49.358Z"
   },
   {
    "duration": 27,
    "start_time": "2021-07-08T09:02:49.365Z"
   },
   {
    "duration": 8,
    "start_time": "2021-07-08T09:02:49.394Z"
   },
   {
    "duration": 18,
    "start_time": "2021-07-08T09:02:49.404Z"
   },
   {
    "duration": 6,
    "start_time": "2021-07-08T09:02:49.424Z"
   },
   {
    "duration": 11,
    "start_time": "2021-07-08T09:02:49.433Z"
   },
   {
    "duration": 13,
    "start_time": "2021-07-08T09:02:49.485Z"
   },
   {
    "duration": 9,
    "start_time": "2021-07-08T09:02:49.500Z"
   },
   {
    "duration": 38,
    "start_time": "2021-07-08T09:02:49.511Z"
   },
   {
    "duration": 42,
    "start_time": "2021-07-08T09:02:49.551Z"
   },
   {
    "duration": 21,
    "start_time": "2021-07-08T09:02:49.594Z"
   },
   {
    "duration": 6,
    "start_time": "2021-07-08T09:02:49.616Z"
   },
   {
    "duration": 3,
    "start_time": "2021-07-08T09:02:49.623Z"
   },
   {
    "duration": 9,
    "start_time": "2021-07-08T09:02:49.628Z"
   },
   {
    "duration": 52,
    "start_time": "2021-07-08T09:02:49.638Z"
   },
   {
    "duration": 11,
    "start_time": "2021-07-08T09:02:49.692Z"
   },
   {
    "duration": 8,
    "start_time": "2021-07-08T09:02:49.704Z"
   },
   {
    "duration": 27,
    "start_time": "2021-07-08T09:02:49.713Z"
   },
   {
    "duration": 59,
    "start_time": "2021-07-08T09:02:49.741Z"
   },
   {
    "duration": 8,
    "start_time": "2021-07-08T09:02:49.803Z"
   },
   {
    "duration": 14,
    "start_time": "2021-07-08T09:02:49.813Z"
   },
   {
    "duration": 20,
    "start_time": "2021-07-08T09:02:49.829Z"
   },
   {
    "duration": 44,
    "start_time": "2021-07-08T09:02:49.851Z"
   },
   {
    "duration": 14,
    "start_time": "2021-07-08T09:02:49.896Z"
   },
   {
    "duration": 221,
    "start_time": "2021-07-08T09:02:49.912Z"
   },
   {
    "duration": 6,
    "start_time": "2021-07-08T09:02:50.134Z"
   },
   {
    "duration": 206,
    "start_time": "2021-07-08T09:02:50.142Z"
   },
   {
    "duration": 19,
    "start_time": "2021-07-08T09:02:50.350Z"
   },
   {
    "duration": 21,
    "start_time": "2021-07-08T09:02:50.370Z"
   },
   {
    "duration": 20,
    "start_time": "2021-07-08T09:02:50.393Z"
   },
   {
    "duration": 5,
    "start_time": "2021-07-08T09:02:50.414Z"
   },
   {
    "duration": 5,
    "start_time": "2021-07-08T09:03:34.173Z"
   },
   {
    "duration": 6,
    "start_time": "2021-07-08T09:04:49.062Z"
   },
   {
    "duration": 9,
    "start_time": "2021-07-08T09:04:50.118Z"
   },
   {
    "duration": 14,
    "start_time": "2021-07-08T09:04:58.512Z"
   },
   {
    "duration": 9,
    "start_time": "2021-07-08T09:05:10.988Z"
   },
   {
    "duration": 11,
    "start_time": "2021-07-08T09:05:11.743Z"
   },
   {
    "duration": 7,
    "start_time": "2021-07-08T09:05:25.677Z"
   },
   {
    "duration": 13,
    "start_time": "2021-07-08T09:05:47.189Z"
   },
   {
    "duration": 13,
    "start_time": "2021-07-08T09:05:54.755Z"
   },
   {
    "duration": 4,
    "start_time": "2021-07-08T09:06:29.189Z"
   },
   {
    "duration": 244,
    "start_time": "2021-07-08T09:06:29.195Z"
   },
   {
    "duration": 91,
    "start_time": "2021-07-08T09:06:29.441Z"
   },
   {
    "duration": 4,
    "start_time": "2021-07-08T09:06:29.534Z"
   },
   {
    "duration": 28,
    "start_time": "2021-07-08T09:06:29.540Z"
   },
   {
    "duration": 6,
    "start_time": "2021-07-08T09:06:29.570Z"
   },
   {
    "duration": 18,
    "start_time": "2021-07-08T09:06:29.578Z"
   },
   {
    "duration": 5,
    "start_time": "2021-07-08T09:06:29.597Z"
   },
   {
    "duration": 13,
    "start_time": "2021-07-08T09:06:29.605Z"
   },
   {
    "duration": 8,
    "start_time": "2021-07-08T09:06:29.620Z"
   },
   {
    "duration": 7,
    "start_time": "2021-07-08T09:06:29.630Z"
   },
   {
    "duration": 63,
    "start_time": "2021-07-08T09:06:29.639Z"
   },
   {
    "duration": 17,
    "start_time": "2021-07-08T09:06:29.704Z"
   },
   {
    "duration": 20,
    "start_time": "2021-07-08T09:06:29.723Z"
   },
   {
    "duration": 6,
    "start_time": "2021-07-08T09:06:29.745Z"
   },
   {
    "duration": 3,
    "start_time": "2021-07-08T09:06:29.752Z"
   },
   {
    "duration": 7,
    "start_time": "2021-07-08T09:06:29.785Z"
   },
   {
    "duration": 11,
    "start_time": "2021-07-08T09:06:29.794Z"
   },
   {
    "duration": 15,
    "start_time": "2021-07-08T09:06:29.807Z"
   },
   {
    "duration": 8,
    "start_time": "2021-07-08T09:06:29.823Z"
   },
   {
    "duration": 70,
    "start_time": "2021-07-08T09:06:29.832Z"
   },
   {
    "duration": 17,
    "start_time": "2021-07-08T09:06:29.903Z"
   },
   {
    "duration": 9,
    "start_time": "2021-07-08T09:06:29.921Z"
   },
   {
    "duration": 9,
    "start_time": "2021-07-08T09:06:29.932Z"
   },
   {
    "duration": 57,
    "start_time": "2021-07-08T09:06:29.942Z"
   },
   {
    "duration": 11,
    "start_time": "2021-07-08T09:06:30.001Z"
   },
   {
    "duration": 19,
    "start_time": "2021-07-08T09:06:30.016Z"
   },
   {
    "duration": 217,
    "start_time": "2021-07-08T09:06:30.037Z"
   },
   {
    "duration": 6,
    "start_time": "2021-07-08T09:06:30.255Z"
   },
   {
    "duration": 205,
    "start_time": "2021-07-08T09:06:30.263Z"
   },
   {
    "duration": 27,
    "start_time": "2021-07-08T09:06:30.470Z"
   },
   {
    "duration": 11,
    "start_time": "2021-07-08T09:06:30.500Z"
   },
   {
    "duration": 31,
    "start_time": "2021-07-08T09:06:30.513Z"
   },
   {
    "duration": 18,
    "start_time": "2021-07-08T09:06:30.546Z"
   },
   {
    "duration": 11,
    "start_time": "2021-07-08T09:06:30.566Z"
   },
   {
    "duration": 19,
    "start_time": "2021-07-08T09:06:30.579Z"
   },
   {
    "duration": 20,
    "start_time": "2021-07-08T09:06:49.466Z"
   },
   {
    "duration": 9,
    "start_time": "2021-07-08T09:06:51.994Z"
   },
   {
    "duration": 20,
    "start_time": "2021-07-08T09:06:52.273Z"
   },
   {
    "duration": 246,
    "start_time": "2021-07-08T09:10:21.272Z"
   },
   {
    "duration": 84,
    "start_time": "2021-07-08T09:10:21.436Z"
   },
   {
    "duration": 7,
    "start_time": "2021-07-08T09:10:37.608Z"
   },
   {
    "duration": 189,
    "start_time": "2021-07-08T09:10:38.573Z"
   },
   {
    "duration": 185,
    "start_time": "2021-07-08T09:10:53.181Z"
   },
   {
    "duration": 11,
    "start_time": "2021-07-08T09:10:59.549Z"
   },
   {
    "duration": 42,
    "start_time": "2021-07-08T09:10:59.709Z"
   },
   {
    "duration": 12,
    "start_time": "2021-07-08T09:11:02.857Z"
   },
   {
    "duration": 28,
    "start_time": "2021-07-08T09:11:10.062Z"
   },
   {
    "duration": 249,
    "start_time": "2021-07-08T09:11:37.388Z"
   },
   {
    "duration": 232,
    "start_time": "2021-07-08T09:11:49.485Z"
   },
   {
    "duration": 453,
    "start_time": "2021-07-08T09:12:01.546Z"
   },
   {
    "duration": 440,
    "start_time": "2021-07-08T09:12:12.347Z"
   },
   {
    "duration": 213,
    "start_time": "2021-07-08T09:13:32.196Z"
   },
   {
    "duration": 172,
    "start_time": "2021-07-08T09:14:07.400Z"
   },
   {
    "duration": 185,
    "start_time": "2021-07-08T09:14:14.905Z"
   },
   {
    "duration": 209,
    "start_time": "2021-07-08T09:14:40.109Z"
   },
   {
    "duration": 201,
    "start_time": "2021-07-08T09:14:54.506Z"
   },
   {
    "duration": 622,
    "start_time": "2021-07-08T09:18:14.497Z"
   },
   {
    "duration": 220,
    "start_time": "2021-07-08T09:18:15.121Z"
   },
   {
    "duration": 79,
    "start_time": "2021-07-08T09:18:15.343Z"
   },
   {
    "duration": 4,
    "start_time": "2021-07-08T09:18:15.425Z"
   },
   {
    "duration": 24,
    "start_time": "2021-07-08T09:18:15.431Z"
   },
   {
    "duration": 8,
    "start_time": "2021-07-08T09:18:15.457Z"
   },
   {
    "duration": 16,
    "start_time": "2021-07-08T09:18:15.466Z"
   },
   {
    "duration": 5,
    "start_time": "2021-07-08T09:18:15.484Z"
   },
   {
    "duration": 10,
    "start_time": "2021-07-08T09:18:15.493Z"
   },
   {
    "duration": 8,
    "start_time": "2021-07-08T09:18:15.504Z"
   },
   {
    "duration": 7,
    "start_time": "2021-07-08T09:18:15.513Z"
   },
   {
    "duration": 26,
    "start_time": "2021-07-08T09:18:15.522Z"
   },
   {
    "duration": 49,
    "start_time": "2021-07-08T09:18:15.550Z"
   },
   {
    "duration": 21,
    "start_time": "2021-07-08T09:18:15.601Z"
   },
   {
    "duration": 8,
    "start_time": "2021-07-08T09:18:15.624Z"
   },
   {
    "duration": 3,
    "start_time": "2021-07-08T09:18:15.634Z"
   },
   {
    "duration": 8,
    "start_time": "2021-07-08T09:18:15.639Z"
   },
   {
    "duration": 45,
    "start_time": "2021-07-08T09:18:15.649Z"
   },
   {
    "duration": 13,
    "start_time": "2021-07-08T09:18:15.696Z"
   },
   {
    "duration": 10,
    "start_time": "2021-07-08T09:18:15.711Z"
   },
   {
    "duration": 64,
    "start_time": "2021-07-08T09:18:15.722Z"
   },
   {
    "duration": 19,
    "start_time": "2021-07-08T09:18:15.788Z"
   },
   {
    "duration": 9,
    "start_time": "2021-07-08T09:18:15.809Z"
   },
   {
    "duration": 9,
    "start_time": "2021-07-08T09:18:15.820Z"
   },
   {
    "duration": 18,
    "start_time": "2021-07-08T09:18:15.831Z"
   },
   {
    "duration": 43,
    "start_time": "2021-07-08T09:18:15.851Z"
   },
   {
    "duration": 12,
    "start_time": "2021-07-08T09:18:15.897Z"
   },
   {
    "duration": 219,
    "start_time": "2021-07-08T09:18:15.911Z"
   },
   {
    "duration": 8,
    "start_time": "2021-07-08T09:18:16.132Z"
   },
   {
    "duration": 199,
    "start_time": "2021-07-08T09:18:16.141Z"
   },
   {
    "duration": 18,
    "start_time": "2021-07-08T09:18:16.341Z"
   },
   {
    "duration": 24,
    "start_time": "2021-07-08T09:18:16.361Z"
   },
   {
    "duration": 24,
    "start_time": "2021-07-08T09:18:16.387Z"
   },
   {
    "duration": 211,
    "start_time": "2021-07-08T09:18:16.413Z"
   },
   {
    "duration": 18,
    "start_time": "2021-07-08T09:18:16.626Z"
   },
   {
    "duration": 596,
    "start_time": "2021-07-08T10:06:33.623Z"
   },
   {
    "duration": 181,
    "start_time": "2021-07-08T10:06:34.221Z"
   },
   {
    "duration": 176,
    "start_time": "2021-07-08T10:06:34.635Z"
   },
   {
    "duration": 239,
    "start_time": "2021-07-08T10:06:55.572Z"
   },
   {
    "duration": 6,
    "start_time": "2021-07-08T10:06:57.687Z"
   },
   {
    "duration": 4,
    "start_time": "2021-07-08T10:07:03.956Z"
   },
   {
    "duration": 4,
    "start_time": "2021-07-08T10:07:10.376Z"
   },
   {
    "duration": 4,
    "start_time": "2021-07-08T10:17:19.889Z"
   },
   {
    "duration": 3,
    "start_time": "2021-07-08T10:19:19.407Z"
   },
   {
    "duration": 197,
    "start_time": "2021-07-08T10:19:19.412Z"
   },
   {
    "duration": 127,
    "start_time": "2021-07-08T10:19:19.611Z"
   },
   {
    "duration": 4,
    "start_time": "2021-07-08T10:19:19.740Z"
   },
   {
    "duration": 27,
    "start_time": "2021-07-08T10:19:19.746Z"
   },
   {
    "duration": 7,
    "start_time": "2021-07-08T10:19:19.775Z"
   },
   {
    "duration": 30,
    "start_time": "2021-07-08T10:19:19.784Z"
   },
   {
    "duration": 7,
    "start_time": "2021-07-08T10:19:19.817Z"
   },
   {
    "duration": 26,
    "start_time": "2021-07-08T10:19:19.826Z"
   },
   {
    "duration": 18,
    "start_time": "2021-07-08T10:19:19.854Z"
   },
   {
    "duration": 14,
    "start_time": "2021-07-08T10:19:19.874Z"
   },
   {
    "duration": 48,
    "start_time": "2021-07-08T10:19:19.890Z"
   },
   {
    "duration": 17,
    "start_time": "2021-07-08T10:19:19.940Z"
   },
   {
    "duration": 38,
    "start_time": "2021-07-08T10:19:19.959Z"
   },
   {
    "duration": 8,
    "start_time": "2021-07-08T10:19:19.999Z"
   },
   {
    "duration": 15,
    "start_time": "2021-07-08T10:19:20.009Z"
   },
   {
    "duration": 22,
    "start_time": "2021-07-08T10:19:20.026Z"
   },
   {
    "duration": 10,
    "start_time": "2021-07-08T10:19:20.050Z"
   },
   {
    "duration": 10,
    "start_time": "2021-07-08T10:19:20.062Z"
   },
   {
    "duration": 20,
    "start_time": "2021-07-08T10:19:20.073Z"
   },
   {
    "duration": 29,
    "start_time": "2021-07-08T10:19:20.095Z"
   },
   {
    "duration": 17,
    "start_time": "2021-07-08T10:19:20.126Z"
   },
   {
    "duration": 40,
    "start_time": "2021-07-08T10:19:20.146Z"
   },
   {
    "duration": 15,
    "start_time": "2021-07-08T10:19:20.189Z"
   },
   {
    "duration": 19,
    "start_time": "2021-07-08T10:19:20.206Z"
   },
   {
    "duration": 10,
    "start_time": "2021-07-08T10:19:20.226Z"
   },
   {
    "duration": 11,
    "start_time": "2021-07-08T10:19:20.238Z"
   },
   {
    "duration": 297,
    "start_time": "2021-07-08T10:19:20.250Z"
   },
   {
    "duration": 6,
    "start_time": "2021-07-08T10:19:20.549Z"
   },
   {
    "duration": 191,
    "start_time": "2021-07-08T10:19:20.557Z"
   },
   {
    "duration": 19,
    "start_time": "2021-07-08T10:19:20.750Z"
   },
   {
    "duration": 20,
    "start_time": "2021-07-08T10:19:20.771Z"
   },
   {
    "duration": 15,
    "start_time": "2021-07-08T10:19:20.793Z"
   },
   {
    "duration": 222,
    "start_time": "2021-07-08T10:19:20.809Z"
   },
   {
    "duration": 20,
    "start_time": "2021-07-08T10:19:21.033Z"
   },
   {
    "duration": 27,
    "start_time": "2021-07-08T10:45:04.055Z"
   },
   {
    "duration": 8,
    "start_time": "2021-07-08T10:45:08.478Z"
   },
   {
    "duration": 8,
    "start_time": "2021-07-08T10:45:31.982Z"
   },
   {
    "duration": 10,
    "start_time": "2021-07-08T10:46:01.221Z"
   },
   {
    "duration": 17,
    "start_time": "2021-07-08T10:46:40.011Z"
   },
   {
    "duration": 193,
    "start_time": "2021-07-08T10:48:19.471Z"
   },
   {
    "duration": 225,
    "start_time": "2021-07-08T10:49:26.480Z"
   },
   {
    "duration": 204,
    "start_time": "2021-07-08T10:49:59.992Z"
   },
   {
    "duration": 435,
    "start_time": "2021-07-08T10:50:06.779Z"
   },
   {
    "duration": 199,
    "start_time": "2021-07-08T10:50:14.891Z"
   },
   {
    "duration": 204,
    "start_time": "2021-07-08T10:50:18.501Z"
   },
   {
    "duration": 244,
    "start_time": "2021-07-08T10:50:23.359Z"
   },
   {
    "duration": 192,
    "start_time": "2021-07-08T10:50:29.135Z"
   },
   {
    "duration": 218,
    "start_time": "2021-07-08T10:50:33.092Z"
   },
   {
    "duration": 207,
    "start_time": "2021-07-08T10:52:45.381Z"
   },
   {
    "duration": 5,
    "start_time": "2021-07-08T10:53:34.641Z"
   },
   {
    "duration": 196,
    "start_time": "2021-07-08T10:53:41.478Z"
   },
   {
    "duration": 43,
    "start_time": "2021-07-08T10:53:50.335Z"
   },
   {
    "duration": 32,
    "start_time": "2021-07-08T10:53:55.294Z"
   },
   {
    "duration": 55,
    "start_time": "2021-07-08T10:54:09.675Z"
   },
   {
    "duration": 16,
    "start_time": "2021-07-08T10:54:12.260Z"
   },
   {
    "duration": 15,
    "start_time": "2021-07-08T10:54:49.150Z"
   },
   {
    "duration": 20,
    "start_time": "2021-07-08T10:56:07.596Z"
   },
   {
    "duration": 16,
    "start_time": "2021-07-08T10:58:26.276Z"
   },
   {
    "duration": 22,
    "start_time": "2021-07-08T10:59:00.486Z"
   },
   {
    "duration": 18,
    "start_time": "2021-07-08T11:02:09.653Z"
   },
   {
    "duration": 10,
    "start_time": "2021-07-08T11:03:44.331Z"
   },
   {
    "duration": 10,
    "start_time": "2021-07-08T11:03:54.055Z"
   },
   {
    "duration": 12,
    "start_time": "2021-07-08T11:04:41.967Z"
   },
   {
    "duration": 24,
    "start_time": "2021-07-08T11:07:30.732Z"
   },
   {
    "duration": 6,
    "start_time": "2021-07-08T11:07:37.364Z"
   },
   {
    "duration": 16,
    "start_time": "2021-07-08T11:08:01.819Z"
   },
   {
    "duration": 17,
    "start_time": "2021-07-08T11:09:47.488Z"
   },
   {
    "duration": 246,
    "start_time": "2021-07-08T11:10:00.830Z"
   },
   {
    "duration": 18,
    "start_time": "2021-07-08T11:13:55.195Z"
   },
   {
    "duration": 204,
    "start_time": "2021-07-08T11:14:04.951Z"
   },
   {
    "duration": 19,
    "start_time": "2021-07-08T11:15:10.613Z"
   },
   {
    "duration": 680,
    "start_time": "2021-07-08T11:16:25.793Z"
   },
   {
    "duration": 451,
    "start_time": "2021-07-08T11:16:40.313Z"
   },
   {
    "duration": 469,
    "start_time": "2021-07-08T11:17:21.286Z"
   },
   {
    "duration": 20,
    "start_time": "2021-07-08T11:19:12.554Z"
   },
   {
    "duration": 35,
    "start_time": "2021-07-08T11:20:05.484Z"
   },
   {
    "duration": 53,
    "start_time": "2021-07-08T11:21:40.050Z"
   },
   {
    "duration": 13,
    "start_time": "2021-07-08T11:22:26.059Z"
   },
   {
    "duration": 19,
    "start_time": "2021-07-08T11:22:47.419Z"
   },
   {
    "duration": 25,
    "start_time": "2021-07-08T11:23:19.958Z"
   },
   {
    "duration": 29,
    "start_time": "2021-07-08T11:23:25.415Z"
   },
   {
    "duration": 10,
    "start_time": "2021-07-08T11:24:45.138Z"
   },
   {
    "duration": 19,
    "start_time": "2021-07-08T11:24:54.498Z"
   },
   {
    "duration": 12,
    "start_time": "2021-07-08T11:25:32.225Z"
   },
   {
    "duration": 19,
    "start_time": "2021-07-08T11:25:37.092Z"
   },
   {
    "duration": 17,
    "start_time": "2021-07-08T11:25:58.116Z"
   },
   {
    "duration": 15,
    "start_time": "2021-07-08T11:26:02.258Z"
   },
   {
    "duration": 8,
    "start_time": "2021-07-08T11:26:59.682Z"
   },
   {
    "duration": 184,
    "start_time": "2021-07-08T11:27:21.894Z"
   },
   {
    "duration": 8,
    "start_time": "2021-07-08T11:27:23.824Z"
   },
   {
    "duration": 202,
    "start_time": "2021-07-08T11:27:23.962Z"
   },
   {
    "duration": 360,
    "start_time": "2021-07-08T11:28:33.215Z"
   },
   {
    "duration": 231,
    "start_time": "2021-07-08T11:32:05.542Z"
   },
   {
    "duration": 607,
    "start_time": "2021-07-08T11:36:27.854Z"
   },
   {
    "duration": 241,
    "start_time": "2021-07-08T11:36:28.463Z"
   },
   {
    "duration": 67,
    "start_time": "2021-07-08T11:36:28.709Z"
   },
   {
    "duration": 5,
    "start_time": "2021-07-08T11:36:28.778Z"
   },
   {
    "duration": 32,
    "start_time": "2021-07-08T11:36:28.784Z"
   },
   {
    "duration": 11,
    "start_time": "2021-07-08T11:36:28.819Z"
   },
   {
    "duration": 20,
    "start_time": "2021-07-08T11:36:28.834Z"
   },
   {
    "duration": 36,
    "start_time": "2021-07-08T11:36:28.857Z"
   },
   {
    "duration": 16,
    "start_time": "2021-07-08T11:36:28.895Z"
   },
   {
    "duration": 14,
    "start_time": "2021-07-08T11:36:28.913Z"
   },
   {
    "duration": 9,
    "start_time": "2021-07-08T11:36:28.930Z"
   },
   {
    "duration": 55,
    "start_time": "2021-07-08T11:36:28.941Z"
   },
   {
    "duration": 27,
    "start_time": "2021-07-08T11:36:28.999Z"
   },
   {
    "duration": 30,
    "start_time": "2021-07-08T11:36:29.028Z"
   },
   {
    "duration": 31,
    "start_time": "2021-07-08T11:36:29.060Z"
   },
   {
    "duration": 3,
    "start_time": "2021-07-08T11:36:29.093Z"
   },
   {
    "duration": 12,
    "start_time": "2021-07-08T11:36:29.099Z"
   },
   {
    "duration": 11,
    "start_time": "2021-07-08T11:36:29.112Z"
   },
   {
    "duration": 12,
    "start_time": "2021-07-08T11:36:29.125Z"
   },
   {
    "duration": 9,
    "start_time": "2021-07-08T11:36:29.139Z"
   },
   {
    "duration": 31,
    "start_time": "2021-07-08T11:36:29.191Z"
   },
   {
    "duration": 17,
    "start_time": "2021-07-08T11:36:29.226Z"
   },
   {
    "duration": 7,
    "start_time": "2021-07-08T11:36:29.245Z"
   },
   {
    "duration": 10,
    "start_time": "2021-07-08T11:36:29.254Z"
   },
   {
    "duration": 30,
    "start_time": "2021-07-08T11:36:29.292Z"
   },
   {
    "duration": 11,
    "start_time": "2021-07-08T11:36:29.324Z"
   },
   {
    "duration": 11,
    "start_time": "2021-07-08T11:36:29.337Z"
   },
   {
    "duration": 230,
    "start_time": "2021-07-08T11:36:29.349Z"
   },
   {
    "duration": 13,
    "start_time": "2021-07-08T11:36:29.588Z"
   },
   {
    "duration": 205,
    "start_time": "2021-07-08T11:36:29.603Z"
   },
   {
    "duration": 20,
    "start_time": "2021-07-08T11:36:29.810Z"
   },
   {
    "duration": 9,
    "start_time": "2021-07-08T11:36:29.832Z"
   },
   {
    "duration": 16,
    "start_time": "2021-07-08T11:36:29.843Z"
   },
   {
    "duration": 283,
    "start_time": "2021-07-08T11:36:29.861Z"
   },
   {
    "duration": 50,
    "start_time": "2021-07-08T11:36:30.146Z"
   },
   {
    "duration": 14,
    "start_time": "2021-07-08T11:36:30.198Z"
   },
   {
    "duration": 11,
    "start_time": "2021-07-08T11:36:30.214Z"
   },
   {
    "duration": 245,
    "start_time": "2021-07-08T11:36:30.227Z"
   },
   {
    "duration": 439,
    "start_time": "2021-07-08T11:36:30.474Z"
   },
   {
    "duration": 210,
    "start_time": "2021-07-08T11:36:30.915Z"
   },
   {
    "duration": 15,
    "start_time": "2021-07-08T11:36:31.127Z"
   },
   {
    "duration": 17,
    "start_time": "2021-07-08T11:38:20.451Z"
   },
   {
    "duration": 642,
    "start_time": "2021-07-08T11:46:17.881Z"
   },
   {
    "duration": 210,
    "start_time": "2021-07-08T11:46:18.525Z"
   },
   {
    "duration": 104,
    "start_time": "2021-07-08T11:46:18.741Z"
   },
   {
    "duration": 8,
    "start_time": "2021-07-08T11:46:18.847Z"
   },
   {
    "duration": 25,
    "start_time": "2021-07-08T11:46:18.857Z"
   },
   {
    "duration": 14,
    "start_time": "2021-07-08T11:46:18.884Z"
   },
   {
    "duration": 22,
    "start_time": "2021-07-08T11:46:18.900Z"
   },
   {
    "duration": 5,
    "start_time": "2021-07-08T11:46:18.924Z"
   },
   {
    "duration": 13,
    "start_time": "2021-07-08T11:46:18.931Z"
   },
   {
    "duration": 45,
    "start_time": "2021-07-08T11:46:18.946Z"
   },
   {
    "duration": 12,
    "start_time": "2021-07-08T11:46:18.993Z"
   },
   {
    "duration": 38,
    "start_time": "2021-07-08T11:46:19.006Z"
   },
   {
    "duration": 50,
    "start_time": "2021-07-08T11:46:19.046Z"
   },
   {
    "duration": 29,
    "start_time": "2021-07-08T11:46:19.099Z"
   },
   {
    "duration": 7,
    "start_time": "2021-07-08T11:46:19.130Z"
   },
   {
    "duration": 3,
    "start_time": "2021-07-08T11:46:19.139Z"
   },
   {
    "duration": 11,
    "start_time": "2021-07-08T11:46:19.144Z"
   },
   {
    "duration": 40,
    "start_time": "2021-07-08T11:46:19.157Z"
   },
   {
    "duration": 15,
    "start_time": "2021-07-08T11:46:19.199Z"
   },
   {
    "duration": 10,
    "start_time": "2021-07-08T11:46:19.217Z"
   },
   {
    "duration": 68,
    "start_time": "2021-07-08T11:46:19.230Z"
   },
   {
    "duration": 17,
    "start_time": "2021-07-08T11:46:19.301Z"
   },
   {
    "duration": 7,
    "start_time": "2021-07-08T11:46:19.321Z"
   },
   {
    "duration": 11,
    "start_time": "2021-07-08T11:46:19.330Z"
   },
   {
    "duration": 59,
    "start_time": "2021-07-08T11:46:19.343Z"
   },
   {
    "duration": 17,
    "start_time": "2021-07-08T11:46:19.405Z"
   },
   {
    "duration": 16,
    "start_time": "2021-07-08T11:46:19.424Z"
   },
   {
    "duration": 252,
    "start_time": "2021-07-08T11:46:19.443Z"
   },
   {
    "duration": 9,
    "start_time": "2021-07-08T11:46:19.697Z"
   },
   {
    "duration": 224,
    "start_time": "2021-07-08T11:46:19.708Z"
   },
   {
    "duration": 21,
    "start_time": "2021-07-08T11:46:19.934Z"
   },
   {
    "duration": 9,
    "start_time": "2021-07-08T11:46:19.956Z"
   },
   {
    "duration": 32,
    "start_time": "2021-07-08T11:46:19.967Z"
   },
   {
    "duration": 288,
    "start_time": "2021-07-08T11:46:20.004Z"
   },
   {
    "duration": 23,
    "start_time": "2021-07-08T11:46:20.300Z"
   },
   {
    "duration": 11,
    "start_time": "2021-07-08T11:46:20.325Z"
   },
   {
    "duration": 11,
    "start_time": "2021-07-08T11:46:20.339Z"
   },
   {
    "duration": 259,
    "start_time": "2021-07-08T11:46:20.352Z"
   },
   {
    "duration": 438,
    "start_time": "2021-07-08T11:46:20.613Z"
   },
   {
    "duration": 207,
    "start_time": "2021-07-08T11:46:21.054Z"
   },
   {
    "duration": 27,
    "start_time": "2021-07-08T11:46:21.262Z"
   },
   {
    "duration": 19,
    "start_time": "2021-07-08T11:46:21.291Z"
   },
   {
    "duration": 820,
    "start_time": "2021-07-08T11:49:01.655Z"
   },
   {
    "duration": 372,
    "start_time": "2021-07-08T11:49:02.478Z"
   },
   {
    "duration": 98,
    "start_time": "2021-07-08T11:49:02.853Z"
   },
   {
    "duration": 6,
    "start_time": "2021-07-08T11:49:02.953Z"
   },
   {
    "duration": 39,
    "start_time": "2021-07-08T11:49:02.960Z"
   },
   {
    "duration": 9,
    "start_time": "2021-07-08T11:49:03.003Z"
   },
   {
    "duration": 23,
    "start_time": "2021-07-08T11:49:03.014Z"
   },
   {
    "duration": 6,
    "start_time": "2021-07-08T11:49:03.041Z"
   },
   {
    "duration": 20,
    "start_time": "2021-07-08T11:49:03.049Z"
   },
   {
    "duration": 18,
    "start_time": "2021-07-08T11:49:03.084Z"
   },
   {
    "duration": 14,
    "start_time": "2021-07-08T11:49:03.104Z"
   },
   {
    "duration": 39,
    "start_time": "2021-07-08T11:49:03.119Z"
   },
   {
    "duration": 38,
    "start_time": "2021-07-08T11:49:03.160Z"
   },
   {
    "duration": 26,
    "start_time": "2021-07-08T11:49:03.200Z"
   },
   {
    "duration": 7,
    "start_time": "2021-07-08T11:49:03.227Z"
   },
   {
    "duration": 4,
    "start_time": "2021-07-08T11:49:03.236Z"
   },
   {
    "duration": 15,
    "start_time": "2021-07-08T11:49:03.243Z"
   },
   {
    "duration": 21,
    "start_time": "2021-07-08T11:49:03.285Z"
   },
   {
    "duration": 17,
    "start_time": "2021-07-08T11:49:03.309Z"
   },
   {
    "duration": 10,
    "start_time": "2021-07-08T11:49:03.328Z"
   },
   {
    "duration": 65,
    "start_time": "2021-07-08T11:49:03.340Z"
   },
   {
    "duration": 18,
    "start_time": "2021-07-08T11:49:03.407Z"
   },
   {
    "duration": 8,
    "start_time": "2021-07-08T11:49:03.428Z"
   },
   {
    "duration": 15,
    "start_time": "2021-07-08T11:49:03.438Z"
   },
   {
    "duration": 40,
    "start_time": "2021-07-08T11:49:03.455Z"
   },
   {
    "duration": 12,
    "start_time": "2021-07-08T11:49:03.497Z"
   },
   {
    "duration": 29,
    "start_time": "2021-07-08T11:49:03.511Z"
   },
   {
    "duration": 285,
    "start_time": "2021-07-08T11:49:03.542Z"
   },
   {
    "duration": 8,
    "start_time": "2021-07-08T11:49:03.829Z"
   },
   {
    "duration": 227,
    "start_time": "2021-07-08T11:49:03.838Z"
   },
   {
    "duration": 40,
    "start_time": "2021-07-08T11:49:04.066Z"
   },
   {
    "duration": 10,
    "start_time": "2021-07-08T11:49:04.108Z"
   },
   {
    "duration": 26,
    "start_time": "2021-07-08T11:49:04.121Z"
   },
   {
    "duration": 290,
    "start_time": "2021-07-08T11:49:04.149Z"
   },
   {
    "duration": 26,
    "start_time": "2021-07-08T11:49:04.441Z"
   },
   {
    "duration": 31,
    "start_time": "2021-07-08T11:49:04.470Z"
   },
   {
    "duration": 14,
    "start_time": "2021-07-08T11:49:04.503Z"
   },
   {
    "duration": 259,
    "start_time": "2021-07-08T11:49:04.521Z"
   },
   {
    "duration": 480,
    "start_time": "2021-07-08T11:49:04.782Z"
   },
   {
    "duration": 225,
    "start_time": "2021-07-08T11:49:05.264Z"
   },
   {
    "duration": 22,
    "start_time": "2021-07-08T11:49:05.491Z"
   },
   {
    "duration": 24,
    "start_time": "2021-07-08T11:49:05.515Z"
   },
   {
    "duration": 634,
    "start_time": "2021-07-08T11:52:24.960Z"
   },
   {
    "duration": 199,
    "start_time": "2021-07-08T11:52:25.599Z"
   },
   {
    "duration": 106,
    "start_time": "2021-07-08T11:52:25.803Z"
   },
   {
    "duration": 7,
    "start_time": "2021-07-08T11:52:25.911Z"
   },
   {
    "duration": 29,
    "start_time": "2021-07-08T11:52:25.920Z"
   },
   {
    "duration": 7,
    "start_time": "2021-07-08T11:52:25.951Z"
   },
   {
    "duration": 26,
    "start_time": "2021-07-08T11:52:25.961Z"
   },
   {
    "duration": 11,
    "start_time": "2021-07-08T11:52:25.990Z"
   },
   {
    "duration": 29,
    "start_time": "2021-07-08T11:52:26.005Z"
   },
   {
    "duration": 9,
    "start_time": "2021-07-08T11:52:26.036Z"
   },
   {
    "duration": 8,
    "start_time": "2021-07-08T11:52:26.047Z"
   },
   {
    "duration": 63,
    "start_time": "2021-07-08T11:52:26.057Z"
   },
   {
    "duration": 17,
    "start_time": "2021-07-08T11:52:26.122Z"
   },
   {
    "duration": 43,
    "start_time": "2021-07-08T11:52:26.142Z"
   },
   {
    "duration": 17,
    "start_time": "2021-07-08T11:52:26.187Z"
   },
   {
    "duration": 5,
    "start_time": "2021-07-08T11:52:26.206Z"
   },
   {
    "duration": 12,
    "start_time": "2021-07-08T11:52:26.212Z"
   },
   {
    "duration": 11,
    "start_time": "2021-07-08T11:52:26.226Z"
   },
   {
    "duration": 12,
    "start_time": "2021-07-08T11:52:26.238Z"
   },
   {
    "duration": 38,
    "start_time": "2021-07-08T11:52:26.252Z"
   },
   {
    "duration": 40,
    "start_time": "2021-07-08T11:52:26.292Z"
   },
   {
    "duration": 17,
    "start_time": "2021-07-08T11:52:26.336Z"
   },
   {
    "duration": 39,
    "start_time": "2021-07-08T11:52:26.355Z"
   },
   {
    "duration": 11,
    "start_time": "2021-07-08T11:52:26.395Z"
   },
   {
    "duration": 23,
    "start_time": "2021-07-08T11:52:26.408Z"
   },
   {
    "duration": 12,
    "start_time": "2021-07-08T11:52:26.432Z"
   },
   {
    "duration": 41,
    "start_time": "2021-07-08T11:52:26.446Z"
   },
   {
    "duration": 215,
    "start_time": "2021-07-08T11:52:26.493Z"
   },
   {
    "duration": 8,
    "start_time": "2021-07-08T11:52:26.710Z"
   },
   {
    "duration": 228,
    "start_time": "2021-07-08T11:52:26.720Z"
   },
   {
    "duration": 18,
    "start_time": "2021-07-08T11:52:26.950Z"
   },
   {
    "duration": 35,
    "start_time": "2021-07-08T11:52:26.969Z"
   },
   {
    "duration": 23,
    "start_time": "2021-07-08T11:52:27.006Z"
   },
   {
    "duration": 258,
    "start_time": "2021-07-08T11:52:27.030Z"
   },
   {
    "duration": 24,
    "start_time": "2021-07-08T11:52:27.290Z"
   },
   {
    "duration": 12,
    "start_time": "2021-07-08T11:52:27.316Z"
   },
   {
    "duration": 10,
    "start_time": "2021-07-08T11:52:27.329Z"
   },
   {
    "duration": 298,
    "start_time": "2021-07-08T11:52:27.341Z"
   },
   {
    "duration": 436,
    "start_time": "2021-07-08T11:52:27.641Z"
   },
   {
    "duration": 216,
    "start_time": "2021-07-08T11:52:28.079Z"
   },
   {
    "duration": 20,
    "start_time": "2021-07-08T11:52:28.297Z"
   },
   {
    "duration": 17,
    "start_time": "2021-07-08T11:52:28.319Z"
   },
   {
    "duration": 93,
    "start_time": "2023-12-04T11:37:33.561Z"
   },
   {
    "duration": 55,
    "start_time": "2023-12-04T11:37:52.939Z"
   },
   {
    "duration": 98,
    "start_time": "2023-12-04T11:39:55.891Z"
   },
   {
    "duration": 44,
    "start_time": "2023-12-04T11:39:55.992Z"
   },
   {
    "duration": 5,
    "start_time": "2023-12-04T11:39:56.038Z"
   },
   {
    "duration": 13,
    "start_time": "2023-12-04T11:39:56.045Z"
   },
   {
    "duration": 12,
    "start_time": "2023-12-04T11:39:58.107Z"
   },
   {
    "duration": 17,
    "start_time": "2023-12-04T11:39:58.700Z"
   },
   {
    "duration": 16,
    "start_time": "2023-12-04T11:40:21.427Z"
   },
   {
    "duration": 24,
    "start_time": "2023-12-04T12:57:36.731Z"
   },
   {
    "duration": 21,
    "start_time": "2023-12-04T12:58:54.900Z"
   },
   {
    "duration": 100,
    "start_time": "2023-12-04T12:59:18.784Z"
   },
   {
    "duration": 44,
    "start_time": "2023-12-04T12:59:18.886Z"
   },
   {
    "duration": 5,
    "start_time": "2023-12-04T12:59:18.931Z"
   },
   {
    "duration": 26,
    "start_time": "2023-12-04T12:59:18.938Z"
   },
   {
    "duration": 17,
    "start_time": "2023-12-04T12:59:18.966Z"
   },
   {
    "duration": 13,
    "start_time": "2023-12-04T12:59:18.985Z"
   },
   {
    "duration": 21,
    "start_time": "2023-12-04T12:59:19.000Z"
   },
   {
    "duration": 19,
    "start_time": "2023-12-04T12:59:21.157Z"
   },
   {
    "duration": 24,
    "start_time": "2023-12-04T12:59:23.026Z"
   },
   {
    "duration": 4,
    "start_time": "2023-12-04T13:00:24.151Z"
   },
   {
    "duration": 98,
    "start_time": "2023-12-04T13:06:03.199Z"
   },
   {
    "duration": 43,
    "start_time": "2023-12-04T13:06:03.299Z"
   },
   {
    "duration": 5,
    "start_time": "2023-12-04T13:06:03.343Z"
   },
   {
    "duration": 33,
    "start_time": "2023-12-04T13:06:03.349Z"
   },
   {
    "duration": 19,
    "start_time": "2023-12-04T13:06:03.384Z"
   },
   {
    "duration": 20,
    "start_time": "2023-12-04T13:06:03.404Z"
   },
   {
    "duration": 35,
    "start_time": "2023-12-04T13:06:03.425Z"
   },
   {
    "duration": 21,
    "start_time": "2023-12-04T13:06:03.462Z"
   },
   {
    "duration": 5,
    "start_time": "2023-12-04T13:06:03.485Z"
   },
   {
    "duration": 102,
    "start_time": "2023-12-04T13:06:03.491Z"
   },
   {
    "duration": 4,
    "start_time": "2023-12-04T13:06:40.151Z"
   },
   {
    "duration": 102,
    "start_time": "2023-12-04T13:08:24.883Z"
   },
   {
    "duration": 45,
    "start_time": "2023-12-04T13:08:24.987Z"
   },
   {
    "duration": 7,
    "start_time": "2023-12-04T13:08:25.034Z"
   },
   {
    "duration": 19,
    "start_time": "2023-12-04T13:08:25.042Z"
   },
   {
    "duration": 18,
    "start_time": "2023-12-04T13:08:25.063Z"
   },
   {
    "duration": 23,
    "start_time": "2023-12-04T13:08:25.083Z"
   },
   {
    "duration": 34,
    "start_time": "2023-12-04T13:08:25.108Z"
   },
   {
    "duration": 26,
    "start_time": "2023-12-04T13:08:25.144Z"
   },
   {
    "duration": 13,
    "start_time": "2023-12-04T13:08:25.171Z"
   },
   {
    "duration": 19,
    "start_time": "2023-12-04T13:08:25.185Z"
   },
   {
    "duration": 12,
    "start_time": "2023-12-04T13:08:25.206Z"
   },
   {
    "duration": 9,
    "start_time": "2023-12-04T13:08:25.220Z"
   },
   {
    "duration": 2,
    "start_time": "2023-12-04T13:08:28.365Z"
   },
   {
    "duration": 13,
    "start_time": "2023-12-04T13:08:28.954Z"
   },
   {
    "duration": 16,
    "start_time": "2023-12-04T13:08:41.770Z"
   },
   {
    "duration": 97,
    "start_time": "2023-12-04T13:09:49.304Z"
   },
   {
    "duration": 45,
    "start_time": "2023-12-04T13:09:49.403Z"
   },
   {
    "duration": 5,
    "start_time": "2023-12-04T13:09:49.450Z"
   },
   {
    "duration": 23,
    "start_time": "2023-12-04T13:09:49.456Z"
   },
   {
    "duration": 19,
    "start_time": "2023-12-04T13:09:49.482Z"
   },
   {
    "duration": 16,
    "start_time": "2023-12-04T13:09:49.502Z"
   },
   {
    "duration": 37,
    "start_time": "2023-12-04T13:09:49.519Z"
   },
   {
    "duration": 39,
    "start_time": "2023-12-04T13:09:49.558Z"
   },
   {
    "duration": 4,
    "start_time": "2023-12-04T13:09:49.598Z"
   },
   {
    "duration": 25,
    "start_time": "2023-12-04T13:09:49.604Z"
   },
   {
    "duration": 14,
    "start_time": "2023-12-04T13:09:49.630Z"
   },
   {
    "duration": 3,
    "start_time": "2023-12-04T13:09:49.646Z"
   },
   {
    "duration": 2,
    "start_time": "2023-12-04T13:09:54.583Z"
   },
   {
    "duration": 14,
    "start_time": "2023-12-04T13:09:55.487Z"
   },
   {
    "duration": 96,
    "start_time": "2023-12-04T13:12:41.525Z"
   },
   {
    "duration": 95,
    "start_time": "2023-12-04T13:12:57.147Z"
   },
   {
    "duration": 13,
    "start_time": "2023-12-04T13:13:21.364Z"
   },
   {
    "duration": 19,
    "start_time": "2023-12-04T13:14:12.808Z"
   },
   {
    "duration": 10,
    "start_time": "2023-12-04T13:14:39.746Z"
   },
   {
    "duration": 10,
    "start_time": "2023-12-04T13:16:27.513Z"
   },
   {
    "duration": 4,
    "start_time": "2023-12-04T13:16:37.027Z"
   },
   {
    "duration": 12,
    "start_time": "2023-12-04T13:16:53.055Z"
   },
   {
    "duration": 11,
    "start_time": "2023-12-04T13:17:06.379Z"
   },
   {
    "duration": 9,
    "start_time": "2023-12-04T13:17:40.628Z"
   },
   {
    "duration": 9,
    "start_time": "2023-12-04T13:17:41.681Z"
   },
   {
    "duration": 15,
    "start_time": "2023-12-04T13:18:21.759Z"
   },
   {
    "duration": 20,
    "start_time": "2023-12-04T13:18:58.867Z"
   },
   {
    "duration": 9,
    "start_time": "2023-12-04T13:19:16.962Z"
   },
   {
    "duration": 12,
    "start_time": "2023-12-04T13:19:17.962Z"
   },
   {
    "duration": 4,
    "start_time": "2023-12-04T13:19:27.809Z"
   },
   {
    "duration": 96,
    "start_time": "2023-12-04T13:19:59.557Z"
   },
   {
    "duration": 43,
    "start_time": "2023-12-04T13:19:59.655Z"
   },
   {
    "duration": 6,
    "start_time": "2023-12-04T13:19:59.700Z"
   },
   {
    "duration": 12,
    "start_time": "2023-12-04T13:19:59.707Z"
   },
   {
    "duration": 14,
    "start_time": "2023-12-04T13:19:59.721Z"
   },
   {
    "duration": 22,
    "start_time": "2023-12-04T13:19:59.737Z"
   },
   {
    "duration": 38,
    "start_time": "2023-12-04T13:19:59.761Z"
   },
   {
    "duration": 20,
    "start_time": "2023-12-04T13:19:59.801Z"
   },
   {
    "duration": 4,
    "start_time": "2023-12-04T13:19:59.823Z"
   },
   {
    "duration": 11,
    "start_time": "2023-12-04T13:19:59.829Z"
   },
   {
    "duration": 41,
    "start_time": "2023-12-04T13:19:59.842Z"
   },
   {
    "duration": 4,
    "start_time": "2023-12-04T13:20:02.747Z"
   },
   {
    "duration": 15,
    "start_time": "2023-12-04T13:20:08.897Z"
   },
   {
    "duration": 4,
    "start_time": "2023-12-04T13:20:12.829Z"
   },
   {
    "duration": 109,
    "start_time": "2023-12-04T13:21:37.903Z"
   },
   {
    "duration": 44,
    "start_time": "2023-12-04T13:21:38.014Z"
   },
   {
    "duration": 5,
    "start_time": "2023-12-04T13:21:38.059Z"
   },
   {
    "duration": 15,
    "start_time": "2023-12-04T13:21:38.066Z"
   },
   {
    "duration": 13,
    "start_time": "2023-12-04T13:21:38.083Z"
   },
   {
    "duration": 13,
    "start_time": "2023-12-04T13:21:38.097Z"
   },
   {
    "duration": 22,
    "start_time": "2023-12-04T13:21:38.112Z"
   },
   {
    "duration": 53,
    "start_time": "2023-12-04T13:21:38.135Z"
   },
   {
    "duration": 5,
    "start_time": "2023-12-04T13:21:38.189Z"
   },
   {
    "duration": 20,
    "start_time": "2023-12-04T13:21:38.195Z"
   },
   {
    "duration": 5,
    "start_time": "2023-12-04T13:21:38.216Z"
   },
   {
    "duration": 4,
    "start_time": "2023-12-04T13:21:39.734Z"
   },
   {
    "duration": 2,
    "start_time": "2023-12-04T13:21:40.380Z"
   },
   {
    "duration": 13,
    "start_time": "2023-12-04T13:21:41.422Z"
   },
   {
    "duration": 19,
    "start_time": "2023-12-04T13:21:52.539Z"
   },
   {
    "duration": 338,
    "start_time": "2023-12-04T13:23:07.965Z"
   },
   {
    "duration": 10,
    "start_time": "2023-12-04T13:23:53.996Z"
   },
   {
    "duration": 95,
    "start_time": "2023-12-04T13:24:05.203Z"
   },
   {
    "duration": 44,
    "start_time": "2023-12-04T13:24:05.300Z"
   },
   {
    "duration": 4,
    "start_time": "2023-12-04T13:24:05.346Z"
   },
   {
    "duration": 19,
    "start_time": "2023-12-04T13:24:05.352Z"
   },
   {
    "duration": 24,
    "start_time": "2023-12-04T13:24:05.373Z"
   },
   {
    "duration": 31,
    "start_time": "2023-12-04T13:24:05.399Z"
   },
   {
    "duration": 26,
    "start_time": "2023-12-04T13:24:05.432Z"
   },
   {
    "duration": 30,
    "start_time": "2023-12-04T13:24:05.459Z"
   },
   {
    "duration": 5,
    "start_time": "2023-12-04T13:24:05.491Z"
   },
   {
    "duration": 38,
    "start_time": "2023-12-04T13:24:05.498Z"
   },
   {
    "duration": 10,
    "start_time": "2023-12-04T13:24:05.537Z"
   },
   {
    "duration": 4,
    "start_time": "2023-12-04T13:24:07.161Z"
   },
   {
    "duration": 16,
    "start_time": "2023-12-04T13:24:08.278Z"
   },
   {
    "duration": 5,
    "start_time": "2023-12-04T13:24:13.142Z"
   },
   {
    "duration": 47,
    "start_time": "2023-12-04T13:24:16.840Z"
   },
   {
    "duration": 5,
    "start_time": "2023-12-04T13:25:41.819Z"
   },
   {
    "duration": 4,
    "start_time": "2023-12-04T13:25:46.631Z"
   },
   {
    "duration": 97,
    "start_time": "2023-12-04T13:26:00.436Z"
   },
   {
    "duration": 44,
    "start_time": "2023-12-04T13:26:00.535Z"
   },
   {
    "duration": 5,
    "start_time": "2023-12-04T13:26:00.581Z"
   },
   {
    "duration": 27,
    "start_time": "2023-12-04T13:26:00.587Z"
   },
   {
    "duration": 40,
    "start_time": "2023-12-04T13:26:00.616Z"
   },
   {
    "duration": 32,
    "start_time": "2023-12-04T13:26:00.658Z"
   },
   {
    "duration": 52,
    "start_time": "2023-12-04T13:26:00.691Z"
   },
   {
    "duration": 23,
    "start_time": "2023-12-04T13:26:00.745Z"
   },
   {
    "duration": 39,
    "start_time": "2023-12-04T13:26:00.769Z"
   },
   {
    "duration": 24,
    "start_time": "2023-12-04T13:26:00.810Z"
   },
   {
    "duration": 20,
    "start_time": "2023-12-04T13:26:00.836Z"
   },
   {
    "duration": 4,
    "start_time": "2023-12-04T13:26:04.457Z"
   },
   {
    "duration": 14,
    "start_time": "2023-12-04T13:26:05.998Z"
   },
   {
    "duration": 4,
    "start_time": "2023-12-04T13:26:07.910Z"
   },
   {
    "duration": 5,
    "start_time": "2023-12-04T13:26:22.277Z"
   },
   {
    "duration": 5,
    "start_time": "2023-12-04T13:26:27.614Z"
   },
   {
    "duration": 94,
    "start_time": "2023-12-04T13:26:54.557Z"
   },
   {
    "duration": 43,
    "start_time": "2023-12-04T13:26:54.653Z"
   },
   {
    "duration": 5,
    "start_time": "2023-12-04T13:26:54.698Z"
   },
   {
    "duration": 14,
    "start_time": "2023-12-04T13:26:54.704Z"
   },
   {
    "duration": 13,
    "start_time": "2023-12-04T13:26:54.720Z"
   },
   {
    "duration": 12,
    "start_time": "2023-12-04T13:26:54.735Z"
   },
   {
    "duration": 48,
    "start_time": "2023-12-04T13:26:54.749Z"
   },
   {
    "duration": 21,
    "start_time": "2023-12-04T13:26:54.799Z"
   },
   {
    "duration": 5,
    "start_time": "2023-12-04T13:26:54.822Z"
   },
   {
    "duration": 15,
    "start_time": "2023-12-04T13:26:54.828Z"
   },
   {
    "duration": 12,
    "start_time": "2023-12-04T13:27:01.155Z"
   },
   {
    "duration": 5,
    "start_time": "2023-12-04T13:27:01.971Z"
   },
   {
    "duration": 15,
    "start_time": "2023-12-04T13:27:05.868Z"
   },
   {
    "duration": 5,
    "start_time": "2023-12-04T13:27:08.658Z"
   },
   {
    "duration": 7,
    "start_time": "2023-12-04T13:27:47.872Z"
   },
   {
    "duration": 4,
    "start_time": "2023-12-04T13:27:56.178Z"
   },
   {
    "duration": 6,
    "start_time": "2023-12-04T13:28:07.522Z"
   },
   {
    "duration": 4,
    "start_time": "2023-12-04T13:28:10.872Z"
   },
   {
    "duration": 14,
    "start_time": "2023-12-04T13:28:50.952Z"
   },
   {
    "duration": 105,
    "start_time": "2023-12-04T13:29:34.654Z"
   },
   {
    "duration": 44,
    "start_time": "2023-12-04T13:29:34.760Z"
   },
   {
    "duration": 5,
    "start_time": "2023-12-04T13:29:34.806Z"
   },
   {
    "duration": 18,
    "start_time": "2023-12-04T13:29:34.812Z"
   },
   {
    "duration": 14,
    "start_time": "2023-12-04T13:29:34.832Z"
   },
   {
    "duration": 18,
    "start_time": "2023-12-04T13:29:34.847Z"
   },
   {
    "duration": 36,
    "start_time": "2023-12-04T13:29:34.866Z"
   },
   {
    "duration": 19,
    "start_time": "2023-12-04T13:29:34.904Z"
   },
   {
    "duration": 4,
    "start_time": "2023-12-04T13:29:34.924Z"
   },
   {
    "duration": 10,
    "start_time": "2023-12-04T13:29:34.929Z"
   },
   {
    "duration": 7,
    "start_time": "2023-12-04T13:29:34.941Z"
   },
   {
    "duration": 5,
    "start_time": "2023-12-04T13:29:43.170Z"
   },
   {
    "duration": 15,
    "start_time": "2023-12-04T13:29:46.497Z"
   },
   {
    "duration": 4,
    "start_time": "2023-12-04T13:29:48.965Z"
   },
   {
    "duration": 7,
    "start_time": "2023-12-04T13:30:07.347Z"
   },
   {
    "duration": 5,
    "start_time": "2023-12-04T13:30:11.151Z"
   },
   {
    "duration": 95,
    "start_time": "2023-12-04T13:30:31.701Z"
   },
   {
    "duration": 45,
    "start_time": "2023-12-04T13:30:31.798Z"
   },
   {
    "duration": 6,
    "start_time": "2023-12-04T13:30:31.844Z"
   },
   {
    "duration": 21,
    "start_time": "2023-12-04T13:30:31.851Z"
   },
   {
    "duration": 16,
    "start_time": "2023-12-04T13:30:31.874Z"
   },
   {
    "duration": 18,
    "start_time": "2023-12-04T13:30:31.892Z"
   },
   {
    "duration": 30,
    "start_time": "2023-12-04T13:30:31.912Z"
   },
   {
    "duration": 62,
    "start_time": "2023-12-04T13:30:31.943Z"
   },
   {
    "duration": 4,
    "start_time": "2023-12-04T13:30:32.006Z"
   },
   {
    "duration": 12,
    "start_time": "2023-12-04T13:30:32.011Z"
   },
   {
    "duration": 7,
    "start_time": "2023-12-04T13:30:32.024Z"
   },
   {
    "duration": 13,
    "start_time": "2023-12-04T13:31:36.856Z"
   },
   {
    "duration": 10,
    "start_time": "2023-12-04T13:34:10.680Z"
   },
   {
    "duration": 9,
    "start_time": "2023-12-04T13:36:29.368Z"
   },
   {
    "duration": 14,
    "start_time": "2023-12-04T13:36:57.513Z"
   },
   {
    "duration": 14,
    "start_time": "2023-12-04T13:42:52.679Z"
   },
   {
    "duration": 107,
    "start_time": "2023-12-04T13:43:25.190Z"
   },
   {
    "duration": 46,
    "start_time": "2023-12-04T13:43:25.299Z"
   },
   {
    "duration": 5,
    "start_time": "2023-12-04T13:43:25.346Z"
   },
   {
    "duration": 19,
    "start_time": "2023-12-04T13:43:25.353Z"
   },
   {
    "duration": 16,
    "start_time": "2023-12-04T13:43:25.374Z"
   },
   {
    "duration": 15,
    "start_time": "2023-12-04T13:43:25.392Z"
   },
   {
    "duration": 25,
    "start_time": "2023-12-04T13:43:25.409Z"
   },
   {
    "duration": 59,
    "start_time": "2023-12-04T13:43:25.436Z"
   },
   {
    "duration": 5,
    "start_time": "2023-12-04T13:43:25.496Z"
   },
   {
    "duration": 11,
    "start_time": "2023-12-04T13:43:25.503Z"
   },
   {
    "duration": 4,
    "start_time": "2023-12-04T13:43:25.516Z"
   },
   {
    "duration": 15,
    "start_time": "2023-12-04T13:43:25.522Z"
   },
   {
    "duration": 6,
    "start_time": "2023-12-04T13:43:25.539Z"
   },
   {
    "duration": 16,
    "start_time": "2023-12-04T13:43:25.582Z"
   },
   {
    "duration": 11,
    "start_time": "2023-12-04T13:43:25.600Z"
   },
   {
    "duration": 16,
    "start_time": "2023-12-04T13:43:25.613Z"
   },
   {
    "duration": 16,
    "start_time": "2023-12-04T13:43:28.903Z"
   },
   {
    "duration": 17,
    "start_time": "2023-12-04T13:43:29.873Z"
   },
   {
    "duration": 25,
    "start_time": "2023-12-04T13:44:27.633Z"
   },
   {
    "duration": 27,
    "start_time": "2023-12-04T13:46:31.005Z"
   },
   {
    "duration": 31,
    "start_time": "2023-12-04T13:46:57.059Z"
   },
   {
    "duration": 12,
    "start_time": "2023-12-04T13:57:01.436Z"
   },
   {
    "duration": 4,
    "start_time": "2023-12-04T13:57:20.734Z"
   },
   {
    "duration": 28,
    "start_time": "2023-12-04T13:57:22.781Z"
   },
   {
    "duration": 23,
    "start_time": "2023-12-04T13:57:49.955Z"
   },
   {
    "duration": 7,
    "start_time": "2023-12-04T14:04:59.575Z"
   },
   {
    "duration": 9,
    "start_time": "2023-12-04T14:05:07.236Z"
   },
   {
    "duration": 43,
    "start_time": "2023-12-04T14:08:05.207Z"
   },
   {
    "duration": 14,
    "start_time": "2023-12-04T14:08:16.178Z"
   },
   {
    "duration": 37,
    "start_time": "2023-12-04T14:10:14.687Z"
   },
   {
    "duration": 13,
    "start_time": "2023-12-04T14:10:19.304Z"
   },
   {
    "duration": 27,
    "start_time": "2023-12-04T14:12:54.417Z"
   },
   {
    "duration": 28,
    "start_time": "2023-12-04T14:13:18.762Z"
   },
   {
    "duration": 14,
    "start_time": "2023-12-04T14:14:18.406Z"
   },
   {
    "duration": 4,
    "start_time": "2023-12-04T14:19:57.089Z"
   },
   {
    "duration": 34,
    "start_time": "2023-12-04T14:22:28.820Z"
   },
   {
    "duration": 14,
    "start_time": "2023-12-04T14:24:37.708Z"
   },
   {
    "duration": 664,
    "start_time": "2023-12-04T14:28:19.164Z"
   },
   {
    "duration": 638,
    "start_time": "2023-12-04T14:28:27.510Z"
   },
   {
    "duration": 8,
    "start_time": "2023-12-04T14:28:48.413Z"
   },
   {
    "duration": 9,
    "start_time": "2023-12-04T14:29:05.290Z"
   },
   {
    "duration": 6,
    "start_time": "2023-12-04T14:29:14.398Z"
   },
   {
    "duration": 5,
    "start_time": "2023-12-04T14:29:54.867Z"
   },
   {
    "duration": 7,
    "start_time": "2023-12-04T14:30:04.423Z"
   },
   {
    "duration": 6,
    "start_time": "2023-12-04T14:30:17.934Z"
   },
   {
    "duration": 11,
    "start_time": "2023-12-04T14:30:33.397Z"
   },
   {
    "duration": 15,
    "start_time": "2023-12-04T14:30:38.569Z"
   },
   {
    "duration": 8,
    "start_time": "2023-12-04T14:30:53.804Z"
   },
   {
    "duration": 15,
    "start_time": "2023-12-04T14:31:08.429Z"
   },
   {
    "duration": 5,
    "start_time": "2023-12-04T14:31:44.247Z"
   },
   {
    "duration": 7,
    "start_time": "2023-12-04T14:32:10.365Z"
   },
   {
    "duration": 8,
    "start_time": "2023-12-04T14:32:37.826Z"
   },
   {
    "duration": 15,
    "start_time": "2023-12-04T14:34:26.214Z"
   },
   {
    "duration": 100,
    "start_time": "2023-12-04T14:34:52.590Z"
   },
   {
    "duration": 20,
    "start_time": "2023-12-04T14:35:02.499Z"
   },
   {
    "duration": 9,
    "start_time": "2023-12-04T14:35:33.881Z"
   },
   {
    "duration": 7,
    "start_time": "2023-12-04T14:36:03.330Z"
   },
   {
    "duration": 4,
    "start_time": "2023-12-04T14:36:27.850Z"
   },
   {
    "duration": 7,
    "start_time": "2023-12-04T14:36:42.459Z"
   },
   {
    "duration": 4,
    "start_time": "2023-12-04T14:37:12.319Z"
   },
   {
    "duration": 4,
    "start_time": "2023-12-04T14:37:24.669Z"
   },
   {
    "duration": 6,
    "start_time": "2023-12-04T14:37:36.911Z"
   },
   {
    "duration": 4,
    "start_time": "2023-12-04T14:37:55.802Z"
   },
   {
    "duration": 6,
    "start_time": "2023-12-04T14:38:43.863Z"
   },
   {
    "duration": 4,
    "start_time": "2023-12-04T14:39:03.771Z"
   },
   {
    "duration": 3,
    "start_time": "2023-12-04T14:42:29.837Z"
   },
   {
    "duration": 4,
    "start_time": "2023-12-04T14:42:35.566Z"
   },
   {
    "duration": 20,
    "start_time": "2023-12-04T14:43:54.774Z"
   },
   {
    "duration": 501,
    "start_time": "2023-12-04T14:44:54.566Z"
   },
   {
    "duration": 527,
    "start_time": "2023-12-04T14:45:09.565Z"
   },
   {
    "duration": 456,
    "start_time": "2023-12-04T14:45:19.535Z"
   },
   {
    "duration": 1942,
    "start_time": "2023-12-04T14:45:48.187Z"
   },
   {
    "duration": 1730,
    "start_time": "2023-12-04T14:46:04.738Z"
   },
   {
    "duration": 454,
    "start_time": "2023-12-04T14:46:19.936Z"
   },
   {
    "duration": 536,
    "start_time": "2023-12-04T14:48:37.529Z"
   },
   {
    "duration": 23,
    "start_time": "2023-12-04T14:49:24.342Z"
   },
   {
    "duration": 28,
    "start_time": "2023-12-04T14:55:38.754Z"
   },
   {
    "duration": 92,
    "start_time": "2023-12-04T14:55:54.800Z"
   },
   {
    "duration": 439,
    "start_time": "2023-12-04T14:56:30.926Z"
   },
   {
    "duration": 7,
    "start_time": "2023-12-04T15:00:27.028Z"
   },
   {
    "duration": 20,
    "start_time": "2023-12-04T15:00:58.748Z"
   },
   {
    "duration": 101,
    "start_time": "2023-12-04T15:01:34.932Z"
   },
   {
    "duration": 46,
    "start_time": "2023-12-04T15:01:35.035Z"
   },
   {
    "duration": 6,
    "start_time": "2023-12-04T15:01:35.082Z"
   },
   {
    "duration": 20,
    "start_time": "2023-12-04T15:01:35.090Z"
   },
   {
    "duration": 21,
    "start_time": "2023-12-04T15:01:35.112Z"
   },
   {
    "duration": 31,
    "start_time": "2023-12-04T15:01:35.135Z"
   },
   {
    "duration": 45,
    "start_time": "2023-12-04T15:01:35.167Z"
   },
   {
    "duration": 21,
    "start_time": "2023-12-04T15:01:35.214Z"
   },
   {
    "duration": 27,
    "start_time": "2023-12-04T15:01:35.236Z"
   },
   {
    "duration": 30,
    "start_time": "2023-12-04T15:01:35.265Z"
   },
   {
    "duration": 15,
    "start_time": "2023-12-04T15:01:35.297Z"
   },
   {
    "duration": 32,
    "start_time": "2023-12-04T15:01:35.313Z"
   },
   {
    "duration": 29,
    "start_time": "2023-12-04T15:01:35.346Z"
   },
   {
    "duration": 24,
    "start_time": "2023-12-04T15:01:35.378Z"
   },
   {
    "duration": 17,
    "start_time": "2023-12-04T15:01:35.404Z"
   },
   {
    "duration": 18,
    "start_time": "2023-12-04T15:01:35.423Z"
   },
   {
    "duration": 13,
    "start_time": "2023-12-04T15:01:35.443Z"
   },
   {
    "duration": 6,
    "start_time": "2023-12-04T15:01:35.457Z"
   },
   {
    "duration": 101,
    "start_time": "2023-12-04T15:01:35.464Z"
   },
   {
    "duration": 515,
    "start_time": "2023-12-04T15:01:35.567Z"
   },
   {
    "duration": 39,
    "start_time": "2023-12-04T15:01:36.084Z"
   },
   {
    "duration": 35,
    "start_time": "2023-12-04T15:01:38.629Z"
   },
   {
    "duration": 18,
    "start_time": "2023-12-04T15:01:41.372Z"
   },
   {
    "duration": 33,
    "start_time": "2023-12-04T15:01:58.033Z"
   },
   {
    "duration": 20,
    "start_time": "2023-12-04T15:02:20.900Z"
   },
   {
    "duration": 510,
    "start_time": "2023-12-05T11:01:50.646Z"
   },
   {
    "duration": 34,
    "start_time": "2023-12-05T11:02:25.991Z"
   },
   {
    "duration": 14,
    "start_time": "2023-12-05T11:03:00.692Z"
   },
   {
    "duration": 95,
    "start_time": "2023-12-05T11:04:21.493Z"
   },
   {
    "duration": 44,
    "start_time": "2023-12-05T11:04:21.590Z"
   },
   {
    "duration": 5,
    "start_time": "2023-12-05T11:04:21.635Z"
   },
   {
    "duration": 13,
    "start_time": "2023-12-05T11:04:21.641Z"
   },
   {
    "duration": 13,
    "start_time": "2023-12-05T11:04:21.656Z"
   },
   {
    "duration": 13,
    "start_time": "2023-12-05T11:04:21.670Z"
   },
   {
    "duration": 23,
    "start_time": "2023-12-05T11:04:21.685Z"
   },
   {
    "duration": 21,
    "start_time": "2023-12-05T11:04:21.710Z"
   },
   {
    "duration": 5,
    "start_time": "2023-12-05T11:04:21.732Z"
   },
   {
    "duration": 53,
    "start_time": "2023-12-05T11:04:21.739Z"
   },
   {
    "duration": 5,
    "start_time": "2023-12-05T11:04:21.794Z"
   },
   {
    "duration": 14,
    "start_time": "2023-12-05T11:04:21.800Z"
   },
   {
    "duration": 11,
    "start_time": "2023-12-05T11:04:21.816Z"
   },
   {
    "duration": 17,
    "start_time": "2023-12-05T11:04:21.829Z"
   },
   {
    "duration": 36,
    "start_time": "2023-12-05T11:04:21.848Z"
   },
   {
    "duration": 17,
    "start_time": "2023-12-05T11:04:21.886Z"
   },
   {
    "duration": 10,
    "start_time": "2023-12-05T11:04:21.905Z"
   },
   {
    "duration": 3,
    "start_time": "2023-12-05T11:04:21.916Z"
   },
   {
    "duration": 102,
    "start_time": "2023-12-05T11:04:21.921Z"
   },
   {
    "duration": 455,
    "start_time": "2023-12-05T11:04:22.024Z"
   },
   {
    "duration": 20,
    "start_time": "2023-12-05T11:04:22.481Z"
   },
   {
    "duration": 18,
    "start_time": "2023-12-05T11:04:22.503Z"
   },
   {
    "duration": 59,
    "start_time": "2023-12-05T11:04:22.523Z"
   },
   {
    "duration": 35,
    "start_time": "2023-12-05T11:04:26.817Z"
   },
   {
    "duration": 23,
    "start_time": "2023-12-05T11:07:52.016Z"
   },
   {
    "duration": 25,
    "start_time": "2023-12-05T11:08:02.005Z"
   },
   {
    "duration": 26,
    "start_time": "2023-12-05T11:08:41.002Z"
   },
   {
    "duration": 27,
    "start_time": "2023-12-05T11:15:19.885Z"
   },
   {
    "duration": 13,
    "start_time": "2023-12-05T11:16:18.289Z"
   },
   {
    "duration": 6,
    "start_time": "2023-12-05T11:16:54.356Z"
   },
   {
    "duration": 6,
    "start_time": "2023-12-05T11:17:06.859Z"
   },
   {
    "duration": 10,
    "start_time": "2023-12-05T11:18:48.235Z"
   },
   {
    "duration": 11,
    "start_time": "2023-12-05T11:19:53.094Z"
   },
   {
    "duration": 31,
    "start_time": "2023-12-05T11:22:25.140Z"
   },
   {
    "duration": 6,
    "start_time": "2023-12-05T11:22:26.242Z"
   },
   {
    "duration": 8,
    "start_time": "2023-12-05T11:22:28.193Z"
   },
   {
    "duration": 20,
    "start_time": "2023-12-05T11:23:37.608Z"
   },
   {
    "duration": 40,
    "start_time": "2023-12-05T11:23:57.003Z"
   },
   {
    "duration": 20,
    "start_time": "2023-12-05T11:23:57.958Z"
   },
   {
    "duration": 8,
    "start_time": "2023-12-05T11:24:10.846Z"
   },
   {
    "duration": 7,
    "start_time": "2023-12-05T11:24:11.572Z"
   },
   {
    "duration": 19,
    "start_time": "2023-12-05T11:26:19.557Z"
   },
   {
    "duration": 26,
    "start_time": "2023-12-05T11:27:27.214Z"
   },
   {
    "duration": 6,
    "start_time": "2023-12-05T11:34:08.343Z"
   },
   {
    "duration": 5,
    "start_time": "2023-12-05T11:39:41.091Z"
   },
   {
    "duration": 4,
    "start_time": "2023-12-05T11:40:26.557Z"
   },
   {
    "duration": 94,
    "start_time": "2023-12-05T11:40:31.239Z"
   },
   {
    "duration": 45,
    "start_time": "2023-12-05T11:40:31.335Z"
   },
   {
    "duration": 5,
    "start_time": "2023-12-05T11:40:31.381Z"
   },
   {
    "duration": 25,
    "start_time": "2023-12-05T11:40:31.387Z"
   },
   {
    "duration": 25,
    "start_time": "2023-12-05T11:40:31.414Z"
   },
   {
    "duration": 33,
    "start_time": "2023-12-05T11:40:31.440Z"
   },
   {
    "duration": 36,
    "start_time": "2023-12-05T11:40:31.475Z"
   },
   {
    "duration": 4,
    "start_time": "2023-12-05T11:40:31.512Z"
   },
   {
    "duration": 34,
    "start_time": "2023-12-05T11:40:31.518Z"
   },
   {
    "duration": 18,
    "start_time": "2023-12-05T11:40:31.554Z"
   },
   {
    "duration": 17,
    "start_time": "2023-12-05T11:40:31.574Z"
   },
   {
    "duration": 37,
    "start_time": "2023-12-05T11:40:31.593Z"
   },
   {
    "duration": 26,
    "start_time": "2023-12-05T11:40:31.631Z"
   },
   {
    "duration": 25,
    "start_time": "2023-12-05T11:40:31.659Z"
   },
   {
    "duration": 25,
    "start_time": "2023-12-05T11:40:31.686Z"
   },
   {
    "duration": 23,
    "start_time": "2023-12-05T11:40:31.712Z"
   },
   {
    "duration": 15,
    "start_time": "2023-12-05T11:40:31.736Z"
   },
   {
    "duration": 11,
    "start_time": "2023-12-05T11:40:31.752Z"
   },
   {
    "duration": 99,
    "start_time": "2023-12-05T11:40:31.764Z"
   },
   {
    "duration": 79,
    "start_time": "2023-12-05T11:40:33.808Z"
   },
   {
    "duration": 5,
    "start_time": "2023-12-05T11:40:35.020Z"
   },
   {
    "duration": 76,
    "start_time": "2023-12-05T11:41:04.949Z"
   },
   {
    "duration": 5,
    "start_time": "2023-12-05T11:41:05.636Z"
   },
   {
    "duration": 7,
    "start_time": "2023-12-05T11:41:58.667Z"
   },
   {
    "duration": 5,
    "start_time": "2023-12-05T11:42:03.911Z"
   },
   {
    "duration": 91,
    "start_time": "2023-12-05T11:42:25.095Z"
   },
   {
    "duration": 5,
    "start_time": "2023-12-05T11:42:25.982Z"
   },
   {
    "duration": 97,
    "start_time": "2023-12-05T11:43:36.648Z"
   },
   {
    "duration": 43,
    "start_time": "2023-12-05T11:43:36.747Z"
   },
   {
    "duration": 5,
    "start_time": "2023-12-05T11:43:36.792Z"
   },
   {
    "duration": 19,
    "start_time": "2023-12-05T11:43:36.798Z"
   },
   {
    "duration": 14,
    "start_time": "2023-12-05T11:43:36.818Z"
   },
   {
    "duration": 13,
    "start_time": "2023-12-05T11:43:36.833Z"
   },
   {
    "duration": 35,
    "start_time": "2023-12-05T11:43:36.847Z"
   },
   {
    "duration": 4,
    "start_time": "2023-12-05T11:43:36.883Z"
   },
   {
    "duration": 26,
    "start_time": "2023-12-05T11:43:36.888Z"
   },
   {
    "duration": 9,
    "start_time": "2023-12-05T11:43:36.916Z"
   },
   {
    "duration": 6,
    "start_time": "2023-12-05T11:43:36.926Z"
   },
   {
    "duration": 22,
    "start_time": "2023-12-05T11:43:36.933Z"
   },
   {
    "duration": 11,
    "start_time": "2023-12-05T11:43:36.956Z"
   },
   {
    "duration": 23,
    "start_time": "2023-12-05T11:43:36.968Z"
   },
   {
    "duration": 11,
    "start_time": "2023-12-05T11:43:36.993Z"
   },
   {
    "duration": 14,
    "start_time": "2023-12-05T11:43:37.005Z"
   },
   {
    "duration": 19,
    "start_time": "2023-12-05T11:43:37.020Z"
   },
   {
    "duration": 4,
    "start_time": "2023-12-05T11:43:37.040Z"
   },
   {
    "duration": 111,
    "start_time": "2023-12-05T11:43:37.045Z"
   },
   {
    "duration": 462,
    "start_time": "2023-12-05T11:43:37.157Z"
   },
   {
    "duration": 19,
    "start_time": "2023-12-05T11:43:37.620Z"
   },
   {
    "duration": 17,
    "start_time": "2023-12-05T11:43:37.641Z"
   },
   {
    "duration": 45,
    "start_time": "2023-12-05T11:43:37.659Z"
   },
   {
    "duration": 5,
    "start_time": "2023-12-05T11:43:37.705Z"
   },
   {
    "duration": 4,
    "start_time": "2023-12-05T11:43:37.711Z"
   },
   {
    "duration": 5,
    "start_time": "2023-12-05T11:43:44.235Z"
   },
   {
    "duration": 544,
    "start_time": "2023-12-05T11:44:29.679Z"
   },
   {
    "duration": 45,
    "start_time": "2023-12-05T11:44:30.225Z"
   },
   {
    "duration": 5,
    "start_time": "2023-12-05T11:44:30.272Z"
   },
   {
    "duration": 43,
    "start_time": "2023-12-05T11:44:30.279Z"
   },
   {
    "duration": 46,
    "start_time": "2023-12-05T11:44:30.324Z"
   },
   {
    "duration": 35,
    "start_time": "2023-12-05T11:44:30.371Z"
   },
   {
    "duration": 50,
    "start_time": "2023-12-05T11:44:30.408Z"
   },
   {
    "duration": 5,
    "start_time": "2023-12-05T11:44:30.459Z"
   },
   {
    "duration": 50,
    "start_time": "2023-12-05T11:44:30.465Z"
   },
   {
    "duration": 38,
    "start_time": "2023-12-05T11:44:30.516Z"
   },
   {
    "duration": 32,
    "start_time": "2023-12-05T11:44:30.556Z"
   },
   {
    "duration": 34,
    "start_time": "2023-12-05T11:44:30.589Z"
   },
   {
    "duration": 21,
    "start_time": "2023-12-05T11:44:30.624Z"
   },
   {
    "duration": 26,
    "start_time": "2023-12-05T11:44:30.647Z"
   },
   {
    "duration": 49,
    "start_time": "2023-12-05T11:44:30.674Z"
   },
   {
    "duration": 41,
    "start_time": "2023-12-05T11:44:30.725Z"
   },
   {
    "duration": 27,
    "start_time": "2023-12-05T11:44:30.768Z"
   },
   {
    "duration": 24,
    "start_time": "2023-12-05T11:44:30.797Z"
   },
   {
    "duration": 102,
    "start_time": "2023-12-05T11:44:30.823Z"
   },
   {
    "duration": 473,
    "start_time": "2023-12-05T11:44:30.926Z"
   },
   {
    "duration": 58,
    "start_time": "2023-12-05T11:44:31.400Z"
   },
   {
    "duration": 0,
    "start_time": "2023-12-05T11:44:31.460Z"
   },
   {
    "duration": 0,
    "start_time": "2023-12-05T11:44:31.461Z"
   },
   {
    "duration": 0,
    "start_time": "2023-12-05T11:44:31.462Z"
   },
   {
    "duration": 0,
    "start_time": "2023-12-05T11:44:31.464Z"
   },
   {
    "duration": 0,
    "start_time": "2023-12-05T11:44:31.465Z"
   },
   {
    "duration": 0,
    "start_time": "2023-12-05T11:44:31.481Z"
   },
   {
    "duration": 0,
    "start_time": "2023-12-05T11:44:31.483Z"
   },
   {
    "duration": 0,
    "start_time": "2023-12-05T11:44:31.484Z"
   },
   {
    "duration": 0,
    "start_time": "2023-12-05T11:44:31.485Z"
   },
   {
    "duration": 0,
    "start_time": "2023-12-05T11:44:31.486Z"
   },
   {
    "duration": 46,
    "start_time": "2023-12-05T11:44:48.713Z"
   },
   {
    "duration": 20,
    "start_time": "2023-12-05T11:44:50.236Z"
   },
   {
    "duration": 30,
    "start_time": "2023-12-05T11:44:51.441Z"
   },
   {
    "duration": 5,
    "start_time": "2023-12-05T11:44:53.843Z"
   },
   {
    "duration": 5,
    "start_time": "2023-12-05T11:44:54.713Z"
   },
   {
    "duration": 6,
    "start_time": "2023-12-05T11:45:21.002Z"
   },
   {
    "duration": 8,
    "start_time": "2023-12-05T11:45:52.033Z"
   },
   {
    "duration": 5,
    "start_time": "2023-12-05T11:46:28.086Z"
   },
   {
    "duration": 23,
    "start_time": "2023-12-05T11:46:55.256Z"
   },
   {
    "duration": 5,
    "start_time": "2023-12-05T11:47:07.150Z"
   },
   {
    "duration": 4,
    "start_time": "2023-12-05T11:47:40.614Z"
   },
   {
    "duration": 8,
    "start_time": "2023-12-05T11:48:00.048Z"
   },
   {
    "duration": 26,
    "start_time": "2023-12-05T11:53:03.873Z"
   },
   {
    "duration": 19,
    "start_time": "2023-12-05T11:54:13.262Z"
   },
   {
    "duration": 19,
    "start_time": "2023-12-05T11:55:05.823Z"
   },
   {
    "duration": 14,
    "start_time": "2023-12-05T11:58:53.246Z"
   },
   {
    "duration": 18,
    "start_time": "2023-12-05T11:59:45.780Z"
   },
   {
    "duration": 13,
    "start_time": "2023-12-05T12:00:24.254Z"
   },
   {
    "duration": 14,
    "start_time": "2023-12-05T12:00:31.728Z"
   },
   {
    "duration": 8,
    "start_time": "2023-12-05T12:02:58.918Z"
   },
   {
    "duration": 15,
    "start_time": "2023-12-05T12:03:42.040Z"
   },
   {
    "duration": 15,
    "start_time": "2023-12-05T12:03:58.341Z"
   },
   {
    "duration": 11,
    "start_time": "2023-12-05T12:07:11.256Z"
   },
   {
    "duration": 8,
    "start_time": "2023-12-05T12:07:20.646Z"
   },
   {
    "duration": 112,
    "start_time": "2023-12-05T12:08:26.184Z"
   },
   {
    "duration": 46,
    "start_time": "2023-12-05T12:08:26.298Z"
   },
   {
    "duration": 5,
    "start_time": "2023-12-05T12:08:26.346Z"
   },
   {
    "duration": 34,
    "start_time": "2023-12-05T12:08:26.354Z"
   },
   {
    "duration": 33,
    "start_time": "2023-12-05T12:08:26.390Z"
   },
   {
    "duration": 18,
    "start_time": "2023-12-05T12:08:26.425Z"
   },
   {
    "duration": 32,
    "start_time": "2023-12-05T12:08:26.445Z"
   },
   {
    "duration": 6,
    "start_time": "2023-12-05T12:08:26.481Z"
   },
   {
    "duration": 34,
    "start_time": "2023-12-05T12:08:26.489Z"
   },
   {
    "duration": 9,
    "start_time": "2023-12-05T12:08:26.526Z"
   },
   {
    "duration": 8,
    "start_time": "2023-12-05T12:08:26.536Z"
   },
   {
    "duration": 41,
    "start_time": "2023-12-05T12:08:26.546Z"
   },
   {
    "duration": 7,
    "start_time": "2023-12-05T12:08:26.588Z"
   },
   {
    "duration": 18,
    "start_time": "2023-12-05T12:08:26.596Z"
   },
   {
    "duration": 11,
    "start_time": "2023-12-05T12:08:26.615Z"
   },
   {
    "duration": 16,
    "start_time": "2023-12-05T12:08:26.628Z"
   },
   {
    "duration": 39,
    "start_time": "2023-12-05T12:08:26.646Z"
   },
   {
    "duration": 8,
    "start_time": "2023-12-05T12:08:26.687Z"
   },
   {
    "duration": 14,
    "start_time": "2023-12-05T12:08:26.696Z"
   },
   {
    "duration": 4,
    "start_time": "2023-12-05T12:08:26.712Z"
   },
   {
    "duration": 117,
    "start_time": "2023-12-05T12:08:26.718Z"
   },
   {
    "duration": 19,
    "start_time": "2023-12-05T12:08:26.837Z"
   },
   {
    "duration": 56,
    "start_time": "2023-12-05T12:08:26.858Z"
   },
   {
    "duration": 21,
    "start_time": "2023-12-05T12:08:26.915Z"
   },
   {
    "duration": 45,
    "start_time": "2023-12-05T12:08:26.937Z"
   },
   {
    "duration": 6,
    "start_time": "2023-12-05T12:08:26.984Z"
   },
   {
    "duration": 21,
    "start_time": "2023-12-05T12:08:26.992Z"
   },
   {
    "duration": 8,
    "start_time": "2023-12-05T12:08:27.016Z"
   },
   {
    "duration": 10,
    "start_time": "2023-12-05T12:08:27.025Z"
   },
   {
    "duration": 8,
    "start_time": "2023-12-05T12:08:27.036Z"
   },
   {
    "duration": 14,
    "start_time": "2023-12-05T12:08:27.046Z"
   },
   {
    "duration": 21,
    "start_time": "2023-12-05T12:08:27.062Z"
   },
   {
    "duration": 7,
    "start_time": "2023-12-05T12:08:27.085Z"
   },
   {
    "duration": 26,
    "start_time": "2023-12-05T12:08:27.094Z"
   },
   {
    "duration": 17,
    "start_time": "2023-12-05T12:08:27.122Z"
   },
   {
    "duration": 5,
    "start_time": "2023-12-05T12:08:30.114Z"
   },
   {
    "duration": 15,
    "start_time": "2023-12-05T12:08:50.490Z"
   },
   {
    "duration": 8,
    "start_time": "2023-12-05T12:14:13.481Z"
   },
   {
    "duration": 36,
    "start_time": "2023-12-05T12:14:17.920Z"
   },
   {
    "duration": 8,
    "start_time": "2023-12-05T12:17:08.419Z"
   },
   {
    "duration": 27,
    "start_time": "2023-12-05T12:17:20.404Z"
   },
   {
    "duration": 76,
    "start_time": "2023-12-05T12:18:50.799Z"
   },
   {
    "duration": 17,
    "start_time": "2023-12-05T12:19:02.717Z"
   },
   {
    "duration": 36,
    "start_time": "2023-12-05T12:19:53.943Z"
   },
   {
    "duration": 32,
    "start_time": "2023-12-05T12:20:51.219Z"
   },
   {
    "duration": 81,
    "start_time": "2023-12-05T12:24:37.203Z"
   },
   {
    "duration": 35,
    "start_time": "2023-12-05T12:24:50.836Z"
   },
   {
    "duration": 520,
    "start_time": "2023-12-05T12:25:29.796Z"
   },
   {
    "duration": 45,
    "start_time": "2023-12-05T12:25:30.318Z"
   },
   {
    "duration": 10,
    "start_time": "2023-12-05T12:25:30.364Z"
   },
   {
    "duration": 33,
    "start_time": "2023-12-05T12:25:30.375Z"
   },
   {
    "duration": 26,
    "start_time": "2023-12-05T12:25:30.410Z"
   },
   {
    "duration": 36,
    "start_time": "2023-12-05T12:25:30.437Z"
   },
   {
    "duration": 44,
    "start_time": "2023-12-05T12:25:30.475Z"
   },
   {
    "duration": 5,
    "start_time": "2023-12-05T12:25:30.520Z"
   },
   {
    "duration": 54,
    "start_time": "2023-12-05T12:25:30.527Z"
   },
   {
    "duration": 7,
    "start_time": "2023-12-05T12:25:30.582Z"
   },
   {
    "duration": 10,
    "start_time": "2023-12-05T12:25:30.591Z"
   },
   {
    "duration": 29,
    "start_time": "2023-12-05T12:25:30.603Z"
   },
   {
    "duration": 35,
    "start_time": "2023-12-05T12:25:30.633Z"
   },
   {
    "duration": 29,
    "start_time": "2023-12-05T12:25:30.672Z"
   },
   {
    "duration": 21,
    "start_time": "2023-12-05T12:25:30.703Z"
   },
   {
    "duration": 38,
    "start_time": "2023-12-05T12:25:30.726Z"
   },
   {
    "duration": 28,
    "start_time": "2023-12-05T12:25:30.766Z"
   },
   {
    "duration": 29,
    "start_time": "2023-12-05T12:25:30.796Z"
   },
   {
    "duration": 53,
    "start_time": "2023-12-05T12:25:30.826Z"
   },
   {
    "duration": 29,
    "start_time": "2023-12-05T12:25:30.881Z"
   },
   {
    "duration": 115,
    "start_time": "2023-12-05T12:25:30.912Z"
   },
   {
    "duration": 18,
    "start_time": "2023-12-05T12:25:31.028Z"
   },
   {
    "duration": 57,
    "start_time": "2023-12-05T12:25:31.047Z"
   },
   {
    "duration": 23,
    "start_time": "2023-12-05T12:25:31.106Z"
   },
   {
    "duration": 30,
    "start_time": "2023-12-05T12:25:31.130Z"
   },
   {
    "duration": 16,
    "start_time": "2023-12-05T12:25:31.162Z"
   },
   {
    "duration": 18,
    "start_time": "2023-12-05T12:25:31.181Z"
   },
   {
    "duration": 29,
    "start_time": "2023-12-05T12:25:31.200Z"
   },
   {
    "duration": 29,
    "start_time": "2023-12-05T12:25:31.230Z"
   },
   {
    "duration": 14,
    "start_time": "2023-12-05T12:25:31.261Z"
   },
   {
    "duration": 36,
    "start_time": "2023-12-05T12:25:31.276Z"
   },
   {
    "duration": 34,
    "start_time": "2023-12-05T12:25:31.313Z"
   },
   {
    "duration": 33,
    "start_time": "2023-12-05T12:25:31.348Z"
   },
   {
    "duration": 60,
    "start_time": "2023-12-05T12:25:31.382Z"
   },
   {
    "duration": 37,
    "start_time": "2023-12-05T12:25:31.443Z"
   },
   {
    "duration": 21,
    "start_time": "2023-12-05T12:25:31.481Z"
   },
   {
    "duration": 63,
    "start_time": "2023-12-05T12:25:33.857Z"
   },
   {
    "duration": 29,
    "start_time": "2023-12-05T12:31:55.513Z"
   },
   {
    "duration": 38,
    "start_time": "2023-12-05T12:32:06.486Z"
   },
   {
    "duration": 66,
    "start_time": "2023-12-05T12:32:25.072Z"
   },
   {
    "duration": 1381,
    "start_time": "2023-12-05T12:35:34.929Z"
   },
   {
    "duration": 49,
    "start_time": "2023-12-05T12:35:55.251Z"
   },
   {
    "duration": 8,
    "start_time": "2023-12-05T15:06:59.289Z"
   },
   {
    "duration": 29,
    "start_time": "2023-12-05T15:07:11.280Z"
   },
   {
    "duration": 35,
    "start_time": "2023-12-05T15:07:35.897Z"
   },
   {
    "duration": 54,
    "start_time": "2023-12-05T15:08:09.695Z"
   },
   {
    "duration": 53,
    "start_time": "2023-12-05T15:08:52.324Z"
   },
   {
    "duration": 98,
    "start_time": "2023-12-05T15:09:01.132Z"
   },
   {
    "duration": 44,
    "start_time": "2023-12-05T15:09:01.232Z"
   },
   {
    "duration": 5,
    "start_time": "2023-12-05T15:09:01.278Z"
   },
   {
    "duration": 43,
    "start_time": "2023-12-05T15:09:01.284Z"
   },
   {
    "duration": 56,
    "start_time": "2023-12-05T15:09:01.329Z"
   },
   {
    "duration": 37,
    "start_time": "2023-12-05T15:09:01.386Z"
   },
   {
    "duration": 40,
    "start_time": "2023-12-05T15:09:01.424Z"
   },
   {
    "duration": 13,
    "start_time": "2023-12-05T15:09:01.465Z"
   },
   {
    "duration": 35,
    "start_time": "2023-12-05T15:09:01.479Z"
   },
   {
    "duration": 7,
    "start_time": "2023-12-05T15:09:01.515Z"
   },
   {
    "duration": 42,
    "start_time": "2023-12-05T15:09:01.523Z"
   },
   {
    "duration": 28,
    "start_time": "2023-12-05T15:09:01.567Z"
   },
   {
    "duration": 16,
    "start_time": "2023-12-05T15:09:01.597Z"
   },
   {
    "duration": 43,
    "start_time": "2023-12-05T15:09:01.616Z"
   },
   {
    "duration": 24,
    "start_time": "2023-12-05T15:09:01.661Z"
   },
   {
    "duration": 57,
    "start_time": "2023-12-05T15:09:01.686Z"
   },
   {
    "duration": 24,
    "start_time": "2023-12-05T15:09:01.744Z"
   },
   {
    "duration": 50,
    "start_time": "2023-12-05T15:09:01.769Z"
   },
   {
    "duration": 30,
    "start_time": "2023-12-05T15:09:01.821Z"
   },
   {
    "duration": 26,
    "start_time": "2023-12-05T15:09:01.853Z"
   },
   {
    "duration": 130,
    "start_time": "2023-12-05T15:09:01.880Z"
   },
   {
    "duration": 17,
    "start_time": "2023-12-05T15:09:02.012Z"
   },
   {
    "duration": 53,
    "start_time": "2023-12-05T15:09:02.030Z"
   },
   {
    "duration": 19,
    "start_time": "2023-12-05T15:09:02.084Z"
   },
   {
    "duration": 35,
    "start_time": "2023-12-05T15:09:02.104Z"
   },
   {
    "duration": 10,
    "start_time": "2023-12-05T15:09:02.140Z"
   },
   {
    "duration": 17,
    "start_time": "2023-12-05T15:09:02.152Z"
   },
   {
    "duration": 16,
    "start_time": "2023-12-05T15:09:02.170Z"
   },
   {
    "duration": 9,
    "start_time": "2023-12-05T15:09:02.188Z"
   },
   {
    "duration": 24,
    "start_time": "2023-12-05T15:09:02.199Z"
   },
   {
    "duration": 16,
    "start_time": "2023-12-05T15:09:02.224Z"
   },
   {
    "duration": 16,
    "start_time": "2023-12-05T15:09:02.241Z"
   },
   {
    "duration": 17,
    "start_time": "2023-12-05T15:09:02.258Z"
   },
   {
    "duration": 24,
    "start_time": "2023-12-05T15:09:02.276Z"
   },
   {
    "duration": 15,
    "start_time": "2023-12-05T15:09:02.302Z"
   },
   {
    "duration": 14,
    "start_time": "2023-12-05T15:09:02.319Z"
   },
   {
    "duration": 56,
    "start_time": "2023-12-05T15:09:02.335Z"
   },
   {
    "duration": 34,
    "start_time": "2023-12-05T15:09:55.060Z"
   },
   {
    "duration": 33,
    "start_time": "2023-12-05T15:10:05.770Z"
   },
   {
    "duration": 7,
    "start_time": "2023-12-05T15:12:14.485Z"
   },
   {
    "duration": 14,
    "start_time": "2023-12-05T15:12:28.807Z"
   },
   {
    "duration": 30,
    "start_time": "2023-12-05T15:13:00.080Z"
   },
   {
    "duration": 28,
    "start_time": "2023-12-05T15:13:21.283Z"
   },
   {
    "duration": 4,
    "start_time": "2023-12-05T15:15:17.667Z"
   },
   {
    "duration": 7,
    "start_time": "2023-12-05T15:15:26.915Z"
   },
   {
    "duration": 21,
    "start_time": "2023-12-05T15:18:02.364Z"
   },
   {
    "duration": 19,
    "start_time": "2023-12-05T15:18:36.612Z"
   },
   {
    "duration": 19,
    "start_time": "2023-12-05T15:19:01.088Z"
   },
   {
    "duration": 13,
    "start_time": "2023-12-05T15:19:44.734Z"
   },
   {
    "duration": 5,
    "start_time": "2023-12-05T15:19:51.524Z"
   },
   {
    "duration": 7,
    "start_time": "2023-12-05T15:20:29.074Z"
   },
   {
    "duration": 15,
    "start_time": "2023-12-05T15:20:51.022Z"
   },
   {
    "duration": 6,
    "start_time": "2023-12-05T15:21:04.150Z"
   },
   {
    "duration": 6,
    "start_time": "2023-12-05T15:21:08.529Z"
   },
   {
    "duration": 7,
    "start_time": "2023-12-05T15:21:46.276Z"
   },
   {
    "duration": 8,
    "start_time": "2023-12-05T15:24:05.782Z"
   },
   {
    "duration": 8,
    "start_time": "2023-12-05T15:24:20.355Z"
   },
   {
    "duration": 544,
    "start_time": "2023-12-05T15:27:42.804Z"
   },
   {
    "duration": 6,
    "start_time": "2023-12-05T15:28:24.833Z"
   },
   {
    "duration": 133,
    "start_time": "2023-12-05T15:28:27.349Z"
   },
   {
    "duration": 1315,
    "start_time": "2023-12-06T15:00:18.932Z"
   },
   {
    "duration": 17,
    "start_time": "2023-12-06T15:00:27.780Z"
   },
   {
    "duration": 1236,
    "start_time": "2023-12-06T15:03:30.696Z"
   },
   {
    "duration": 16,
    "start_time": "2023-12-06T15:04:16.095Z"
   },
   {
    "duration": 24,
    "start_time": "2023-12-06T15:07:25.223Z"
   },
   {
    "duration": 339,
    "start_time": "2023-12-06T15:08:21.797Z"
   },
   {
    "duration": 16,
    "start_time": "2023-12-06T15:08:32.574Z"
   },
   {
    "duration": 1131,
    "start_time": "2023-12-06T15:09:13.886Z"
   },
   {
    "duration": 127,
    "start_time": "2023-12-06T15:09:28.842Z"
   },
   {
    "duration": 15,
    "start_time": "2023-12-06T15:18:41.642Z"
   },
   {
    "duration": 126,
    "start_time": "2023-12-06T15:19:27.696Z"
   },
   {
    "duration": 23,
    "start_time": "2023-12-06T15:21:15.551Z"
   },
   {
    "duration": 7,
    "start_time": "2023-12-06T15:21:54.048Z"
   },
   {
    "duration": 7,
    "start_time": "2023-12-06T15:22:01.793Z"
   },
   {
    "duration": 7,
    "start_time": "2023-12-06T15:22:08.391Z"
   },
   {
    "duration": 22,
    "start_time": "2023-12-06T15:22:40.730Z"
   },
   {
    "duration": 113,
    "start_time": "2023-12-06T15:22:46.624Z"
   },
   {
    "duration": 176,
    "start_time": "2023-12-06T15:23:27.340Z"
   },
   {
    "duration": 111,
    "start_time": "2023-12-06T15:23:27.914Z"
   },
   {
    "duration": 53,
    "start_time": "2023-12-06T15:28:43.089Z"
   },
   {
    "duration": 36,
    "start_time": "2023-12-06T15:29:02.000Z"
   },
   {
    "duration": 32,
    "start_time": "2023-12-06T15:30:04.071Z"
   },
   {
    "duration": 144,
    "start_time": "2023-12-06T15:30:27.710Z"
   },
   {
    "duration": 392,
    "start_time": "2023-12-06T15:33:34.821Z"
   },
   {
    "duration": 49,
    "start_time": "2023-12-06T15:33:43.301Z"
   },
   {
    "duration": 26,
    "start_time": "2023-12-06T15:34:09.003Z"
   },
   {
    "duration": 301,
    "start_time": "2023-12-06T15:34:42.335Z"
   },
   {
    "duration": 21,
    "start_time": "2023-12-06T15:35:24.012Z"
   },
   {
    "duration": 221,
    "start_time": "2023-12-06T15:35:30.022Z"
   },
   {
    "duration": 215,
    "start_time": "2023-12-06T15:35:47.578Z"
   },
   {
    "duration": 236,
    "start_time": "2023-12-06T15:37:50.200Z"
   },
   {
    "duration": 217,
    "start_time": "2023-12-06T15:38:35.832Z"
   },
   {
    "duration": 217,
    "start_time": "2023-12-06T15:38:56.427Z"
   },
   {
    "duration": 215,
    "start_time": "2023-12-06T15:39:01.939Z"
   },
   {
    "duration": 8,
    "start_time": "2023-12-10T11:35:53.408Z"
   },
   {
    "duration": 4,
    "start_time": "2023-12-10T11:36:03.001Z"
   },
   {
    "duration": 29,
    "start_time": "2023-12-10T11:38:55.671Z"
   },
   {
    "duration": 15,
    "start_time": "2023-12-10T11:42:27.674Z"
   },
   {
    "duration": 1120,
    "start_time": "2023-12-10T11:43:12.082Z"
   },
   {
    "duration": 112,
    "start_time": "2023-12-10T11:43:46.099Z"
   },
   {
    "duration": 7,
    "start_time": "2023-12-10T11:45:21.817Z"
   },
   {
    "duration": 17,
    "start_time": "2023-12-10T11:45:54.286Z"
   },
   {
    "duration": 10,
    "start_time": "2023-12-10T11:47:06.358Z"
   },
   {
    "duration": 200,
    "start_time": "2023-12-10T11:47:52.355Z"
   },
   {
    "duration": 123,
    "start_time": "2023-12-10T11:48:19.225Z"
   },
   {
    "duration": 9,
    "start_time": "2023-12-10T11:50:07.090Z"
   },
   {
    "duration": 9,
    "start_time": "2023-12-10T11:50:37.481Z"
   },
   {
    "duration": 9,
    "start_time": "2023-12-10T11:50:55.106Z"
   },
   {
    "duration": 10,
    "start_time": "2023-12-10T11:51:03.502Z"
   },
   {
    "duration": 9,
    "start_time": "2023-12-10T11:51:23.466Z"
   },
   {
    "duration": 9,
    "start_time": "2023-12-10T11:51:49.145Z"
   },
   {
    "duration": 9,
    "start_time": "2023-12-10T11:54:28.601Z"
   },
   {
    "duration": 28,
    "start_time": "2023-12-10T11:55:00.587Z"
   },
   {
    "duration": 15,
    "start_time": "2023-12-10T11:55:26.812Z"
   },
   {
    "duration": 23,
    "start_time": "2023-12-10T11:55:40.332Z"
   },
   {
    "duration": 15,
    "start_time": "2023-12-10T12:02:24.099Z"
   },
   {
    "duration": 17,
    "start_time": "2023-12-10T12:02:49.993Z"
   },
   {
    "duration": 20,
    "start_time": "2023-12-10T12:03:25.955Z"
   },
   {
    "duration": 18,
    "start_time": "2023-12-10T12:03:41.829Z"
   },
   {
    "duration": 431,
    "start_time": "2023-12-10T12:04:03.637Z"
   },
   {
    "duration": 44,
    "start_time": "2023-12-10T12:04:04.070Z"
   },
   {
    "duration": 5,
    "start_time": "2023-12-10T12:04:04.116Z"
   },
   {
    "duration": 15,
    "start_time": "2023-12-10T12:04:04.122Z"
   },
   {
    "duration": 14,
    "start_time": "2023-12-10T12:04:04.139Z"
   },
   {
    "duration": 20,
    "start_time": "2023-12-10T12:04:04.154Z"
   },
   {
    "duration": 22,
    "start_time": "2023-12-10T12:04:04.175Z"
   },
   {
    "duration": 5,
    "start_time": "2023-12-10T12:04:04.198Z"
   },
   {
    "duration": 24,
    "start_time": "2023-12-10T12:04:04.204Z"
   },
   {
    "duration": 7,
    "start_time": "2023-12-10T12:04:04.229Z"
   },
   {
    "duration": 6,
    "start_time": "2023-12-10T12:04:04.238Z"
   },
   {
    "duration": 37,
    "start_time": "2023-12-10T12:04:04.245Z"
   },
   {
    "duration": 7,
    "start_time": "2023-12-10T12:04:04.283Z"
   },
   {
    "duration": 13,
    "start_time": "2023-12-10T12:04:04.293Z"
   },
   {
    "duration": 10,
    "start_time": "2023-12-10T12:04:04.308Z"
   },
   {
    "duration": 14,
    "start_time": "2023-12-10T12:04:04.319Z"
   },
   {
    "duration": 11,
    "start_time": "2023-12-10T12:04:04.334Z"
   },
   {
    "duration": 38,
    "start_time": "2023-12-10T12:04:04.347Z"
   },
   {
    "duration": 13,
    "start_time": "2023-12-10T12:04:04.387Z"
   },
   {
    "duration": 4,
    "start_time": "2023-12-10T12:04:04.401Z"
   },
   {
    "duration": 105,
    "start_time": "2023-12-10T12:04:04.406Z"
   },
   {
    "duration": 16,
    "start_time": "2023-12-10T12:04:04.513Z"
   },
   {
    "duration": 52,
    "start_time": "2023-12-10T12:04:04.531Z"
   },
   {
    "duration": 19,
    "start_time": "2023-12-10T12:04:04.584Z"
   },
   {
    "duration": 24,
    "start_time": "2023-12-10T12:04:04.605Z"
   },
   {
    "duration": 6,
    "start_time": "2023-12-10T12:04:04.630Z"
   },
   {
    "duration": 10,
    "start_time": "2023-12-10T12:04:04.637Z"
   },
   {
    "duration": 15,
    "start_time": "2023-12-10T12:04:04.648Z"
   },
   {
    "duration": 9,
    "start_time": "2023-12-10T12:04:04.682Z"
   },
   {
    "duration": 7,
    "start_time": "2023-12-10T12:04:04.693Z"
   },
   {
    "duration": 6,
    "start_time": "2023-12-10T12:04:04.701Z"
   },
   {
    "duration": 6,
    "start_time": "2023-12-10T12:04:04.708Z"
   },
   {
    "duration": 7,
    "start_time": "2023-12-10T12:04:04.715Z"
   },
   {
    "duration": 24,
    "start_time": "2023-12-10T12:04:04.723Z"
   },
   {
    "duration": 48,
    "start_time": "2023-12-10T12:04:04.748Z"
   },
   {
    "duration": 16,
    "start_time": "2023-12-10T12:04:04.798Z"
   },
   {
    "duration": 83,
    "start_time": "2023-12-10T12:04:04.816Z"
   },
   {
    "duration": 42,
    "start_time": "2023-12-10T12:04:04.901Z"
   },
   {
    "duration": 5,
    "start_time": "2023-12-10T12:04:04.944Z"
   },
   {
    "duration": 325,
    "start_time": "2023-12-10T12:04:04.950Z"
   },
   {
    "duration": 15,
    "start_time": "2023-12-10T12:04:05.281Z"
   },
   {
    "duration": 118,
    "start_time": "2023-12-10T12:04:05.297Z"
   },
   {
    "duration": 21,
    "start_time": "2023-12-10T12:04:05.417Z"
   },
   {
    "duration": 113,
    "start_time": "2023-12-10T12:04:05.440Z"
   },
   {
    "duration": 158,
    "start_time": "2023-12-10T12:04:05.555Z"
   },
   {
    "duration": 120,
    "start_time": "2023-12-10T12:04:05.715Z"
   },
   {
    "duration": 25,
    "start_time": "2023-12-10T12:04:05.837Z"
   },
   {
    "duration": 208,
    "start_time": "2023-12-10T12:04:05.864Z"
   },
   {
    "duration": 10,
    "start_time": "2023-12-10T12:04:06.073Z"
   },
   {
    "duration": 24,
    "start_time": "2023-12-10T12:04:06.084Z"
   },
   {
    "duration": 123,
    "start_time": "2023-12-10T12:04:06.109Z"
   },
   {
    "duration": 23,
    "start_time": "2023-12-10T12:04:06.233Z"
   },
   {
    "duration": 150,
    "start_time": "2023-12-10T12:04:06.257Z"
   },
   {
    "duration": 68,
    "start_time": "2023-12-10T12:07:05.050Z"
   },
   {
    "duration": 13,
    "start_time": "2023-12-10T12:07:11.019Z"
   },
   {
    "duration": 23,
    "start_time": "2023-12-10T12:07:45.182Z"
   },
   {
    "duration": 98,
    "start_time": "2023-12-10T12:08:07.817Z"
   },
   {
    "duration": 73,
    "start_time": "2023-12-10T12:08:29.092Z"
   },
   {
    "duration": 14,
    "start_time": "2023-12-10T12:08:35.748Z"
   },
   {
    "duration": 16,
    "start_time": "2023-12-10T12:09:19.116Z"
   },
   {
    "duration": 13,
    "start_time": "2023-12-10T12:09:24.329Z"
   },
   {
    "duration": 11,
    "start_time": "2023-12-10T12:09:42.139Z"
   },
   {
    "duration": 13,
    "start_time": "2023-12-10T12:10:02.866Z"
   },
   {
    "duration": 14,
    "start_time": "2023-12-10T12:10:13.638Z"
   },
   {
    "duration": 11,
    "start_time": "2023-12-10T12:13:13.329Z"
   },
   {
    "duration": 13,
    "start_time": "2023-12-10T12:16:22.840Z"
   },
   {
    "duration": 107,
    "start_time": "2023-12-10T12:16:45.257Z"
   },
   {
    "duration": 1189,
    "start_time": "2023-12-10T12:21:42.928Z"
   },
   {
    "duration": 114,
    "start_time": "2023-12-10T12:21:50.879Z"
   },
   {
    "duration": 627,
    "start_time": "2023-12-10T17:14:15.813Z"
   },
   {
    "duration": 78,
    "start_time": "2023-12-10T17:14:16.442Z"
   },
   {
    "duration": 5,
    "start_time": "2023-12-10T17:14:16.522Z"
   },
   {
    "duration": 24,
    "start_time": "2023-12-10T17:14:16.528Z"
   },
   {
    "duration": 19,
    "start_time": "2023-12-10T17:14:16.553Z"
   },
   {
    "duration": 20,
    "start_time": "2023-12-10T17:14:16.574Z"
   },
   {
    "duration": 23,
    "start_time": "2023-12-10T17:14:16.595Z"
   },
   {
    "duration": 4,
    "start_time": "2023-12-10T17:14:16.620Z"
   },
   {
    "duration": 53,
    "start_time": "2023-12-10T17:14:16.625Z"
   },
   {
    "duration": 7,
    "start_time": "2023-12-10T17:14:16.681Z"
   },
   {
    "duration": 11,
    "start_time": "2023-12-10T17:14:16.689Z"
   },
   {
    "duration": 16,
    "start_time": "2023-12-10T17:14:16.702Z"
   },
   {
    "duration": 6,
    "start_time": "2023-12-10T17:14:16.719Z"
   },
   {
    "duration": 16,
    "start_time": "2023-12-10T17:14:16.726Z"
   },
   {
    "duration": 26,
    "start_time": "2023-12-10T17:14:16.743Z"
   },
   {
    "duration": 17,
    "start_time": "2023-12-10T17:14:16.770Z"
   },
   {
    "duration": 11,
    "start_time": "2023-12-10T17:14:16.789Z"
   },
   {
    "duration": 7,
    "start_time": "2023-12-10T17:14:16.802Z"
   },
   {
    "duration": 17,
    "start_time": "2023-12-10T17:14:16.810Z"
   },
   {
    "duration": 5,
    "start_time": "2023-12-10T17:14:16.828Z"
   },
   {
    "duration": 114,
    "start_time": "2023-12-10T17:14:16.834Z"
   },
   {
    "duration": 25,
    "start_time": "2023-12-10T17:14:16.950Z"
   },
   {
    "duration": 42,
    "start_time": "2023-12-10T17:14:16.976Z"
   },
   {
    "duration": 18,
    "start_time": "2023-12-10T17:14:17.020Z"
   },
   {
    "duration": 44,
    "start_time": "2023-12-10T17:14:17.039Z"
   },
   {
    "duration": 6,
    "start_time": "2023-12-10T17:14:17.084Z"
   },
   {
    "duration": 6,
    "start_time": "2023-12-10T17:14:17.091Z"
   },
   {
    "duration": 11,
    "start_time": "2023-12-10T17:14:17.100Z"
   },
   {
    "duration": 9,
    "start_time": "2023-12-10T17:14:17.112Z"
   },
   {
    "duration": 4,
    "start_time": "2023-12-10T17:14:17.123Z"
   },
   {
    "duration": 36,
    "start_time": "2023-12-10T17:14:17.129Z"
   },
   {
    "duration": 5,
    "start_time": "2023-12-10T17:14:17.167Z"
   },
   {
    "duration": 12,
    "start_time": "2023-12-10T17:14:17.173Z"
   },
   {
    "duration": 25,
    "start_time": "2023-12-10T17:14:17.186Z"
   },
   {
    "duration": 16,
    "start_time": "2023-12-10T17:14:17.212Z"
   },
   {
    "duration": 46,
    "start_time": "2023-12-10T17:14:17.230Z"
   },
   {
    "duration": 88,
    "start_time": "2023-12-10T17:14:17.278Z"
   },
   {
    "duration": 30,
    "start_time": "2023-12-10T17:14:17.368Z"
   },
   {
    "duration": 6,
    "start_time": "2023-12-10T17:14:17.400Z"
   },
   {
    "duration": 377,
    "start_time": "2023-12-10T17:14:17.407Z"
   },
   {
    "duration": 16,
    "start_time": "2023-12-10T17:14:17.786Z"
   },
   {
    "duration": 131,
    "start_time": "2023-12-10T17:14:17.803Z"
   },
   {
    "duration": 30,
    "start_time": "2023-12-10T17:14:17.936Z"
   },
   {
    "duration": 123,
    "start_time": "2023-12-10T17:14:17.968Z"
   },
   {
    "duration": 151,
    "start_time": "2023-12-10T17:14:18.093Z"
   },
   {
    "duration": 124,
    "start_time": "2023-12-10T17:14:18.246Z"
   },
   {
    "duration": 20,
    "start_time": "2023-12-10T17:14:18.371Z"
   },
   {
    "duration": 215,
    "start_time": "2023-12-10T17:14:18.393Z"
   },
   {
    "duration": 5,
    "start_time": "2023-12-10T17:14:18.610Z"
   },
   {
    "duration": 35,
    "start_time": "2023-12-10T17:14:18.617Z"
   },
   {
    "duration": 130,
    "start_time": "2023-12-10T17:14:18.653Z"
   },
   {
    "duration": 120,
    "start_time": "2023-12-10T17:14:18.784Z"
   },
   {
    "duration": 12,
    "start_time": "2023-12-10T17:14:18.906Z"
   },
   {
    "duration": 32,
    "start_time": "2023-12-10T17:14:18.919Z"
   },
   {
    "duration": 124,
    "start_time": "2023-12-10T17:14:18.953Z"
   },
   {
    "duration": 131,
    "start_time": "2023-12-10T17:14:19.078Z"
   },
   {
    "duration": 624,
    "start_time": "2023-12-11T08:19:16.051Z"
   },
   {
    "duration": 89,
    "start_time": "2023-12-11T08:19:16.677Z"
   },
   {
    "duration": 6,
    "start_time": "2023-12-11T08:19:16.767Z"
   },
   {
    "duration": 19,
    "start_time": "2023-12-11T08:19:16.774Z"
   },
   {
    "duration": 13,
    "start_time": "2023-12-11T08:19:16.795Z"
   },
   {
    "duration": 20,
    "start_time": "2023-12-11T08:19:16.809Z"
   },
   {
    "duration": 22,
    "start_time": "2023-12-11T08:19:16.830Z"
   },
   {
    "duration": 4,
    "start_time": "2023-12-11T08:19:16.854Z"
   },
   {
    "duration": 44,
    "start_time": "2023-12-11T08:19:16.859Z"
   },
   {
    "duration": 7,
    "start_time": "2023-12-11T08:19:16.906Z"
   },
   {
    "duration": 6,
    "start_time": "2023-12-11T08:19:16.914Z"
   },
   {
    "duration": 23,
    "start_time": "2023-12-11T08:19:16.921Z"
   },
   {
    "duration": 6,
    "start_time": "2023-12-11T08:19:16.946Z"
   },
   {
    "duration": 18,
    "start_time": "2023-12-11T08:19:16.953Z"
   },
   {
    "duration": 19,
    "start_time": "2023-12-11T08:19:16.972Z"
   },
   {
    "duration": 14,
    "start_time": "2023-12-11T08:19:16.999Z"
   },
   {
    "duration": 10,
    "start_time": "2023-12-11T08:19:17.015Z"
   },
   {
    "duration": 6,
    "start_time": "2023-12-11T08:19:17.027Z"
   },
   {
    "duration": 24,
    "start_time": "2023-12-11T08:19:17.034Z"
   },
   {
    "duration": 4,
    "start_time": "2023-12-11T08:19:17.060Z"
   },
   {
    "duration": 108,
    "start_time": "2023-12-11T08:19:17.065Z"
   },
   {
    "duration": 26,
    "start_time": "2023-12-11T08:19:17.174Z"
   },
   {
    "duration": 44,
    "start_time": "2023-12-11T08:19:17.201Z"
   },
   {
    "duration": 20,
    "start_time": "2023-12-11T08:19:17.246Z"
   },
   {
    "duration": 42,
    "start_time": "2023-12-11T08:19:17.267Z"
   },
   {
    "duration": 5,
    "start_time": "2023-12-11T08:19:17.310Z"
   },
   {
    "duration": 15,
    "start_time": "2023-12-11T08:19:17.316Z"
   },
   {
    "duration": 5,
    "start_time": "2023-12-11T08:19:17.334Z"
   },
   {
    "duration": 8,
    "start_time": "2023-12-11T08:19:17.340Z"
   },
   {
    "duration": 4,
    "start_time": "2023-12-11T08:19:17.350Z"
   },
   {
    "duration": 5,
    "start_time": "2023-12-11T08:19:17.355Z"
   },
   {
    "duration": 9,
    "start_time": "2023-12-11T08:19:17.361Z"
   },
   {
    "duration": 30,
    "start_time": "2023-12-11T08:19:17.371Z"
   },
   {
    "duration": 25,
    "start_time": "2023-12-11T08:19:17.402Z"
   },
   {
    "duration": 16,
    "start_time": "2023-12-11T08:19:17.428Z"
   },
   {
    "duration": 14,
    "start_time": "2023-12-11T08:19:17.445Z"
   },
   {
    "duration": 104,
    "start_time": "2023-12-11T08:19:17.460Z"
   },
   {
    "duration": 39,
    "start_time": "2023-12-11T08:19:17.565Z"
   },
   {
    "duration": 5,
    "start_time": "2023-12-11T08:19:17.605Z"
   },
   {
    "duration": 466,
    "start_time": "2023-12-11T08:19:17.611Z"
   },
   {
    "duration": 29,
    "start_time": "2023-12-11T08:19:18.078Z"
   },
   {
    "duration": 107,
    "start_time": "2023-12-11T08:19:18.108Z"
   },
   {
    "duration": 22,
    "start_time": "2023-12-11T08:19:18.216Z"
   },
   {
    "duration": 176,
    "start_time": "2023-12-11T08:19:18.240Z"
   },
   {
    "duration": 110,
    "start_time": "2023-12-11T08:19:18.417Z"
   },
   {
    "duration": 119,
    "start_time": "2023-12-11T08:19:18.529Z"
   },
   {
    "duration": 21,
    "start_time": "2023-12-11T08:19:18.649Z"
   },
   {
    "duration": 221,
    "start_time": "2023-12-11T08:19:18.671Z"
   },
   {
    "duration": 7,
    "start_time": "2023-12-11T08:19:18.894Z"
   },
   {
    "duration": 20,
    "start_time": "2023-12-11T08:19:18.902Z"
   },
   {
    "duration": 126,
    "start_time": "2023-12-11T08:19:18.924Z"
   },
   {
    "duration": 113,
    "start_time": "2023-12-11T08:19:19.052Z"
   },
   {
    "duration": 12,
    "start_time": "2023-12-11T08:19:19.167Z"
   },
   {
    "duration": 25,
    "start_time": "2023-12-11T08:19:19.181Z"
   },
   {
    "duration": 114,
    "start_time": "2023-12-11T08:19:19.207Z"
   },
   {
    "duration": 116,
    "start_time": "2023-12-11T08:19:19.322Z"
   },
   {
    "duration": 50,
    "start_time": "2023-12-11T11:52:35.513Z"
   },
   {
    "duration": 6,
    "start_time": "2023-12-11T11:52:36.103Z"
   },
   {
    "duration": 5,
    "start_time": "2023-12-11T11:52:54.192Z"
   },
   {
    "duration": 662,
    "start_time": "2023-12-11T11:53:01.368Z"
   },
   {
    "duration": 103,
    "start_time": "2023-12-11T11:53:02.982Z"
   },
   {
    "duration": 19,
    "start_time": "2023-12-11T11:53:05.097Z"
   },
   {
    "duration": 8,
    "start_time": "2023-12-11T11:53:06.299Z"
   },
   {
    "duration": 101,
    "start_time": "2023-12-11T11:56:14.256Z"
   },
   {
    "duration": 44,
    "start_time": "2023-12-11T11:56:14.359Z"
   },
   {
    "duration": 15,
    "start_time": "2023-12-11T11:56:14.404Z"
   },
   {
    "duration": 14,
    "start_time": "2023-12-11T11:56:14.421Z"
   },
   {
    "duration": 17,
    "start_time": "2023-12-11T11:56:14.436Z"
   },
   {
    "duration": 32,
    "start_time": "2023-12-11T11:56:14.455Z"
   },
   {
    "duration": 15,
    "start_time": "2023-12-11T11:56:14.489Z"
   },
   {
    "duration": 16,
    "start_time": "2023-12-11T11:56:14.506Z"
   },
   {
    "duration": 36,
    "start_time": "2023-12-11T11:56:14.523Z"
   },
   {
    "duration": 5,
    "start_time": "2023-12-11T11:56:14.561Z"
   },
   {
    "duration": 24,
    "start_time": "2023-12-11T11:56:14.567Z"
   },
   {
    "duration": 8,
    "start_time": "2023-12-11T11:56:14.592Z"
   },
   {
    "duration": 27,
    "start_time": "2023-12-11T11:56:14.601Z"
   },
   {
    "duration": 17,
    "start_time": "2023-12-11T11:56:14.630Z"
   },
   {
    "duration": 3,
    "start_time": "2023-12-11T11:56:17.854Z"
   },
   {
    "duration": 416,
    "start_time": "2023-12-11T11:56:18.964Z"
   },
   {
    "duration": 8,
    "start_time": "2023-12-11T11:56:55.800Z"
   },
   {
    "duration": 5,
    "start_time": "2023-12-11T11:57:05.758Z"
   },
   {
    "duration": 5,
    "start_time": "2023-12-11T11:57:43.143Z"
   },
   {
    "duration": 5,
    "start_time": "2023-12-11T11:57:47.097Z"
   },
   {
    "duration": 7,
    "start_time": "2023-12-11T11:58:19.071Z"
   },
   {
    "duration": 6,
    "start_time": "2023-12-11T11:58:21.685Z"
   },
   {
    "duration": 104,
    "start_time": "2023-12-11T12:00:37.970Z"
   },
   {
    "duration": 42,
    "start_time": "2023-12-11T12:00:38.075Z"
   },
   {
    "duration": 14,
    "start_time": "2023-12-11T12:00:38.119Z"
   },
   {
    "duration": 35,
    "start_time": "2023-12-11T12:00:38.134Z"
   },
   {
    "duration": 9,
    "start_time": "2023-12-11T12:00:38.170Z"
   },
   {
    "duration": 15,
    "start_time": "2023-12-11T12:00:38.181Z"
   },
   {
    "duration": 15,
    "start_time": "2023-12-11T12:00:38.198Z"
   },
   {
    "duration": 22,
    "start_time": "2023-12-11T12:00:38.215Z"
   },
   {
    "duration": 27,
    "start_time": "2023-12-11T12:00:38.239Z"
   },
   {
    "duration": 5,
    "start_time": "2023-12-11T12:00:38.268Z"
   },
   {
    "duration": 34,
    "start_time": "2023-12-11T12:00:38.275Z"
   },
   {
    "duration": 10,
    "start_time": "2023-12-11T12:00:38.311Z"
   },
   {
    "duration": 5,
    "start_time": "2023-12-11T12:00:38.330Z"
   },
   {
    "duration": 9,
    "start_time": "2023-12-11T12:00:38.336Z"
   },
   {
    "duration": 8,
    "start_time": "2023-12-11T12:00:38.347Z"
   },
   {
    "duration": 18,
    "start_time": "2023-12-11T12:00:38.357Z"
   },
   {
    "duration": 19,
    "start_time": "2023-12-11T12:00:38.377Z"
   },
   {
    "duration": 17,
    "start_time": "2023-12-11T12:00:38.398Z"
   },
   {
    "duration": 39,
    "start_time": "2023-12-11T12:00:38.417Z"
   },
   {
    "duration": 12,
    "start_time": "2023-12-11T12:00:38.458Z"
   },
   {
    "duration": 35,
    "start_time": "2023-12-11T12:00:38.472Z"
   },
   {
    "duration": 32,
    "start_time": "2023-12-11T12:00:38.508Z"
   },
   {
    "duration": 17,
    "start_time": "2023-12-11T12:00:41.557Z"
   },
   {
    "duration": 106,
    "start_time": "2023-12-11T12:04:29.972Z"
   },
   {
    "duration": 43,
    "start_time": "2023-12-11T12:04:30.079Z"
   },
   {
    "duration": 15,
    "start_time": "2023-12-11T12:04:30.124Z"
   },
   {
    "duration": 69,
    "start_time": "2023-12-11T12:04:30.142Z"
   },
   {
    "duration": 42,
    "start_time": "2023-12-11T12:04:30.213Z"
   },
   {
    "duration": 137,
    "start_time": "2023-12-11T12:04:30.256Z"
   },
   {
    "duration": 59,
    "start_time": "2023-12-11T12:04:30.395Z"
   },
   {
    "duration": 62,
    "start_time": "2023-12-11T12:04:30.456Z"
   },
   {
    "duration": 82,
    "start_time": "2023-12-11T12:04:30.520Z"
   },
   {
    "duration": 38,
    "start_time": "2023-12-11T12:04:30.605Z"
   },
   {
    "duration": 73,
    "start_time": "2023-12-11T12:04:30.644Z"
   },
   {
    "duration": 35,
    "start_time": "2023-12-11T12:04:30.719Z"
   },
   {
    "duration": 44,
    "start_time": "2023-12-11T12:04:30.756Z"
   },
   {
    "duration": 56,
    "start_time": "2023-12-11T12:04:30.801Z"
   },
   {
    "duration": 63,
    "start_time": "2023-12-11T12:04:30.859Z"
   },
   {
    "duration": 68,
    "start_time": "2023-12-11T12:04:30.924Z"
   },
   {
    "duration": 70,
    "start_time": "2023-12-11T12:04:30.993Z"
   },
   {
    "duration": 104,
    "start_time": "2023-12-11T12:04:31.065Z"
   },
   {
    "duration": 95,
    "start_time": "2023-12-11T12:04:31.171Z"
   },
   {
    "duration": 125,
    "start_time": "2023-12-11T12:04:31.267Z"
   },
   {
    "duration": 115,
    "start_time": "2023-12-11T12:04:31.394Z"
   },
   {
    "duration": 138,
    "start_time": "2023-12-11T12:04:31.511Z"
   },
   {
    "duration": 14,
    "start_time": "2023-12-11T12:04:32.906Z"
   },
   {
    "duration": 3,
    "start_time": "2023-12-11T12:04:36.930Z"
   },
   {
    "duration": 88,
    "start_time": "2023-12-11T12:04:43.625Z"
   },
   {
    "duration": 3,
    "start_time": "2023-12-11T12:04:50.350Z"
   },
   {
    "duration": 2,
    "start_time": "2023-12-11T12:04:52.965Z"
   },
   {
    "duration": 3,
    "start_time": "2023-12-11T12:05:34.816Z"
   },
   {
    "duration": 16,
    "start_time": "2023-12-11T12:06:25.274Z"
   },
   {
    "duration": 17,
    "start_time": "2023-12-11T12:06:46.723Z"
   },
   {
    "duration": 8,
    "start_time": "2023-12-11T12:07:32.781Z"
   },
   {
    "duration": 32,
    "start_time": "2023-12-11T12:07:39.533Z"
   },
   {
    "duration": 103,
    "start_time": "2023-12-11T12:09:12.611Z"
   },
   {
    "duration": 43,
    "start_time": "2023-12-11T12:09:12.716Z"
   },
   {
    "duration": 14,
    "start_time": "2023-12-11T12:09:12.761Z"
   },
   {
    "duration": 8,
    "start_time": "2023-12-11T12:09:12.777Z"
   },
   {
    "duration": 7,
    "start_time": "2023-12-11T12:09:12.787Z"
   },
   {
    "duration": 14,
    "start_time": "2023-12-11T12:09:12.795Z"
   },
   {
    "duration": 22,
    "start_time": "2023-12-11T12:09:12.811Z"
   },
   {
    "duration": 14,
    "start_time": "2023-12-11T12:09:12.835Z"
   },
   {
    "duration": 23,
    "start_time": "2023-12-11T12:09:12.852Z"
   },
   {
    "duration": 6,
    "start_time": "2023-12-11T12:09:12.878Z"
   },
   {
    "duration": 51,
    "start_time": "2023-12-11T12:09:12.885Z"
   },
   {
    "duration": 7,
    "start_time": "2023-12-11T12:09:12.938Z"
   },
   {
    "duration": 16,
    "start_time": "2023-12-11T12:09:12.946Z"
   },
   {
    "duration": 13,
    "start_time": "2023-12-11T12:09:12.963Z"
   },
   {
    "duration": 6,
    "start_time": "2023-12-11T12:09:12.978Z"
   },
   {
    "duration": 7,
    "start_time": "2023-12-11T12:09:12.986Z"
   },
   {
    "duration": 17,
    "start_time": "2023-12-11T12:09:12.995Z"
   },
   {
    "duration": 21,
    "start_time": "2023-12-11T12:09:13.014Z"
   },
   {
    "duration": 16,
    "start_time": "2023-12-11T12:09:13.036Z"
   },
   {
    "duration": 2,
    "start_time": "2023-12-11T12:09:13.054Z"
   },
   {
    "duration": 12,
    "start_time": "2023-12-11T12:09:13.058Z"
   },
   {
    "duration": 14,
    "start_time": "2023-12-11T12:09:13.071Z"
   },
   {
    "duration": 2,
    "start_time": "2023-12-11T12:09:13.086Z"
   },
   {
    "duration": 119,
    "start_time": "2023-12-11T12:09:13.090Z"
   },
   {
    "duration": 3,
    "start_time": "2023-12-11T12:09:13.211Z"
   },
   {
    "duration": 2,
    "start_time": "2023-12-11T12:09:16.365Z"
   },
   {
    "duration": 5,
    "start_time": "2023-12-11T12:09:16.961Z"
   },
   {
    "duration": 33,
    "start_time": "2023-12-11T12:09:20.575Z"
   },
   {
    "duration": 15,
    "start_time": "2023-12-11T12:14:12.118Z"
   },
   {
    "duration": 18,
    "start_time": "2023-12-11T12:14:41.352Z"
   },
   {
    "duration": 22,
    "start_time": "2023-12-11T12:14:51.941Z"
   },
   {
    "duration": 13,
    "start_time": "2023-12-11T12:15:09.526Z"
   },
   {
    "duration": 14,
    "start_time": "2023-12-11T12:15:18.460Z"
   },
   {
    "duration": 18,
    "start_time": "2023-12-11T12:15:43.568Z"
   },
   {
    "duration": 900,
    "start_time": "2023-12-11T12:16:18.964Z"
   },
   {
    "duration": 814,
    "start_time": "2023-12-11T12:16:30.686Z"
   },
   {
    "duration": 7,
    "start_time": "2023-12-11T12:17:01.273Z"
   },
   {
    "duration": 16,
    "start_time": "2023-12-11T12:17:16.632Z"
   },
   {
    "duration": 18,
    "start_time": "2023-12-11T12:19:08.549Z"
   },
   {
    "duration": 9,
    "start_time": "2023-12-11T13:38:59.771Z"
   },
   {
    "duration": 10,
    "start_time": "2023-12-11T13:44:21.197Z"
   },
   {
    "duration": 11,
    "start_time": "2023-12-11T13:44:38.564Z"
   },
   {
    "duration": 3164,
    "start_time": "2023-12-11T14:13:03.351Z"
   },
   {
    "duration": 120,
    "start_time": "2023-12-11T14:15:24.777Z"
   },
   {
    "duration": 44,
    "start_time": "2023-12-11T14:15:24.899Z"
   },
   {
    "duration": 15,
    "start_time": "2023-12-11T14:15:24.945Z"
   },
   {
    "duration": 26,
    "start_time": "2023-12-11T14:15:24.963Z"
   },
   {
    "duration": 20,
    "start_time": "2023-12-11T14:15:24.991Z"
   },
   {
    "duration": 25,
    "start_time": "2023-12-11T14:15:25.013Z"
   },
   {
    "duration": 37,
    "start_time": "2023-12-11T14:15:25.040Z"
   },
   {
    "duration": 17,
    "start_time": "2023-12-11T14:15:25.080Z"
   },
   {
    "duration": 53,
    "start_time": "2023-12-11T14:15:25.100Z"
   },
   {
    "duration": 5,
    "start_time": "2023-12-11T14:15:25.156Z"
   },
   {
    "duration": 30,
    "start_time": "2023-12-11T14:15:25.163Z"
   },
   {
    "duration": 9,
    "start_time": "2023-12-11T14:15:25.195Z"
   },
   {
    "duration": 26,
    "start_time": "2023-12-11T14:15:25.206Z"
   },
   {
    "duration": 27,
    "start_time": "2023-12-11T14:15:25.234Z"
   },
   {
    "duration": 11,
    "start_time": "2023-12-11T14:15:25.263Z"
   },
   {
    "duration": 13,
    "start_time": "2023-12-11T14:15:25.275Z"
   },
   {
    "duration": 18,
    "start_time": "2023-12-11T14:15:25.290Z"
   },
   {
    "duration": 42,
    "start_time": "2023-12-11T14:15:25.310Z"
   },
   {
    "duration": 22,
    "start_time": "2023-12-11T14:15:25.355Z"
   },
   {
    "duration": 3,
    "start_time": "2023-12-11T14:15:25.379Z"
   },
   {
    "duration": 10,
    "start_time": "2023-12-11T14:15:25.384Z"
   },
   {
    "duration": 16,
    "start_time": "2023-12-11T14:15:25.395Z"
   },
   {
    "duration": 2,
    "start_time": "2023-12-11T14:15:25.413Z"
   },
   {
    "duration": 252,
    "start_time": "2023-12-11T14:15:25.431Z"
   },
   {
    "duration": 2,
    "start_time": "2023-12-11T14:15:25.685Z"
   },
   {
    "duration": 9,
    "start_time": "2023-12-11T14:15:25.689Z"
   },
   {
    "duration": 49,
    "start_time": "2023-12-11T14:15:25.699Z"
   },
   {
    "duration": 19,
    "start_time": "2023-12-11T14:15:25.751Z"
   },
   {
    "duration": 24,
    "start_time": "2023-12-11T14:15:25.772Z"
   },
   {
    "duration": 36,
    "start_time": "2023-12-11T14:15:25.797Z"
   },
   {
    "duration": 15,
    "start_time": "2023-12-11T14:15:25.835Z"
   },
   {
    "duration": 10,
    "start_time": "2023-12-11T14:15:25.852Z"
   },
   {
    "duration": 20,
    "start_time": "2023-12-11T14:15:25.864Z"
   },
   {
    "duration": 3380,
    "start_time": "2023-12-11T14:15:25.886Z"
   },
   {
    "duration": 3268,
    "start_time": "2023-12-11T14:15:46.402Z"
   },
   {
    "duration": 154,
    "start_time": "2023-12-11T14:17:08.569Z"
   },
   {
    "duration": 8,
    "start_time": "2023-12-11T14:17:13.501Z"
   },
   {
    "duration": 111,
    "start_time": "2023-12-11T14:19:59.491Z"
   },
   {
    "duration": 44,
    "start_time": "2023-12-11T14:19:59.604Z"
   },
   {
    "duration": 15,
    "start_time": "2023-12-11T14:19:59.650Z"
   },
   {
    "duration": 12,
    "start_time": "2023-12-11T14:19:59.667Z"
   },
   {
    "duration": 21,
    "start_time": "2023-12-11T14:19:59.681Z"
   },
   {
    "duration": 32,
    "start_time": "2023-12-11T14:19:59.704Z"
   },
   {
    "duration": 16,
    "start_time": "2023-12-11T14:19:59.739Z"
   },
   {
    "duration": 16,
    "start_time": "2023-12-11T14:19:59.757Z"
   },
   {
    "duration": 26,
    "start_time": "2023-12-11T14:19:59.775Z"
   },
   {
    "duration": 5,
    "start_time": "2023-12-11T14:19:59.830Z"
   },
   {
    "duration": 24,
    "start_time": "2023-12-11T14:19:59.837Z"
   },
   {
    "duration": 8,
    "start_time": "2023-12-11T14:19:59.862Z"
   },
   {
    "duration": 8,
    "start_time": "2023-12-11T14:19:59.871Z"
   },
   {
    "duration": 4,
    "start_time": "2023-12-11T14:19:59.880Z"
   },
   {
    "duration": 8,
    "start_time": "2023-12-11T14:19:59.886Z"
   },
   {
    "duration": 38,
    "start_time": "2023-12-11T14:19:59.896Z"
   },
   {
    "duration": 22,
    "start_time": "2023-12-11T14:19:59.935Z"
   },
   {
    "duration": 13,
    "start_time": "2023-12-11T14:19:59.959Z"
   },
   {
    "duration": 18,
    "start_time": "2023-12-11T14:19:59.973Z"
   },
   {
    "duration": 3,
    "start_time": "2023-12-11T14:19:59.992Z"
   },
   {
    "duration": 11,
    "start_time": "2023-12-11T14:19:59.996Z"
   },
   {
    "duration": 75,
    "start_time": "2023-12-11T14:20:00.032Z"
   },
   {
    "duration": 22,
    "start_time": "2023-12-11T14:20:00.109Z"
   },
   {
    "duration": 234,
    "start_time": "2023-12-11T14:20:00.133Z"
   },
   {
    "duration": 2,
    "start_time": "2023-12-11T14:20:00.370Z"
   },
   {
    "duration": 151,
    "start_time": "2023-12-11T14:20:00.374Z"
   },
   {
    "duration": 175,
    "start_time": "2023-12-11T14:20:00.527Z"
   },
   {
    "duration": 112,
    "start_time": "2023-12-11T14:20:00.706Z"
   },
   {
    "duration": 106,
    "start_time": "2023-12-11T14:20:00.820Z"
   },
   {
    "duration": 117,
    "start_time": "2023-12-11T14:20:00.928Z"
   },
   {
    "duration": 65,
    "start_time": "2023-12-11T14:20:01.048Z"
   },
   {
    "duration": 44,
    "start_time": "2023-12-11T14:20:01.115Z"
   },
   {
    "duration": 203,
    "start_time": "2023-12-11T14:20:01.161Z"
   },
   {
    "duration": 96,
    "start_time": "2023-12-11T14:20:01.366Z"
   },
   {
    "duration": 121,
    "start_time": "2023-12-11T14:20:01.463Z"
   },
   {
    "duration": 199,
    "start_time": "2023-12-11T14:20:01.587Z"
   },
   {
    "duration": 141,
    "start_time": "2023-12-11T14:20:01.787Z"
   },
   {
    "duration": 48,
    "start_time": "2023-12-11T14:20:01.930Z"
   },
   {
    "duration": 15524,
    "start_time": "2023-12-11T14:20:01.980Z"
   },
   {
    "duration": 15712,
    "start_time": "2023-12-11T14:26:26.791Z"
   },
   {
    "duration": 27534,
    "start_time": "2023-12-11T14:26:57.541Z"
   },
   {
    "duration": 9,
    "start_time": "2023-12-11T14:27:28.903Z"
   },
   {
    "duration": 28,
    "start_time": "2023-12-11T14:28:06.761Z"
   },
   {
    "duration": 8,
    "start_time": "2023-12-11T15:00:50.664Z"
   },
   {
    "duration": 136,
    "start_time": "2023-12-11T15:01:01.020Z"
   },
   {
    "duration": 51,
    "start_time": "2023-12-11T15:01:01.159Z"
   },
   {
    "duration": 18,
    "start_time": "2023-12-11T15:01:01.213Z"
   },
   {
    "duration": 46,
    "start_time": "2023-12-11T15:01:01.233Z"
   },
   {
    "duration": 62,
    "start_time": "2023-12-11T15:01:01.280Z"
   },
   {
    "duration": 89,
    "start_time": "2023-12-11T15:01:01.343Z"
   },
   {
    "duration": 70,
    "start_time": "2023-12-11T15:01:01.434Z"
   },
   {
    "duration": 57,
    "start_time": "2023-12-11T15:01:01.505Z"
   },
   {
    "duration": 68,
    "start_time": "2023-12-11T15:01:01.563Z"
   },
   {
    "duration": 36,
    "start_time": "2023-12-11T15:01:01.634Z"
   },
   {
    "duration": 70,
    "start_time": "2023-12-11T15:01:01.672Z"
   },
   {
    "duration": 31,
    "start_time": "2023-12-11T15:01:01.744Z"
   },
   {
    "duration": 107,
    "start_time": "2023-12-11T15:01:01.777Z"
   },
   {
    "duration": 71,
    "start_time": "2023-12-11T15:01:01.886Z"
   },
   {
    "duration": 40,
    "start_time": "2023-12-11T15:01:01.959Z"
   },
   {
    "duration": 46,
    "start_time": "2023-12-11T15:01:02.001Z"
   },
   {
    "duration": 71,
    "start_time": "2023-12-11T15:01:02.049Z"
   },
   {
    "duration": 72,
    "start_time": "2023-12-11T15:01:02.122Z"
   },
   {
    "duration": 41,
    "start_time": "2023-12-11T15:01:02.196Z"
   },
   {
    "duration": 11,
    "start_time": "2023-12-11T15:01:02.239Z"
   },
   {
    "duration": 48,
    "start_time": "2023-12-11T15:01:02.252Z"
   },
   {
    "duration": 58,
    "start_time": "2023-12-11T15:01:02.302Z"
   },
   {
    "duration": 25,
    "start_time": "2023-12-11T15:01:02.362Z"
   },
   {
    "duration": 193,
    "start_time": "2023-12-11T15:01:02.389Z"
   },
   {
    "duration": 2,
    "start_time": "2023-12-11T15:01:02.584Z"
   },
   {
    "duration": 85,
    "start_time": "2023-12-11T15:01:02.587Z"
   },
   {
    "duration": 65,
    "start_time": "2023-12-11T15:01:02.673Z"
   },
   {
    "duration": 16,
    "start_time": "2023-12-11T15:01:02.742Z"
   },
   {
    "duration": 22,
    "start_time": "2023-12-11T15:01:02.760Z"
   },
   {
    "duration": 18,
    "start_time": "2023-12-11T15:01:02.783Z"
   },
   {
    "duration": 28,
    "start_time": "2023-12-11T15:01:02.803Z"
   },
   {
    "duration": 6,
    "start_time": "2023-12-11T15:01:02.832Z"
   },
   {
    "duration": 32,
    "start_time": "2023-12-11T15:01:02.839Z"
   },
   {
    "duration": 13,
    "start_time": "2023-12-11T15:01:02.873Z"
   },
   {
    "duration": 6,
    "start_time": "2023-12-11T15:01:02.887Z"
   },
   {
    "duration": 10,
    "start_time": "2023-12-11T15:01:02.894Z"
   },
   {
    "duration": 15,
    "start_time": "2023-12-11T15:01:02.906Z"
   },
   {
    "duration": 14,
    "start_time": "2023-12-11T15:01:02.922Z"
   },
   {
    "duration": 27629,
    "start_time": "2023-12-11T15:01:02.937Z"
   },
   {
    "duration": 8,
    "start_time": "2023-12-11T15:01:30.567Z"
   },
   {
    "duration": 41,
    "start_time": "2023-12-11T15:01:30.576Z"
   },
   {
    "duration": 28,
    "start_time": "2023-12-11T15:01:30.618Z"
   },
   {
    "duration": 58,
    "start_time": "2023-12-11T15:01:30.648Z"
   },
   {
    "duration": 44,
    "start_time": "2023-12-11T15:01:30.707Z"
   },
   {
    "duration": 36,
    "start_time": "2023-12-11T15:01:30.753Z"
   },
   {
    "duration": 50,
    "start_time": "2023-12-11T15:01:30.791Z"
   },
   {
    "duration": 5,
    "start_time": "2023-12-11T15:01:30.843Z"
   },
   {
    "duration": 560,
    "start_time": "2023-12-11T15:01:30.850Z"
   },
   {
    "duration": 28,
    "start_time": "2023-12-11T15:01:31.412Z"
   },
   {
    "duration": 253,
    "start_time": "2023-12-11T15:01:31.442Z"
   },
   {
    "duration": 33,
    "start_time": "2023-12-11T15:01:31.697Z"
   },
   {
    "duration": 122,
    "start_time": "2023-12-11T15:01:31.732Z"
   },
   {
    "duration": 122,
    "start_time": "2023-12-11T15:01:36.134Z"
   },
   {
    "duration": 780,
    "start_time": "2023-12-11T15:01:38.227Z"
   },
   {
    "duration": 3,
    "start_time": "2023-12-11T15:02:07.996Z"
   },
   {
    "duration": 11,
    "start_time": "2023-12-11T15:03:41.919Z"
   },
   {
    "duration": 8,
    "start_time": "2023-12-11T15:03:50.073Z"
   },
   {
    "duration": 10,
    "start_time": "2023-12-11T15:04:03.682Z"
   },
   {
    "duration": 8,
    "start_time": "2023-12-11T15:04:37.302Z"
   },
   {
    "duration": 10,
    "start_time": "2023-12-11T15:04:49.404Z"
   },
   {
    "duration": 8,
    "start_time": "2023-12-11T15:04:57.293Z"
   },
   {
    "duration": 7,
    "start_time": "2023-12-11T15:05:11.068Z"
   },
   {
    "duration": 7,
    "start_time": "2023-12-11T15:05:26.872Z"
   },
   {
    "duration": 9,
    "start_time": "2023-12-11T15:06:02.981Z"
   },
   {
    "duration": 8,
    "start_time": "2023-12-11T15:06:19.722Z"
   },
   {
    "duration": 10,
    "start_time": "2023-12-11T15:06:35.976Z"
   },
   {
    "duration": 6,
    "start_time": "2023-12-11T15:08:39.755Z"
   },
   {
    "duration": 9,
    "start_time": "2023-12-11T15:08:48.534Z"
   },
   {
    "duration": 8,
    "start_time": "2023-12-11T15:08:59.112Z"
   },
   {
    "duration": 8,
    "start_time": "2023-12-11T15:09:18.245Z"
   },
   {
    "duration": 8,
    "start_time": "2023-12-11T15:09:52.463Z"
   },
   {
    "duration": 8,
    "start_time": "2023-12-11T15:10:06.083Z"
   },
   {
    "duration": 10,
    "start_time": "2023-12-11T15:10:19.870Z"
   },
   {
    "duration": 6,
    "start_time": "2023-12-11T15:11:10.429Z"
   },
   {
    "duration": 7,
    "start_time": "2023-12-11T15:11:27.176Z"
   },
   {
    "duration": 6,
    "start_time": "2023-12-11T15:11:44.790Z"
   },
   {
    "duration": 6,
    "start_time": "2023-12-11T15:12:00.926Z"
   },
   {
    "duration": 7,
    "start_time": "2023-12-11T15:12:48.109Z"
   },
   {
    "duration": 7,
    "start_time": "2023-12-11T15:13:11.823Z"
   },
   {
    "duration": 765,
    "start_time": "2023-12-11T15:15:50.531Z"
   },
   {
    "duration": 146,
    "start_time": "2023-12-11T15:16:18.429Z"
   },
   {
    "duration": 27,
    "start_time": "2023-12-11T15:18:18.798Z"
   },
   {
    "duration": 125,
    "start_time": "2023-12-11T15:18:31.249Z"
   },
   {
    "duration": 8,
    "start_time": "2023-12-11T15:18:35.760Z"
   },
   {
    "duration": 111,
    "start_time": "2023-12-11T15:18:41.880Z"
   },
   {
    "duration": 115,
    "start_time": "2023-12-11T15:18:43.040Z"
   },
   {
    "duration": 146,
    "start_time": "2023-12-11T15:18:44.137Z"
   },
   {
    "duration": 50,
    "start_time": "2023-12-11T15:19:49.772Z"
   },
   {
    "duration": 138,
    "start_time": "2023-12-11T15:19:55.138Z"
   },
   {
    "duration": 209,
    "start_time": "2023-12-11T15:20:46.354Z"
   },
   {
    "duration": 32,
    "start_time": "2023-12-11T15:21:11.711Z"
   },
   {
    "duration": 33,
    "start_time": "2023-12-11T15:21:27.425Z"
   },
   {
    "duration": 33,
    "start_time": "2023-12-11T15:21:45.497Z"
   },
   {
    "duration": 30,
    "start_time": "2023-12-11T15:22:40.275Z"
   },
   {
    "duration": 175,
    "start_time": "2023-12-11T15:23:13.373Z"
   },
   {
    "duration": 157,
    "start_time": "2023-12-11T15:23:28.913Z"
   },
   {
    "duration": 223,
    "start_time": "2023-12-11T15:23:34.912Z"
   },
   {
    "duration": 32,
    "start_time": "2023-12-11T15:24:29.068Z"
   },
   {
    "duration": 33,
    "start_time": "2023-12-11T15:26:18.384Z"
   },
   {
    "duration": 33,
    "start_time": "2023-12-11T15:30:22.523Z"
   },
   {
    "duration": 30,
    "start_time": "2023-12-11T15:30:59.808Z"
   },
   {
    "duration": 27,
    "start_time": "2023-12-11T15:35:12.841Z"
   },
   {
    "duration": 1002,
    "start_time": "2023-12-11T15:35:25.686Z"
   },
   {
    "duration": 134,
    "start_time": "2023-12-11T15:35:46.836Z"
   },
   {
    "duration": 10,
    "start_time": "2023-12-11T15:37:03.800Z"
   },
   {
    "duration": 13,
    "start_time": "2023-12-11T15:37:28.371Z"
   },
   {
    "duration": 12,
    "start_time": "2023-12-11T15:38:10.139Z"
   },
   {
    "duration": 143,
    "start_time": "2023-12-11T15:38:34.965Z"
   },
   {
    "duration": 99,
    "start_time": "2023-12-11T15:40:44.435Z"
   },
   {
    "duration": 34,
    "start_time": "2023-12-11T15:43:38.664Z"
   },
   {
    "duration": 31,
    "start_time": "2023-12-11T15:43:51.375Z"
   },
   {
    "duration": 34,
    "start_time": "2023-12-11T15:43:59.672Z"
   },
   {
    "duration": 212,
    "start_time": "2023-12-11T15:44:06.572Z"
   },
   {
    "duration": 8,
    "start_time": "2023-12-11T15:44:07.884Z"
   },
   {
    "duration": 123,
    "start_time": "2023-12-11T15:44:11.674Z"
   },
   {
    "duration": 115,
    "start_time": "2023-12-11T15:44:15.585Z"
   },
   {
    "duration": 174,
    "start_time": "2023-12-11T15:44:25.214Z"
   },
   {
    "duration": 102,
    "start_time": "2023-12-11T15:44:26.386Z"
   },
   {
    "duration": 524,
    "start_time": "2023-12-11T15:49:18.600Z"
   },
   {
    "duration": 42,
    "start_time": "2023-12-11T15:49:19.126Z"
   },
   {
    "duration": 20,
    "start_time": "2023-12-11T15:49:19.170Z"
   },
   {
    "duration": 17,
    "start_time": "2023-12-11T15:49:19.192Z"
   },
   {
    "duration": 23,
    "start_time": "2023-12-11T15:49:19.211Z"
   },
   {
    "duration": 41,
    "start_time": "2023-12-11T15:49:19.236Z"
   },
   {
    "duration": 47,
    "start_time": "2023-12-11T15:49:19.279Z"
   },
   {
    "duration": 22,
    "start_time": "2023-12-11T15:49:19.327Z"
   },
   {
    "duration": 34,
    "start_time": "2023-12-11T15:49:19.351Z"
   },
   {
    "duration": 5,
    "start_time": "2023-12-11T15:49:19.388Z"
   },
   {
    "duration": 42,
    "start_time": "2023-12-11T15:49:19.395Z"
   },
   {
    "duration": 37,
    "start_time": "2023-12-11T15:49:19.439Z"
   },
   {
    "duration": 5,
    "start_time": "2023-12-11T15:49:19.478Z"
   },
   {
    "duration": 8,
    "start_time": "2023-12-11T15:49:19.485Z"
   },
   {
    "duration": 9,
    "start_time": "2023-12-11T15:49:19.494Z"
   },
   {
    "duration": 10,
    "start_time": "2023-12-11T15:49:19.504Z"
   },
   {
    "duration": 16,
    "start_time": "2023-12-11T15:49:19.516Z"
   },
   {
    "duration": 22,
    "start_time": "2023-12-11T15:49:19.534Z"
   },
   {
    "duration": 19,
    "start_time": "2023-12-11T15:49:19.558Z"
   },
   {
    "duration": 2,
    "start_time": "2023-12-11T15:49:19.579Z"
   },
   {
    "duration": 35,
    "start_time": "2023-12-11T15:49:19.583Z"
   },
   {
    "duration": 31,
    "start_time": "2023-12-11T15:49:19.620Z"
   },
   {
    "duration": 5,
    "start_time": "2023-12-11T15:49:19.652Z"
   },
   {
    "duration": 165,
    "start_time": "2023-12-11T15:49:19.659Z"
   },
   {
    "duration": 5,
    "start_time": "2023-12-11T15:49:19.825Z"
   },
   {
    "duration": 9,
    "start_time": "2023-12-11T15:49:19.832Z"
   },
   {
    "duration": 40,
    "start_time": "2023-12-11T15:49:19.842Z"
   },
   {
    "duration": 16,
    "start_time": "2023-12-11T15:49:19.885Z"
   },
   {
    "duration": 30,
    "start_time": "2023-12-11T15:49:19.903Z"
   },
   {
    "duration": 18,
    "start_time": "2023-12-11T15:49:19.934Z"
   },
   {
    "duration": 11,
    "start_time": "2023-12-11T15:49:19.953Z"
   },
   {
    "duration": 8,
    "start_time": "2023-12-11T15:49:19.965Z"
   },
   {
    "duration": 8,
    "start_time": "2023-12-11T15:49:19.974Z"
   },
   {
    "duration": 15,
    "start_time": "2023-12-11T15:49:19.983Z"
   },
   {
    "duration": 20,
    "start_time": "2023-12-11T15:49:20.000Z"
   },
   {
    "duration": 23,
    "start_time": "2023-12-11T15:49:20.021Z"
   },
   {
    "duration": 31,
    "start_time": "2023-12-11T15:49:20.045Z"
   },
   {
    "duration": 32,
    "start_time": "2023-12-11T15:49:20.077Z"
   },
   {
    "duration": 26724,
    "start_time": "2023-12-11T15:49:20.110Z"
   },
   {
    "duration": 8,
    "start_time": "2023-12-11T15:49:46.835Z"
   },
   {
    "duration": 28,
    "start_time": "2023-12-11T15:49:46.844Z"
   },
   {
    "duration": 23,
    "start_time": "2023-12-11T15:49:46.873Z"
   },
   {
    "duration": 43,
    "start_time": "2023-12-11T15:49:46.897Z"
   },
   {
    "duration": 15,
    "start_time": "2023-12-11T15:49:46.941Z"
   },
   {
    "duration": 82,
    "start_time": "2023-12-11T15:49:46.957Z"
   },
   {
    "duration": 33,
    "start_time": "2023-12-11T15:49:47.040Z"
   },
   {
    "duration": 6,
    "start_time": "2023-12-11T15:49:47.075Z"
   },
   {
    "duration": 329,
    "start_time": "2023-12-11T15:49:47.082Z"
   },
   {
    "duration": 25,
    "start_time": "2023-12-11T15:49:47.413Z"
   },
   {
    "duration": 131,
    "start_time": "2023-12-11T15:49:47.439Z"
   },
   {
    "duration": 35,
    "start_time": "2023-12-11T15:49:47.572Z"
   },
   {
    "duration": 94,
    "start_time": "2023-12-11T15:49:47.609Z"
   },
   {
    "duration": 132,
    "start_time": "2023-12-11T15:49:47.705Z"
   },
   {
    "duration": 9,
    "start_time": "2023-12-11T15:49:47.839Z"
   },
   {
    "duration": 128,
    "start_time": "2023-12-11T15:49:47.849Z"
   },
   {
    "duration": 131,
    "start_time": "2023-12-11T15:49:47.979Z"
   },
   {
    "duration": 159,
    "start_time": "2023-12-11T15:49:48.112Z"
   },
   {
    "duration": 111,
    "start_time": "2023-12-11T15:49:48.273Z"
   },
   {
    "duration": 23,
    "start_time": "2023-12-11T15:49:48.385Z"
   },
   {
    "duration": 241,
    "start_time": "2023-12-11T15:49:48.410Z"
   },
   {
    "duration": 5,
    "start_time": "2023-12-11T15:49:48.653Z"
   },
   {
    "duration": 23,
    "start_time": "2023-12-11T15:49:48.659Z"
   },
   {
    "duration": 150,
    "start_time": "2023-12-11T15:49:48.683Z"
   },
   {
    "duration": 122,
    "start_time": "2023-12-11T15:49:48.834Z"
   },
   {
    "duration": 15,
    "start_time": "2023-12-11T15:49:48.957Z"
   },
   {
    "duration": 14,
    "start_time": "2023-12-11T15:49:48.974Z"
   },
   {
    "duration": 133,
    "start_time": "2023-12-11T15:49:48.990Z"
   },
   {
    "duration": 129,
    "start_time": "2023-12-11T15:49:49.125Z"
   },
   {
    "duration": 19,
    "start_time": "2023-12-11T15:52:10.144Z"
   },
   {
    "duration": 18,
    "start_time": "2023-12-11T15:52:38.808Z"
   },
   {
    "duration": 41,
    "start_time": "2023-12-12T04:19:40.831Z"
   },
   {
    "duration": 580,
    "start_time": "2023-12-12T04:20:05.490Z"
   },
   {
    "duration": 82,
    "start_time": "2023-12-12T04:20:06.072Z"
   },
   {
    "duration": 20,
    "start_time": "2023-12-12T04:20:06.156Z"
   },
   {
    "duration": 16,
    "start_time": "2023-12-12T04:20:06.178Z"
   },
   {
    "duration": 11,
    "start_time": "2023-12-12T04:20:06.196Z"
   },
   {
    "duration": 18,
    "start_time": "2023-12-12T04:20:06.208Z"
   },
   {
    "duration": 15,
    "start_time": "2023-12-12T04:20:06.227Z"
   },
   {
    "duration": 15,
    "start_time": "2023-12-12T04:20:06.243Z"
   },
   {
    "duration": 23,
    "start_time": "2023-12-12T04:20:06.259Z"
   },
   {
    "duration": 4,
    "start_time": "2023-12-12T04:20:06.284Z"
   },
   {
    "duration": 20,
    "start_time": "2023-12-12T04:20:06.289Z"
   },
   {
    "duration": 9,
    "start_time": "2023-12-12T04:20:06.310Z"
   },
   {
    "duration": 5,
    "start_time": "2023-12-12T04:20:06.320Z"
   },
   {
    "duration": 2,
    "start_time": "2023-12-12T04:20:06.327Z"
   },
   {
    "duration": 9,
    "start_time": "2023-12-12T04:20:06.330Z"
   },
   {
    "duration": 9,
    "start_time": "2023-12-12T04:20:06.340Z"
   },
   {
    "duration": 17,
    "start_time": "2023-12-12T04:20:06.351Z"
   },
   {
    "duration": 11,
    "start_time": "2023-12-12T04:20:06.369Z"
   },
   {
    "duration": 15,
    "start_time": "2023-12-12T04:20:06.382Z"
   },
   {
    "duration": 1,
    "start_time": "2023-12-12T04:20:06.398Z"
   },
   {
    "duration": 20,
    "start_time": "2023-12-12T04:20:06.400Z"
   },
   {
    "duration": 12,
    "start_time": "2023-12-12T04:20:06.421Z"
   },
   {
    "duration": 1,
    "start_time": "2023-12-12T04:20:06.435Z"
   },
   {
    "duration": 135,
    "start_time": "2023-12-12T04:20:06.437Z"
   },
   {
    "duration": 2,
    "start_time": "2023-12-12T04:20:06.573Z"
   },
   {
    "duration": 5,
    "start_time": "2023-12-12T04:20:06.576Z"
   },
   {
    "duration": 43,
    "start_time": "2023-12-12T04:20:06.582Z"
   },
   {
    "duration": 13,
    "start_time": "2023-12-12T04:20:06.628Z"
   },
   {
    "duration": 13,
    "start_time": "2023-12-12T04:20:06.642Z"
   },
   {
    "duration": 13,
    "start_time": "2023-12-12T04:20:06.656Z"
   },
   {
    "duration": 5,
    "start_time": "2023-12-12T04:20:06.670Z"
   },
   {
    "duration": 8,
    "start_time": "2023-12-12T04:20:06.676Z"
   },
   {
    "duration": 30,
    "start_time": "2023-12-12T04:20:06.685Z"
   },
   {
    "duration": 6,
    "start_time": "2023-12-12T04:20:06.716Z"
   },
   {
    "duration": 5,
    "start_time": "2023-12-12T04:20:06.723Z"
   },
   {
    "duration": 4,
    "start_time": "2023-12-12T04:20:06.729Z"
   },
   {
    "duration": 4,
    "start_time": "2023-12-12T04:20:06.734Z"
   },
   {
    "duration": 6,
    "start_time": "2023-12-12T04:20:06.739Z"
   },
   {
    "duration": 19510,
    "start_time": "2023-12-12T04:20:06.746Z"
   },
   {
    "duration": 7,
    "start_time": "2023-12-12T04:20:26.257Z"
   },
   {
    "duration": 25,
    "start_time": "2023-12-12T04:20:26.265Z"
   },
   {
    "duration": 30,
    "start_time": "2023-12-12T04:20:26.291Z"
   },
   {
    "duration": 13,
    "start_time": "2023-12-12T04:20:26.322Z"
   },
   {
    "duration": 12,
    "start_time": "2023-12-12T04:20:26.336Z"
   },
   {
    "duration": 71,
    "start_time": "2023-12-12T04:20:26.349Z"
   },
   {
    "duration": 27,
    "start_time": "2023-12-12T04:20:26.421Z"
   },
   {
    "duration": 4,
    "start_time": "2023-12-12T04:20:26.449Z"
   },
   {
    "duration": 441,
    "start_time": "2023-12-12T04:20:26.454Z"
   },
   {
    "duration": 22,
    "start_time": "2023-12-12T04:20:26.896Z"
   },
   {
    "duration": 139,
    "start_time": "2023-12-12T04:20:26.919Z"
   },
   {
    "duration": 28,
    "start_time": "2023-12-12T04:20:27.059Z"
   },
   {
    "duration": 39,
    "start_time": "2023-12-12T04:20:27.089Z"
   },
   {
    "duration": 104,
    "start_time": "2023-12-12T04:20:27.129Z"
   },
   {
    "duration": 6,
    "start_time": "2023-12-12T04:20:27.234Z"
   },
   {
    "duration": 114,
    "start_time": "2023-12-12T04:20:27.241Z"
   },
   {
    "duration": 114,
    "start_time": "2023-12-12T04:20:27.357Z"
   },
   {
    "duration": 132,
    "start_time": "2023-12-12T04:20:27.472Z"
   },
   {
    "duration": 85,
    "start_time": "2023-12-12T04:20:27.605Z"
   },
   {
    "duration": 29,
    "start_time": "2023-12-12T04:20:27.691Z"
   },
   {
    "duration": 183,
    "start_time": "2023-12-12T04:20:27.721Z"
   },
   {
    "duration": 11,
    "start_time": "2023-12-12T04:20:27.906Z"
   },
   {
    "duration": 17,
    "start_time": "2023-12-12T04:20:27.919Z"
   },
   {
    "duration": 115,
    "start_time": "2023-12-12T04:20:27.937Z"
   },
   {
    "duration": 102,
    "start_time": "2023-12-12T04:20:28.053Z"
   },
   {
    "duration": 11,
    "start_time": "2023-12-12T04:20:28.156Z"
   },
   {
    "duration": 19,
    "start_time": "2023-12-12T04:20:28.168Z"
   },
   {
    "duration": 101,
    "start_time": "2023-12-12T04:20:28.188Z"
   },
   {
    "duration": 105,
    "start_time": "2023-12-12T04:20:28.291Z"
   },
   {
    "duration": 21,
    "start_time": "2023-12-12T04:20:28.397Z"
   }
  ],
  "colab": {
   "name": "DA+. Сборный проект 1. Шаблон (1).ipynb",
   "provenance": []
  },
  "kernelspec": {
   "display_name": "Python 3 (ipykernel)",
   "language": "python",
   "name": "python3"
  },
  "language_info": {
   "codemirror_mode": {
    "name": "ipython",
    "version": 3
   },
   "file_extension": ".py",
   "mimetype": "text/x-python",
   "name": "python",
   "nbconvert_exporter": "python",
   "pygments_lexer": "ipython3",
   "version": "3.9.5"
  },
  "toc": {
   "base_numbering": 1,
   "nav_menu": {},
   "number_sections": true,
   "sideBar": true,
   "skip_h1_title": true,
   "title_cell": "Table of Contents",
   "title_sidebar": "Contents",
   "toc_cell": false,
   "toc_position": {
    "height": "calc(100% - 180px)",
    "left": "10px",
    "top": "150px",
    "width": "375.391px"
   },
   "toc_section_display": true,
   "toc_window_display": false
  }
 },
 "nbformat": 4,
 "nbformat_minor": 1
}
